{
 "cells": [
  {
   "cell_type": "code",
   "execution_count": 1,
   "id": "automated-extra",
   "metadata": {},
   "outputs": [],
   "source": [
    "from dotenv import load_dotenv\n",
    "import pandas as pd\n",
    "import numpy as np\n",
    "import os"
   ]
  },
  {
   "cell_type": "code",
   "execution_count": 2,
   "id": "disabled-macintosh",
   "metadata": {},
   "outputs": [
    {
     "data": {
      "text/plain": [
       "True"
      ]
     },
     "execution_count": 2,
     "metadata": {},
     "output_type": "execute_result"
    }
   ],
   "source": [
    "load_dotenv()"
   ]
  },
  {
   "cell_type": "code",
   "execution_count": 3,
   "id": "olive-roman",
   "metadata": {},
   "outputs": [],
   "source": [
    "clients = pd.read_csv(os.getenv('DATA_PATH') + '/' + 'tj38.csv', encoding='ISO-8859-1', sep=';')\n",
    "poste =  pd.read_csv(os.getenv('DATA_PATH') + '/' + 'tj24.csv', encoding='ISO-8859-1', sep=';')\n",
    "pc = pd.read_csv(os.getenv('DATA_PATH') + '/' + 'post_codes.csv', encoding='ISO-8859-1', sep='\\t')"
   ]
  },
  {
   "cell_type": "markdown",
   "id": "hired-kenya",
   "metadata": {},
   "source": [
    "## Shapes"
   ]
  },
  {
   "cell_type": "code",
   "execution_count": 4,
   "id": "missing-estonia",
   "metadata": {},
   "outputs": [
    {
     "data": {
      "text/plain": [
       "(2159265, 7)"
      ]
     },
     "execution_count": 4,
     "metadata": {},
     "output_type": "execute_result"
    }
   ],
   "source": [
    "clients.shape"
   ]
  },
  {
   "cell_type": "code",
   "execution_count": 5,
   "id": "developing-trading",
   "metadata": {},
   "outputs": [
    {
     "data": {
      "text/plain": [
       "(859128, 2)"
      ]
     },
     "execution_count": 5,
     "metadata": {},
     "output_type": "execute_result"
    }
   ],
   "source": [
    "poste.shape"
   ]
  },
  {
   "cell_type": "code",
   "execution_count": 6,
   "id": "defensive-wellington",
   "metadata": {},
   "outputs": [
    {
     "data": {
      "text/plain": [
       "(51667, 3)"
      ]
     },
     "execution_count": 6,
     "metadata": {},
     "output_type": "execute_result"
    }
   ],
   "source": [
    "pc.shape"
   ]
  },
  {
   "cell_type": "markdown",
   "id": "swedish-rouge",
   "metadata": {},
   "source": [
    "## Info"
   ]
  },
  {
   "cell_type": "code",
   "execution_count": 10,
   "id": "successful-interest",
   "metadata": {},
   "outputs": [
    {
     "name": "stdout",
     "output_type": "stream",
     "text": [
      "<class 'pandas.core.frame.DataFrame'>\n",
      "RangeIndex: 2159265 entries, 0 to 2159264\n",
      "Data columns (total 7 columns):\n",
      " #   Column  Dtype \n",
      "---  ------  ----- \n",
      " 0   COMAX   object\n",
      " 1   AGE     int64 \n",
      " 2   COSEXE  object\n",
      " 3   CTSCPI  object\n",
      " 4   CESITC  int64 \n",
      " 5   DDVALE  object\n",
      " 6   DFVALE  object\n",
      "dtypes: int64(2), object(5)\n",
      "memory usage: 115.3+ MB\n"
     ]
    }
   ],
   "source": [
    "clients.info()"
   ]
  },
  {
   "cell_type": "code",
   "execution_count": 12,
   "id": "engaging-pillow",
   "metadata": {},
   "outputs": [
    {
     "name": "stdout",
     "output_type": "stream",
     "text": [
      "<class 'pandas.core.frame.DataFrame'>\n",
      "RangeIndex: 859128 entries, 0 to 859127\n",
      "Data columns (total 2 columns):\n",
      " #   Column  Non-Null Count   Dtype \n",
      "---  ------  --------------   ----- \n",
      " 0   COMAX   859128 non-null  object\n",
      " 1   COPOST  859128 non-null  object\n",
      "dtypes: object(2)\n",
      "memory usage: 13.1+ MB\n"
     ]
    }
   ],
   "source": [
    "poste.info()"
   ]
  },
  {
   "cell_type": "code",
   "execution_count": 13,
   "id": "verbal-broadway",
   "metadata": {},
   "outputs": [
    {
     "name": "stdout",
     "output_type": "stream",
     "text": [
      "<class 'pandas.core.frame.DataFrame'>\n",
      "RangeIndex: 51667 entries, 0 to 51666\n",
      "Data columns (total 3 columns):\n",
      " #   Column  Non-Null Count  Dtype  \n",
      "---  ------  --------------  -----  \n",
      " 0   COPOST  51667 non-null  int64  \n",
      " 1   LAT     51667 non-null  float64\n",
      " 2   LON     51667 non-null  float64\n",
      "dtypes: float64(2), int64(1)\n",
      "memory usage: 1.2 MB\n"
     ]
    }
   ],
   "source": [
    "pc.info()"
   ]
  },
  {
   "cell_type": "code",
   "execution_count": 16,
   "id": "certified-robertson",
   "metadata": {},
   "outputs": [],
   "source": [
    "pc['COPOST'] = pc['COPOST'].astype(str)"
   ]
  },
  {
   "cell_type": "markdown",
   "id": "decimal-generic",
   "metadata": {},
   "source": [
    "## Inspect"
   ]
  },
  {
   "cell_type": "code",
   "execution_count": 41,
   "id": "gorgeous-layout",
   "metadata": {},
   "outputs": [
    {
     "data": {
      "text/html": [
       "<div>\n",
       "<style scoped>\n",
       "    .dataframe tbody tr th:only-of-type {\n",
       "        vertical-align: middle;\n",
       "    }\n",
       "\n",
       "    .dataframe tbody tr th {\n",
       "        vertical-align: top;\n",
       "    }\n",
       "\n",
       "    .dataframe thead th {\n",
       "        text-align: right;\n",
       "    }\n",
       "</style>\n",
       "<table border=\"1\" class=\"dataframe\">\n",
       "  <thead>\n",
       "    <tr style=\"text-align: right;\">\n",
       "      <th></th>\n",
       "      <th>COMAX</th>\n",
       "      <th>COPOST</th>\n",
       "    </tr>\n",
       "  </thead>\n",
       "  <tbody>\n",
       "    <tr>\n",
       "      <th>0</th>\n",
       "      <td>001932f4aa</td>\n",
       "      <td>66420</td>\n",
       "    </tr>\n",
       "  </tbody>\n",
       "</table>\n",
       "</div>"
      ],
      "text/plain": [
       "        COMAX COPOST\n",
       "0  001932f4aa  66420"
      ]
     },
     "execution_count": 41,
     "metadata": {},
     "output_type": "execute_result"
    }
   ],
   "source": [
    "poste.head(1)"
   ]
  },
  {
   "cell_type": "code",
   "execution_count": 42,
   "id": "brief-production",
   "metadata": {},
   "outputs": [
    {
     "data": {
      "text/html": [
       "<div>\n",
       "<style scoped>\n",
       "    .dataframe tbody tr th:only-of-type {\n",
       "        vertical-align: middle;\n",
       "    }\n",
       "\n",
       "    .dataframe tbody tr th {\n",
       "        vertical-align: top;\n",
       "    }\n",
       "\n",
       "    .dataframe thead th {\n",
       "        text-align: right;\n",
       "    }\n",
       "</style>\n",
       "<table border=\"1\" class=\"dataframe\">\n",
       "  <thead>\n",
       "    <tr style=\"text-align: right;\">\n",
       "      <th></th>\n",
       "      <th>COMAX</th>\n",
       "      <th>AGE</th>\n",
       "      <th>COSEXE</th>\n",
       "      <th>CTSCPI</th>\n",
       "      <th>CESITC</th>\n",
       "      <th>DDVALE</th>\n",
       "      <th>DFVALE</th>\n",
       "    </tr>\n",
       "  </thead>\n",
       "  <tbody>\n",
       "    <tr>\n",
       "      <th>0</th>\n",
       "      <td>6e3a2b9fa1</td>\n",
       "      <td>55</td>\n",
       "      <td>F</td>\n",
       "      <td>4600</td>\n",
       "      <td>1</td>\n",
       "      <td>2013-02-12</td>\n",
       "      <td>9999-01-01</td>\n",
       "    </tr>\n",
       "  </tbody>\n",
       "</table>\n",
       "</div>"
      ],
      "text/plain": [
       "        COMAX  AGE COSEXE CTSCPI  CESITC      DDVALE      DFVALE\n",
       "0  6e3a2b9fa1   55      F   4600       1  2013-02-12  9999-01-01"
      ]
     },
     "execution_count": 42,
     "metadata": {},
     "output_type": "execute_result"
    }
   ],
   "source": [
    "clients.head(1)"
   ]
  },
  {
   "cell_type": "code",
   "execution_count": 7,
   "id": "engaged-certificate",
   "metadata": {},
   "outputs": [
    {
     "data": {
      "text/html": [
       "<div>\n",
       "<style scoped>\n",
       "    .dataframe tbody tr th:only-of-type {\n",
       "        vertical-align: middle;\n",
       "    }\n",
       "\n",
       "    .dataframe tbody tr th {\n",
       "        vertical-align: top;\n",
       "    }\n",
       "\n",
       "    .dataframe thead th {\n",
       "        text-align: right;\n",
       "    }\n",
       "</style>\n",
       "<table border=\"1\" class=\"dataframe\">\n",
       "  <thead>\n",
       "    <tr style=\"text-align: right;\">\n",
       "      <th></th>\n",
       "      <th>COPOST</th>\n",
       "      <th>LAT</th>\n",
       "      <th>LON</th>\n",
       "    </tr>\n",
       "  </thead>\n",
       "  <tbody>\n",
       "    <tr>\n",
       "      <th>0</th>\n",
       "      <td>75000</td>\n",
       "      <td>48.8534</td>\n",
       "      <td>2.3488</td>\n",
       "    </tr>\n",
       "  </tbody>\n",
       "</table>\n",
       "</div>"
      ],
      "text/plain": [
       "   COPOST      LAT     LON\n",
       "0   75000  48.8534  2.3488"
      ]
     },
     "execution_count": 7,
     "metadata": {},
     "output_type": "execute_result"
    }
   ],
   "source": [
    "pc.head(1)"
   ]
  },
  {
   "cell_type": "markdown",
   "id": "tutorial-kruger",
   "metadata": {},
   "source": [
    "## Merge"
   ]
  },
  {
   "cell_type": "code",
   "execution_count": 17,
   "id": "ordinary-chicken",
   "metadata": {},
   "outputs": [],
   "source": [
    "# concatenate clients with the latitide longtitue data\n",
    "data = pd.merge(poste, pc, on='COPOST', how='left')"
   ]
  },
  {
   "cell_type": "code",
   "execution_count": 18,
   "id": "renewable-yesterday",
   "metadata": {},
   "outputs": [
    {
     "data": {
      "text/html": [
       "<div>\n",
       "<style scoped>\n",
       "    .dataframe tbody tr th:only-of-type {\n",
       "        vertical-align: middle;\n",
       "    }\n",
       "\n",
       "    .dataframe tbody tr th {\n",
       "        vertical-align: top;\n",
       "    }\n",
       "\n",
       "    .dataframe thead th {\n",
       "        text-align: right;\n",
       "    }\n",
       "</style>\n",
       "<table border=\"1\" class=\"dataframe\">\n",
       "  <thead>\n",
       "    <tr style=\"text-align: right;\">\n",
       "      <th></th>\n",
       "      <th>COMAX</th>\n",
       "      <th>COPOST</th>\n",
       "      <th>LAT</th>\n",
       "      <th>LON</th>\n",
       "    </tr>\n",
       "  </thead>\n",
       "  <tbody>\n",
       "    <tr>\n",
       "      <th>0</th>\n",
       "      <td>001932f4aa</td>\n",
       "      <td>66420</td>\n",
       "      <td>42.7877</td>\n",
       "      <td>3.0366</td>\n",
       "    </tr>\n",
       "  </tbody>\n",
       "</table>\n",
       "</div>"
      ],
      "text/plain": [
       "        COMAX COPOST      LAT     LON\n",
       "0  001932f4aa  66420  42.7877  3.0366"
      ]
     },
     "execution_count": 18,
     "metadata": {},
     "output_type": "execute_result"
    }
   ],
   "source": [
    "data.head(1)"
   ]
  },
  {
   "cell_type": "code",
   "execution_count": 19,
   "id": "sunset-plymouth",
   "metadata": {},
   "outputs": [],
   "source": [
    "# concatenate clients with the code post\n",
    "data = pd.merge(clients, data, on='COMAX', how='left')"
   ]
  },
  {
   "cell_type": "code",
   "execution_count": 20,
   "id": "aware-bullet",
   "metadata": {},
   "outputs": [
    {
     "data": {
      "text/html": [
       "<div>\n",
       "<style scoped>\n",
       "    .dataframe tbody tr th:only-of-type {\n",
       "        vertical-align: middle;\n",
       "    }\n",
       "\n",
       "    .dataframe tbody tr th {\n",
       "        vertical-align: top;\n",
       "    }\n",
       "\n",
       "    .dataframe thead th {\n",
       "        text-align: right;\n",
       "    }\n",
       "</style>\n",
       "<table border=\"1\" class=\"dataframe\">\n",
       "  <thead>\n",
       "    <tr style=\"text-align: right;\">\n",
       "      <th></th>\n",
       "      <th>COMAX</th>\n",
       "      <th>AGE</th>\n",
       "      <th>COSEXE</th>\n",
       "      <th>CTSCPI</th>\n",
       "      <th>CESITC</th>\n",
       "      <th>DDVALE</th>\n",
       "      <th>DFVALE</th>\n",
       "      <th>COPOST</th>\n",
       "      <th>LAT</th>\n",
       "      <th>LON</th>\n",
       "    </tr>\n",
       "  </thead>\n",
       "  <tbody>\n",
       "    <tr>\n",
       "      <th>0</th>\n",
       "      <td>6e3a2b9fa1</td>\n",
       "      <td>55</td>\n",
       "      <td>F</td>\n",
       "      <td>4600</td>\n",
       "      <td>1</td>\n",
       "      <td>2013-02-12</td>\n",
       "      <td>9999-01-01</td>\n",
       "      <td>34170</td>\n",
       "      <td>43.6333</td>\n",
       "      <td>3.9000</td>\n",
       "    </tr>\n",
       "    <tr>\n",
       "      <th>1</th>\n",
       "      <td>1b44a67f61</td>\n",
       "      <td>41</td>\n",
       "      <td>M</td>\n",
       "      <td>4700</td>\n",
       "      <td>1</td>\n",
       "      <td>2019-05-29</td>\n",
       "      <td>9999-01-01</td>\n",
       "      <td>34490</td>\n",
       "      <td>43.3846</td>\n",
       "      <td>3.1689</td>\n",
       "    </tr>\n",
       "    <tr>\n",
       "      <th>2</th>\n",
       "      <td>1b44a67f61</td>\n",
       "      <td>41</td>\n",
       "      <td>M</td>\n",
       "      <td>4700</td>\n",
       "      <td>1</td>\n",
       "      <td>2019-05-29</td>\n",
       "      <td>9999-01-01</td>\n",
       "      <td>34490</td>\n",
       "      <td>43.5091</td>\n",
       "      <td>3.0763</td>\n",
       "    </tr>\n",
       "    <tr>\n",
       "      <th>3</th>\n",
       "      <td>1b44a67f61</td>\n",
       "      <td>41</td>\n",
       "      <td>M</td>\n",
       "      <td>4700</td>\n",
       "      <td>1</td>\n",
       "      <td>2019-05-29</td>\n",
       "      <td>9999-01-01</td>\n",
       "      <td>34490</td>\n",
       "      <td>43.4742</td>\n",
       "      <td>3.0863</td>\n",
       "    </tr>\n",
       "    <tr>\n",
       "      <th>4</th>\n",
       "      <td>1b44a67f61</td>\n",
       "      <td>41</td>\n",
       "      <td>M</td>\n",
       "      <td>4700</td>\n",
       "      <td>1</td>\n",
       "      <td>2019-05-29</td>\n",
       "      <td>9999-01-01</td>\n",
       "      <td>34490</td>\n",
       "      <td>43.4333</td>\n",
       "      <td>3.1333</td>\n",
       "    </tr>\n",
       "  </tbody>\n",
       "</table>\n",
       "</div>"
      ],
      "text/plain": [
       "        COMAX  AGE COSEXE CTSCPI  CESITC      DDVALE      DFVALE COPOST  \\\n",
       "0  6e3a2b9fa1   55      F   4600       1  2013-02-12  9999-01-01  34170   \n",
       "1  1b44a67f61   41      M   4700       1  2019-05-29  9999-01-01  34490   \n",
       "2  1b44a67f61   41      M   4700       1  2019-05-29  9999-01-01  34490   \n",
       "3  1b44a67f61   41      M   4700       1  2019-05-29  9999-01-01  34490   \n",
       "4  1b44a67f61   41      M   4700       1  2019-05-29  9999-01-01  34490   \n",
       "\n",
       "       LAT     LON  \n",
       "0  43.6333  3.9000  \n",
       "1  43.3846  3.1689  \n",
       "2  43.5091  3.0763  \n",
       "3  43.4742  3.0863  \n",
       "4  43.4333  3.1333  "
      ]
     },
     "execution_count": 20,
     "metadata": {},
     "output_type": "execute_result"
    }
   ],
   "source": [
    "data.head()"
   ]
  },
  {
   "cell_type": "code",
   "execution_count": 24,
   "id": "printable-active",
   "metadata": {},
   "outputs": [
    {
     "data": {
      "text/plain": [
       "(854706, 10)"
      ]
     },
     "execution_count": 24,
     "metadata": {},
     "output_type": "execute_result"
    }
   ],
   "source": [
    "data.shape"
   ]
  },
  {
   "cell_type": "markdown",
   "id": "level-partnership",
   "metadata": {},
   "source": [
    "## Corp The Data"
   ]
  },
  {
   "cell_type": "code",
   "execution_count": 21,
   "id": "registered-toddler",
   "metadata": {},
   "outputs": [],
   "source": [
    "# delete duplicated matricules\n",
    "data = data.drop_duplicates(subset=\"COMAX\")"
   ]
  },
  {
   "cell_type": "code",
   "execution_count": 22,
   "id": "dedicated-reggae",
   "metadata": {},
   "outputs": [],
   "source": [
    "# in some cases there was an input mistake\n",
    "# so instead of typing the age they type the\n",
    "# birth year, so we correct that\n",
    "data = data.replace(2019, 2021-2019)"
   ]
  },
  {
   "cell_type": "code",
   "execution_count": 23,
   "id": "saving-figure",
   "metadata": {},
   "outputs": [],
   "source": [
    "# take only the age less or equal to 110 for demographoc statistc reasons\n",
    "data = data[data['AGE'] <= 110]"
   ]
  },
  {
   "cell_type": "code",
   "execution_count": 25,
   "id": "unlikely-trinidad",
   "metadata": {},
   "outputs": [],
   "source": [
    "# get the list of miss typed data\n",
    "lol = list()\n",
    "for i in data['CTSCPI'].unique():\n",
    "    if not i.isdigit():\n",
    "        lol.append(i)\n",
    "\n",
    "# replce the missed data, and miss created one with nan values\n",
    "data['CTSCPI'].replace(lol, np.nan, inplace=True)"
   ]
  },
  {
   "cell_type": "code",
   "execution_count": 26,
   "id": "driving-label",
   "metadata": {},
   "outputs": [],
   "source": [
    "# add the zero, since in the corresponding table of topologies\n",
    "# it is an unkown category\n",
    "data['CTSCPI'].replace(0., np.nan, inplace=True)\n",
    "\n",
    "# delete the rows with nan values\n",
    "data.dropna(subset=['CTSCPI'], inplace=True)"
   ]
  },
  {
   "cell_type": "code",
   "execution_count": 27,
   "id": "changing-sauce",
   "metadata": {},
   "outputs": [],
   "source": [
    "data[\"CTSCPI\"] = data[\"CTSCPI\"].astype(int)"
   ]
  },
  {
   "cell_type": "code",
   "execution_count": 28,
   "id": "australian-ontario",
   "metadata": {},
   "outputs": [],
   "source": [
    "# we replace the sex with numbers, 0 for M and 1 for F\n",
    "data['COSEXE'].replace('M', 0, inplace=True)\n",
    "data['COSEXE'].replace('F', 1, inplace=True)"
   ]
  },
  {
   "cell_type": "code",
   "execution_count": 29,
   "id": "religious-house",
   "metadata": {},
   "outputs": [
    {
     "data": {
      "text/plain": [
       "(831367, 10)"
      ]
     },
     "execution_count": 29,
     "metadata": {},
     "output_type": "execute_result"
    }
   ],
   "source": [
    "data.shape"
   ]
  },
  {
   "cell_type": "code",
   "execution_count": 30,
   "id": "characteristic-spencer",
   "metadata": {},
   "outputs": [
    {
     "data": {
      "text/html": [
       "<div>\n",
       "<style scoped>\n",
       "    .dataframe tbody tr th:only-of-type {\n",
       "        vertical-align: middle;\n",
       "    }\n",
       "\n",
       "    .dataframe tbody tr th {\n",
       "        vertical-align: top;\n",
       "    }\n",
       "\n",
       "    .dataframe thead th {\n",
       "        text-align: right;\n",
       "    }\n",
       "</style>\n",
       "<table border=\"1\" class=\"dataframe\">\n",
       "  <thead>\n",
       "    <tr style=\"text-align: right;\">\n",
       "      <th></th>\n",
       "      <th>COMAX</th>\n",
       "      <th>AGE</th>\n",
       "      <th>COSEXE</th>\n",
       "      <th>CTSCPI</th>\n",
       "      <th>CESITC</th>\n",
       "      <th>DDVALE</th>\n",
       "      <th>DFVALE</th>\n",
       "      <th>COPOST</th>\n",
       "      <th>LAT</th>\n",
       "      <th>LON</th>\n",
       "    </tr>\n",
       "  </thead>\n",
       "  <tbody>\n",
       "    <tr>\n",
       "      <th>0</th>\n",
       "      <td>6e3a2b9fa1</td>\n",
       "      <td>55</td>\n",
       "      <td>1</td>\n",
       "      <td>4600</td>\n",
       "      <td>1</td>\n",
       "      <td>2013-02-12</td>\n",
       "      <td>9999-01-01</td>\n",
       "      <td>34170</td>\n",
       "      <td>43.6333</td>\n",
       "      <td>3.9000</td>\n",
       "    </tr>\n",
       "    <tr>\n",
       "      <th>1</th>\n",
       "      <td>1b44a67f61</td>\n",
       "      <td>41</td>\n",
       "      <td>0</td>\n",
       "      <td>4700</td>\n",
       "      <td>1</td>\n",
       "      <td>2019-05-29</td>\n",
       "      <td>9999-01-01</td>\n",
       "      <td>34490</td>\n",
       "      <td>43.3846</td>\n",
       "      <td>3.1689</td>\n",
       "    </tr>\n",
       "    <tr>\n",
       "      <th>36</th>\n",
       "      <td>7e33583438</td>\n",
       "      <td>74</td>\n",
       "      <td>1</td>\n",
       "      <td>8600</td>\n",
       "      <td>0</td>\n",
       "      <td>2011-12-22</td>\n",
       "      <td>2017-10-16</td>\n",
       "      <td>73100</td>\n",
       "      <td>45.6950</td>\n",
       "      <td>5.9537</td>\n",
       "    </tr>\n",
       "    <tr>\n",
       "      <th>69</th>\n",
       "      <td>b65dd1ba1d</td>\n",
       "      <td>41</td>\n",
       "      <td>0</td>\n",
       "      <td>8400</td>\n",
       "      <td>0</td>\n",
       "      <td>2011-12-22</td>\n",
       "      <td>2017-09-13</td>\n",
       "      <td></td>\n",
       "      <td>NaN</td>\n",
       "      <td>NaN</td>\n",
       "    </tr>\n",
       "    <tr>\n",
       "      <th>70</th>\n",
       "      <td>bdf1f63a98</td>\n",
       "      <td>32</td>\n",
       "      <td>1</td>\n",
       "      <td>3500</td>\n",
       "      <td>1</td>\n",
       "      <td>2017-12-14</td>\n",
       "      <td>9999-01-01</td>\n",
       "      <td>79800</td>\n",
       "      <td>46.3730</td>\n",
       "      <td>-0.1872</td>\n",
       "    </tr>\n",
       "  </tbody>\n",
       "</table>\n",
       "</div>"
      ],
      "text/plain": [
       "         COMAX  AGE  COSEXE  CTSCPI  CESITC      DDVALE      DFVALE COPOST  \\\n",
       "0   6e3a2b9fa1   55       1    4600       1  2013-02-12  9999-01-01  34170   \n",
       "1   1b44a67f61   41       0    4700       1  2019-05-29  9999-01-01  34490   \n",
       "36  7e33583438   74       1    8600       0  2011-12-22  2017-10-16  73100   \n",
       "69  b65dd1ba1d   41       0    8400       0  2011-12-22  2017-09-13          \n",
       "70  bdf1f63a98   32       1    3500       1  2017-12-14  9999-01-01  79800   \n",
       "\n",
       "        LAT     LON  \n",
       "0   43.6333  3.9000  \n",
       "1   43.3846  3.1689  \n",
       "36  45.6950  5.9537  \n",
       "69      NaN     NaN  \n",
       "70  46.3730 -0.1872  "
      ]
     },
     "execution_count": 30,
     "metadata": {},
     "output_type": "execute_result"
    }
   ],
   "source": [
    "data.head()"
   ]
  },
  {
   "cell_type": "code",
   "execution_count": 31,
   "id": "normal-accounting",
   "metadata": {},
   "outputs": [],
   "source": [
    "lol = list()\n",
    "\n",
    "for i in data['COPOST'].unique():\n",
    "    if not str(i).isdigit():\n",
    "        lol.append(i)"
   ]
  },
  {
   "cell_type": "code",
   "execution_count": 32,
   "id": "numerical-estonia",
   "metadata": {},
   "outputs": [],
   "source": [
    "# replce the missed data, and miss created one with nan values\n",
    "data['COPOST'].replace(lol, np.nan, inplace=True)\n",
    "data['LAT'].replace(lol, np.nan, inplace=True)\n",
    "data['LON'].replace(lol, np.nan, inplace=True)\n",
    "\n",
    "\n",
    "# delete the rows with nan values\n",
    "data.dropna(subset=['COPOST'], inplace=True)\n",
    "data.dropna(subset=['LAT'], inplace=True)\n",
    "data.dropna(subset=['LON'], inplace=True)"
   ]
  },
  {
   "cell_type": "code",
   "execution_count": 34,
   "id": "graphic-lender",
   "metadata": {},
   "outputs": [
    {
     "name": "stdout",
     "output_type": "stream",
     "text": [
      "<class 'pandas.core.frame.DataFrame'>\n",
      "Int64Index: 600870 entries, 0 to 9661354\n",
      "Data columns (total 10 columns):\n",
      " #   Column  Non-Null Count   Dtype  \n",
      "---  ------  --------------   -----  \n",
      " 0   COMAX   600870 non-null  object \n",
      " 1   AGE     600870 non-null  int64  \n",
      " 2   COSEXE  600870 non-null  int64  \n",
      " 3   CTSCPI  600870 non-null  int64  \n",
      " 4   CESITC  600870 non-null  int64  \n",
      " 5   DDVALE  600870 non-null  object \n",
      " 6   DFVALE  600870 non-null  object \n",
      " 7   COPOST  600870 non-null  object \n",
      " 8   LAT     600870 non-null  float64\n",
      " 9   LON     600870 non-null  float64\n",
      "dtypes: float64(2), int64(4), object(4)\n",
      "memory usage: 50.4+ MB\n"
     ]
    }
   ],
   "source": [
    "data.info()"
   ]
  },
  {
   "cell_type": "code",
   "execution_count": 35,
   "id": "adolescent-workplace",
   "metadata": {},
   "outputs": [],
   "source": [
    "data['CTSCPI'] = data['CTSCPI'].astype(str)"
   ]
  },
  {
   "cell_type": "code",
   "execution_count": 36,
   "id": "listed-cooling",
   "metadata": {},
   "outputs": [
    {
     "data": {
      "text/plain": [
       "(600870, 10)"
      ]
     },
     "execution_count": 36,
     "metadata": {},
     "output_type": "execute_result"
    }
   ],
   "source": [
    "data.shape"
   ]
  },
  {
   "cell_type": "code",
   "execution_count": 37,
   "id": "hindu-mechanics",
   "metadata": {},
   "outputs": [
    {
     "data": {
      "text/html": [
       "<div>\n",
       "<style scoped>\n",
       "    .dataframe tbody tr th:only-of-type {\n",
       "        vertical-align: middle;\n",
       "    }\n",
       "\n",
       "    .dataframe tbody tr th {\n",
       "        vertical-align: top;\n",
       "    }\n",
       "\n",
       "    .dataframe thead th {\n",
       "        text-align: right;\n",
       "    }\n",
       "</style>\n",
       "<table border=\"1\" class=\"dataframe\">\n",
       "  <thead>\n",
       "    <tr style=\"text-align: right;\">\n",
       "      <th></th>\n",
       "      <th>COMAX</th>\n",
       "      <th>AGE</th>\n",
       "      <th>COSEXE</th>\n",
       "      <th>CTSCPI</th>\n",
       "      <th>CESITC</th>\n",
       "      <th>DDVALE</th>\n",
       "      <th>DFVALE</th>\n",
       "      <th>COPOST</th>\n",
       "      <th>LAT</th>\n",
       "      <th>LON</th>\n",
       "    </tr>\n",
       "  </thead>\n",
       "  <tbody>\n",
       "    <tr>\n",
       "      <th>0</th>\n",
       "      <td>6e3a2b9fa1</td>\n",
       "      <td>55</td>\n",
       "      <td>1</td>\n",
       "      <td>4600</td>\n",
       "      <td>1</td>\n",
       "      <td>2013-02-12</td>\n",
       "      <td>9999-01-01</td>\n",
       "      <td>34170</td>\n",
       "      <td>43.6333</td>\n",
       "      <td>3.9000</td>\n",
       "    </tr>\n",
       "    <tr>\n",
       "      <th>1</th>\n",
       "      <td>1b44a67f61</td>\n",
       "      <td>41</td>\n",
       "      <td>0</td>\n",
       "      <td>4700</td>\n",
       "      <td>1</td>\n",
       "      <td>2019-05-29</td>\n",
       "      <td>9999-01-01</td>\n",
       "      <td>34490</td>\n",
       "      <td>43.3846</td>\n",
       "      <td>3.1689</td>\n",
       "    </tr>\n",
       "    <tr>\n",
       "      <th>36</th>\n",
       "      <td>7e33583438</td>\n",
       "      <td>74</td>\n",
       "      <td>1</td>\n",
       "      <td>8600</td>\n",
       "      <td>0</td>\n",
       "      <td>2011-12-22</td>\n",
       "      <td>2017-10-16</td>\n",
       "      <td>73100</td>\n",
       "      <td>45.6950</td>\n",
       "      <td>5.9537</td>\n",
       "    </tr>\n",
       "    <tr>\n",
       "      <th>70</th>\n",
       "      <td>bdf1f63a98</td>\n",
       "      <td>32</td>\n",
       "      <td>1</td>\n",
       "      <td>3500</td>\n",
       "      <td>1</td>\n",
       "      <td>2017-12-14</td>\n",
       "      <td>9999-01-01</td>\n",
       "      <td>79800</td>\n",
       "      <td>46.3730</td>\n",
       "      <td>-0.1872</td>\n",
       "    </tr>\n",
       "    <tr>\n",
       "      <th>91</th>\n",
       "      <td>bc9f2a4a5c</td>\n",
       "      <td>23</td>\n",
       "      <td>1</td>\n",
       "      <td>8400</td>\n",
       "      <td>0</td>\n",
       "      <td>2019-09-09</td>\n",
       "      <td>2020-07-09</td>\n",
       "      <td>66400</td>\n",
       "      <td>42.4853</td>\n",
       "      <td>2.7480</td>\n",
       "    </tr>\n",
       "  </tbody>\n",
       "</table>\n",
       "</div>"
      ],
      "text/plain": [
       "         COMAX  AGE  COSEXE CTSCPI  CESITC      DDVALE      DFVALE COPOST  \\\n",
       "0   6e3a2b9fa1   55       1   4600       1  2013-02-12  9999-01-01  34170   \n",
       "1   1b44a67f61   41       0   4700       1  2019-05-29  9999-01-01  34490   \n",
       "36  7e33583438   74       1   8600       0  2011-12-22  2017-10-16  73100   \n",
       "70  bdf1f63a98   32       1   3500       1  2017-12-14  9999-01-01  79800   \n",
       "91  bc9f2a4a5c   23       1   8400       0  2019-09-09  2020-07-09  66400   \n",
       "\n",
       "        LAT     LON  \n",
       "0   43.6333  3.9000  \n",
       "1   43.3846  3.1689  \n",
       "36  45.6950  5.9537  \n",
       "70  46.3730 -0.1872  \n",
       "91  42.4853  2.7480  "
      ]
     },
     "execution_count": 37,
     "metadata": {},
     "output_type": "execute_result"
    }
   ],
   "source": [
    "data.head()"
   ]
  },
  {
   "cell_type": "markdown",
   "id": "cardiac-toyota",
   "metadata": {},
   "source": [
    "## Save The Data"
   ]
  },
  {
   "cell_type": "code",
   "execution_count": 38,
   "id": "brazilian-ontario",
   "metadata": {},
   "outputs": [],
   "source": [
    "data.to_csv(os.getenv('CLEANED_DATA_PATH') + '/' + 'TJ38.csv', index=False, sep=\"\\t\")"
   ]
  }
 ],
 "metadata": {
  "kernelspec": {
   "display_name": "Python 3",
   "language": "python",
   "name": "python3"
  },
  "language_info": {
   "codemirror_mode": {
    "name": "ipython",
    "version": 3
   },
   "file_extension": ".py",
   "mimetype": "text/x-python",
   "name": "python",
   "nbconvert_exporter": "python",
   "pygments_lexer": "ipython3",
   "version": "3.6.8"
  }
 },
 "nbformat": 4,
 "nbformat_minor": 5
}
