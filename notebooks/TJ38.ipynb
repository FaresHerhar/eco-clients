{
 "cells": [
  {
   "cell_type": "code",
   "execution_count": 1,
   "id": "automated-extra",
   "metadata": {},
   "outputs": [],
   "source": [
    "from dotenv import load_dotenv\n",
    "import pandas as pd\n",
    "import numpy as np\n",
    "import os"
   ]
  },
  {
   "cell_type": "code",
   "execution_count": 2,
   "id": "disabled-macintosh",
   "metadata": {},
   "outputs": [
    {
     "data": {
      "text/plain": [
       "True"
      ]
     },
     "execution_count": 2,
     "metadata": {},
     "output_type": "execute_result"
    }
   ],
   "source": [
    "load_dotenv()"
   ]
  },
  {
   "cell_type": "code",
   "execution_count": 3,
   "id": "olive-roman",
   "metadata": {},
   "outputs": [],
   "source": [
    "clients = pd.read_csv(os.getenv('DATA_PATH') + '/' + 'tj38.csv', encoding='ISO-8859-1', sep=';')\n",
    "poste =  pd.read_csv(os.getenv('DATA_PATH') + '/' + 'tj24.csv', encoding='ISO-8859-1', sep=';')"
   ]
  },
  {
   "cell_type": "code",
   "execution_count": 4,
   "id": "missing-estonia",
   "metadata": {},
   "outputs": [
    {
     "data": {
      "text/plain": [
       "(2159265, 7)"
      ]
     },
     "execution_count": 4,
     "metadata": {},
     "output_type": "execute_result"
    }
   ],
   "source": [
    "clients.shape"
   ]
  },
  {
   "cell_type": "code",
   "execution_count": 5,
   "id": "developing-trading",
   "metadata": {},
   "outputs": [
    {
     "data": {
      "text/plain": [
       "(859128, 2)"
      ]
     },
     "execution_count": 5,
     "metadata": {},
     "output_type": "execute_result"
    }
   ],
   "source": [
    "poste.shape"
   ]
  },
  {
   "cell_type": "code",
   "execution_count": 6,
   "id": "gorgeous-layout",
   "metadata": {},
   "outputs": [
    {
     "data": {
      "text/html": [
       "<div>\n",
       "<style scoped>\n",
       "    .dataframe tbody tr th:only-of-type {\n",
       "        vertical-align: middle;\n",
       "    }\n",
       "\n",
       "    .dataframe tbody tr th {\n",
       "        vertical-align: top;\n",
       "    }\n",
       "\n",
       "    .dataframe thead th {\n",
       "        text-align: right;\n",
       "    }\n",
       "</style>\n",
       "<table border=\"1\" class=\"dataframe\">\n",
       "  <thead>\n",
       "    <tr style=\"text-align: right;\">\n",
       "      <th></th>\n",
       "      <th>COMAX</th>\n",
       "      <th>COPOST</th>\n",
       "    </tr>\n",
       "  </thead>\n",
       "  <tbody>\n",
       "    <tr>\n",
       "      <th>0</th>\n",
       "      <td>001932f4aa</td>\n",
       "      <td>66420</td>\n",
       "    </tr>\n",
       "  </tbody>\n",
       "</table>\n",
       "</div>"
      ],
      "text/plain": [
       "        COMAX COPOST\n",
       "0  001932f4aa  66420"
      ]
     },
     "execution_count": 6,
     "metadata": {},
     "output_type": "execute_result"
    }
   ],
   "source": [
    "poste.head(1)"
   ]
  },
  {
   "cell_type": "code",
   "execution_count": 7,
   "id": "brief-production",
   "metadata": {},
   "outputs": [
    {
     "data": {
      "text/html": [
       "<div>\n",
       "<style scoped>\n",
       "    .dataframe tbody tr th:only-of-type {\n",
       "        vertical-align: middle;\n",
       "    }\n",
       "\n",
       "    .dataframe tbody tr th {\n",
       "        vertical-align: top;\n",
       "    }\n",
       "\n",
       "    .dataframe thead th {\n",
       "        text-align: right;\n",
       "    }\n",
       "</style>\n",
       "<table border=\"1\" class=\"dataframe\">\n",
       "  <thead>\n",
       "    <tr style=\"text-align: right;\">\n",
       "      <th></th>\n",
       "      <th>COMAX</th>\n",
       "      <th>AGE</th>\n",
       "      <th>COSEXE</th>\n",
       "      <th>CTSCPI</th>\n",
       "      <th>CESITC</th>\n",
       "      <th>DDVALE</th>\n",
       "      <th>DFVALE</th>\n",
       "    </tr>\n",
       "  </thead>\n",
       "  <tbody>\n",
       "    <tr>\n",
       "      <th>0</th>\n",
       "      <td>6e3a2b9fa1</td>\n",
       "      <td>55</td>\n",
       "      <td>F</td>\n",
       "      <td>4600</td>\n",
       "      <td>1</td>\n",
       "      <td>2013-02-12</td>\n",
       "      <td>9999-01-01</td>\n",
       "    </tr>\n",
       "  </tbody>\n",
       "</table>\n",
       "</div>"
      ],
      "text/plain": [
       "        COMAX  AGE COSEXE CTSCPI  CESITC      DDVALE      DFVALE\n",
       "0  6e3a2b9fa1   55      F   4600       1  2013-02-12  9999-01-01"
      ]
     },
     "execution_count": 7,
     "metadata": {},
     "output_type": "execute_result"
    }
   ],
   "source": [
    "clients.head(1)"
   ]
  },
  {
   "cell_type": "code",
   "execution_count": 8,
   "id": "sunset-plymouth",
   "metadata": {},
   "outputs": [],
   "source": [
    "data = pd.merge(clients,poste,on='COMAX',how='left')"
   ]
  },
  {
   "cell_type": "code",
   "execution_count": 9,
   "id": "aware-bullet",
   "metadata": {},
   "outputs": [
    {
     "data": {
      "text/html": [
       "<div>\n",
       "<style scoped>\n",
       "    .dataframe tbody tr th:only-of-type {\n",
       "        vertical-align: middle;\n",
       "    }\n",
       "\n",
       "    .dataframe tbody tr th {\n",
       "        vertical-align: top;\n",
       "    }\n",
       "\n",
       "    .dataframe thead th {\n",
       "        text-align: right;\n",
       "    }\n",
       "</style>\n",
       "<table border=\"1\" class=\"dataframe\">\n",
       "  <thead>\n",
       "    <tr style=\"text-align: right;\">\n",
       "      <th></th>\n",
       "      <th>COMAX</th>\n",
       "      <th>AGE</th>\n",
       "      <th>COSEXE</th>\n",
       "      <th>CTSCPI</th>\n",
       "      <th>CESITC</th>\n",
       "      <th>DDVALE</th>\n",
       "      <th>DFVALE</th>\n",
       "      <th>COPOST</th>\n",
       "    </tr>\n",
       "  </thead>\n",
       "  <tbody>\n",
       "    <tr>\n",
       "      <th>0</th>\n",
       "      <td>6e3a2b9fa1</td>\n",
       "      <td>55</td>\n",
       "      <td>F</td>\n",
       "      <td>4600</td>\n",
       "      <td>1</td>\n",
       "      <td>2013-02-12</td>\n",
       "      <td>9999-01-01</td>\n",
       "      <td>34170</td>\n",
       "    </tr>\n",
       "    <tr>\n",
       "      <th>1</th>\n",
       "      <td>1b44a67f61</td>\n",
       "      <td>41</td>\n",
       "      <td>M</td>\n",
       "      <td>4700</td>\n",
       "      <td>1</td>\n",
       "      <td>2019-05-29</td>\n",
       "      <td>9999-01-01</td>\n",
       "      <td>34490</td>\n",
       "    </tr>\n",
       "    <tr>\n",
       "      <th>2</th>\n",
       "      <td>1b44a67f61</td>\n",
       "      <td>41</td>\n",
       "      <td>M</td>\n",
       "      <td>4700</td>\n",
       "      <td>0</td>\n",
       "      <td>2019-02-07</td>\n",
       "      <td>2019-03-21</td>\n",
       "      <td>34490</td>\n",
       "    </tr>\n",
       "    <tr>\n",
       "      <th>3</th>\n",
       "      <td>1b44a67f61</td>\n",
       "      <td>41</td>\n",
       "      <td>M</td>\n",
       "      <td>4700</td>\n",
       "      <td>0</td>\n",
       "      <td>2019-02-04</td>\n",
       "      <td>2019-02-05</td>\n",
       "      <td>34490</td>\n",
       "    </tr>\n",
       "    <tr>\n",
       "      <th>4</th>\n",
       "      <td>1b44a67f61</td>\n",
       "      <td>41</td>\n",
       "      <td>M</td>\n",
       "      <td>4700</td>\n",
       "      <td>0</td>\n",
       "      <td>2019-03-21</td>\n",
       "      <td>2019-05-29</td>\n",
       "      <td>34490</td>\n",
       "    </tr>\n",
       "  </tbody>\n",
       "</table>\n",
       "</div>"
      ],
      "text/plain": [
       "        COMAX  AGE COSEXE CTSCPI  CESITC      DDVALE      DFVALE COPOST\n",
       "0  6e3a2b9fa1   55      F   4600       1  2013-02-12  9999-01-01  34170\n",
       "1  1b44a67f61   41      M   4700       1  2019-05-29  9999-01-01  34490\n",
       "2  1b44a67f61   41      M   4700       0  2019-02-07  2019-03-21  34490\n",
       "3  1b44a67f61   41      M   4700       0  2019-02-04  2019-02-05  34490\n",
       "4  1b44a67f61   41      M   4700       0  2019-03-21  2019-05-29  34490"
      ]
     },
     "execution_count": 9,
     "metadata": {},
     "output_type": "execute_result"
    }
   ],
   "source": [
    "data.head()"
   ]
  },
  {
   "cell_type": "markdown",
   "id": "level-partnership",
   "metadata": {},
   "source": [
    "## Corp The Data"
   ]
  },
  {
   "cell_type": "code",
   "execution_count": 10,
   "id": "registered-toddler",
   "metadata": {},
   "outputs": [],
   "source": [
    "# delete duplicated matricules\n",
    "data = data.drop_duplicates(subset=\"COMAX\")"
   ]
  },
  {
   "cell_type": "code",
   "execution_count": 11,
   "id": "dedicated-reggae",
   "metadata": {},
   "outputs": [],
   "source": [
    "# in some cases there was an input mistake\n",
    "# so instead of typing the age they type the\n",
    "# birth year, so we correct that\n",
    "data = data.replace(2019, 2021-2019)"
   ]
  },
  {
   "cell_type": "code",
   "execution_count": 12,
   "id": "saving-figure",
   "metadata": {},
   "outputs": [],
   "source": [
    "# take only the age less or equal to 110 for demographoc statistc reasons\n",
    "data = data[data['AGE'] <= 110]"
   ]
  },
  {
   "cell_type": "code",
   "execution_count": 13,
   "id": "unlikely-trinidad",
   "metadata": {},
   "outputs": [],
   "source": [
    "# get the list of miss typed data\n",
    "lol = list()\n",
    "for i in data['CTSCPI'].unique():\n",
    "    if not i.isdigit():\n",
    "        lol.append(i)\n",
    "\n",
    "# replce the missed data, and miss created one with nan values\n",
    "data['CTSCPI'].replace(lol, np.nan, inplace=True)"
   ]
  },
  {
   "cell_type": "code",
   "execution_count": 14,
   "id": "driving-label",
   "metadata": {},
   "outputs": [],
   "source": [
    "# add the zero, since in the corresponding table of topologies\n",
    "# it is an unkown category\n",
    "data['CTSCPI'].replace(0., np.nan, inplace=True)\n",
    "\n",
    "# delete the rows with nan values\n",
    "data.dropna(subset=['CTSCPI'], inplace=True)"
   ]
  },
  {
   "cell_type": "code",
   "execution_count": 15,
   "id": "changing-sauce",
   "metadata": {},
   "outputs": [],
   "source": [
    "data[\"CTSCPI\"] = data[\"CTSCPI\"].astype(int)"
   ]
  },
  {
   "cell_type": "code",
   "execution_count": 16,
   "id": "australian-ontario",
   "metadata": {},
   "outputs": [],
   "source": [
    "# we replace the sex with numbers, 0 for M and 1 for F\n",
    "data['COSEXE'].replace('M', 0, inplace=True)\n",
    "data['COSEXE'].replace('F', 1, inplace=True)"
   ]
  },
  {
   "cell_type": "code",
   "execution_count": 17,
   "id": "religious-house",
   "metadata": {},
   "outputs": [
    {
     "data": {
      "text/plain": [
       "(831367, 8)"
      ]
     },
     "execution_count": 17,
     "metadata": {},
     "output_type": "execute_result"
    }
   ],
   "source": [
    "data.shape"
   ]
  },
  {
   "cell_type": "code",
   "execution_count": 18,
   "id": "characteristic-spencer",
   "metadata": {},
   "outputs": [
    {
     "data": {
      "text/html": [
       "<div>\n",
       "<style scoped>\n",
       "    .dataframe tbody tr th:only-of-type {\n",
       "        vertical-align: middle;\n",
       "    }\n",
       "\n",
       "    .dataframe tbody tr th {\n",
       "        vertical-align: top;\n",
       "    }\n",
       "\n",
       "    .dataframe thead th {\n",
       "        text-align: right;\n",
       "    }\n",
       "</style>\n",
       "<table border=\"1\" class=\"dataframe\">\n",
       "  <thead>\n",
       "    <tr style=\"text-align: right;\">\n",
       "      <th></th>\n",
       "      <th>COMAX</th>\n",
       "      <th>AGE</th>\n",
       "      <th>COSEXE</th>\n",
       "      <th>CTSCPI</th>\n",
       "      <th>CESITC</th>\n",
       "      <th>DDVALE</th>\n",
       "      <th>DFVALE</th>\n",
       "      <th>COPOST</th>\n",
       "    </tr>\n",
       "  </thead>\n",
       "  <tbody>\n",
       "    <tr>\n",
       "      <th>0</th>\n",
       "      <td>6e3a2b9fa1</td>\n",
       "      <td>55</td>\n",
       "      <td>1</td>\n",
       "      <td>4600</td>\n",
       "      <td>1</td>\n",
       "      <td>2013-02-12</td>\n",
       "      <td>9999-01-01</td>\n",
       "      <td>34170</td>\n",
       "    </tr>\n",
       "    <tr>\n",
       "      <th>1</th>\n",
       "      <td>1b44a67f61</td>\n",
       "      <td>41</td>\n",
       "      <td>0</td>\n",
       "      <td>4700</td>\n",
       "      <td>1</td>\n",
       "      <td>2019-05-29</td>\n",
       "      <td>9999-01-01</td>\n",
       "      <td>34490</td>\n",
       "    </tr>\n",
       "    <tr>\n",
       "      <th>6</th>\n",
       "      <td>7e33583438</td>\n",
       "      <td>74</td>\n",
       "      <td>1</td>\n",
       "      <td>8600</td>\n",
       "      <td>0</td>\n",
       "      <td>2011-12-22</td>\n",
       "      <td>2017-10-16</td>\n",
       "      <td>73100</td>\n",
       "    </tr>\n",
       "    <tr>\n",
       "      <th>9</th>\n",
       "      <td>b65dd1ba1d</td>\n",
       "      <td>41</td>\n",
       "      <td>0</td>\n",
       "      <td>8400</td>\n",
       "      <td>0</td>\n",
       "      <td>2011-12-22</td>\n",
       "      <td>2017-09-13</td>\n",
       "      <td></td>\n",
       "    </tr>\n",
       "    <tr>\n",
       "      <th>10</th>\n",
       "      <td>bdf1f63a98</td>\n",
       "      <td>32</td>\n",
       "      <td>1</td>\n",
       "      <td>3500</td>\n",
       "      <td>1</td>\n",
       "      <td>2017-12-14</td>\n",
       "      <td>9999-01-01</td>\n",
       "      <td>79800</td>\n",
       "    </tr>\n",
       "  </tbody>\n",
       "</table>\n",
       "</div>"
      ],
      "text/plain": [
       "         COMAX  AGE  COSEXE  CTSCPI  CESITC      DDVALE      DFVALE COPOST\n",
       "0   6e3a2b9fa1   55       1    4600       1  2013-02-12  9999-01-01  34170\n",
       "1   1b44a67f61   41       0    4700       1  2019-05-29  9999-01-01  34490\n",
       "6   7e33583438   74       1    8600       0  2011-12-22  2017-10-16  73100\n",
       "9   b65dd1ba1d   41       0    8400       0  2011-12-22  2017-09-13       \n",
       "10  bdf1f63a98   32       1    3500       1  2017-12-14  9999-01-01  79800"
      ]
     },
     "execution_count": 18,
     "metadata": {},
     "output_type": "execute_result"
    }
   ],
   "source": [
    "data.head()"
   ]
  },
  {
   "cell_type": "code",
   "execution_count": 19,
   "id": "normal-accounting",
   "metadata": {},
   "outputs": [],
   "source": [
    "lol = list()\n",
    "\n",
    "for i in data['COPOST'].unique():\n",
    "    if not str(i).isdigit():\n",
    "        lol.append(i)"
   ]
  },
  {
   "cell_type": "code",
   "execution_count": 20,
   "id": "numerical-estonia",
   "metadata": {},
   "outputs": [],
   "source": [
    "# replce the missed data, and miss created one with nan values\n",
    "data['COPOST'].replace(lol, np.nan, inplace=True)\n",
    "\n",
    "# delete the rows with nan values\n",
    "data.dropna(subset=['COPOST'], inplace=True)"
   ]
  },
  {
   "cell_type": "code",
   "execution_count": 21,
   "id": "sustainable-convergence",
   "metadata": {},
   "outputs": [
    {
     "data": {
      "text/plain": [
       "(656954, 8)"
      ]
     },
     "execution_count": 21,
     "metadata": {},
     "output_type": "execute_result"
    }
   ],
   "source": [
    "data.shape"
   ]
  },
  {
   "cell_type": "code",
   "execution_count": 22,
   "id": "graphic-lender",
   "metadata": {},
   "outputs": [
    {
     "name": "stdout",
     "output_type": "stream",
     "text": [
      "<class 'pandas.core.frame.DataFrame'>\n",
      "Int64Index: 656954 entries, 0 to 2159265\n",
      "Data columns (total 8 columns):\n",
      " #   Column  Non-Null Count   Dtype \n",
      "---  ------  --------------   ----- \n",
      " 0   COMAX   656954 non-null  object\n",
      " 1   AGE     656954 non-null  int64 \n",
      " 2   COSEXE  656954 non-null  int64 \n",
      " 3   CTSCPI  656954 non-null  int64 \n",
      " 4   CESITC  656954 non-null  int64 \n",
      " 5   DDVALE  656954 non-null  object\n",
      " 6   DFVALE  656954 non-null  object\n",
      " 7   COPOST  656954 non-null  object\n",
      "dtypes: int64(4), object(4)\n",
      "memory usage: 45.1+ MB\n"
     ]
    }
   ],
   "source": [
    "data.info()"
   ]
  },
  {
   "cell_type": "code",
   "execution_count": 23,
   "id": "adolescent-workplace",
   "metadata": {},
   "outputs": [],
   "source": [
    "data[\"COPOST\"] = data[\"COPOST\"].astype(int)"
   ]
  },
  {
   "cell_type": "code",
   "execution_count": 24,
   "id": "listed-cooling",
   "metadata": {},
   "outputs": [
    {
     "data": {
      "text/plain": [
       "(656954, 8)"
      ]
     },
     "execution_count": 24,
     "metadata": {},
     "output_type": "execute_result"
    }
   ],
   "source": [
    "data.shape"
   ]
  },
  {
   "cell_type": "markdown",
   "id": "cardiac-toyota",
   "metadata": {},
   "source": [
    "## Save The Data"
   ]
  },
  {
   "cell_type": "code",
   "execution_count": 25,
   "id": "public-spectrum",
   "metadata": {},
   "outputs": [],
   "source": [
    "data = data[['COMAX', 'AGE', 'COSEXE', 'CTSCPI']]"
   ]
  },
  {
   "cell_type": "code",
   "execution_count": 26,
   "id": "brazilian-ontario",
   "metadata": {},
   "outputs": [],
   "source": [
    "data.to_csv(os.getenv('CLEANED_DATA_PATH') + '/' + 'TJ38.csv', index=False, sep=\"\\t\")"
   ]
  }
 ],
 "metadata": {
  "kernelspec": {
   "display_name": "Python 3",
   "language": "python",
   "name": "python3"
  },
  "language_info": {
   "codemirror_mode": {
    "name": "ipython",
    "version": 3
   },
   "file_extension": ".py",
   "mimetype": "text/x-python",
   "name": "python",
   "nbconvert_exporter": "python",
   "pygments_lexer": "ipython3",
   "version": "3.6.8"
  }
 },
 "nbformat": 4,
 "nbformat_minor": 5
}
