{
 "cells": [
  {
   "cell_type": "code",
   "execution_count": 1,
   "id": "mental-jason",
   "metadata": {},
   "outputs": [],
   "source": [
    "# Load modules for data manipulation\n",
    "from dotenv import load_dotenv\n",
    "import seaborn as sns\n",
    "import matplotlib.pyplot as plt\n",
    "from subprocess import call\n",
    "import pandas as pd\n",
    "import numpy as np\n",
    "import time\n",
    "import os"
   ]
  },
  {
   "cell_type": "code",
   "execution_count": 147,
   "id": "employed-equation",
   "metadata": {},
   "outputs": [],
   "source": [
    "# Load modules for machine learning\n",
    "# Using Skicit-learn to split data into training and testing sets\n",
    "from sklearn.model_selection import train_test_split\n",
    "\n",
    "# Import the model we are using\n",
    "from sklearn.ensemble import RandomForestRegressor\n",
    "from sklearn.neighbors import KNeighborsClassifier\n",
    "from sklearn.linear_model import LogisticRegression\n",
    "\n",
    "# Calculate the accurancy of the model\n",
    "from sklearn.metrics import accuracy_score, classification_report\n",
    "\n",
    "# For drawing the graph\n",
    "from sklearn.tree import export_graphviz\n",
    "\n",
    "# will be used for tree visualization\n",
    "from dtreeviz.trees import dtreeviz"
   ]
  },
  {
   "cell_type": "code",
   "execution_count": 29,
   "id": "greek-motorcycle",
   "metadata": {},
   "outputs": [],
   "source": [
    "# Declare the list of products for each family\n",
    "# Les familles sont: CREDITS, DEPOTS MONETAIRES, PRODUITS EXTERNES COMMERCIALISES\n",
    "credit = ['00568', '00943', '00942', '00546', '00547', '03992', '00940', '00941', '00548', '06458', '00509', '00565']\n",
    "depot = ['07648', '07649', '07606', '00003']\n",
    "comm = ['05808', '05807']"
   ]
  },
  {
   "cell_type": "code",
   "execution_count": 3,
   "id": "hearing-producer",
   "metadata": {},
   "outputs": [],
   "source": [
    "def plot_feature_importance(importance,names,model_type):\n",
    "    #Create arrays from feature importance and feature name logistic regressions\n",
    "    feature_importance = np.array(importance)\n",
    "    feature_names = np.array(names)\n",
    "\n",
    "    #Create a DataFrame using a Dictionary\n",
    "    data={'feature_names':feature_names,'feature_importance':feature_importance}\n",
    "    fi_df = pd.DataFrame(data)\n",
    "\n",
    "    #Sort the DataFrame in order decreasing feature importance\n",
    "    fi_df.sort_values(by=['feature_importance'], ascending=False,inplace=True)\n",
    "\n",
    "    #Define size of bar plot\n",
    "    plt.figure(figsize=(10,8))\n",
    "    #Plot Searborn bar chart\n",
    "    sns.barplot(x=fi_df['feature_importance'], y=fi_df['feature_names'])\n",
    "    #Add chart labels\n",
    "    plt.title(model_type + '-FEATURE IMPORTANCE')\n",
    "    plt.xlabel('FEATURE IMPORTANCE')\n",
    "    plt.ylabel('FEATURE NAMES')\n",
    "    \n",
    "    plt.savefig('{}.svg'.format(model_type))"
   ]
  },
  {
   "cell_type": "code",
   "execution_count": 86,
   "id": "mobile-enforcement",
   "metadata": {},
   "outputs": [],
   "source": [
    "def random_forest(data, ecos, cols):   \n",
    "    ''' The Model'''\n",
    "    \n",
    "    # Labels are the values we want to predict\n",
    "    labels = np.array(data['ECO'])\n",
    "\n",
    "    # Remove the labels from the features\n",
    "    features = np.array(data[cols])\n",
    "\n",
    "    # Split the data into training and testing sets\n",
    "    train_features, test_features, train_labels, test_labels = train_test_split(features, labels, test_size = 0.2)\n",
    "\n",
    "    # Instantiate model with 1000 decision trees\n",
    "    rf = RandomForestRegressor(n_estimators = 300)\n",
    "\n",
    "    # Train the model on training data\n",
    "    rf.fit(train_features, train_labels)\n",
    "\n",
    "    # Use the forest's predict method on the test data\n",
    "    predictions = rf.predict(test_features)\n",
    "\n",
    "    # Classification report\n",
    "    print(classification_report(test_labels, predictions.round()))\n",
    "    \n",
    "    # Get the best variables\n",
    "    shit = sorted(zip(cols, rf.feature_importances_), key=lambda x: x[1], reverse=True)\n",
    "    for i in shit:\n",
    "        print(i)"
   ]
  },
  {
   "cell_type": "code",
   "execution_count": 79,
   "id": "special-pearl",
   "metadata": {},
   "outputs": [],
   "source": [
    "def log_reg(data, ecos, cols):\n",
    "    ''' The Model'''\n",
    "    \n",
    "    # Labels are the values we want to predict\n",
    "    labels = np.array(data['ECO'])\n",
    "\n",
    "    # Remove the labels from the features\n",
    "    features = np.array(data[cols])\n",
    "\n",
    "    # Split the data into training and testing sets\n",
    "    train_features, test_features, train_labels, test_labels = train_test_split(features, labels, test_size = 0.2, random_state=42)\n",
    "\n",
    "    # Instantiate model with 1000 decision trees\n",
    "    logisticRegr = LogisticRegression()\n",
    "    \n",
    "    # Train the model on training data\n",
    "    logisticRegr.fit(train_features, train_labels)\n",
    "    \n",
    "    # Use the forest's predict method on the test data\n",
    "    predictions = logisticRegr.predict(test_features)\n",
    "\n",
    "    # Classification report\n",
    "    print(classification_report(test_labels, predictions.round()))"
   ]
  },
  {
   "cell_type": "code",
   "execution_count": 5,
   "id": "gross-assumption",
   "metadata": {},
   "outputs": [],
   "source": [
    "def knn(data, ecos, cols):\n",
    "    ''' The Model'''\n",
    "\n",
    "    # Labels are the values we want to predict\n",
    "    labels = np.array(data['ECO'])\n",
    "\n",
    "    # Remove the labels from the features\n",
    "    features = np.array(data[cols])\n",
    "\n",
    "    # Split the data into training and testing sets\n",
    "    train_features, test_features, train_labels, test_labels = train_test_split(features, labels, test_size = 0.2, random_state=42)\n",
    "\n",
    "    # Instantiate model with 1000 decision trees\n",
    "    model = KNeighborsClassifier(n_neighbors=5)\n",
    "    \n",
    "    # Train the model on training data\n",
    "    model.fit(train_features, train_labels)\n",
    "    \n",
    "    # Use the forest's predict method on the test data\n",
    "    predictions = model.predict(test_features)\n",
    "\n",
    "    # Classification report\n",
    "    print(classification_report(test_labels, predictions.round()))"
   ]
  },
  {
   "cell_type": "code",
   "execution_count": 17,
   "id": "revolutionary-family",
   "metadata": {},
   "outputs": [],
   "source": [
    "# Get the data from the other notebook\n",
    "%store -r data\n",
    "%store -r cols\n",
    "%store -r eco\n",
    "%store -r ctr"
   ]
  },
  {
   "cell_type": "markdown",
   "id": "premier-romance",
   "metadata": {},
   "source": [
    "# -------------------------------------------------------------------------------------------------------------"
   ]
  },
  {
   "cell_type": "code",
   "execution_count": 7,
   "id": "digital-norwegian",
   "metadata": {},
   "outputs": [
    {
     "name": "stdout",
     "output_type": "stream",
     "text": [
      "              precision    recall  f1-score   support\n",
      "\n",
      "       False       0.81      0.86      0.84     69151\n",
      "        True       0.65      0.58      0.61     32128\n",
      "\n",
      "    accuracy                           0.77    101279\n",
      "   macro avg       0.73      0.72      0.72    101279\n",
      "weighted avg       0.76      0.77      0.77    101279\n",
      "\n"
     ]
    }
   ],
   "source": [
    "knn(data, eco, cols)"
   ]
  },
  {
   "cell_type": "code",
   "execution_count": 105,
   "id": "reflected-brass",
   "metadata": {},
   "outputs": [],
   "source": [
    "''' The Model'''\n",
    "\n",
    "# Labels are the values we want to predict\n",
    "labels = np.array(data['ECO'])\n",
    "\n",
    "# Remove the labels from the features\n",
    "features = np.array(data[cols])\n",
    "\n",
    "# Split the data into training and testing sets\n",
    "train_features, test_features, train_labels, test_labels = train_test_split(features, labels, test_size = 0.2)"
   ]
  },
  {
   "cell_type": "code",
   "execution_count": 106,
   "id": "behavioral-berlin",
   "metadata": {},
   "outputs": [
    {
     "name": "stdout",
     "output_type": "stream",
     "text": [
      "748.1507966518402\n",
      "4.549225330352783\n",
      "              precision    recall  f1-score   support\n",
      "\n",
      "       False       0.88      0.91      0.90     69265\n",
      "        True       0.79      0.73      0.76     32014\n",
      "\n",
      "    accuracy                           0.86    101279\n",
      "   macro avg       0.84      0.82      0.83    101279\n",
      "weighted avg       0.85      0.86      0.85    101279\n",
      "\n"
     ]
    }
   ],
   "source": [
    "# Instantiate model with 300 decision trees\n",
    "rf = RandomForestRegressor(n_estimators = 100)\n",
    "\n",
    "st = time.time()\n",
    "\n",
    "# Train the model on training data\n",
    "rf.fit(train_features, train_labels)\n",
    "\n",
    "fn = time.time()\n",
    "print(fn - st)\n",
    "\n",
    "# Use the forest's predict method on the test data\n",
    "predictions = rf.predict(test_features)\n",
    "\n",
    "print(time.time() - fn)\n",
    "\n",
    "# Classification report\n",
    "print(classification_report(test_labels, predictions.round()))"
   ]
  },
  {
   "cell_type": "code",
   "execution_count": 73,
   "id": "falling-alignment",
   "metadata": {},
   "outputs": [],
   "source": [
    "shit = sorted(zip(cols, rf.feature_importances_), key=lambda x: x[1], reverse=True)"
   ]
  },
  {
   "cell_type": "code",
   "execution_count": 74,
   "id": "french-library",
   "metadata": {},
   "outputs": [
    {
     "name": "stdout",
     "output_type": "stream",
     "text": [
      "SGMIM\n",
      "CEBPF5\n",
      "MTEEML\n",
      "QTAGCL\n",
      "MTECSL\n",
      "LON\n",
      "LAT\n",
      "MTRSMO\n",
      "MCTOTA\n",
      "MTELEP\n"
     ]
    }
   ],
   "source": [
    "for i in shit[:10]:\n",
    "    print(i[0])"
   ]
  },
  {
   "cell_type": "markdown",
   "id": "korean-basement",
   "metadata": {},
   "source": [
    "# ----------------------------------------------------------------------------------------------------------------------"
   ]
  },
  {
   "cell_type": "markdown",
   "id": "voluntary-pantyhose",
   "metadata": {},
   "source": [
    "# CREDIT"
   ]
  },
  {
   "cell_type": "code",
   "execution_count": 97,
   "id": "broken-copyright",
   "metadata": {},
   "outputs": [],
   "source": [
    "# Copy the data\n",
    "temp = data.copy()\n",
    "\n",
    "# drop the ECO, to generate the new one\n",
    "temp = temp.drop(columns=['ECO'])\n",
    "\n",
    "# get the ids of the products\n",
    "ids = ctr[ctr['COPRO'].isin(credit)]['COMAX'].values\n",
    "temp['ECO'] = temp['COMAX'].isin(ids)"
   ]
  },
  {
   "cell_type": "code",
   "execution_count": 98,
   "id": "signal-configuration",
   "metadata": {},
   "outputs": [
    {
     "name": "stdout",
     "output_type": "stream",
     "text": [
      "              precision    recall  f1-score   support\n",
      "\n",
      "       False       0.99      1.00      0.99    100109\n",
      "        True       0.47      0.06      0.11      1170\n",
      "\n",
      "    accuracy                           0.99    101279\n",
      "   macro avg       0.73      0.53      0.55    101279\n",
      "weighted avg       0.98      0.99      0.98    101279\n",
      "\n",
      "('MTCDIM', 0.10479987212900707)\n",
      "('QCCRIM', 0.04374009975577079)\n",
      "('LAT', 0.0429505400390894)\n",
      "('LON', 0.04107389691017614)\n",
      "('QTAGCL', 0.03847015163331383)\n",
      "('MTRECD', 0.03492262537081712)\n",
      "('MTEEML', 0.034146770492524514)\n",
      "('MCTOTA', 0.032795507703260444)\n",
      "('MTRSMO', 0.02923518112755668)\n",
      "('MTRETT', 0.0279355348061196)\n",
      "('MCTOTE', 0.027846462541866353)\n",
      "('MTPATR', 0.027421111387807427)\n",
      "('MTECSL', 0.025275713127085632)\n",
      "('MTECIM', 0.02325049466187304)\n",
      "('CTSCPI', 0.022045092253425207)\n",
      "('QCCOCY', 0.021676655638697025)\n",
      "('CTCOPO', 0.020443102190693868)\n",
      "('MTEASV', 0.017947792654111165)\n",
      "('MTESOC', 0.017711770277922353)\n",
      "('CTSC91', 0.017620894054295327)\n",
      "('MTRSFI', 0.01758399029892446)\n",
      "('MTVAOP', 0.016801530226324253)\n",
      "('MTEPEL', 0.015721922354155114)\n",
      "('MTEEMC', 0.014372931450103883)\n",
      "('CTSC90', 0.013425831841769898)\n",
      "('MTECCS', 0.013161961802518909)\n",
      "('CTSIFA', 0.012431930439917)\n",
      "('MTE19D', 0.011971599974956663)\n",
      "('MTECEL', 0.011688059053043097)\n",
      "('MTELEP', 0.01109268274015124)\n",
      "('MTRVFR', 0.010989091032804772)\n",
      "('CTSC92', 0.010933495569524842)\n",
      "('MTPJE', 0.0102244825397322)\n",
      "('CTMENB', 0.010165781892795224)\n",
      "('QCCP19', 0.009068880267266124)\n",
      "('NBCART', 0.007783903938814197)\n",
      "('CODCSP', 0.007192272349516621)\n",
      "('QCCAR2', 0.007165811870352343)\n",
      "('SGMFD', 0.006215672863596534)\n",
      "('MTRVIM', 0.0061341667320975)\n",
      "('MTECTO', 0.0058741275591382095)\n",
      "('SGMID', 0.005862189560760051)\n",
      "('QCIARD', 0.005754831258717753)\n",
      "('SGMFM', 0.005282718481553045)\n",
      "('MTECPA', 0.005269663202455493)\n",
      "('CTBP', 0.004909815061350443)\n",
      "('MTEPEP', 0.004866067911528442)\n",
      "('QCPREV', 0.004791983136264351)\n",
      "('SGMIM', 0.004786669240357264)\n",
      "('COSEXE', 0.004708334089703666)\n",
      "('QTPAFI', 0.004543845335692595)\n",
      "('QCASV', 0.00444648628765196)\n",
      "('QCCOEQ', 0.0038365863027999495)\n",
      "('QCCRPE', 0.0036428684789309514)\n",
      "('QTIAUT', 0.003259583075530851)\n",
      "('QCITOT', 0.0032452131531810523)\n",
      "('QCIHAB', 0.0032239785623660706)\n",
      "('QCCARP', 0.003210957983459834)\n",
      "('CEBPF2', 0.0030573951018484265)\n",
      "('PSGPAR', 0.002885071244583664)\n",
      "('QCCAR3', 0.0028189756610596064)\n",
      "('CEBPF3', 0.002735191868719586)\n",
      "('QCCTO', 0.002694752122099633)\n",
      "('CEBPF5', 0.0026142933253584877)\n",
      "('CEBPF1', 0.002303915363034021)\n",
      "('CEBPF7', 0.0022226821657953433)\n",
      "('CEBPF6', 0.0021963658547223194)\n",
      "('CECARP', 0.002090249571948759)\n",
      "('QCCAR1', 0.0019761271067382986)\n",
      "('QCPEL', 0.0019396081463893995)\n",
      "('MTECEQ', 0.0018488696184867821)\n",
      "('QCPEP', 0.001845952464337007)\n",
      "('CEBPF4', 0.0018225575876729804)\n",
      "('QCCEL', 0.001694259281591338)\n",
      "('MSMENC', 0.0010143771111633022)\n",
      "('CTFORT', 0.0009996947631238785)\n",
      "('QCPEA', 0.0009493596289998316)\n",
      "('QTCLIF', 0.0008695411203206738)\n",
      "('MTAPJE', 0.0007928373350776773)\n",
      "('QCCP21', 0.0007249471979572461)\n",
      "('QCCARI', 0.00037449314788238976)\n",
      "('MTE21D', 0.00030687021286628335)\n",
      "('MTFLPR', 0.00021422915821878513)\n",
      "('QCPRCP', 1.4193913928692626e-05)\n",
      "('QCPRTR', 1.4096886321165107e-05)\n",
      "('QCPRDI', 1.0799538574688928e-05)\n",
      "('QCPRQU', 7.1724916967834994e-06)\n",
      "('QFPROSGR', 6.329938999485429e-06)\n",
      "('QCBASO', 2.902779316867295e-06)\n",
      "('MTECTR', 7.016159468477389e-07)\n",
      "('QCPRFI', 0.0)\n",
      "('QCPRAS', 0.0)\n",
      "('QCPRPR', 0.0)\n",
      "('MTFLCO', 0.0)\n",
      "('QCFPRORB', 0.0)\n"
     ]
    }
   ],
   "source": [
    "random_forest(temp, credit, cols)"
   ]
  },
  {
   "cell_type": "code",
   "execution_count": 99,
   "id": "considerable-differential",
   "metadata": {},
   "outputs": [
    {
     "name": "stdout",
     "output_type": "stream",
     "text": [
      "              precision    recall  f1-score   support\n",
      "\n",
      "       False       0.99      1.00      0.99    100078\n",
      "        True       0.37      0.07      0.11      1201\n",
      "\n",
      "    accuracy                           0.99    101279\n",
      "   macro avg       0.68      0.53      0.55    101279\n",
      "weighted avg       0.98      0.99      0.98    101279\n",
      "\n"
     ]
    }
   ],
   "source": [
    "knn(temp, credit, cols)"
   ]
  },
  {
   "cell_type": "markdown",
   "id": "administrative-northeast",
   "metadata": {},
   "source": [
    "# DEPOTS MONETAIRES"
   ]
  },
  {
   "cell_type": "code",
   "execution_count": 100,
   "id": "every-windows",
   "metadata": {},
   "outputs": [],
   "source": [
    "# Copy the data\n",
    "temp = data.copy()\n",
    "\n",
    "# drop the ECO, to generate the new one\n",
    "temp = temp.drop(columns=['ECO'])\n",
    "\n",
    "# get the ids of the products\n",
    "ids = ctr[ctr['COPRO'].isin(depot)]['COMAX'].values\n",
    "temp['ECO'] = temp['COMAX'].isin(ids)"
   ]
  },
  {
   "cell_type": "code",
   "execution_count": 101,
   "id": "french-standard",
   "metadata": {},
   "outputs": [
    {
     "name": "stdout",
     "output_type": "stream",
     "text": [
      "              precision    recall  f1-score   support\n",
      "\n",
      "       False       0.89      0.92      0.90     69923\n",
      "        True       0.80      0.74      0.77     31356\n",
      "\n",
      "    accuracy                           0.86    101279\n",
      "   macro avg       0.84      0.83      0.83    101279\n",
      "weighted avg       0.86      0.86      0.86    101279\n",
      "\n",
      "('SGMIM', 0.1725416468852227)\n",
      "('CEBPF5', 0.12638723715605574)\n",
      "('MTEEML', 0.08852332558514217)\n",
      "('QTAGCL', 0.06351368195984274)\n",
      "('MTECSL', 0.03825161526827269)\n",
      "('LON', 0.034166722976683425)\n",
      "('LAT', 0.03394054034085259)\n",
      "('MTRSMO', 0.03330451866912964)\n",
      "('MTELEP', 0.028525812890119327)\n",
      "('MCTOTA', 0.028428317989679135)\n",
      "('MTRSFI', 0.02394788469101665)\n",
      "('CTSCPI', 0.020293946546187956)\n",
      "('CTCOPO', 0.020183383326299396)\n",
      "('QCCOCY', 0.01539253172668944)\n",
      "('CTMENB', 0.013686607634675222)\n",
      "('CTSC91', 0.01222715724599037)\n",
      "('MCTOTE', 0.01188829406759302)\n",
      "('MTESOC', 0.010511451603358247)\n",
      "('CTSC90', 0.010484090665415178)\n",
      "('CTSIFA', 0.01028719589927404)\n",
      "('MTPATR', 0.009939555083450884)\n",
      "('SGMID', 0.008911914398646269)\n",
      "('MTVAOP', 0.0087503543388526)\n",
      "('MTEPEL', 0.006937254087869699)\n",
      "('MTECCS', 0.006899740990950729)\n",
      "('MTEEMC', 0.006807764992868529)\n",
      "('CTSC92', 0.0067672216941104205)\n",
      "('MTE19D', 0.006616183016879951)\n",
      "('MTPJE', 0.0065163410243677085)\n",
      "('MTECEL', 0.006514899004978311)\n",
      "('MTEASV', 0.006476744466472935)\n",
      "('MTRVFR', 0.0063794625991773985)\n",
      "('SGMFD', 0.005360742266950892)\n",
      "('MTRETT', 0.005329254142129872)\n",
      "('NBCART', 0.005227987317000819)\n",
      "('CODCSP', 0.005090272218899376)\n",
      "('QCCAR2', 0.0050338540874691395)\n",
      "('COSEXE', 0.004524782430170228)\n",
      "('QCCP19', 0.004388544292420889)\n",
      "('QCCOEQ', 0.004277462589606547)\n",
      "('MTCDIM', 0.004004584481484488)\n",
      "('MTECIM', 0.003961967197175604)\n",
      "('CTBP', 0.003910994696713099)\n",
      "('MTRECD', 0.0038608132493527228)\n",
      "('SGMFM', 0.0035712365900136774)\n",
      "('QCIARD', 0.0033598251317459938)\n",
      "('QCPREV', 0.003087477650665878)\n",
      "('QCCEL', 0.0029667916288728807)\n",
      "('PSGPAR', 0.002842422995982256)\n",
      "('QTPAFI', 0.0026442845660718077)\n",
      "('MTRVIM', 0.002563932326897352)\n",
      "('CEBPF4', 0.0024230401280916467)\n",
      "('CEBPF2', 0.002285346150291549)\n",
      "('QCITOT', 0.0022189059711594968)\n",
      "('CECARP', 0.002048113686953407)\n",
      "('CEBPF3', 0.00204653620086074)\n",
      "('CEBPF7', 0.00182922300445283)\n",
      "('QCCARP', 0.0018228776401005718)\n",
      "('QCASV', 0.0018039143328713958)\n",
      "('QCIHAB', 0.001801272842157507)\n",
      "('QCCAR3', 0.0017405164525640332)\n",
      "('QTIAUT', 0.0017368640824152314)\n",
      "('CEBPF1', 0.0017107147768201764)\n",
      "('QCCRPE', 0.0017086071436990798)\n",
      "('QCCRIM', 0.0016405408481673202)\n",
      "('QCCTO', 0.0015614000779640878)\n",
      "('CEBPF6', 0.0014762718233799958)\n",
      "('QCPEL', 0.0014679067897359662)\n",
      "('QCCAR1', 0.0013584422661406413)\n",
      "('MTECTO', 0.001301792600163964)\n",
      "('MTEPEP', 0.0012939047797023771)\n",
      "('MTECPA', 0.001089341327261983)\n",
      "('QCPEP', 0.0007350385373029737)\n",
      "('CTFORT', 0.0006587029715999971)\n",
      "('QCPEA', 0.0005764459779461333)\n",
      "('QTCLIF', 0.0004107162062304439)\n",
      "('MTAPJE', 0.00030579401673720626)\n",
      "('MSMENC', 0.0001947386780062212)\n",
      "('QCCP21', 0.0001804544702020168)\n",
      "('QCBASO', 0.00017862116761322786)\n",
      "('MTECEQ', 0.00017478490324108274)\n",
      "('QCCARI', 0.00016994844074833107)\n",
      "('MTE21D', 3.2842911110313296e-05)\n",
      "('QFPROSGR', 1.5863634184723956e-06)\n",
      "('QCPRDI', 1.514181304896896e-06)\n",
      "('MTECTR', 1.2971931136258e-06)\n",
      "('QCPRQU', 9.982280375410785e-07)\n",
      "('QCPRTR', 2.3143377705538282e-07)\n",
      "('QCPRCP', 6.64652472582807e-08)\n",
      "('MTFLPR', 3.069673573302252e-08)\n",
      "('QCPRFI', 2.5546924771922793e-08)\n",
      "('QCPRAS', 0.0)\n",
      "('QCPRPR', 0.0)\n",
      "('MTFLCO', 0.0)\n",
      "('QCFPRORB', 0.0)\n"
     ]
    }
   ],
   "source": [
    "random_forest(temp, depot, cols)"
   ]
  },
  {
   "cell_type": "code",
   "execution_count": 102,
   "id": "grand-purple",
   "metadata": {},
   "outputs": [
    {
     "name": "stdout",
     "output_type": "stream",
     "text": [
      "              precision    recall  f1-score   support\n",
      "\n",
      "       False       0.82      0.86      0.84     69686\n",
      "        True       0.65      0.57      0.61     31593\n",
      "\n",
      "    accuracy                           0.77    101279\n",
      "   macro avg       0.73      0.72      0.72    101279\n",
      "weighted avg       0.76      0.77      0.77    101279\n",
      "\n"
     ]
    }
   ],
   "source": [
    "knn(temp, depot, cols)"
   ]
  },
  {
   "cell_type": "markdown",
   "id": "greater-coaching",
   "metadata": {},
   "source": [
    "# Test The theory of Audrey"
   ]
  },
  {
   "cell_type": "code",
   "execution_count": 60,
   "id": "defined-center",
   "metadata": {},
   "outputs": [],
   "source": [
    "# Copy the data\n",
    "temp = data.copy()\n",
    "\n",
    "# Delete age below then 18\n",
    "temp = temp[temp['QTAGCL'] >= 18]"
   ]
  },
  {
   "cell_type": "code",
   "execution_count": 61,
   "id": "going-sheep",
   "metadata": {},
   "outputs": [
    {
     "name": "stdout",
     "output_type": "stream",
     "text": [
      "              precision    recall  f1-score   support\n",
      "\n",
      "       False       0.84      0.88      0.86     49683\n",
      "        True       0.79      0.75      0.77     31961\n",
      "\n",
      "    accuracy                           0.82     81644\n",
      "   macro avg       0.82      0.81      0.81     81644\n",
      "weighted avg       0.82      0.82      0.82     81644\n",
      "\n"
     ]
    }
   ],
   "source": [
    "random_forest(temp, eco, cols)"
   ]
  },
  {
   "cell_type": "code",
   "execution_count": 83,
   "id": "wooden-temperature",
   "metadata": {},
   "outputs": [
    {
     "name": "stdout",
     "output_type": "stream",
     "text": [
      "              precision    recall  f1-score   support\n",
      "\n",
      "       False       0.75      0.80      0.77     49619\n",
      "        True       0.65      0.58      0.61     32025\n",
      "\n",
      "    accuracy                           0.72     81644\n",
      "   macro avg       0.70      0.69      0.69     81644\n",
      "weighted avg       0.71      0.72      0.71     81644\n",
      "\n"
     ]
    }
   ],
   "source": [
    "knn(temp, eco, cols)"
   ]
  },
  {
   "cell_type": "markdown",
   "id": "elder-nebraska",
   "metadata": {},
   "source": [
    "# &&&&&&&&&&&&&&&&&&&&&&&&&&&&&&&&&&&&&&&&&&&&&&&&&&"
   ]
  },
  {
   "cell_type": "code",
   "execution_count": 84,
   "id": "inappropriate-coral",
   "metadata": {},
   "outputs": [
    {
     "name": "stdout",
     "output_type": "stream",
     "text": [
      "              precision    recall  f1-score   support\n",
      "\n",
      "       False       0.83      0.87      0.85     69151\n",
      "        True       0.70      0.63      0.66     32128\n",
      "\n",
      "    accuracy                           0.79    101279\n",
      "   macro avg       0.76      0.75      0.76    101279\n",
      "weighted avg       0.79      0.79      0.79    101279\n",
      "\n"
     ]
    }
   ],
   "source": [
    "knn(data, eco, ['SGMIM', 'CEBPF5', 'MTEEML', 'QTAGCL', 'MTECSL', 'LON', 'LAT', 'MTRSMO', 'MCTOTA', 'MTELEP'])"
   ]
  },
  {
   "cell_type": "code",
   "execution_count": 142,
   "id": "contained-capitol",
   "metadata": {},
   "outputs": [],
   "source": [
    "''' The Model'''\n",
    "\n",
    "# Labels are the values we want to predict\n",
    "labels = np.array(data['ECO'])\n",
    "\n",
    "# Remove the labels from the features\n",
    "features = np.array(data[['SGMIM', 'CEBPF5', 'MTEEML', 'QTAGCL', 'MTECSL', 'LON', 'LAT', 'MTRSMO', 'MCTOTA', 'MTELEP']])\n",
    "\n",
    "# Split the data into training and testing sets\n",
    "train_features, test_features, train_labels, test_labels = train_test_split(features, labels, test_size = 0.2)"
   ]
  },
  {
   "cell_type": "code",
   "execution_count": 154,
   "id": "official-helicopter",
   "metadata": {},
   "outputs": [
    {
     "name": "stdout",
     "output_type": "stream",
     "text": [
      "61.757065534591675\n",
      "0.48086094856262207\n",
      "              precision    recall  f1-score   support\n",
      "\n",
      "       False       0.88      0.85      0.86     69077\n",
      "        True       0.69      0.75      0.72     32202\n",
      "\n",
      "    accuracy                           0.81    101279\n",
      "   macro avg       0.79      0.80      0.79    101279\n",
      "weighted avg       0.82      0.81      0.82    101279\n",
      "\n"
     ]
    }
   ],
   "source": [
    "# Instantiate model with 300 decision trees\n",
    "rf = RandomForestRegressor(n_estimators = 100, max_depth=5)\n",
    "\n",
    "st = time.time()\n",
    "\n",
    "# Train the model on training data\n",
    "rf.fit(train_features, train_labels)\n",
    "\n",
    "fn = time.time()\n",
    "print(fn - st)\n",
    "\n",
    "# Use the forest's predict method on the test data\n",
    "predictions = rf.predict(test_features)\n",
    "\n",
    "print(time.time() - fn)\n",
    "\n",
    "# Classification report\n",
    "print(classification_report(test_labels, predictions.round()))"
   ]
  },
  {
   "cell_type": "code",
   "execution_count": 156,
   "id": "pregnant-canon",
   "metadata": {},
   "outputs": [],
   "source": [
    "export_graphviz(rf.estimators_[0], out_file='tree.dot', feature_names = ['SGMIM', 'CEBPF5', 'MTEEML', 'QTAGCL', 'MTECSL', 'LON', 'LAT', 'MTRSMO', 'MCTOTA', 'MTELEP'])"
   ]
  },
  {
   "cell_type": "code",
   "execution_count": null,
   "id": "strange-apollo",
   "metadata": {},
   "outputs": [],
   "source": []
  }
 ],
 "metadata": {
  "kernelspec": {
   "display_name": "Python 3",
   "language": "python",
   "name": "python3"
  },
  "language_info": {
   "codemirror_mode": {
    "name": "ipython",
    "version": 3
   },
   "file_extension": ".py",
   "mimetype": "text/x-python",
   "name": "python",
   "nbconvert_exporter": "python",
   "pygments_lexer": "ipython3",
   "version": "3.6.8"
  }
 },
 "nbformat": 4,
 "nbformat_minor": 5
}
