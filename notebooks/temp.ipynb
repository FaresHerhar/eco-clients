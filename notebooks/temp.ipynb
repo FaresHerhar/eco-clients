{
 "cells": [
  {
   "cell_type": "code",
   "execution_count": 9,
   "id": "charged-strip",
   "metadata": {},
   "outputs": [],
   "source": [
    "# Load modules for data manipulation\n",
    "from dotenv import load_dotenv\n",
    "import seaborn as sns\n",
    "import matplotlib.pyplot as plt\n",
    "from subprocess import call\n",
    "import pandas as pd\n",
    "import numpy as np\n",
    "import time\n",
    "import os"
   ]
  },
  {
   "cell_type": "code",
   "execution_count": 1,
   "id": "measured-philosophy",
   "metadata": {},
   "outputs": [],
   "source": [
    "# Load modules for machine learning\n",
    "# Using Skicit-learn to split data into training and testing sets\n",
    "from sklearn.model_selection import train_test_split\n",
    "\n",
    "# Import the model we are using\n",
    "from sklearn.ensemble import RandomForestRegressor\n",
    "from sklearn.neighbors import KNeighborsClassifier\n",
    "from sklearn.linear_model import LogisticRegression\n",
    "\n",
    "# Calculate the accurancy of the model\n",
    "from sklearn.metrics import accuracy_score, classification_report\n",
    "\n",
    "# For drawing the graph\n",
    "from sklearn.tree import export_graphviz\n",
    "\n",
    "# will be used for tree visualization\n",
    "from dtreeviz.trees import dtreeviz"
   ]
  },
  {
   "cell_type": "code",
   "execution_count": 2,
   "id": "organizational-swedish",
   "metadata": {},
   "outputs": [],
   "source": [
    "# Get the data from the other notebook\n",
    "%store -r data\n",
    "%store -r columns\n",
    "%store -r eco\n",
    "%store -r credit\n",
    "%store -r depot"
   ]
  },
  {
   "cell_type": "code",
   "execution_count": 5,
   "id": "resident-paintball",
   "metadata": {},
   "outputs": [],
   "source": [
    "def random_forest(data, ecos, cols, var='ECO'):\n",
    "    ''' The Model'''\n",
    "    \n",
    "    # Labels are the values we want to predict\n",
    "    labels = np.array(data[var])\n",
    "\n",
    "    # Remove the labels from the features\n",
    "    features = np.array(data[cols])\n",
    "\n",
    "    # Split the data into training and testing sets\n",
    "    train_features, test_features, train_labels, test_labels = train_test_split(features, labels, test_size = 0.2)\n",
    "\n",
    "    # Instantiate model with 1000 decision trees\n",
    "    rf = RandomForestRegressor(n_estimators = 300)\n",
    "\n",
    "    # Train the model on training data\n",
    "    rf.fit(train_features, train_labels)\n",
    "\n",
    "    # Use the forest's predict method on the test data\n",
    "    predictions = rf.predict(test_features)\n",
    "    \n",
    "    # Classification report\n",
    "    print(classification_report(test_labels, predictions.round()))"
   ]
  },
  {
   "cell_type": "code",
   "execution_count": 11,
   "id": "ancient-china",
   "metadata": {},
   "outputs": [],
   "source": [
    "def knn(data, ecos, cols, var='ECO'):\n",
    "    ''' The Model'''\n",
    "    \n",
    "    # Labels are the values we want to predict\n",
    "    labels = np.array(data[var])\n",
    "\n",
    "    # Remove the labels from the features\n",
    "    features = np.array(data[cols])\n",
    "\n",
    "    # Split the data into training and testing sets, random_state = 42\n",
    "    train_features, test_features, train_labels, test_labels = train_test_split(features, labels, test_size = 0.2, random_state=42)\n",
    "\n",
    "    # Instantiate model with 1000 decision trees\n",
    "    model = KNeighborsClassifier(n_neighbors=3)\n",
    "    \n",
    "    # Train the model on training data\n",
    "    model.fit(train_features, train_labels)\n",
    "    \n",
    "    # Use the forest's predict method on the test data\n",
    "    predictions = model.predict(test_features)\n",
    "    \n",
    "    # Classification report\n",
    "    print(classification_report(test_labels, predictions.round()))"
   ]
  },
  {
   "cell_type": "code",
   "execution_count": 7,
   "id": "literary-showcase",
   "metadata": {},
   "outputs": [],
   "source": [
    "# take only over 18 years odl or equal\n",
    "temp = data[data['QTAGCL'] >= 18]"
   ]
  },
  {
   "cell_type": "code",
   "execution_count": 10,
   "id": "european-rover",
   "metadata": {},
   "outputs": [
    {
     "name": "stdout",
     "output_type": "stream",
     "text": [
      "              precision    recall  f1-score   support\n",
      "\n",
      "       False       0.87      0.88      0.87     63032\n",
      "        True       0.75      0.73      0.74     31180\n",
      "\n",
      "    accuracy                           0.83     94212\n",
      "   macro avg       0.81      0.81      0.81     94212\n",
      "weighted avg       0.83      0.83      0.83     94212\n",
      "\n"
     ]
    }
   ],
   "source": [
    "# now run the random forest\n",
    "random_forest(temp, eco, columns)"
   ]
  },
  {
   "cell_type": "code",
   "execution_count": 12,
   "id": "alternative-continent",
   "metadata": {},
   "outputs": [
    {
     "name": "stdout",
     "output_type": "stream",
     "text": [
      "              precision    recall  f1-score   support\n",
      "\n",
      "       False       0.78      0.82      0.80     63337\n",
      "        True       0.59      0.53      0.56     30875\n",
      "\n",
      "    accuracy                           0.72     94212\n",
      "   macro avg       0.68      0.67      0.68     94212\n",
      "weighted avg       0.72      0.72      0.72     94212\n",
      "\n"
     ]
    }
   ],
   "source": [
    "# now run the knn\n",
    "knn(temp, eco, columns)"
   ]
  },
  {
   "cell_type": "code",
   "execution_count": null,
   "id": "complex-draft",
   "metadata": {},
   "outputs": [],
   "source": []
  }
 ],
 "metadata": {
  "kernelspec": {
   "display_name": "Python 3",
   "language": "python",
   "name": "python3"
  },
  "language_info": {
   "codemirror_mode": {
    "name": "ipython",
    "version": 3
   },
   "file_extension": ".py",
   "mimetype": "text/x-python",
   "name": "python",
   "nbconvert_exporter": "python",
   "pygments_lexer": "ipython3",
   "version": "3.6.8"
  }
 },
 "nbformat": 4,
 "nbformat_minor": 5
}
