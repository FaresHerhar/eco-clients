{
 "cells": [
  {
   "cell_type": "code",
   "execution_count": 7,
   "id": "mental-jason",
   "metadata": {},
   "outputs": [],
   "source": [
    "# Load modules for data manipulation\n",
    "from dotenv import load_dotenv\n",
    "import seaborn as sns\n",
    "import matplotlib.pyplot as plt\n",
    "from subprocess import call\n",
    "import pandas as pd\n",
    "import numpy as np\n",
    "import time\n",
    "import os"
   ]
  },
  {
   "cell_type": "code",
   "execution_count": 2,
   "id": "employed-equation",
   "metadata": {},
   "outputs": [],
   "source": [
    "# Load modules for machine learning\n",
    "# Using Skicit-learn to split data into training and testing sets\n",
    "from sklearn.model_selection import train_test_split\n",
    "\n",
    "# Import the model we are using\n",
    "from sklearn.ensemble import RandomForestRegressor\n",
    "from sklearn.neighbors import KNeighborsClassifier\n",
    "from sklearn.linear_model import LogisticRegression\n",
    "\n",
    "# Calculate the accurancy of the model\n",
    "from sklearn.metrics import accuracy_score, classification_report\n",
    "\n",
    "# For drawing the graph\n",
    "from sklearn.tree import export_graphviz"
   ]
  },
  {
   "cell_type": "code",
   "execution_count": 3,
   "id": "hearing-producer",
   "metadata": {},
   "outputs": [],
   "source": [
    "def plot_feature_importance(importance,names,model_type):\n",
    "    #Create arrays from feature importance and feature name logistic regressions\n",
    "    feature_importance = np.array(importance)\n",
    "    feature_names = np.array(names)\n",
    "\n",
    "    #Create a DataFrame using a Dictionary\n",
    "    data={'feature_names':feature_names,'feature_importance':feature_importance}\n",
    "    fi_df = pd.DataFrame(data)\n",
    "\n",
    "    #Sort the DataFrame in order decreasing feature importance\n",
    "    fi_df.sort_values(by=['feature_importance'], ascending=False,inplace=True)\n",
    "\n",
    "    #Define size of bar plot\n",
    "    plt.figure(figsize=(10,8))\n",
    "    #Plot Searborn bar chart\n",
    "    sns.barplot(x=fi_df['feature_importance'], y=fi_df['feature_names'])\n",
    "    #Add chart labels\n",
    "    plt.title(model_type + '-FEATURE IMPORTANCE')\n",
    "    plt.xlabel('FEATURE IMPORTANCE')\n",
    "    plt.ylabel('FEATURE NAMES')\n",
    "    \n",
    "    plt.savefig('{}.svg'.format(model_type))"
   ]
  },
  {
   "cell_type": "code",
   "execution_count": 4,
   "id": "special-pearl",
   "metadata": {},
   "outputs": [],
   "source": [
    "def log_reg(data, ecos, cols):\n",
    "    ''' The Model'''\n",
    "    \n",
    "    # Labels are the values we want to predict\n",
    "    labels = np.array(data['ECO'])\n",
    "\n",
    "    # Remove the labels from the features\n",
    "    features = np.array(data[cols])\n",
    "\n",
    "    # Split the data into training and testing sets\n",
    "    train_features, test_features, train_labels, test_labels = train_test_split(features, labels, test_size = 0.2, random_state=42)\n",
    "\n",
    "    # Instantiate model with 1000 decision trees\n",
    "    logisticRegr = LogisticRegression()\n",
    "    \n",
    "    # Train the model on training data\n",
    "    logisticRegr.fit(train_features, train_labels)\n",
    "    \n",
    "    # Use the forest's predict method on the test data\n",
    "    predictions = logisticRegr.predict(test_features)\n",
    "\n",
    "    # Classification report\n",
    "    print(classification_report(test_labels, predictions.round()))"
   ]
  },
  {
   "cell_type": "code",
   "execution_count": 5,
   "id": "gross-assumption",
   "metadata": {},
   "outputs": [],
   "source": [
    "def knn(data, ecos, cols):\n",
    "    ''' The Model'''\n",
    "\n",
    "    # Labels are the values we want to predict\n",
    "    labels = np.array(data['ECO'])\n",
    "\n",
    "    # Remove the labels from the features\n",
    "    features = np.array(data[cols])\n",
    "\n",
    "    # Split the data into training and testing sets\n",
    "    train_features, test_features, train_labels, test_labels = train_test_split(features, labels, test_size = 0.2, random_state=42)\n",
    "\n",
    "    # Instantiate model with 1000 decision trees\n",
    "    model = KNeighborsClassifier(n_neighbors=5)\n",
    "    \n",
    "    # Train the model on training data\n",
    "    model.fit(train_features, train_labels)\n",
    "    \n",
    "    # Use the forest's predict method on the test data\n",
    "    predictions = model.predict(test_features)\n",
    "\n",
    "    # Classification report\n",
    "    print(classification_report(test_labels, predictions.round()))"
   ]
  },
  {
   "cell_type": "code",
   "execution_count": 6,
   "id": "revolutionary-family",
   "metadata": {},
   "outputs": [],
   "source": [
    "# Get the data from the other notebook\n",
    "%store -r data\n",
    "%store -r cols\n",
    "%store -r eco"
   ]
  },
  {
   "cell_type": "markdown",
   "id": "premier-romance",
   "metadata": {},
   "source": [
    "# -------------------------------------------------------------------------------------------------------------"
   ]
  },
  {
   "cell_type": "code",
   "execution_count": 22,
   "id": "digital-norwegian",
   "metadata": {},
   "outputs": [
    {
     "name": "stdout",
     "output_type": "stream",
     "text": [
      "              precision    recall  f1-score   support\n",
      "\n",
      "       False       0.81      0.86      0.84     69151\n",
      "        True       0.65      0.58      0.61     32128\n",
      "\n",
      "    accuracy                           0.77    101279\n",
      "   macro avg       0.73      0.72      0.72    101279\n",
      "weighted avg       0.76      0.77      0.77    101279\n",
      "\n"
     ]
    }
   ],
   "source": [
    "knn(data, eco, cols)"
   ]
  },
  {
   "cell_type": "code",
   "execution_count": 9,
   "id": "reflected-brass",
   "metadata": {},
   "outputs": [],
   "source": [
    "''' The Model'''\n",
    "\n",
    "# Labels are the values we want to predict\n",
    "labels = np.array(data['ECO'])\n",
    "\n",
    "# Remove the labels from the features\n",
    "features = np.array(data[cols])\n",
    "\n",
    "# Split the data into training and testing sets\n",
    "train_features, test_features, train_labels, test_labels = train_test_split(features, labels, test_size = 0.2)"
   ]
  },
  {
   "cell_type": "code",
   "execution_count": 13,
   "id": "behavioral-berlin",
   "metadata": {},
   "outputs": [
    {
     "name": "stdout",
     "output_type": "stream",
     "text": [
      "3.4809112548828125e-05\n",
      "0.00012087821960449219\n",
      "              precision    recall  f1-score   support\n",
      "\n",
      "       False       0.88      0.91      0.90     69192\n",
      "        True       0.79      0.74      0.76     32087\n",
      "\n",
      "    accuracy                           0.86    101279\n",
      "   macro avg       0.84      0.82      0.83    101279\n",
      "weighted avg       0.85      0.86      0.85    101279\n",
      "\n"
     ]
    }
   ],
   "source": [
    "# Instantiate model with 300 decision trees\n",
    "rf = RandomForestRegressor(n_estimators = 300)\n",
    "\n",
    "st = time.time()\n",
    "\n",
    "# Train the model on training data\n",
    "rf.fit(train_features, train_labels)\n",
    "\n",
    "fn = time.time()\n",
    "print(fn - st)\n",
    "\n",
    "# Use the forest's predict method on the test data\n",
    "predictions = rf.predict(test_features)\n",
    "\n",
    "print(time.time() - fn)\n",
    "\n",
    "# Classification report\n",
    "print(classification_report(test_labels, predictions.round()))"
   ]
  },
  {
   "cell_type": "code",
   "execution_count": 11,
   "id": "falling-alignment",
   "metadata": {},
   "outputs": [
    {
     "data": {
      "image/png": "[encoded data removed]",
      "text/plain": [
       "<Figure size 720x576 with 1 Axes>"
      ]
     },
     "metadata": {
      "needs_background": "light"
     },
     "output_type": "display_data"
    }
   ],
   "source": [
    "shit = sorted(zip(cols, rf.feature_importances_), key=lambda x: x[1], reverse=True)\n",
    "plot_feature_importance([i[1] for i in shit[:30]],[i[0] for i in shit[:30]],'Random-Forest')"
   ]
  },
  {
   "cell_type": "code",
   "execution_count": 23,
   "id": "micro-aerospace",
   "metadata": {},
   "outputs": [
    {
     "name": "stdout",
     "output_type": "stream",
     "text": [
      "('SGMIM', 0.17660154415080528)\n",
      "('CEBPF5', 0.12368237905432455)\n",
      "('MTEEML', 0.08405824061293171)\n",
      "('QTAGCL', 0.06364124681682379)\n",
      "('MTECSL', 0.03808418227963695)\n",
      "('LON', 0.033483036515083574)\n",
      "('LAT', 0.03319951649956871)\n",
      "('MTRSMO', 0.03235911454900558)\n",
      "('MCTOTA', 0.027613800058900517)\n",
      "('MTELEP', 0.02753763678124669)\n",
      "('MTRSFI', 0.023415540528350327)\n",
      "('CTSCPI', 0.020052619399013503)\n",
      "('CTCOPO', 0.019465713752471324)\n",
      "('QCCOCY', 0.015198808411098285)\n",
      "('CTMENB', 0.013501095014275226)\n",
      "('CTSC91', 0.012088669042533922)\n",
      "('MCTOTE', 0.011882241017618785)\n",
      "('CTSC90', 0.010335337155660795)\n",
      "('CTSIFA', 0.010278099679308518)\n",
      "('MTESOC', 0.01026896929722325)\n",
      "('MTPATR', 0.009936104555068555)\n",
      "('MTVAOP', 0.008938648230345023)\n",
      "('SGMID', 0.007668684096252821)\n",
      "('MTECCS', 0.00691783314328173)\n",
      "('CTSC92', 0.0067005417340299574)\n",
      "('MTEPEL', 0.006588429117581628)\n",
      "('MTPJE', 0.006557811388739388)\n",
      "('MTEEMC', 0.006499125013492889)\n",
      "('MTE19D', 0.006454278248485765)\n",
      "('MTEASV', 0.006453838773805018)\n",
      "('MTRVFR', 0.006211824247227396)\n",
      "('MTECEL', 0.006158809986090853)\n",
      "('MTRETT', 0.005427216052907885)\n",
      "('SGMFD', 0.00530590403318604)\n",
      "('MTCDIM', 0.005289203460460971)\n",
      "('NBCART', 0.0050970236719827325)\n",
      "('CODCSP', 0.005080401000455829)\n",
      "('QCCAR2', 0.004900438969105255)\n",
      "('QCCP19', 0.00453324058323445)\n",
      "('COSEXE', 0.004394532045609333)\n",
      "('MTECIM', 0.004365368714315722)\n",
      "('MTRECD', 0.0041242081348310845)\n",
      "('CTBP', 0.004114543412460459)\n",
      "('QCCOEQ', 0.0038755175293957037)\n",
      "('SGMFM', 0.0034715231973020495)\n",
      "('QCIARD', 0.0033095378142165214)\n",
      "('PSGPAR', 0.003071391065069718)\n",
      "('QCPREV', 0.0029892113339905005)\n",
      "('QCCEL', 0.0027615865019902856)\n",
      "('CERCPE', 0.0026332451286200692)\n",
      "('CERCPS', 0.0025981559595701325)\n",
      "('MTRVIM', 0.002479784319196325)\n",
      "('QTPAFI', 0.002470266595406151)\n",
      "('CEBPF4', 0.002326778239086521)\n",
      "('CEBPF2', 0.002325985601659122)\n",
      "('CERCEP', 0.0022335366766806494)\n",
      "('CECARP', 0.0022042789898337628)\n",
      "('QCITOT', 0.0021728681577941372)\n",
      "('QCCRIM', 0.002072843576612945)\n",
      "('CEBPF3', 0.001990495240740766)\n",
      "('CEBPF7', 0.0018322170180233824)\n",
      "('QCCARP', 0.0017970622624373463)\n",
      "('QCASV', 0.0017953177444861874)\n",
      "('QCIHAB', 0.001787320270543011)\n",
      "('CEBPF1', 0.0017159961193740961)\n",
      "('QTIAUT', 0.0016876232230741302)\n",
      "('QCCAR3', 0.0016777032920350572)\n",
      "('QCCRPE', 0.0016383040278093047)\n",
      "('CEBPF6', 0.0015544568206213286)\n",
      "('QCCTO', 0.0014384188225325734)\n",
      "('QCPEL', 0.001332583681845727)\n",
      "('QCCAR1', 0.001314289468448729)\n",
      "('CERCPL', 0.0012685597840609594)\n",
      "('MTEPEP', 0.0012466851926525163)\n",
      "('MTECTO', 0.0012081000929740214)\n",
      "('MTECPA', 0.001066839683504662)\n",
      "('COHAVI', 0.000905518656968672)\n",
      "('QCPEP', 0.0006815221505774633)\n",
      "('CERCPP', 0.0006792637996267849)\n",
      "('CTFORT', 0.0006429337760993916)\n",
      "('CERCPT', 0.0006296887310630458)\n",
      "('QCPEA', 0.0005555233118731426)\n",
      "('QTCLIF', 0.0004198744482954956)\n",
      "('CERCPC', 0.00036789245182841657)\n",
      "('MTAPJE', 0.00032696718355403)\n",
      "('QCCP21', 0.00022658976245125642)\n",
      "('MTECEQ', 0.00019085058814083787)\n",
      "('QCBASO', 0.00017831043428843924)\n",
      "('MSMENC', 0.0001655803083309159)\n",
      "('QCCARI', 0.00016471717629587781)\n",
      "('MTE21D', 4.714303629207391e-05)\n",
      "('MTECTR', 1.2510542703582326e-06)\n",
      "('QCPRDI', 6.623659071603721e-07)\n",
      "('QFPROSGR', 4.597225505159776e-07)\n",
      "('MTFLPR', 3.385556128325904e-07)\n",
      "('QCPRQU', 2.7701888611388814e-07)\n",
      "('QCPRFI', 1.655604275460553e-07)\n",
      "('QCPRTR', 9.999179229312319e-08)\n",
      "('QCPRCP', 8.725444686000514e-08)\n",
      "('QCPRAS', 0.0)\n",
      "('QCPRPR', 0.0)\n",
      "('MTFLCO', 0.0)\n",
      "('QCFPRORB', 0.0)\n"
     ]
    }
   ],
   "source": [
    "for i in shit:\n",
    "    print(i)"
   ]
  },
  {
   "cell_type": "code",
   "execution_count": null,
   "id": "joined-tribune",
   "metadata": {},
   "outputs": [],
   "source": []
  }
 ],
 "metadata": {
  "kernelspec": {
   "display_name": "Python 3",
   "language": "python",
   "name": "python3"
  },
  "language_info": {
   "codemirror_mode": {
    "name": "ipython",
    "version": 3
   },
   "file_extension": ".py",
   "mimetype": "text/x-python",
   "name": "python",
   "nbconvert_exporter": "python",
   "pygments_lexer": "ipython3",
   "version": "3.6.8"
  }
 },
 "nbformat": 4,
 "nbformat_minor": 5
}
