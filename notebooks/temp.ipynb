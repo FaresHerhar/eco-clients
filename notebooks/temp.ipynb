{
 "cells": [
  {
   "cell_type": "code",
   "execution_count": 1,
   "id": "mental-jason",
   "metadata": {},
   "outputs": [],
   "source": [
    "# Load modules for data manipulation\n",
    "from dotenv import load_dotenv\n",
    "import seaborn as sns\n",
    "import matplotlib.pyplot as plt\n",
    "from subprocess import call\n",
    "import pandas as pd\n",
    "import numpy as np\n",
    "import time\n",
    "import os"
   ]
  },
  {
   "cell_type": "code",
   "execution_count": 2,
   "id": "employed-equation",
   "metadata": {},
   "outputs": [],
   "source": [
    "# Load modules for machine learning\n",
    "# Using Skicit-learn to split data into training and testing sets\n",
    "from sklearn.model_selection import train_test_split\n",
    "\n",
    "# Import the model we are using\n",
    "from sklearn.ensemble import RandomForestRegressor\n",
    "from sklearn.neighbors import KNeighborsClassifier\n",
    "from sklearn.linear_model import LogisticRegression\n",
    "\n",
    "# Calculate the accurancy of the model\n",
    "from sklearn.metrics import accuracy_score, classification_report\n",
    "\n",
    "# For drawing the graph\n",
    "from sklearn.tree import export_graphviz"
   ]
  },
  {
   "cell_type": "code",
   "execution_count": 29,
   "id": "greek-motorcycle",
   "metadata": {},
   "outputs": [],
   "source": [
    "# Declare the list of products for each family\n",
    "# Les familles sont: CREDITS, DEPOTS MONETAIRES, PRODUITS EXTERNES COMMERCIALISES\n",
    "credit = ['00568', '00943', '00942', '00546', '00547', '03992', '00940', '00941', '00548', '06458', '00509', '00565']\n",
    "depot = ['07648', '07649', '07606', '00003']\n",
    "comm = ['05808', '05807']"
   ]
  },
  {
   "cell_type": "code",
   "execution_count": 3,
   "id": "hearing-producer",
   "metadata": {},
   "outputs": [],
   "source": [
    "def plot_feature_importance(importance,names,model_type):\n",
    "    #Create arrays from feature importance and feature name logistic regressions\n",
    "    feature_importance = np.array(importance)\n",
    "    feature_names = np.array(names)\n",
    "\n",
    "    #Create a DataFrame using a Dictionary\n",
    "    data={'feature_names':feature_names,'feature_importance':feature_importance}\n",
    "    fi_df = pd.DataFrame(data)\n",
    "\n",
    "    #Sort the DataFrame in order decreasing feature importance\n",
    "    fi_df.sort_values(by=['feature_importance'], ascending=False,inplace=True)\n",
    "\n",
    "    #Define size of bar plot\n",
    "    plt.figure(figsize=(10,8))\n",
    "    #Plot Searborn bar chart\n",
    "    sns.barplot(x=fi_df['feature_importance'], y=fi_df['feature_names'])\n",
    "    #Add chart labels\n",
    "    plt.title(model_type + '-FEATURE IMPORTANCE')\n",
    "    plt.xlabel('FEATURE IMPORTANCE')\n",
    "    plt.ylabel('FEATURE NAMES')\n",
    "    \n",
    "    plt.savefig('{}.svg'.format(model_type))"
   ]
  },
  {
   "cell_type": "code",
   "execution_count": 86,
   "id": "mobile-enforcement",
   "metadata": {},
   "outputs": [],
   "source": [
    "def random_forest(data, ecos, cols):   \n",
    "    ''' The Model'''\n",
    "    \n",
    "    # Labels are the values we want to predict\n",
    "    labels = np.array(data['ECO'])\n",
    "\n",
    "    # Remove the labels from the features\n",
    "    features = np.array(data[cols])\n",
    "\n",
    "    # Split the data into training and testing sets\n",
    "    train_features, test_features, train_labels, test_labels = train_test_split(features, labels, test_size = 0.2)\n",
    "\n",
    "    # Instantiate model with 1000 decision trees\n",
    "    rf = RandomForestRegressor(n_estimators = 300)\n",
    "\n",
    "    # Train the model on training data\n",
    "    rf.fit(train_features, train_labels)\n",
    "\n",
    "    # Use the forest's predict method on the test data\n",
    "    predictions = rf.predict(test_features)\n",
    "\n",
    "    # Classification report\n",
    "    print(classification_report(test_labels, predictions.round()))\n",
    "    \n",
    "    # Get the best variables\n",
    "    shit = sorted(zip(cols, rf.feature_importances_), key=lambda x: x[1], reverse=True)\n",
    "    for i in shit:\n",
    "        print(i)"
   ]
  },
  {
   "cell_type": "code",
   "execution_count": 79,
   "id": "special-pearl",
   "metadata": {},
   "outputs": [],
   "source": [
    "def log_reg(data, ecos, cols):\n",
    "    ''' The Model'''\n",
    "    \n",
    "    # Labels are the values we want to predict\n",
    "    labels = np.array(data['ECO'])\n",
    "\n",
    "    # Remove the labels from the features\n",
    "    features = np.array(data[cols])\n",
    "\n",
    "    # Split the data into training and testing sets\n",
    "    train_features, test_features, train_labels, test_labels = train_test_split(features, labels, test_size = 0.2, random_state=42)\n",
    "\n",
    "    # Instantiate model with 1000 decision trees\n",
    "    logisticRegr = LogisticRegression()\n",
    "    \n",
    "    # Train the model on training data\n",
    "    logisticRegr.fit(train_features, train_labels)\n",
    "    \n",
    "    # Use the forest's predict method on the test data\n",
    "    predictions = logisticRegr.predict(test_features)\n",
    "\n",
    "    # Classification report\n",
    "    print(classification_report(test_labels, predictions.round()))"
   ]
  },
  {
   "cell_type": "code",
   "execution_count": 5,
   "id": "gross-assumption",
   "metadata": {},
   "outputs": [],
   "source": [
    "def knn(data, ecos, cols):\n",
    "    ''' The Model'''\n",
    "\n",
    "    # Labels are the values we want to predict\n",
    "    labels = np.array(data['ECO'])\n",
    "\n",
    "    # Remove the labels from the features\n",
    "    features = np.array(data[cols])\n",
    "\n",
    "    # Split the data into training and testing sets\n",
    "    train_features, test_features, train_labels, test_labels = train_test_split(features, labels, test_size = 0.2, random_state=42)\n",
    "\n",
    "    # Instantiate model with 1000 decision trees\n",
    "    model = KNeighborsClassifier(n_neighbors=5)\n",
    "    \n",
    "    # Train the model on training data\n",
    "    model.fit(train_features, train_labels)\n",
    "    \n",
    "    # Use the forest's predict method on the test data\n",
    "    predictions = model.predict(test_features)\n",
    "\n",
    "    # Classification report\n",
    "    print(classification_report(test_labels, predictions.round()))"
   ]
  },
  {
   "cell_type": "code",
   "execution_count": 17,
   "id": "revolutionary-family",
   "metadata": {},
   "outputs": [],
   "source": [
    "# Get the data from the other notebook\n",
    "%store -r data\n",
    "%store -r cols\n",
    "%store -r eco\n",
    "%store -r ctr"
   ]
  },
  {
   "cell_type": "markdown",
   "id": "premier-romance",
   "metadata": {},
   "source": [
    "# -------------------------------------------------------------------------------------------------------------"
   ]
  },
  {
   "cell_type": "code",
   "execution_count": 7,
   "id": "digital-norwegian",
   "metadata": {},
   "outputs": [
    {
     "name": "stdout",
     "output_type": "stream",
     "text": [
      "              precision    recall  f1-score   support\n",
      "\n",
      "       False       0.81      0.86      0.84     69151\n",
      "        True       0.65      0.58      0.61     32128\n",
      "\n",
      "    accuracy                           0.77    101279\n",
      "   macro avg       0.73      0.72      0.72    101279\n",
      "weighted avg       0.76      0.77      0.77    101279\n",
      "\n"
     ]
    }
   ],
   "source": [
    "knn(data, eco, cols)"
   ]
  },
  {
   "cell_type": "code",
   "execution_count": 63,
   "id": "reflected-brass",
   "metadata": {},
   "outputs": [],
   "source": [
    "''' The Model'''\n",
    "\n",
    "# Labels are the values we want to predict\n",
    "labels = np.array(data['ECO'])\n",
    "\n",
    "# Remove the labels from the features\n",
    "features = np.array(data[cols])\n",
    "\n",
    "# Split the data into training and testing sets\n",
    "train_features, test_features, train_labels, test_labels = train_test_split(features, labels, test_size = 0.2)"
   ]
  },
  {
   "cell_type": "code",
   "execution_count": 64,
   "id": "behavioral-berlin",
   "metadata": {},
   "outputs": [
    {
     "name": "stdout",
     "output_type": "stream",
     "text": [
      "2692.503211736679\n",
      "13.138068914413452\n",
      "              precision    recall  f1-score   support\n",
      "\n",
      "       False       0.88      0.91      0.90     69304\n",
      "        True       0.79      0.74      0.76     31975\n",
      "\n",
      "    accuracy                           0.86    101279\n",
      "   macro avg       0.84      0.82      0.83    101279\n",
      "weighted avg       0.85      0.86      0.85    101279\n",
      "\n"
     ]
    }
   ],
   "source": [
    "# Instantiate model with 300 decision trees\n",
    "rf = RandomForestRegressor(n_estimators = 300)\n",
    "\n",
    "st = time.time()\n",
    "\n",
    "# Train the model on training data\n",
    "rf.fit(train_features, train_labels)\n",
    "\n",
    "fn = time.time()\n",
    "print(fn - st)\n",
    "\n",
    "# Use the forest's predict method on the test data\n",
    "predictions = rf.predict(test_features)\n",
    "\n",
    "print(time.time() - fn)\n",
    "\n",
    "# Classification report\n",
    "print(classification_report(test_labels, predictions.round()))"
   ]
  },
  {
   "cell_type": "code",
   "execution_count": 73,
   "id": "falling-alignment",
   "metadata": {},
   "outputs": [],
   "source": [
    "shit = sorted(zip(cols, rf.feature_importances_), key=lambda x: x[1], reverse=True)"
   ]
  },
  {
   "cell_type": "code",
   "execution_count": 74,
   "id": "french-library",
   "metadata": {},
   "outputs": [
    {
     "name": "stdout",
     "output_type": "stream",
     "text": [
      "SGMIM\n",
      "CEBPF5\n",
      "MTEEML\n",
      "QTAGCL\n",
      "MTECSL\n",
      "LON\n",
      "LAT\n",
      "MTRSMO\n",
      "MCTOTA\n",
      "MTELEP\n"
     ]
    }
   ],
   "source": [
    "for i in shit[:10]:\n",
    "    print(i[0])"
   ]
  },
  {
   "cell_type": "markdown",
   "id": "korean-basement",
   "metadata": {},
   "source": [
    "# ----------------------------------------------------------------------------------------------------------------------"
   ]
  },
  {
   "cell_type": "markdown",
   "id": "voluntary-pantyhose",
   "metadata": {},
   "source": [
    "# CREDIT"
   ]
  },
  {
   "cell_type": "code",
   "execution_count": 95,
   "id": "broken-copyright",
   "metadata": {},
   "outputs": [],
   "source": [
    "# Copy the data\n",
    "temp = data.copy()\n",
    "\n",
    "# drop the ECO, to generate the new one\n",
    "temp = temp.drop(columns=['ECO'])\n",
    "\n",
    "# get the ids of the products\n",
    "ids = ctr[ctr['COPRO'].isin(credit)]['COMAX'].values\n",
    "temp['ECO'] = temp['COMAX'].isin(ids)"
   ]
  },
  {
   "cell_type": "code",
   "execution_count": 96,
   "id": "signal-configuration",
   "metadata": {},
   "outputs": [
    {
     "name": "stdout",
     "output_type": "stream",
     "text": [
      "              precision    recall  f1-score   support\n",
      "\n",
      "       False       0.99      1.00      0.99    100086\n",
      "        True       0.57      0.08      0.15      1193\n",
      "\n",
      "    accuracy                           0.99    101279\n",
      "   macro avg       0.78      0.54      0.57    101279\n",
      "weighted avg       0.98      0.99      0.98    101279\n",
      "\n",
      "('MTCDIM', 0.1033835660752883)\n",
      "('QCCRIM', 0.04397361594427732)\n",
      "('LAT', 0.04192940710283641)\n",
      "('LON', 0.041562565786979984)\n",
      "('QTAGCL', 0.0357672206791649)\n",
      "('MTRECD', 0.03528814929199283)\n",
      "('MTEEML', 0.03399522801279855)\n",
      "('MCTOTA', 0.032524086138409854)\n",
      "('MTRSMO', 0.02915754394844134)\n",
      "('MCTOTE', 0.02895149116224526)\n",
      "('MTPATR', 0.028106025524585836)\n",
      "('MTRETT', 0.026266579780228613)\n",
      "('MTECSL', 0.02547117466068909)\n",
      "('MTECIM', 0.02461340864420097)\n",
      "('QCCOCY', 0.022476675046691236)\n",
      "('CTSCPI', 0.022148857686409514)\n",
      "('CTCOPO', 0.02096557967816048)\n",
      "('MTRSFI', 0.018648988534010244)\n",
      "('MTESOC', 0.01766776121651008)\n",
      "('CTSC91', 0.01751971335874604)\n",
      "('MTEASV', 0.01687308291841582)\n",
      "('MTVAOP', 0.016776471515733787)\n",
      "('MTEPEL', 0.015303532065932502)\n",
      "('MTECCS', 0.014521001691158253)\n",
      "('MTEEMC', 0.014486846268088851)\n",
      "('CTSC90', 0.01338210644641677)\n",
      "('CTSIFA', 0.011719000810103327)\n",
      "('MTE19D', 0.011663444568636522)\n",
      "('MTECEL', 0.01160390779561708)\n",
      "('CTSC92', 0.01157429092957034)\n",
      "('MTELEP', 0.011029383030553803)\n",
      "('MTPJE', 0.010714287148136704)\n",
      "('MTRVFR', 0.01053455459547797)\n",
      "('CTMENB', 0.0096246194643179)\n",
      "('QCCP19', 0.008753402097833459)\n",
      "('NBCART', 0.008110439483905796)\n",
      "('QCCAR2', 0.007177639852087854)\n",
      "('CODCSP', 0.007073424405584012)\n",
      "('MTECTO', 0.006613994663226132)\n",
      "('MTRVIM', 0.0065913408026122096)\n",
      "('QCIARD', 0.006037753912264876)\n",
      "('SGMFD', 0.005815347716476386)\n",
      "('SGMID', 0.005806430919082902)\n",
      "('MTECPA', 0.005732291429225874)\n",
      "('MTEPEP', 0.005710342735323201)\n",
      "('SGMFM', 0.0052692261000541925)\n",
      "('SGMIM', 0.00489011272453989)\n",
      "('CTBP', 0.004772476157660872)\n",
      "('COSEXE', 0.004685069208983747)\n",
      "('QCPREV', 0.004593698719193542)\n",
      "('QCASV', 0.004526805732908599)\n",
      "('QTPAFI', 0.0044932237170792234)\n",
      "('QCCOEQ', 0.0037171784028986925)\n",
      "('QCCRPE', 0.0036814652135104204)\n",
      "('QCITOT', 0.003632148681480195)\n",
      "('QTIAUT', 0.003577110685216369)\n",
      "('CEBPF2', 0.003332566410488091)\n",
      "('QCCARP', 0.003246176892812961)\n",
      "('QCIHAB', 0.0031844228511547644)\n",
      "('QCCAR3', 0.0028074928526041713)\n",
      "('QCCTO', 0.0027518088766554515)\n",
      "('CEBPF3', 0.0026850386021204306)\n",
      "('CEBPF5', 0.002656651820255965)\n",
      "('PSGPAR', 0.0025868500049025253)\n",
      "('CEBPF1', 0.002240084688334704)\n",
      "('CEBPF6', 0.0022200709161474563)\n",
      "('CECARP', 0.0021422111444008027)\n",
      "('CEBPF7', 0.002089652217286757)\n",
      "('QCPEL', 0.0018745553258093664)\n",
      "('CEBPF4', 0.0018127709540489566)\n",
      "('QCCAR1', 0.0017819825926794109)\n",
      "('QCPEP', 0.0017778338896142195)\n",
      "('MTECEQ', 0.0017113651997822743)\n",
      "('QCCEL', 0.0015446415871757102)\n",
      "('MSMENC', 0.0009892872814992505)\n",
      "('QCPEA', 0.0009627857164466862)\n",
      "('CTFORT', 0.0008591245351591423)\n",
      "('QTCLIF', 0.0008121052825491406)\n",
      "('QCCP21', 0.0007681101067996659)\n",
      "('MTAPJE', 0.0006118225261949145)\n",
      "('MTE21D', 0.000441878188587034)\n",
      "('QCCARI', 0.00043207303982093056)\n",
      "('MTFLPR', 0.00018572521468049522)\n",
      "('QCPRDI', 1.7886418068226252e-06)\n",
      "('QCPRCP', 1.4329602144698864e-06)\n",
      "('QCBASO', 1.4220654679805818e-06)\n",
      "('MTECTR', 7.177577076764729e-07)\n",
      "('QFPROSGR', 4.58974816756174e-07)\n",
      "('QCPRQU', 0.0)\n",
      "('QCPRFI', 0.0)\n",
      "('QCPRTR', 0.0)\n",
      "('QCPRAS', 0.0)\n",
      "('QCPRPR', 0.0)\n",
      "('MTFLCO', 0.0)\n",
      "('QCFPRORB', 0.0)\n"
     ]
    }
   ],
   "source": [
    "random_forest(temp, credit, cols)"
   ]
  },
  {
   "cell_type": "code",
   "execution_count": 91,
   "id": "considerable-differential",
   "metadata": {},
   "outputs": [
    {
     "name": "stdout",
     "output_type": "stream",
     "text": [
      "              precision    recall  f1-score   support\n",
      "\n",
      "       False       0.99      1.00      0.99    100078\n",
      "        True       0.37      0.07      0.11      1201\n",
      "\n",
      "    accuracy                           0.99    101279\n",
      "   macro avg       0.68      0.53      0.55    101279\n",
      "weighted avg       0.98      0.99      0.98    101279\n",
      "\n"
     ]
    }
   ],
   "source": [
    "knn(temp, credit, cols)"
   ]
  },
  {
   "cell_type": "markdown",
   "id": "administrative-northeast",
   "metadata": {},
   "source": [
    "# DEPOTS MONETAIRES"
   ]
  },
  {
   "cell_type": "code",
   "execution_count": 92,
   "id": "every-windows",
   "metadata": {},
   "outputs": [],
   "source": [
    "# Copy the data\n",
    "temp = data.copy()\n",
    "\n",
    "# drop the ECO, to generate the new one\n",
    "temp = temp.drop(columns=['ECO'])\n",
    "\n",
    "# get the ids of the products\n",
    "ids = ctr[ctr['COPRO'].isin(depot)]['COMAX'].values\n",
    "temp['ECO'] = temp['COMAX'].isin(ids)"
   ]
  },
  {
   "cell_type": "code",
   "execution_count": 93,
   "id": "french-standard",
   "metadata": {},
   "outputs": [
    {
     "name": "stdout",
     "output_type": "stream",
     "text": [
      "              precision    recall  f1-score   support\n",
      "\n",
      "       False       0.89      0.91      0.90     69805\n",
      "        True       0.79      0.74      0.77     31474\n",
      "\n",
      "    accuracy                           0.86    101279\n",
      "   macro avg       0.84      0.83      0.83    101279\n",
      "weighted avg       0.86      0.86      0.86    101279\n",
      "\n",
      "('SGMIM', 0.17318230507131666)\n",
      "('CEBPF5', 0.1256813415821072)\n",
      "('MTEEML', 0.08864901789610267)\n",
      "('QTAGCL', 0.06325712858584652)\n",
      "('MTECSL', 0.039405637730006625)\n",
      "('LON', 0.03399392305415025)\n",
      "('LAT', 0.03384155201107166)\n",
      "('MTRSMO', 0.03300752919014217)\n",
      "('MCTOTA', 0.02855018160957101)\n",
      "('MTELEP', 0.028403685647904332)\n",
      "('MTRSFI', 0.023958907854448482)\n",
      "('CTSCPI', 0.02015581793421882)\n",
      "('CTCOPO', 0.02007390682818899)\n",
      "('QCCOCY', 0.015547424420445995)\n",
      "('CTMENB', 0.013808323765705401)\n",
      "('CTSC91', 0.012299198700187594)\n",
      "('MCTOTE', 0.012128653388325328)\n",
      "('CTSC90', 0.010486321749507827)\n",
      "('CTSIFA', 0.010477812152361966)\n",
      "('MTESOC', 0.010363499889348366)\n",
      "('MTPATR', 0.010031958904080913)\n",
      "('MTVAOP', 0.008876555305160594)\n",
      "('SGMID', 0.008113641534389766)\n",
      "('MTEPEL', 0.006872377334867679)\n",
      "('MTECCS', 0.006744092689004393)\n",
      "('CTSC92', 0.006742995766151375)\n",
      "('MTEEMC', 0.006701397370961846)\n",
      "('MTPJE', 0.006668119918771139)\n",
      "('MTEASV', 0.006638872181729839)\n",
      "('MTRVFR', 0.006630560227077575)\n",
      "('MTE19D', 0.006563236702681041)\n",
      "('MTECEL', 0.006438638449884999)\n",
      "('SGMFD', 0.005367498549564949)\n",
      "('NBCART', 0.005174125397425382)\n",
      "('MTRETT', 0.005170963306013194)\n",
      "('CODCSP', 0.005146765687543111)\n",
      "('QCCAR2', 0.0050842396455279)\n",
      "('COSEXE', 0.00451554623371244)\n",
      "('QCCP19', 0.004383188811493176)\n",
      "('QCCOEQ', 0.004162645358847216)\n",
      "('MTCDIM', 0.0040147794722010695)\n",
      "('CTBP', 0.0040107351860043175)\n",
      "('MTECIM', 0.003921785516593674)\n",
      "('MTRECD', 0.003796555932139292)\n",
      "('SGMFM', 0.0035182728651596594)\n",
      "('QCIARD', 0.0033387065303423467)\n",
      "('QCPREV', 0.003017083892882833)\n",
      "('PSGPAR', 0.0029674601842805412)\n",
      "('QCCEL', 0.002945945953091905)\n",
      "('CEBPF4', 0.0025952775838573123)\n",
      "('MTRVIM', 0.002502672634242182)\n",
      "('QTPAFI', 0.0024966109502064966)\n",
      "('CEBPF2', 0.0022722855866097653)\n",
      "('QCITOT', 0.00221448015738375)\n",
      "('CEBPF3', 0.0020473064684304295)\n",
      "('CECARP', 0.002021260788817101)\n",
      "('CEBPF1', 0.0018536902782792506)\n",
      "('CEBPF7', 0.0018308493308824138)\n",
      "('QCCARP', 0.0018264398223076879)\n",
      "('QCIHAB', 0.0017965697951773994)\n",
      "('QCASV', 0.001772184280142696)\n",
      "('QTIAUT', 0.0017397031663978068)\n",
      "('QCCAR3', 0.0017373073285214858)\n",
      "('QCCRPE', 0.0016967883101989243)\n",
      "('QCCRIM', 0.0016042450771077373)\n",
      "('CEBPF6', 0.0015565501645945503)\n",
      "('QCCTO', 0.0015464449626759237)\n",
      "('QCCAR1', 0.0013814272912645417)\n",
      "('QCPEL', 0.0013480749730150608)\n",
      "('MTECTO', 0.0013094769293309698)\n",
      "('MTEPEP', 0.0012928128690837815)\n",
      "('MTECPA', 0.0010870806730275268)\n",
      "('QCPEP', 0.000729909414613577)\n",
      "('CTFORT', 0.0006725012620814741)\n",
      "('QCPEA', 0.0005491941041321119)\n",
      "('QTCLIF', 0.00043227866385542855)\n",
      "('MTAPJE', 0.0003152938916023916)\n",
      "('QCCP21', 0.0001967175915686854)\n",
      "('QCBASO', 0.00018772415962015646)\n",
      "('MTECEQ', 0.00018753353932124945)\n",
      "('MSMENC', 0.00017526470980025601)\n",
      "('QCCARI', 0.0001571974627518985)\n",
      "('MTE21D', 3.352594584556024e-05)\n",
      "('MTECTR', 1.2482419067932238e-06)\n",
      "('QCPRTR', 4.087030246681665e-07)\n",
      "('QCPRDI', 2.1650340575761166e-07)\n",
      "('QCPRFI', 1.9426136273596592e-07)\n",
      "('MTFLPR', 1.112848020427743e-07)\n",
      "('QCFPRORB', 6.950445867749262e-08)\n",
      "('QFPROSGR', 6.781157475130962e-08)\n",
      "('QCPRQU', 5.555311483874047e-08)\n",
      "('QCPRCP', 3.4001060296700706e-08)\n",
      "('QCPRAS', 0.0)\n",
      "('QCPRPR', 0.0)\n",
      "('MTFLCO', 0.0)\n"
     ]
    }
   ],
   "source": [
    "random_forest(temp, depot, cols)"
   ]
  },
  {
   "cell_type": "code",
   "execution_count": 94,
   "id": "grand-purple",
   "metadata": {},
   "outputs": [
    {
     "name": "stdout",
     "output_type": "stream",
     "text": [
      "              precision    recall  f1-score   support\n",
      "\n",
      "       False       0.82      0.86      0.84     69686\n",
      "        True       0.65      0.57      0.61     31593\n",
      "\n",
      "    accuracy                           0.77    101279\n",
      "   macro avg       0.73      0.72      0.72    101279\n",
      "weighted avg       0.76      0.77      0.77    101279\n",
      "\n"
     ]
    }
   ],
   "source": [
    "knn(temp, depot, cols)"
   ]
  },
  {
   "cell_type": "markdown",
   "id": "greater-coaching",
   "metadata": {},
   "source": [
    "# Test The theory of Audrey"
   ]
  },
  {
   "cell_type": "code",
   "execution_count": 60,
   "id": "defined-center",
   "metadata": {},
   "outputs": [],
   "source": [
    "temp = temp[temp['QTAGCL'] >= 18]"
   ]
  },
  {
   "cell_type": "code",
   "execution_count": 61,
   "id": "going-sheep",
   "metadata": {},
   "outputs": [
    {
     "name": "stdout",
     "output_type": "stream",
     "text": [
      "              precision    recall  f1-score   support\n",
      "\n",
      "       False       0.84      0.88      0.86     49683\n",
      "        True       0.79      0.75      0.77     31961\n",
      "\n",
      "    accuracy                           0.82     81644\n",
      "   macro avg       0.82      0.81      0.81     81644\n",
      "weighted avg       0.82      0.82      0.82     81644\n",
      "\n"
     ]
    }
   ],
   "source": [
    "random_forest(temp, eco, cols)"
   ]
  },
  {
   "cell_type": "code",
   "execution_count": 83,
   "id": "wooden-temperature",
   "metadata": {},
   "outputs": [
    {
     "name": "stdout",
     "output_type": "stream",
     "text": [
      "              precision    recall  f1-score   support\n",
      "\n",
      "       False       0.75      0.80      0.77     49619\n",
      "        True       0.65      0.58      0.61     32025\n",
      "\n",
      "    accuracy                           0.72     81644\n",
      "   macro avg       0.70      0.69      0.69     81644\n",
      "weighted avg       0.71      0.72      0.71     81644\n",
      "\n"
     ]
    }
   ],
   "source": [
    "knn(temp, eco, cols)"
   ]
  },
  {
   "cell_type": "markdown",
   "id": "elder-nebraska",
   "metadata": {},
   "source": [
    "# &&&&&&&&&&&&&&&&&&&&&&&&&&&&&&&&&&&&&&&&&&&&&&&&&&"
   ]
  },
  {
   "cell_type": "code",
   "execution_count": 76,
   "id": "contained-capitol",
   "metadata": {},
   "outputs": [],
   "source": [
    "''' The Model'''\n",
    "\n",
    "# Labels are the values we want to predict\n",
    "labels = np.array(data['ECO'])\n",
    "\n",
    "# Remove the labels from the features\n",
    "features = np.array(data[['SGMIM', 'CEBPF5', 'MTEEML', 'QTAGCL', 'MTECSL', 'LON', 'LAT', 'MTRSMO', 'MCTOTA', 'MTELEP']])\n",
    "\n",
    "# Split the data into training and testing sets\n",
    "train_features, test_features, train_labels, test_labels = train_test_split(features, labels, test_size = 0.2)"
   ]
  },
  {
   "cell_type": "code",
   "execution_count": 77,
   "id": "official-helicopter",
   "metadata": {},
   "outputs": [
    {
     "name": "stdout",
     "output_type": "stream",
     "text": [
      "714.0915184020996\n",
      "10.427082300186157\n",
      "              precision    recall  f1-score   support\n",
      "\n",
      "       False       0.88      0.90      0.89     69387\n",
      "        True       0.77      0.73      0.75     31892\n",
      "\n",
      "    accuracy                           0.85    101279\n",
      "   macro avg       0.82      0.81      0.82    101279\n",
      "weighted avg       0.84      0.85      0.84    101279\n",
      "\n"
     ]
    }
   ],
   "source": [
    "# Instantiate model with 300 decision trees\n",
    "rf = RandomForestRegressor(n_estimators = 300)\n",
    "\n",
    "st = time.time()\n",
    "\n",
    "# Train the model on training data\n",
    "rf.fit(train_features, train_labels)\n",
    "\n",
    "fn = time.time()\n",
    "print(fn - st)\n",
    "\n",
    "# Use the forest's predict method on the test data\n",
    "predictions = rf.predict(test_features)\n",
    "\n",
    "print(time.time() - fn)\n",
    "\n",
    "# Classification report\n",
    "print(classification_report(test_labels, predictions.round()))"
   ]
  },
  {
   "cell_type": "code",
   "execution_count": 84,
   "id": "inappropriate-coral",
   "metadata": {},
   "outputs": [
    {
     "name": "stdout",
     "output_type": "stream",
     "text": [
      "              precision    recall  f1-score   support\n",
      "\n",
      "       False       0.83      0.87      0.85     69151\n",
      "        True       0.70      0.63      0.66     32128\n",
      "\n",
      "    accuracy                           0.79    101279\n",
      "   macro avg       0.76      0.75      0.76    101279\n",
      "weighted avg       0.79      0.79      0.79    101279\n",
      "\n"
     ]
    }
   ],
   "source": [
    "knn(data, eco, ['SGMIM', 'CEBPF5', 'MTEEML', 'QTAGCL', 'MTECSL', 'LON', 'LAT', 'MTRSMO', 'MCTOTA', 'MTELEP'])"
   ]
  },
  {
   "cell_type": "code",
   "execution_count": null,
   "id": "minute-ticket",
   "metadata": {},
   "outputs": [],
   "source": []
  }
 ],
 "metadata": {
  "kernelspec": {
   "display_name": "Python 3",
   "language": "python",
   "name": "python3"
  },
  "language_info": {
   "codemirror_mode": {
    "name": "ipython",
    "version": 3
   },
   "file_extension": ".py",
   "mimetype": "text/x-python",
   "name": "python",
   "nbconvert_exporter": "python",
   "pygments_lexer": "ipython3",
   "version": "3.6.8"
  }
 },
 "nbformat": 4,
 "nbformat_minor": 5
}
