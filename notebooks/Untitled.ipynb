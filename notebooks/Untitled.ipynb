{
 "cells": [
  {
   "cell_type": "code",
   "execution_count": 1,
   "id": "hundred-coordinator",
   "metadata": {},
   "outputs": [],
   "source": [
    "# Load modules for data manipulation\n",
    "from dotenv import load_dotenv\n",
    "import pandas as pd\n",
    "import numpy as np\n",
    "import os"
   ]
  },
  {
   "cell_type": "code",
   "execution_count": 2,
   "id": "pressed-stake",
   "metadata": {},
   "outputs": [],
   "source": [
    "# Load modules for machine learning\n",
    "# Using Skicit-learn to split data into training and testing sets\n",
    "from sklearn.model_selection import train_test_split\n",
    "\n",
    "# Import the model we are using\n",
    "from sklearn.ensemble import RandomForestRegressor\n",
    "\n",
    "# Calculate the accurancy of the model\n",
    "from sklearn.metrics import accuracy_score, classification_report"
   ]
  },
  {
   "cell_type": "code",
   "execution_count": 8,
   "id": "alike-preference",
   "metadata": {},
   "outputs": [
    {
     "data": {
      "text/plain": [
       "True"
      ]
     },
     "execution_count": 8,
     "metadata": {},
     "output_type": "execute_result"
    }
   ],
   "source": [
    "load_dotenv()"
   ]
  },
  {
   "cell_type": "code",
   "execution_count": 11,
   "id": "impressed-formula",
   "metadata": {},
   "outputs": [],
   "source": [
    "eco = pd.read_csv(os.getenv('CLEANED_DATA_PATH') + '/' + 'eco-products.csv', encoding='ISO-8859-1', sep='\\t')\n",
    "clt = pd.read_csv(os.getenv('CLEANED_DATA_PATH') + '/' + 'TJ38.csv', encoding='ISO-8859-1', sep='\\t')\n",
    "ctr = pd.read_csv(os.getenv('CLEANED_DATA_PATH') + '/' + 'TJ7S.csv', encoding='ISO-8859-1', sep='\\t', low_memory=False)"
   ]
  },
  {
   "cell_type": "markdown",
   "id": "earlier-arabic",
   "metadata": {},
   "source": [
    "## Get the best ecological product"
   ]
  },
  {
   "cell_type": "code",
   "execution_count": 12,
   "id": "transparent-chain",
   "metadata": {},
   "outputs": [],
   "source": [
    "eco = [str(i).zfill(5) for i in eco['COPRO']]"
   ]
  },
  {
   "cell_type": "code",
   "execution_count": 9,
   "id": "applied-cheat",
   "metadata": {},
   "outputs": [
    {
     "data": {
      "text/plain": [
       "00003    242568\n",
       "00546      5141\n",
       "00548      4785\n",
       "07649      2724\n",
       "00940      2166\n",
       "00509      1876\n",
       "00547      1027\n",
       "00941       388\n",
       "03992       101\n",
       "00565        83\n",
       "06458        75\n",
       "Name: COPRO, dtype: int64"
      ]
     },
     "execution_count": 9,
     "metadata": {},
     "output_type": "execute_result"
    }
   ],
   "source": [
    "## ECO: 00003 | 242568 - LIVRET DEVELOPPEMENT DURABLE ET SOLIDAIRE\n",
    "## DEPOTS MONETAIRES - EPARGNE MONETAIRE LIQUIDE - LIVRETS REGLEMENTES\n",
    "ctr[ctr['COPRO'].isin(eco)]['COPRO'].value_counts()"
   ]
  },
  {
   "cell_type": "markdown",
   "id": "exact-boating",
   "metadata": {},
   "source": [
    "## Concatinate with other tables TJ39 - TJDR - TJER"
   ]
  },
  {
   "cell_type": "code",
   "execution_count": 13,
   "id": "entitled-dubai",
   "metadata": {},
   "outputs": [],
   "source": [
    "tj39 = pd.read_csv(os.getenv('DATA_PATH') + '/' + 'tj39.csv', encoding='ISO-8859-1', sep=';')\n",
    "tjdr = pd.read_csv(os.getenv('DATA_PATH') + '/' + 'tjdr.csv', encoding='ISO-8859-1', sep=';')\n",
    "tjer = pd.read_csv(os.getenv('DATA_PATH') + '/' + 'tjer.csv', encoding='ISO-8859-1', sep=';')"
   ]
  },
  {
   "cell_type": "code",
   "execution_count": 14,
   "id": "younger-ordinary",
   "metadata": {},
   "outputs": [],
   "source": [
    "tj39 = tj39[['COMAX', 'MSMENC', 'MTPATR', 'MTVAOP']]\n",
    "tjdr = tjdr[['COMAX', 'MTRVIM', 'MTRVFR', 'QTPAFI', 'COHAVI']]\n",
    "tjer = tjer[['COMAX', 'MTAPJE', 'MTCPJE', 'MTPJE']]"
   ]
  },
  {
   "cell_type": "code",
   "execution_count": 15,
   "id": "common-bernard",
   "metadata": {},
   "outputs": [],
   "source": [
    "tj39['COMAX'] = [val[:10] for val in tj39['COMAX'].values]"
   ]
  },
  {
   "cell_type": "code",
   "execution_count": 16,
   "id": "specified-paradise",
   "metadata": {},
   "outputs": [
    {
     "data": {
      "text/html": [
       "<div>\n",
       "<style scoped>\n",
       "    .dataframe tbody tr th:only-of-type {\n",
       "        vertical-align: middle;\n",
       "    }\n",
       "\n",
       "    .dataframe tbody tr th {\n",
       "        vertical-align: top;\n",
       "    }\n",
       "\n",
       "    .dataframe thead th {\n",
       "        text-align: right;\n",
       "    }\n",
       "</style>\n",
       "<table border=\"1\" class=\"dataframe\">\n",
       "  <thead>\n",
       "    <tr style=\"text-align: right;\">\n",
       "      <th></th>\n",
       "      <th>COMAX</th>\n",
       "      <th>AGE</th>\n",
       "      <th>COSEXE</th>\n",
       "      <th>CTSCPI</th>\n",
       "      <th>CESITC</th>\n",
       "      <th>DDVALE</th>\n",
       "      <th>DFVALE</th>\n",
       "      <th>COPOST</th>\n",
       "      <th>LAT</th>\n",
       "      <th>LON</th>\n",
       "    </tr>\n",
       "  </thead>\n",
       "  <tbody>\n",
       "    <tr>\n",
       "      <th>517291</th>\n",
       "      <td>1ce15b6b35</td>\n",
       "      <td>59</td>\n",
       "      <td>1</td>\n",
       "      <td>2300</td>\n",
       "      <td>1</td>\n",
       "      <td>2013-10-21</td>\n",
       "      <td>9999-01-01</td>\n",
       "      <td>66330</td>\n",
       "      <td>42.6813</td>\n",
       "      <td>2.9412</td>\n",
       "    </tr>\n",
       "  </tbody>\n",
       "</table>\n",
       "</div>"
      ],
      "text/plain": [
       "             COMAX  AGE  COSEXE  CTSCPI  CESITC      DDVALE      DFVALE  \\\n",
       "517291  1ce15b6b35   59       1    2300       1  2013-10-21  9999-01-01   \n",
       "\n",
       "        COPOST      LAT     LON  \n",
       "517291   66330  42.6813  2.9412  "
      ]
     },
     "execution_count": 16,
     "metadata": {},
     "output_type": "execute_result"
    }
   ],
   "source": [
    "# pour le cas de la table tj39, la variable COMAX elle est de 13 caracteres\n",
    "# or celle des autres tables sont de 10, donc il fallait convertir de 13 a 10\n",
    "# on prend les 10 premiers caractères du COMAX de tj39, d'apres le data engineer\n",
    "# de la PBS.\n",
    "clt[clt['COMAX'] == '1ce15b6b35']"
   ]
  },
  {
   "cell_type": "code",
   "execution_count": 17,
   "id": "global-money",
   "metadata": {},
   "outputs": [],
   "source": [
    "# This table is only good fot the moral clients only\n",
    "data = pd.merge(clt,tj39,on='COMAX',how='left')\n",
    "data = pd.merge(data,tjer,on='COMAX',how='left')\n",
    "data = pd.merge(data,tjdr,on='COMAX',how='left')"
   ]
  },
  {
   "cell_type": "code",
   "execution_count": 18,
   "id": "legitimate-beatles",
   "metadata": {},
   "outputs": [],
   "source": [
    "data = data.dropna()"
   ]
  },
  {
   "cell_type": "code",
   "execution_count": 19,
   "id": "union-bennett",
   "metadata": {},
   "outputs": [],
   "source": [
    "data = data.drop_duplicates(subset=['COMAX'])"
   ]
  },
  {
   "cell_type": "code",
   "execution_count": 20,
   "id": "finite-garlic",
   "metadata": {},
   "outputs": [
    {
     "data": {
      "text/plain": [
       "(2747, 20)"
      ]
     },
     "execution_count": 20,
     "metadata": {},
     "output_type": "execute_result"
    }
   ],
   "source": [
    "data.shape"
   ]
  },
  {
   "cell_type": "markdown",
   "id": "rotary-sucking",
   "metadata": {},
   "source": [
    "## les avec le 00003"
   ]
  },
  {
   "cell_type": "code",
   "execution_count": 21,
   "id": "brilliant-nowhere",
   "metadata": {},
   "outputs": [],
   "source": [
    "ecos = ['00003']\n",
    "ids = ctr[ctr['COPRO'].isin(ecos)]['COMAX'].values"
   ]
  },
  {
   "cell_type": "code",
   "execution_count": 22,
   "id": "forward-participant",
   "metadata": {},
   "outputs": [],
   "source": [
    "data['ECO'] = data['COMAX'].isin(ids)"
   ]
  },
  {
   "cell_type": "code",
   "execution_count": 23,
   "id": "elegant-junction",
   "metadata": {},
   "outputs": [
    {
     "data": {
      "text/html": [
       "<div>\n",
       "<style scoped>\n",
       "    .dataframe tbody tr th:only-of-type {\n",
       "        vertical-align: middle;\n",
       "    }\n",
       "\n",
       "    .dataframe tbody tr th {\n",
       "        vertical-align: top;\n",
       "    }\n",
       "\n",
       "    .dataframe thead th {\n",
       "        text-align: right;\n",
       "    }\n",
       "</style>\n",
       "<table border=\"1\" class=\"dataframe\">\n",
       "  <thead>\n",
       "    <tr style=\"text-align: right;\">\n",
       "      <th></th>\n",
       "      <th>COMAX</th>\n",
       "      <th>AGE</th>\n",
       "      <th>COSEXE</th>\n",
       "      <th>CTSCPI</th>\n",
       "      <th>CESITC</th>\n",
       "      <th>DDVALE</th>\n",
       "      <th>DFVALE</th>\n",
       "      <th>COPOST</th>\n",
       "      <th>LAT</th>\n",
       "      <th>LON</th>\n",
       "      <th>...</th>\n",
       "      <th>MTPATR</th>\n",
       "      <th>MTVAOP</th>\n",
       "      <th>MTAPJE</th>\n",
       "      <th>MTCPJE</th>\n",
       "      <th>MTPJE</th>\n",
       "      <th>MTRVIM</th>\n",
       "      <th>MTRVFR</th>\n",
       "      <th>QTPAFI</th>\n",
       "      <th>COHAVI</th>\n",
       "      <th>ECO</th>\n",
       "    </tr>\n",
       "  </thead>\n",
       "  <tbody>\n",
       "    <tr>\n",
       "      <th>167</th>\n",
       "      <td>07a5ef7d08</td>\n",
       "      <td>42</td>\n",
       "      <td>1</td>\n",
       "      <td>3400</td>\n",
       "      <td>0</td>\n",
       "      <td>2019-12-16</td>\n",
       "      <td>2020-02-20</td>\n",
       "      <td>11290</td>\n",
       "      <td>43.1802</td>\n",
       "      <td>2.1116</td>\n",
       "      <td>...</td>\n",
       "      <td>131000.0</td>\n",
       "      <td>131.0</td>\n",
       "      <td>0.0</td>\n",
       "      <td>0.0</td>\n",
       "      <td>2500.00</td>\n",
       "      <td>1.0</td>\n",
       "      <td>0.0</td>\n",
       "      <td>0.0</td>\n",
       "      <td>1.0</td>\n",
       "      <td>False</td>\n",
       "    </tr>\n",
       "    <tr>\n",
       "      <th>920</th>\n",
       "      <td>bf8d8de347</td>\n",
       "      <td>45</td>\n",
       "      <td>0</td>\n",
       "      <td>6300</td>\n",
       "      <td>0</td>\n",
       "      <td>2018-07-24</td>\n",
       "      <td>2018-08-09</td>\n",
       "      <td>66000</td>\n",
       "      <td>42.6976</td>\n",
       "      <td>2.8954</td>\n",
       "      <td>...</td>\n",
       "      <td>99000.0</td>\n",
       "      <td>99.0</td>\n",
       "      <td>0.0</td>\n",
       "      <td>0.0</td>\n",
       "      <td>0.00</td>\n",
       "      <td>0.0</td>\n",
       "      <td>29134.0</td>\n",
       "      <td>3.0</td>\n",
       "      <td>1.0</td>\n",
       "      <td>False</td>\n",
       "    </tr>\n",
       "    <tr>\n",
       "      <th>2529</th>\n",
       "      <td>76d59b11a9</td>\n",
       "      <td>60</td>\n",
       "      <td>0</td>\n",
       "      <td>1100</td>\n",
       "      <td>1</td>\n",
       "      <td>2018-11-27</td>\n",
       "      <td>9999-01-01</td>\n",
       "      <td>11220</td>\n",
       "      <td>43.0886</td>\n",
       "      <td>2.5195</td>\n",
       "      <td>...</td>\n",
       "      <td>400000.0</td>\n",
       "      <td>400.0</td>\n",
       "      <td>0.0</td>\n",
       "      <td>0.0</td>\n",
       "      <td>81832.88</td>\n",
       "      <td>0.0</td>\n",
       "      <td>0.0</td>\n",
       "      <td>0.0</td>\n",
       "      <td>1.0</td>\n",
       "      <td>True</td>\n",
       "    </tr>\n",
       "    <tr>\n",
       "      <th>2556</th>\n",
       "      <td>5115550eeb</td>\n",
       "      <td>27</td>\n",
       "      <td>1</td>\n",
       "      <td>1100</td>\n",
       "      <td>1</td>\n",
       "      <td>2020-03-13</td>\n",
       "      <td>9999-01-01</td>\n",
       "      <td>48100</td>\n",
       "      <td>44.5538</td>\n",
       "      <td>3.2914</td>\n",
       "      <td>...</td>\n",
       "      <td>0.0</td>\n",
       "      <td>0.0</td>\n",
       "      <td>0.0</td>\n",
       "      <td>0.0</td>\n",
       "      <td>6000.00</td>\n",
       "      <td>0.0</td>\n",
       "      <td>5954.0</td>\n",
       "      <td>1.0</td>\n",
       "      <td>1.0</td>\n",
       "      <td>True</td>\n",
       "    </tr>\n",
       "    <tr>\n",
       "      <th>2831</th>\n",
       "      <td>28ffeda2ef</td>\n",
       "      <td>44</td>\n",
       "      <td>1</td>\n",
       "      <td>4200</td>\n",
       "      <td>0</td>\n",
       "      <td>2016-10-25</td>\n",
       "      <td>2019-10-16</td>\n",
       "      <td>66220</td>\n",
       "      <td>42.8120</td>\n",
       "      <td>2.3750</td>\n",
       "      <td>...</td>\n",
       "      <td>0.0</td>\n",
       "      <td>0.0</td>\n",
       "      <td>0.0</td>\n",
       "      <td>0.0</td>\n",
       "      <td>0.00</td>\n",
       "      <td>0.0</td>\n",
       "      <td>23776.0</td>\n",
       "      <td>2.0</td>\n",
       "      <td>1.0</td>\n",
       "      <td>False</td>\n",
       "    </tr>\n",
       "  </tbody>\n",
       "</table>\n",
       "<p>5 rows × 21 columns</p>\n",
       "</div>"
      ],
      "text/plain": [
       "           COMAX  AGE  COSEXE  CTSCPI  CESITC      DDVALE      DFVALE  COPOST  \\\n",
       "167   07a5ef7d08   42       1    3400       0  2019-12-16  2020-02-20   11290   \n",
       "920   bf8d8de347   45       0    6300       0  2018-07-24  2018-08-09   66000   \n",
       "2529  76d59b11a9   60       0    1100       1  2018-11-27  9999-01-01   11220   \n",
       "2556  5115550eeb   27       1    1100       1  2020-03-13  9999-01-01   48100   \n",
       "2831  28ffeda2ef   44       1    4200       0  2016-10-25  2019-10-16   66220   \n",
       "\n",
       "          LAT     LON  ...    MTPATR  MTVAOP  MTAPJE  MTCPJE     MTPJE  \\\n",
       "167   43.1802  2.1116  ...  131000.0   131.0     0.0     0.0   2500.00   \n",
       "920   42.6976  2.8954  ...   99000.0    99.0     0.0     0.0      0.00   \n",
       "2529  43.0886  2.5195  ...  400000.0   400.0     0.0     0.0  81832.88   \n",
       "2556  44.5538  3.2914  ...       0.0     0.0     0.0     0.0   6000.00   \n",
       "2831  42.8120  2.3750  ...       0.0     0.0     0.0     0.0      0.00   \n",
       "\n",
       "      MTRVIM   MTRVFR  QTPAFI  COHAVI    ECO  \n",
       "167      1.0      0.0     0.0     1.0  False  \n",
       "920      0.0  29134.0     3.0     1.0  False  \n",
       "2529     0.0      0.0     0.0     1.0   True  \n",
       "2556     0.0   5954.0     1.0     1.0   True  \n",
       "2831     0.0  23776.0     2.0     1.0  False  \n",
       "\n",
       "[5 rows x 21 columns]"
      ]
     },
     "execution_count": 23,
     "metadata": {},
     "output_type": "execute_result"
    }
   ],
   "source": [
    "data.head()"
   ]
  },
  {
   "cell_type": "code",
   "execution_count": 24,
   "id": "novel-baker",
   "metadata": {},
   "outputs": [
    {
     "name": "stdout",
     "output_type": "stream",
     "text": [
      "<class 'pandas.core.frame.DataFrame'>\n",
      "Int64Index: 2747 entries, 167 to 1871382\n",
      "Data columns (total 21 columns):\n",
      " #   Column  Non-Null Count  Dtype  \n",
      "---  ------  --------------  -----  \n",
      " 0   COMAX   2747 non-null   object \n",
      " 1   AGE     2747 non-null   int64  \n",
      " 2   COSEXE  2747 non-null   int64  \n",
      " 3   CTSCPI  2747 non-null   int64  \n",
      " 4   CESITC  2747 non-null   int64  \n",
      " 5   DDVALE  2747 non-null   object \n",
      " 6   DFVALE  2747 non-null   object \n",
      " 7   COPOST  2747 non-null   int64  \n",
      " 8   LAT     2747 non-null   float64\n",
      " 9   LON     2747 non-null   float64\n",
      " 10  MSMENC  2747 non-null   float64\n",
      " 11  MTPATR  2747 non-null   float64\n",
      " 12  MTVAOP  2747 non-null   float64\n",
      " 13  MTAPJE  2747 non-null   float64\n",
      " 14  MTCPJE  2747 non-null   float64\n",
      " 15  MTPJE   2747 non-null   float64\n",
      " 16  MTRVIM  2747 non-null   float64\n",
      " 17  MTRVFR  2747 non-null   float64\n",
      " 18  QTPAFI  2747 non-null   float64\n",
      " 19  COHAVI  2747 non-null   float64\n",
      " 20  ECO     2747 non-null   bool   \n",
      "dtypes: bool(1), float64(12), int64(5), object(3)\n",
      "memory usage: 453.4+ KB\n"
     ]
    }
   ],
   "source": [
    "data.info()"
   ]
  },
  {
   "cell_type": "code",
   "execution_count": 25,
   "id": "agricultural-flexibility",
   "metadata": {},
   "outputs": [],
   "source": [
    "data['CTSCPI'] = data['CTSCPI'].astype(str)\n",
    "data['COPOST'] = data['COPOST'].astype(str)"
   ]
  },
  {
   "cell_type": "code",
   "execution_count": 32,
   "id": "worldwide-asthma",
   "metadata": {},
   "outputs": [],
   "source": [
    "cols = ['AGE', 'COSEXE', 'CTSCPI', 'LAT', 'LON', 'MSMENC', 'MTPATR',\n",
    "        'MTVAOP', 'MTAPJE', 'MTCPJE', 'MTPJE', 'MTRVIM', 'MTRVFR', 'QTPAFI', 'COHAVI']"
   ]
  },
  {
   "cell_type": "markdown",
   "id": "smart-pilot",
   "metadata": {},
   "source": [
    "## Model"
   ]
  },
  {
   "cell_type": "code",
   "execution_count": 33,
   "id": "instrumental-coating",
   "metadata": {},
   "outputs": [],
   "source": [
    "# Labels are the values we want to predict\n",
    "labels = np.array(data['ECO'])\n",
    "\n",
    "# Remove the labels from the features\n",
    "features = np.array(data[cols])\n",
    "\n",
    "# Split the data into training and testing sets\n",
    "train_features, test_features, train_labels, test_labels = train_test_split(features, labels, test_size = 0.2, random_state = 42)"
   ]
  },
  {
   "cell_type": "code",
   "execution_count": 34,
   "id": "divided-belle",
   "metadata": {},
   "outputs": [
    {
     "name": "stdout",
     "output_type": "stream",
     "text": [
      "              precision    recall  f1-score   support\n",
      "\n",
      "       False       0.46      0.22      0.30       159\n",
      "        True       0.74      0.90      0.81       391\n",
      "\n",
      "    accuracy                           0.70       550\n",
      "   macro avg       0.60      0.56      0.55       550\n",
      "weighted avg       0.66      0.70      0.66       550\n",
      "\n"
     ]
    }
   ],
   "source": [
    "# Instantiate model with 1000 decision trees\n",
    "rf = RandomForestRegressor(n_estimators = 1000, random_state = 42)\n",
    "\n",
    "# Train the model on training data\n",
    "rf.fit(train_features, train_labels)\n",
    "\n",
    "# Use the forest's predict method on the test data\n",
    "predictions = rf.predict(test_features)\n",
    "\n",
    "# Classification report\n",
    "print(classification_report(test_labels, predictions.round()))"
   ]
  },
  {
   "cell_type": "code",
   "execution_count": 32,
   "id": "animal-semiconductor",
   "metadata": {},
   "outputs": [],
   "source": [
    "from dtreeviz.trees import dtreeviz # will be used for tree visualization\n",
    "from matplotlib import pyplot as plt\n",
    "from sklearn import tree"
   ]
  },
  {
   "cell_type": "code",
   "execution_count": 51,
   "id": "determined-feelings",
   "metadata": {},
   "outputs": [
    {
     "data": {
      "image/png": "[encoded data removed]",
      "text/plain": [
       "<Figure size 432x288 with 1 Axes>"
      ]
     },
     "metadata": {
      "needs_background": "light"
     },
     "output_type": "display_data"
    }
   ],
   "source": [
    "len(rf.estimators_)\n",
    "_ = tree.plot_tree(rf.estimators_[0], feature_names=data.columns, filled=True)"
   ]
  },
  {
   "cell_type": "markdown",
   "id": "persistent-iraqi",
   "metadata": {},
   "source": [
    "### This time without deleting the nan values"
   ]
  },
  {
   "cell_type": "code",
   "execution_count": 61,
   "id": "organic-familiar",
   "metadata": {},
   "outputs": [],
   "source": [
    "# This table is only good fot the moral clients only\n",
    "data = pd.merge(clt,tj39,on='COMAX',how='left')\n",
    "data = pd.merge(data,tjer,on='COMAX',how='left')\n",
    "data = pd.merge(data,tjdr,on='COMAX',how='left')"
   ]
  },
  {
   "cell_type": "code",
   "execution_count": 62,
   "id": "muslim-transfer",
   "metadata": {},
   "outputs": [],
   "source": [
    "data = data.drop_duplicates(subset=['COMAX'])"
   ]
  },
  {
   "cell_type": "code",
   "execution_count": 64,
   "id": "hybrid-remark",
   "metadata": {},
   "outputs": [],
   "source": [
    "data.fillna(data.mean(), inplace=True)"
   ]
  },
  {
   "cell_type": "code",
   "execution_count": 65,
   "id": "worst-soviet",
   "metadata": {},
   "outputs": [
    {
     "data": {
      "text/plain": [
       "(656954, 14)"
      ]
     },
     "execution_count": 65,
     "metadata": {},
     "output_type": "execute_result"
    }
   ],
   "source": [
    "data.shape"
   ]
  },
  {
   "cell_type": "code",
   "execution_count": 67,
   "id": "durable-marine",
   "metadata": {},
   "outputs": [
    {
     "data": {
      "text/plain": [
       "0          0.000000e+00\n",
       "3          8.700000e+04\n",
       "7          3.039181e+07\n",
       "8          3.039181e+07\n",
       "9          3.039181e+07\n",
       "               ...     \n",
       "2039737    3.039181e+07\n",
       "2039738    3.039181e+07\n",
       "2039739    3.039181e+07\n",
       "2039740    3.039181e+07\n",
       "2039741    1.300000e+05\n",
       "Name: MTPATR, Length: 656954, dtype: float64"
      ]
     },
     "execution_count": 67,
     "metadata": {},
     "output_type": "execute_result"
    }
   ],
   "source": [
    "data['MTPATR']"
   ]
  },
  {
   "cell_type": "code",
   "execution_count": 68,
   "id": "flush-setup",
   "metadata": {},
   "outputs": [],
   "source": [
    "data['ECO'] = data['COMAX'].isin(ids)"
   ]
  },
  {
   "cell_type": "code",
   "execution_count": 69,
   "id": "latest-invention",
   "metadata": {},
   "outputs": [
    {
     "data": {
      "text/html": [
       "<div>\n",
       "<style scoped>\n",
       "    .dataframe tbody tr th:only-of-type {\n",
       "        vertical-align: middle;\n",
       "    }\n",
       "\n",
       "    .dataframe tbody tr th {\n",
       "        vertical-align: top;\n",
       "    }\n",
       "\n",
       "    .dataframe thead th {\n",
       "        text-align: right;\n",
       "    }\n",
       "</style>\n",
       "<table border=\"1\" class=\"dataframe\">\n",
       "  <thead>\n",
       "    <tr style=\"text-align: right;\">\n",
       "      <th></th>\n",
       "      <th>COMAX</th>\n",
       "      <th>AGE</th>\n",
       "      <th>COSEXE</th>\n",
       "      <th>CTSCPI</th>\n",
       "      <th>MSMENC</th>\n",
       "      <th>MTPATR</th>\n",
       "      <th>MTVAOP</th>\n",
       "      <th>MTAPJE</th>\n",
       "      <th>MTCPJE</th>\n",
       "      <th>MTPJE</th>\n",
       "      <th>MTRVIM</th>\n",
       "      <th>MTRVFR</th>\n",
       "      <th>QTPAFI</th>\n",
       "      <th>COHAVI</th>\n",
       "      <th>ECO</th>\n",
       "    </tr>\n",
       "  </thead>\n",
       "  <tbody>\n",
       "    <tr>\n",
       "      <th>0</th>\n",
       "      <td>6e3a2b9fa1</td>\n",
       "      <td>55</td>\n",
       "      <td>1</td>\n",
       "      <td>4600</td>\n",
       "      <td>0.0</td>\n",
       "      <td>0.0</td>\n",
       "      <td>0.0</td>\n",
       "      <td>787.452407</td>\n",
       "      <td>0.0</td>\n",
       "      <td>24581.208182</td>\n",
       "      <td>246.968502</td>\n",
       "      <td>9004.050139</td>\n",
       "      <td>0.923987</td>\n",
       "      <td>1.162566</td>\n",
       "      <td>False</td>\n",
       "    </tr>\n",
       "    <tr>\n",
       "      <th>3</th>\n",
       "      <td>1b44a67f61</td>\n",
       "      <td>41</td>\n",
       "      <td>0</td>\n",
       "      <td>4700</td>\n",
       "      <td>0.0</td>\n",
       "      <td>87000.0</td>\n",
       "      <td>87.0</td>\n",
       "      <td>787.452407</td>\n",
       "      <td>0.0</td>\n",
       "      <td>24581.208182</td>\n",
       "      <td>246.968502</td>\n",
       "      <td>9004.050139</td>\n",
       "      <td>0.923987</td>\n",
       "      <td>1.162566</td>\n",
       "      <td>False</td>\n",
       "    </tr>\n",
       "  </tbody>\n",
       "</table>\n",
       "</div>"
      ],
      "text/plain": [
       "        COMAX  AGE  COSEXE  CTSCPI  MSMENC   MTPATR  MTVAOP      MTAPJE  \\\n",
       "0  6e3a2b9fa1   55       1    4600     0.0      0.0     0.0  787.452407   \n",
       "3  1b44a67f61   41       0    4700     0.0  87000.0    87.0  787.452407   \n",
       "\n",
       "   MTCPJE         MTPJE      MTRVIM       MTRVFR    QTPAFI    COHAVI    ECO  \n",
       "0     0.0  24581.208182  246.968502  9004.050139  0.923987  1.162566  False  \n",
       "3     0.0  24581.208182  246.968502  9004.050139  0.923987  1.162566  False  "
      ]
     },
     "execution_count": 69,
     "metadata": {},
     "output_type": "execute_result"
    }
   ],
   "source": [
    "data.head(2)"
   ]
  },
  {
   "cell_type": "code",
   "execution_count": 70,
   "id": "single-transfer",
   "metadata": {},
   "outputs": [],
   "source": [
    "# Labels are the values we want to predict\n",
    "labels = np.array(data['ECO'])\n",
    "\n",
    "# Remove the labels from the features\n",
    "features = np.array(data[data.columns[1:-1]])\n",
    "\n",
    "# Split the data into training and testing sets\n",
    "train_features, test_features, train_labels, test_labels = train_test_split(features, labels, test_size = 0.2, random_state = 42)"
   ]
  },
  {
   "cell_type": "code",
   "execution_count": 71,
   "id": "chinese-translation",
   "metadata": {},
   "outputs": [
    {
     "name": "stdout",
     "output_type": "stream",
     "text": [
      "              precision    recall  f1-score   support\n",
      "\n",
      "       False       0.75      0.90      0.82     93330\n",
      "        True       0.52      0.27      0.36     38061\n",
      "\n",
      "    accuracy                           0.72    131391\n",
      "   macro avg       0.64      0.59      0.59    131391\n",
      "weighted avg       0.69      0.72      0.69    131391\n",
      "\n"
     ]
    }
   ],
   "source": [
    "# Instantiate model with 1000 decision trees\n",
    "rf = RandomForestRegressor(n_estimators = 1000, random_state = 42)\n",
    "\n",
    "# Train the model on training data\n",
    "rf.fit(train_features, train_labels)\n",
    "\n",
    "# Use the forest's predict method on the test data\n",
    "predictions = rf.predict(test_features)\n",
    "\n",
    "# Classification report\n",
    "print(classification_report(test_labels, predictions.round()))"
   ]
  },
  {
   "cell_type": "code",
   "execution_count": 40,
   "id": "formed-helmet",
   "metadata": {},
   "outputs": [
    {
     "data": {
      "text/html": [
       "<div>\n",
       "<style scoped>\n",
       "    .dataframe tbody tr th:only-of-type {\n",
       "        vertical-align: middle;\n",
       "    }\n",
       "\n",
       "    .dataframe tbody tr th {\n",
       "        vertical-align: top;\n",
       "    }\n",
       "\n",
       "    .dataframe thead th {\n",
       "        text-align: right;\n",
       "    }\n",
       "</style>\n",
       "<table border=\"1\" class=\"dataframe\">\n",
       "  <thead>\n",
       "    <tr style=\"text-align: right;\">\n",
       "      <th></th>\n",
       "      <th>COCO</th>\n",
       "      <th>COMAX</th>\n",
       "      <th>COPRO</th>\n",
       "    </tr>\n",
       "  </thead>\n",
       "  <tbody>\n",
       "    <tr>\n",
       "      <th>0</th>\n",
       "      <td>5856256c8621c</td>\n",
       "      <td>a4375be9c2</td>\n",
       "      <td>00049</td>\n",
       "    </tr>\n",
       "  </tbody>\n",
       "</table>\n",
       "</div>"
      ],
      "text/plain": [
       "            COCO       COMAX  COPRO\n",
       "0  5856256c8621c  a4375be9c2  00049"
      ]
     },
     "execution_count": 40,
     "metadata": {},
     "output_type": "execute_result"
    }
   ],
   "source": [
    "ctr[ctr['COCO'] == '5856256c8621c']"
   ]
  },
  {
   "cell_type": "code",
   "execution_count": 41,
   "id": "incomplete-ceiling",
   "metadata": {},
   "outputs": [
    {
     "data": {
      "text/html": [
       "<div>\n",
       "<style scoped>\n",
       "    .dataframe tbody tr th:only-of-type {\n",
       "        vertical-align: middle;\n",
       "    }\n",
       "\n",
       "    .dataframe tbody tr th {\n",
       "        vertical-align: top;\n",
       "    }\n",
       "\n",
       "    .dataframe thead th {\n",
       "        text-align: right;\n",
       "    }\n",
       "</style>\n",
       "<table border=\"1\" class=\"dataframe\">\n",
       "  <thead>\n",
       "    <tr style=\"text-align: right;\">\n",
       "      <th></th>\n",
       "      <th>COCO</th>\n",
       "      <th>COMAX</th>\n",
       "      <th>COPRO</th>\n",
       "    </tr>\n",
       "  </thead>\n",
       "  <tbody>\n",
       "    <tr>\n",
       "      <th>0</th>\n",
       "      <td>5856256c8621c</td>\n",
       "      <td>a4375be9c2</td>\n",
       "      <td>00049</td>\n",
       "    </tr>\n",
       "    <tr>\n",
       "      <th>555588</th>\n",
       "      <td>10494e87143d4</td>\n",
       "      <td>a4375be9c2</td>\n",
       "      <td>00100</td>\n",
       "    </tr>\n",
       "    <tr>\n",
       "      <th>1666063</th>\n",
       "      <td>3c8770b4c1ae0</td>\n",
       "      <td>a4375be9c2</td>\n",
       "      <td>00753</td>\n",
       "    </tr>\n",
       "    <tr>\n",
       "      <th>2666770</th>\n",
       "      <td>8c28fa063b811</td>\n",
       "      <td>a4375be9c2</td>\n",
       "      <td>02076</td>\n",
       "    </tr>\n",
       "    <tr>\n",
       "      <th>2666771</th>\n",
       "      <td>aed405caa9e98</td>\n",
       "      <td>a4375be9c2</td>\n",
       "      <td>02076</td>\n",
       "    </tr>\n",
       "    <tr>\n",
       "      <th>...</th>\n",
       "      <td>...</td>\n",
       "      <td>...</td>\n",
       "      <td>...</td>\n",
       "    </tr>\n",
       "    <tr>\n",
       "      <th>31374818</th>\n",
       "      <td>804d456531628</td>\n",
       "      <td>a4375be9c2</td>\n",
       "      <td>00812</td>\n",
       "    </tr>\n",
       "    <tr>\n",
       "      <th>31374819</th>\n",
       "      <td>804d456531628</td>\n",
       "      <td>a4375be9c2</td>\n",
       "      <td>00812</td>\n",
       "    </tr>\n",
       "    <tr>\n",
       "      <th>31621037</th>\n",
       "      <td>bec61514eb210</td>\n",
       "      <td>a4375be9c2</td>\n",
       "      <td>00812</td>\n",
       "    </tr>\n",
       "    <tr>\n",
       "      <th>31671405</th>\n",
       "      <td>01fb906dac232</td>\n",
       "      <td>a4375be9c2</td>\n",
       "      <td>00812</td>\n",
       "    </tr>\n",
       "    <tr>\n",
       "      <th>32032578</th>\n",
       "      <td>e9c329d8757f6</td>\n",
       "      <td>a4375be9c2</td>\n",
       "      <td>00812</td>\n",
       "    </tr>\n",
       "  </tbody>\n",
       "</table>\n",
       "<p>132 rows × 3 columns</p>\n",
       "</div>"
      ],
      "text/plain": [
       "                   COCO       COMAX  COPRO\n",
       "0         5856256c8621c  a4375be9c2  00049\n",
       "555588    10494e87143d4  a4375be9c2  00100\n",
       "1666063   3c8770b4c1ae0  a4375be9c2  00753\n",
       "2666770   8c28fa063b811  a4375be9c2  02076\n",
       "2666771   aed405caa9e98  a4375be9c2  02076\n",
       "...                 ...         ...    ...\n",
       "31374818  804d456531628  a4375be9c2  00812\n",
       "31374819  804d456531628  a4375be9c2  00812\n",
       "31621037  bec61514eb210  a4375be9c2  00812\n",
       "31671405  01fb906dac232  a4375be9c2  00812\n",
       "32032578  e9c329d8757f6  a4375be9c2  00812\n",
       "\n",
       "[132 rows x 3 columns]"
      ]
     },
     "execution_count": 41,
     "metadata": {},
     "output_type": "execute_result"
    }
   ],
   "source": [
    "ctr[ctr['COMAX'] == 'a4375be9c2']"
   ]
  },
  {
   "cell_type": "code",
   "execution_count": null,
   "id": "residential-egyptian",
   "metadata": {},
   "outputs": [],
   "source": []
  }
 ],
 "metadata": {
  "kernelspec": {
   "display_name": "Python 3",
   "language": "python",
   "name": "python3"
  },
  "language_info": {
   "codemirror_mode": {
    "name": "ipython",
    "version": 3
   },
   "file_extension": ".py",
   "mimetype": "text/x-python",
   "name": "python",
   "nbconvert_exporter": "python",
   "pygments_lexer": "ipython3",
   "version": "3.6.8"
  }
 },
 "nbformat": 4,
 "nbformat_minor": 5
}
