{
 "cells": [
  {
   "cell_type": "code",
   "execution_count": 1,
   "id": "hundred-coordinator",
   "metadata": {},
   "outputs": [],
   "source": [
    "# Load modules for data manipulation\n",
    "from dotenv import load_dotenv\n",
    "import seaborn as sns\n",
    "import matplotlib.pyplot as plt\n",
    "from subprocess import call\n",
    "import pandas as pd\n",
    "import numpy as np\n",
    "import os"
   ]
  },
  {
   "cell_type": "code",
   "execution_count": 2,
   "id": "pressed-stake",
   "metadata": {},
   "outputs": [],
   "source": [
    "# Load modules for machine learning\n",
    "# Using Skicit-learn to split data into training and testing sets\n",
    "from sklearn.model_selection import train_test_split\n",
    "\n",
    "# Import the model we are using\n",
    "from sklearn.ensemble import RandomForestRegressor\n",
    "from sklearn.neighbors import KNeighborsClassifier\n",
    "from sklearn.linear_model import LogisticRegression\n",
    "\n",
    "# Calculate the accurancy of the model\n",
    "from sklearn.metrics import accuracy_score, classification_report\n",
    "\n",
    "# For drawing the graph\n",
    "from sklearn.tree import export_graphviz"
   ]
  },
  {
   "cell_type": "code",
   "execution_count": 3,
   "id": "alike-preference",
   "metadata": {},
   "outputs": [
    {
     "data": {
      "text/plain": [
       "True"
      ]
     },
     "execution_count": 3,
     "metadata": {},
     "output_type": "execute_result"
    }
   ],
   "source": [
    "load_dotenv()"
   ]
  },
  {
   "cell_type": "code",
   "execution_count": 4,
   "id": "impressed-formula",
   "metadata": {},
   "outputs": [],
   "source": [
    "# clt = pd.read_csv(os.getenv('CLEANED_DATA_PATH') + '/' + 'TJ38.csv', encoding='ISO-8859-1', sep='\\t')\n",
    "clt = pd.read_csv(os.getenv('CLEANED_DATA_PATH') + '/' + 'TR35.csv', encoding='ISO-8859-1', sep='\\t', low_memory=False)\n",
    "ctr = pd.read_csv(os.getenv('CLEANED_DATA_PATH') + '/' + 'TJ7S.csv', encoding='ISO-8859-1', sep='\\t', usecols=['COCO', 'COMAX', 'COPRO'], low_memory=False)\n",
    "\n",
    "eco = pd.read_csv(os.getenv('CLEANED_DATA_PATH') + '/' + 'eco-products.csv', encoding='ISO-8859-1', sep='\\t')"
   ]
  },
  {
   "cell_type": "markdown",
   "id": "earlier-arabic",
   "metadata": {},
   "source": [
    "## Get the best ecological product"
   ]
  },
  {
   "cell_type": "code",
   "execution_count": 5,
   "id": "transparent-chain",
   "metadata": {},
   "outputs": [],
   "source": [
    "# Get the list of all the eco products code\n",
    "eco = [str(i).zfill(5) for i in eco['COPRO']]\n",
    "\n",
    "# Declare the list of products for each family\n",
    "# Les familles sont: CREDITS, DEPOTS MONETAIRES, PRODUITS EXTERNES COMMERCIALISES\n",
    "credit = ['568', '943', '942', '546', '547', '3992', '940', '941', '548', '6458', '509', '565']\n",
    "depot = ['7648', '7649', '7606', '3']\n",
    "comm = ['5808', '5807']\n",
    "\n",
    "# ECO: 00003 | 242568 - LIVRET DEVELOPPEMENT DURABLE ET SOLIDAIRE\n",
    "# DEPOTS MONETAIRES - EPARGNE MONETAIRE LIQUIDE - LIVRETS REGLEMENTES\n",
    "# ctr[ctr['COPRO'].isin(eco)]['COPRO'].value_counts()"
   ]
  },
  {
   "cell_type": "markdown",
   "id": "exact-boating",
   "metadata": {},
   "source": [
    "## Concatinate with other tables TJ39 - TJDR - TJER"
   ]
  },
  {
   "cell_type": "code",
   "execution_count": 6,
   "id": "entitled-dubai",
   "metadata": {},
   "outputs": [],
   "source": [
    "tj39 = pd.read_csv(os.getenv('DATA_PATH') + '/' + 'tj39.csv', encoding='ISO-8859-1', sep=';', usecols=['COMAX', 'MSMENC', 'MTPATR', 'MTVAOP'])\n",
    "tjdr = pd.read_csv(os.getenv('DATA_PATH') + '/' + 'tjdr.csv', encoding='ISO-8859-1', sep=';', usecols=['COMAX', 'MTRVIM', 'MTRVFR', 'QTPAFI', 'COHAVI'])\n",
    "tjer = pd.read_csv(os.getenv('DATA_PATH') + '/' + 'tjer.csv', encoding='ISO-8859-1', sep=';', usecols=['COMAX', 'MTAPJE', 'MTPJE'])"
   ]
  },
  {
   "cell_type": "code",
   "execution_count": 7,
   "id": "common-bernard",
   "metadata": {},
   "outputs": [],
   "source": [
    "# pour le cas de la table tj39, la variable COMAX elle est de 13 caracteres\n",
    "# or celle des autres tables sont de 10, donc il fallait convertir de 13 a 10\n",
    "# on prend les 10 premiers caractères du COMAX de tj39, d'apres le data engineer\n",
    "# de la PBS.\n",
    "tj39['COMAX'] = [val[:10] for val in tj39['COMAX'].values]"
   ]
  },
  {
   "cell_type": "code",
   "execution_count": 8,
   "id": "global-money",
   "metadata": {},
   "outputs": [],
   "source": [
    "# This table is only good fot the moral clients only\n",
    "data = pd.merge(clt,tj39,on='COMAX',how='left')\n",
    "data = pd.merge(data,tjer,on='COMAX',how='left')\n",
    "data = pd.merge(data,tjdr,on='COMAX',how='left')"
   ]
  },
  {
   "cell_type": "code",
   "execution_count": 9,
   "id": "finite-garlic",
   "metadata": {},
   "outputs": [
    {
     "data": {
      "text/plain": [
       "(1689052, 120)"
      ]
     },
     "execution_count": 9,
     "metadata": {},
     "output_type": "execute_result"
    }
   ],
   "source": [
    "data.shape"
   ]
  },
  {
   "cell_type": "code",
   "execution_count": 10,
   "id": "center-shade",
   "metadata": {},
   "outputs": [],
   "source": [
    "data = data.drop_duplicates(subset=\"COMAX\")"
   ]
  },
  {
   "cell_type": "code",
   "execution_count": 11,
   "id": "worst-asthma",
   "metadata": {},
   "outputs": [],
   "source": [
    "data['CTSCPI'] = data['CTSCPI'].astype(str)\n",
    "data['COPOST'] = data['COPOST'].astype(str)\n",
    "\n",
    "data['COPOST'].replace('nan', np.nan, inplace=True)\n",
    "data['CTSCPI'].replace('nan', np.nan, inplace=True)\n",
    "\n",
    "data.dropna(subset=['COPOST'], inplace=True)\n",
    "data.dropna(subset=['CTSCPI'], inplace=True)"
   ]
  },
  {
   "cell_type": "code",
   "execution_count": 11,
   "id": "loose-turning",
   "metadata": {},
   "outputs": [],
   "source": [
    "# replace Male with 0, et F avec 1\n",
    "data['COSEXE'].replace('M', 0, inplace=True)\n",
    "data['COSEXE'].replace('F', 1, inplace=True)"
   ]
  },
  {
   "cell_type": "code",
   "execution_count": 12,
   "id": "completed-helena",
   "metadata": {},
   "outputs": [],
   "source": [
    "# get the ids of the products\n",
    "ids = ctr[ctr['COPRO'].isin(eco)]['COMAX'].values\n",
    "data['ECO'] = data['COMAX'].isin(ids)"
   ]
  },
  {
   "cell_type": "code",
   "execution_count": 13,
   "id": "diverse-location",
   "metadata": {},
   "outputs": [],
   "source": [
    "# these values are based int but detected as object\n",
    "why = ['CTCOPO', 'CTMENB', 'CTSIFA', 'COPOAG', 'CTSC90', 'CTSC91', 'CTSC92', 'CTFORT','PSGPAR',\n",
    "'CEBPF1', 'CEBPF2', 'CEBPF3', 'CEBPF4', 'CEBPF5', 'CEBPF6', 'CEBPF7', 'CTBP']\n",
    "\n",
    "for i in why:\n",
    "    for k in [j for j in data[i].unique() if j.strip() == '']:\n",
    "         data[i].replace(k, np.nan, inplace=True)"
   ]
  },
  {
   "cell_type": "code",
   "execution_count": 14,
   "id": "nuclear-cornell",
   "metadata": {},
   "outputs": [],
   "source": [
    "to_del = {'QCBPFA', 'COPOST', 'COGRRB', 'COESPF', 'QCLDD', 'MTELDD', 'COPOAG', 'QCCONT', 'QCLIVR', 'QCLIVJ', 'QCCSL', 'QCLEP', 'MTELDD', 'MTELIJ'}\n",
    "cols = list(data.columns.values[1:-1])\n",
    "\n",
    "for i in list(to_del):\n",
    "    cols.remove(i)\n",
    "\n",
    "for l in cols:\n",
    "    try:\n",
    "        data[l] = data[l].fillna(data[l].median())\n",
    "    except:\n",
    "        cols.remove(l)\n",
    "\n",
    "for l in cols:\n",
    "    if data[l].isna().sum() != 0:\n",
    "        data[l] = data[l].fillna(data[l].median())"
   ]
  },
  {
   "cell_type": "code",
   "execution_count": 15,
   "id": "absolute-equilibrium",
   "metadata": {},
   "outputs": [
    {
     "data": {
      "text/plain": [
       "'for i in cols:\\n    print(i, data[i].isna().sum())'"
      ]
     },
     "execution_count": 15,
     "metadata": {},
     "output_type": "execute_result"
    }
   ],
   "source": [
    "'''for i in cols:\n",
    "    print(i, data[i].isna().sum())'''\n",
    "# data['CTMENB'] = data[''].fillna(data[''].median())"
   ]
  },
  {
   "cell_type": "code",
   "execution_count": 16,
   "id": "reserved-associate",
   "metadata": {},
   "outputs": [
    {
     "data": {
      "text/plain": [
       "103"
      ]
     },
     "execution_count": 16,
     "metadata": {},
     "output_type": "execute_result"
    }
   ],
   "source": [
    "len(cols)"
   ]
  },
  {
   "cell_type": "code",
   "execution_count": 25,
   "id": "binary-chorus",
   "metadata": {},
   "outputs": [
    {
     "name": "stdout",
     "output_type": "stream",
     "text": [
      "Stored 'data' (DataFrame)\n",
      "Stored 'cols' (list)\n",
      "Stored 'eco' (list)\n"
     ]
    }
   ],
   "source": [
    "%store data\n",
    "%store cols\n",
    "%store eco"
   ]
  },
  {
   "cell_type": "code",
   "execution_count": 18,
   "id": "forward-participant",
   "metadata": {},
   "outputs": [],
   "source": [
    "def random_forest(data, ecos, cols):   \n",
    "    ''' The Model'''\n",
    "    \n",
    "    # Labels are the values we want to predict\n",
    "    labels = np.array(data['ECO'])\n",
    "\n",
    "    # Remove the labels from the features\n",
    "    features = np.array(data[cols])\n",
    "\n",
    "    # Split the data into training and testing sets\n",
    "    train_features, test_features, train_labels, test_labels = train_test_split(features, labels, test_size = 0.2)\n",
    "\n",
    "    # Instantiate model with 1000 decision trees\n",
    "    rf = RandomForestRegressor(n_estimators = 300)\n",
    "\n",
    "    # Train the model on training data\n",
    "    rf.fit(train_features, train_labels)\n",
    "\n",
    "    # Use the forest's predict method on the test data\n",
    "    predictions = rf.predict(test_features)\n",
    "\n",
    "    # Classification report\n",
    "    print(classification_report(test_labels, predictions.round()))    "
   ]
  },
  {
   "cell_type": "code",
   "execution_count": 19,
   "id": "organic-hometown",
   "metadata": {},
   "outputs": [],
   "source": [
    "def knn(data, ecos, cols):\n",
    "    ''' The Model'''\n",
    "    \n",
    "    # Labels are the values we want to predict\n",
    "    labels = np.array(data['ECO'])\n",
    "\n",
    "    # Remove the labels from the features\n",
    "    features = np.array(data[cols])\n",
    "\n",
    "    # Split the data into training and testing sets, random_state = 42\n",
    "    train_features, test_features, train_labels, test_labels = train_test_split(features, labels, test_size = 0.2, random_state=42)\n",
    "\n",
    "    # Instantiate model with 1000 decision trees\n",
    "    model = KNeighborsClassifier(n_neighbors=3)\n",
    "    \n",
    "    # Train the model on training data\n",
    "    model.fit(train_features, train_labels)\n",
    "    \n",
    "    # Use the forest's predict method on the test data\n",
    "    predictions = model.predict(test_features)\n",
    "\n",
    "    # Classification report\n",
    "    print(classification_report(test_labels, predictions.round()))"
   ]
  },
  {
   "cell_type": "code",
   "execution_count": 20,
   "id": "proper-extraction",
   "metadata": {},
   "outputs": [],
   "source": [
    "def log_reg(data, ecos, cols):\n",
    "    ''' The Model'''\n",
    "    \n",
    "    # Labels are the values we want to predict\n",
    "    labels = np.array(data['ECO'])\n",
    "\n",
    "    # Remove the labels from the features\n",
    "    features = np.array(data[cols])\n",
    "\n",
    "    # Split the data into training and testing sets\n",
    "    train_features, test_features, train_labels, test_labels = train_test_split(features, labels, test_size = 0.2, random_state=42)\n",
    "\n",
    "    # Instantiate model with 1000 decision trees\n",
    "    logisticRegr = LogisticRegression()\n",
    "    \n",
    "    # Train the model on training data\n",
    "    logisticRegr.fit(train_features, train_labels)\n",
    "    \n",
    "    # Use the forest's predict method on the test data\n",
    "    predictions = logisticRegr.predict(test_features)\n",
    "\n",
    "    # Classification report\n",
    "    print(classification_report(test_labels, predictions.round()))"
   ]
  },
  {
   "cell_type": "code",
   "execution_count": 21,
   "id": "electrical-webster",
   "metadata": {},
   "outputs": [],
   "source": [
    "''' The Model'''\n",
    "\n",
    "# Labels are the values we want to predict\n",
    "labels = np.array(data['ECO'])\n",
    "\n",
    "# Remove the labels from the features\n",
    "features = np.array(data[cols])\n",
    "\n",
    "# Split the data into training and testing sets\n",
    "train_features, test_features, train_labels, test_labels = train_test_split(features, labels, test_size = 0.2)"
   ]
  },
  {
   "cell_type": "code",
   "execution_count": 86,
   "id": "adverse-brave",
   "metadata": {},
   "outputs": [
    {
     "name": "stdout",
     "output_type": "stream",
     "text": [
      "2347.960119009018\n",
      "11.459137678146362\n",
      "              precision    recall  f1-score   support\n",
      "\n",
      "       False       0.88      0.91      0.90     69134\n",
      "        True       0.79      0.74      0.76     32145\n",
      "\n",
      "    accuracy                           0.86    101279\n",
      "   macro avg       0.84      0.82      0.83    101279\n",
      "weighted avg       0.85      0.86      0.85    101279\n",
      "\n"
     ]
    }
   ],
   "source": [
    "# Instantiate model with 300 decision trees\n",
    "rf = RandomForestRegressor(n_estimators = 300)\n",
    "\n",
    "st = time.time()\n",
    "\n",
    "# Train the model on training data\n",
    "rf.fit(train_features, train_labels)\n",
    "\n",
    "fn = time.time()\n",
    "print(fn - st)\n",
    "\n",
    "# Use the forest's predict method on the test data\n",
    "predictions = rf.predict(test_features)\n",
    "\n",
    "print(time.time() - fn)\n",
    "\n",
    "# Classification report\n",
    "print(classification_report(test_labels, predictions.round()))"
   ]
  },
  {
   "cell_type": "code",
   "execution_count": 88,
   "id": "conscious-substitute",
   "metadata": {},
   "outputs": [
    {
     "name": "stdout",
     "output_type": "stream",
     "text": [
      "CREDITS\n",
      "              precision    recall  f1-score   support\n",
      "\n",
      "       False       0.88      0.91      0.90     69279\n",
      "        True       0.79      0.74      0.77     32000\n",
      "\n",
      "    accuracy                           0.86    101279\n",
      "   macro avg       0.84      0.83      0.83    101279\n",
      "weighted avg       0.85      0.86      0.86    101279\n",
      "\n",
      "DEPOTS MONETAIRES\n",
      "              precision    recall  f1-score   support\n",
      "\n",
      "       False       0.88      0.91      0.90     69200\n",
      "        True       0.79      0.74      0.77     32079\n",
      "\n",
      "    accuracy                           0.86    101279\n",
      "   macro avg       0.84      0.83      0.83    101279\n",
      "weighted avg       0.85      0.86      0.86    101279\n",
      "\n",
      "PRODUITS EXTERNES COMMERCIALISES\n",
      "              precision    recall  f1-score   support\n",
      "\n",
      "       False       0.88      0.91      0.90     69007\n",
      "        True       0.79      0.74      0.77     32272\n",
      "\n",
      "    accuracy                           0.86    101279\n",
      "   macro avg       0.84      0.82      0.83    101279\n",
      "weighted avg       0.85      0.86      0.85    101279\n",
      "\n"
     ]
    }
   ],
   "source": [
    "# CREDITS\n",
    "print('CREDITS')\n",
    "random_forest(data, credit, cols)\n",
    "\n",
    "# DEPOTS MONETAIRES\n",
    "print('DEPOTS MONETAIRES')\n",
    "random_forest(data, depot, cols)\n",
    "\n",
    "# PRODUITS EXTERNES COMMERCIALISES\n",
    "print('PRODUITS EXTERNES COMMERCIALISES')\n",
    "random_forest(data, comm, cols)"
   ]
  },
  {
   "cell_type": "markdown",
   "id": "stupid-region",
   "metadata": {},
   "source": [
    "# - - - - - - - -- - - - - - - - - - - - - - - - -- - - - - - "
   ]
  },
  {
   "cell_type": "code",
   "execution_count": 77,
   "id": "charming-variety",
   "metadata": {},
   "outputs": [],
   "source": [
    "def plot_feature_importance(importance,names,model_type):\n",
    "    #Create arrays from feature importance and feature name logistic regressions\n",
    "    feature_importance = np.array(importance)\n",
    "    feature_names = np.array(names)\n",
    "\n",
    "    #Create a DataFrame using a Dictionary\n",
    "    data={'feature_names':feature_names,'feature_importance':feature_importance}\n",
    "    fi_df = pd.DataFrame(data)\n",
    "\n",
    "    #Sort the DataFrame in order decreasing feature importance\n",
    "    fi_df.sort_values(by=['feature_importance'], ascending=False,inplace=True)\n",
    "\n",
    "    #Define size of bar plot\n",
    "    plt.figure(figsize=(10,8))\n",
    "    #Plot Searborn bar chart\n",
    "    sns.barplot(x=fi_df['feature_importance'], y=fi_df['feature_names'])\n",
    "    #Add chart labels\n",
    "    plt.title(model_type + '-FEATURE IMPORTANCE')\n",
    "    plt.xlabel('FEATURE IMPORTANCE')\n",
    "    plt.ylabel('FEATURE NAMES')\n",
    "    \n",
    "    plt.savefig('{}.svg'.format(model_type))"
   ]
  },
  {
   "cell_type": "code",
   "execution_count": null,
   "id": "still-christianity",
   "metadata": {},
   "outputs": [],
   "source": [
    "plot_feature_importance(rf.feature_importances_[:30],cols[:30],'Random-Forest')"
   ]
  },
  {
   "cell_type": "code",
   "execution_count": null,
   "id": "consecutive-jerusalem",
   "metadata": {},
   "outputs": [],
   "source": [
    "for lol in sorted(zip(cols, rf.feature_importances_), key=lambda x: x[1], reverse=True):\n",
    "    print(lol)"
   ]
  },
  {
   "cell_type": "code",
   "execution_count": 22,
   "id": "fuzzy-spread",
   "metadata": {},
   "outputs": [],
   "source": [
    "matrix = data.corr().values"
   ]
  },
  {
   "cell_type": "code",
   "execution_count": null,
   "id": "hearing-knight",
   "metadata": {},
   "outputs": [],
   "source": [
    "for i in range(len(cols) - 1):\n",
    "    for j in range(i+1, len(cols)):\n",
    "        print('{} -- {}:: {}'.format(cols[i], cols[j], matrix[i][j]*100))"
   ]
  },
  {
   "cell_type": "code",
   "execution_count": 35,
   "id": "seeing-proposal",
   "metadata": {},
   "outputs": [
    {
     "name": "stdout",
     "output_type": "stream",
     "text": [
      "ECO    COSEXE\n",
      "False  1         179900\n",
      "       0         174767\n",
      "True   1          85488\n",
      "       0          76045\n",
      "Name: COSEXE, dtype: int64\n",
      "\n",
      "\n",
      "ECO    COSEXE\n",
      "False  1         0.507236\n",
      "       0         0.492764\n",
      "True   1         0.529229\n",
      "       0         0.470771\n",
      "Name: COSEXE, dtype: float64\n"
     ]
    }
   ],
   "source": [
    "print(data.groupby('ECO')['COSEXE'].value_counts())\n",
    "print('\\n')\n",
    "print(data.groupby('ECO')['COSEXE'].value_counts(normalize=True))"
   ]
  },
  {
   "cell_type": "code",
   "execution_count": 56,
   "id": "settled-spending",
   "metadata": {},
   "outputs": [],
   "source": [
    "# 'QTAGCL'\n",
    "# lol = ['COSEXE', 'QTAGCL', 'CTSCPI']\n",
    "def f(col, bins=None):\n",
    "    print(data.groupby('ECO')[col].value_counts(bins=bins))\n",
    "    print('\\n')\n",
    "    print(data.groupby('ECO')[col].value_counts(normalize=True, bins=bins))"
   ]
  },
  {
   "cell_type": "code",
   "execution_count": 57,
   "id": "united-league",
   "metadata": {},
   "outputs": [
    {
     "name": "stdout",
     "output_type": "stream",
     "text": [
      "ECO    COSEXE\n",
      "False  1         179900\n",
      "       0         174767\n",
      "True   1          85488\n",
      "       0          76045\n",
      "Name: COSEXE, dtype: int64\n",
      "\n",
      "\n",
      "ECO    COSEXE\n",
      "False  1         0.507236\n",
      "       0         0.492764\n",
      "True   1         0.529229\n",
      "       0         0.470771\n",
      "Name: COSEXE, dtype: float64\n"
     ]
    }
   ],
   "source": [
    "f('COSEXE')"
   ]
  },
  {
   "cell_type": "code",
   "execution_count": 58,
   "id": "protective-special",
   "metadata": {},
   "outputs": [
    {
     "name": "stdout",
     "output_type": "stream",
     "text": [
      "ECO                 \n",
      "False  (-0.11, 21.8]    121935\n",
      "       (21.8, 43.6]      99298\n",
      "       (43.6, 65.4]      84965\n",
      "       (65.4, 87.2]      43453\n",
      "       (87.2, 109.0]      5016\n",
      "True   (43.8, 65.2]      67922\n",
      "       (22.4, 43.8]      43919\n",
      "       (65.2, 86.6]      41604\n",
      "       (86.6, 108.0]      4508\n",
      "       (0.892, 22.4]      3580\n",
      "Name: QTAGCL, dtype: int64\n",
      "\n",
      "\n",
      "ECO                 \n",
      "False  (-0.11, 21.8]    0.343801\n",
      "       (21.8, 43.6]     0.279975\n",
      "       (43.6, 65.4]     0.239563\n",
      "       (65.4, 87.2]     0.122518\n",
      "       (87.2, 109.0]    0.014143\n",
      "True   (43.8, 65.2]     0.420484\n",
      "       (22.4, 43.8]     0.271889\n",
      "       (65.2, 86.6]     0.257557\n",
      "       (86.6, 108.0]    0.027908\n",
      "       (0.892, 22.4]    0.022163\n",
      "Name: QTAGCL, dtype: float64\n"
     ]
    }
   ],
   "source": [
    "f('QTAGCL', 5)"
   ]
  },
  {
   "cell_type": "code",
   "execution_count": 59,
   "id": "electoral-transportation",
   "metadata": {},
   "outputs": [
    {
     "name": "stdout",
     "output_type": "stream",
     "text": [
      "ECO    CTSCPI\n",
      "False  8400.0    105406\n",
      "       8500.0     41821\n",
      "       7600.0     25360\n",
      "       5400.0     16953\n",
      "       5200.0     16100\n",
      "                  ...  \n",
      "True   4400.0        17\n",
      "       0.0            8\n",
      "       8300.0         5\n",
      "       6100.0         1\n",
      "       8200.0         1\n",
      "Name: CTSCPI, Length: 101, dtype: int64\n",
      "\n",
      "\n",
      "ECO    CTSCPI\n",
      "False  8400.0    0.297197\n",
      "       8500.0    0.117916\n",
      "       7600.0    0.071504\n",
      "       5400.0    0.047800\n",
      "       5200.0    0.045395\n",
      "                   ...   \n",
      "True   4400.0    0.000105\n",
      "       0.0       0.000050\n",
      "       8300.0    0.000031\n",
      "       6100.0    0.000006\n",
      "       8200.0    0.000006\n",
      "Name: CTSCPI, Length: 101, dtype: float64\n"
     ]
    }
   ],
   "source": [
    "f('CTSCPI')"
   ]
  },
  {
   "cell_type": "code",
   "execution_count": 61,
   "id": "raised-tsunami",
   "metadata": {},
   "outputs": [
    {
     "name": "stdout",
     "output_type": "stream",
     "text": [
      "ECO    ECO  \n",
      "False  False    354667\n",
      "True   True     161533\n",
      "Name: ECO, dtype: int64\n",
      "\n",
      "\n",
      "ECO    ECO  \n",
      "False  False    1.0\n",
      "True   True     1.0\n",
      "Name: ECO, dtype: float64\n"
     ]
    }
   ],
   "source": [
    "f('ECO')"
   ]
  },
  {
   "cell_type": "code",
   "execution_count": 63,
   "id": "toxic-niagara",
   "metadata": {},
   "outputs": [
    {
     "name": "stdout",
     "output_type": "stream",
     "text": [
      "False    354667\n",
      "True     161533\n",
      "Name: ECO, dtype: int64\n",
      "\n",
      "\n",
      "False    0.687073\n",
      "True     0.312927\n",
      "Name: ECO, dtype: float64\n"
     ]
    }
   ],
   "source": [
    "print(data['ECO'].value_counts())\n",
    "print('\\n')\n",
    "print(data['ECO'].value_counts(normalize=True))"
   ]
  },
  {
   "cell_type": "code",
   "execution_count": null,
   "id": "certain-trademark",
   "metadata": {},
   "outputs": [],
   "source": []
  }
 ],
 "metadata": {
  "kernelspec": {
   "display_name": "Python 3",
   "language": "python",
   "name": "python3"
  },
  "language_info": {
   "codemirror_mode": {
    "name": "ipython",
    "version": 3
   },
   "file_extension": ".py",
   "mimetype": "text/x-python",
   "name": "python",
   "nbconvert_exporter": "python",
   "pygments_lexer": "ipython3",
   "version": "3.6.8"
  }
 },
 "nbformat": 4,
 "nbformat_minor": 5
}
