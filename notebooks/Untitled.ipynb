{
 "cells": [
  {
   "cell_type": "code",
   "execution_count": 1,
   "id": "hundred-coordinator",
   "metadata": {},
   "outputs": [],
   "source": [
    "from dotenv import load_dotenv\n",
    "import pandas as pd\n",
    "import numpy as np\n",
    "import os"
   ]
  },
  {
   "cell_type": "code",
   "execution_count": 44,
   "id": "alike-preference",
   "metadata": {},
   "outputs": [
    {
     "data": {
      "text/plain": [
       "True"
      ]
     },
     "execution_count": 44,
     "metadata": {},
     "output_type": "execute_result"
    }
   ],
   "source": [
    "load_dotenv()"
   ]
  },
  {
   "cell_type": "code",
   "execution_count": 10,
   "id": "impressed-formula",
   "metadata": {},
   "outputs": [],
   "source": [
    "eco = pd.read_csv(os.getenv('CLEANED_DATA_PATH') + '/' + 'eco-products.csv', encoding='ISO-8859-1', sep='\\t')\n",
    "clt = pd.read_csv(os.getenv('CLEANED_DATA_PATH') + '/' + 'TJ38.csv', encoding='ISO-8859-1', sep='\\t')\n",
    "ctr = pd.read_csv(os.getenv('CLEANED_DATA_PATH') + '/' + 'TJ7S.csv', encoding='ISO-8859-1', sep='\\t', low_memory=False)"
   ]
  },
  {
   "cell_type": "markdown",
   "id": "anticipated-sheriff",
   "metadata": {},
   "source": [
    "## Get only the physical clients"
   ]
  },
  {
   "cell_type": "code",
   "execution_count": 11,
   "id": "substantial-space",
   "metadata": {},
   "outputs": [],
   "source": [
    "# theses are the only columns that matters\n",
    "ctr = ctr[['COCO', 'COMAX', 'COPRO' ]]"
   ]
  },
  {
   "cell_type": "code",
   "execution_count": 12,
   "id": "weekly-catch",
   "metadata": {},
   "outputs": [],
   "source": [
    "ctr = ctr[ctr['COMAX'].isin(clt['COMAX'])]"
   ]
  },
  {
   "cell_type": "code",
   "execution_count": 13,
   "id": "hourly-institute",
   "metadata": {},
   "outputs": [
    {
     "data": {
      "text/plain": [
       "(32773662, 3)"
      ]
     },
     "execution_count": 13,
     "metadata": {},
     "output_type": "execute_result"
    }
   ],
   "source": [
    "ctr.shape"
   ]
  },
  {
   "cell_type": "markdown",
   "id": "earlier-arabic",
   "metadata": {},
   "source": [
    "## Get the best ecological product"
   ]
  },
  {
   "cell_type": "code",
   "execution_count": 33,
   "id": "transparent-chain",
   "metadata": {},
   "outputs": [],
   "source": [
    "eco = [str(i).zfill(5) for i in eco['COPRO']]"
   ]
  },
  {
   "cell_type": "code",
   "execution_count": 37,
   "id": "applied-cheat",
   "metadata": {},
   "outputs": [
    {
     "data": {
      "text/plain": [
       "00003    242568\n",
       "00546      5141\n",
       "00548      4785\n",
       "07649      2724\n",
       "00940      2166\n",
       "00509      1876\n",
       "00547      1027\n",
       "00941       388\n",
       "03992       101\n",
       "00565        83\n",
       "06458        75\n",
       "Name: COPRO, dtype: int64"
      ]
     },
     "execution_count": 37,
     "metadata": {},
     "output_type": "execute_result"
    }
   ],
   "source": [
    "## ECO: 00003 | 242568 - LIVRET DEVELOPPEMENT DURABLE ET SOLIDAIRE\n",
    "## DEPOTS MONETAIRES - EPARGNE MONETAIRE LIQUIDE - LIVRETS REGLEMENTES\n",
    "ctr[ctr['COPRO'].isin(eco)]['COPRO'].value_counts()"
   ]
  },
  {
   "cell_type": "markdown",
   "id": "exact-boating",
   "metadata": {},
   "source": [
    "## Concatinate with other tables TJ39 - TJDR - TJER"
   ]
  },
  {
   "cell_type": "code",
   "execution_count": 46,
   "id": "entitled-dubai",
   "metadata": {},
   "outputs": [],
   "source": [
    "tj39 = pd.read_csv(os.getenv('DATA_PATH') + '/' + 'tj39.csv', encoding='ISO-8859-1', sep=';')\n",
    "tjdr = pd.read_csv(os.getenv('DATA_PATH') + '/' + 'tjdr.csv', encoding='ISO-8859-1', sep=';')\n",
    "tjer = pd.read_csv(os.getenv('DATA_PATH') + '/' + 'tjer.csv', encoding='ISO-8859-1', sep=';')"
   ]
  },
  {
   "cell_type": "code",
   "execution_count": 53,
   "id": "younger-ordinary",
   "metadata": {},
   "outputs": [],
   "source": [
    "tj39 = tj39[['COMAX', 'MSMENC', 'MTPATR', 'MTVAOP']]\n",
    "tjdr = tjdr[['COMAX', 'MTRVIM', 'MTRVFR', 'QTPAFI', 'COHAVI']]\n",
    "tjer = tjer[['COMAX', 'MTAPJE', 'MTCPJE', 'MTPJE']]"
   ]
  },
  {
   "cell_type": "code",
   "execution_count": 66,
   "id": "global-money",
   "metadata": {},
   "outputs": [],
   "source": [
    "# This table is only good fot the moral clients only\n",
    "# data = pd.merge(clt,tj39,on='COMAX',how='left')\n",
    "data = pd.merge(clt,tjer,on='COMAX',how='left')\n",
    "data = pd.merge(data,tjdr,on='COMAX',how='left')"
   ]
  },
  {
   "cell_type": "code",
   "execution_count": 69,
   "id": "legitimate-beatles",
   "metadata": {},
   "outputs": [],
   "source": [
    "data = data.dropna()"
   ]
  },
  {
   "cell_type": "code",
   "execution_count": 78,
   "id": "union-bennett",
   "metadata": {},
   "outputs": [],
   "source": [
    "data = data.drop_duplicates(subset=['COMAX'])"
   ]
  },
  {
   "cell_type": "code",
   "execution_count": 79,
   "id": "finite-garlic",
   "metadata": {},
   "outputs": [
    {
     "data": {
      "text/plain": [
       "(6372, 12)"
      ]
     },
     "execution_count": 79,
     "metadata": {},
     "output_type": "execute_result"
    }
   ],
   "source": [
    "data.shape"
   ]
  },
  {
   "cell_type": "markdown",
   "id": "rotary-sucking",
   "metadata": {},
   "source": [
    "## les avec le 00003"
   ]
  },
  {
   "cell_type": "code",
   "execution_count": 80,
   "id": "brilliant-nowhere",
   "metadata": {},
   "outputs": [],
   "source": [
    "ids = ctr[ctr['COPRO'] == '00003']['COMAX'].values"
   ]
  },
  {
   "cell_type": "code",
   "execution_count": 83,
   "id": "forward-participant",
   "metadata": {},
   "outputs": [],
   "source": [
    "data['ECO'] = data['COMAX'].isin(ids)"
   ]
  },
  {
   "cell_type": "code",
   "execution_count": 84,
   "id": "elegant-junction",
   "metadata": {},
   "outputs": [
    {
     "data": {
      "text/html": [
       "<div>\n",
       "<style scoped>\n",
       "    .dataframe tbody tr th:only-of-type {\n",
       "        vertical-align: middle;\n",
       "    }\n",
       "\n",
       "    .dataframe tbody tr th {\n",
       "        vertical-align: top;\n",
       "    }\n",
       "\n",
       "    .dataframe thead th {\n",
       "        text-align: right;\n",
       "    }\n",
       "</style>\n",
       "<table border=\"1\" class=\"dataframe\">\n",
       "  <thead>\n",
       "    <tr style=\"text-align: right;\">\n",
       "      <th></th>\n",
       "      <th>COMAX</th>\n",
       "      <th>AGE</th>\n",
       "      <th>COSEXE</th>\n",
       "      <th>CTSCPI</th>\n",
       "      <th>MTAPJE</th>\n",
       "      <th>MTCPJE</th>\n",
       "      <th>MTPJE</th>\n",
       "      <th>MTRVIM</th>\n",
       "      <th>MTRVFR</th>\n",
       "      <th>QTPAFI</th>\n",
       "      <th>COHAVI</th>\n",
       "      <th>ECO</th>\n",
       "    </tr>\n",
       "  </thead>\n",
       "  <tbody>\n",
       "    <tr>\n",
       "      <th>67</th>\n",
       "      <td>07a5ef7d08</td>\n",
       "      <td>42</td>\n",
       "      <td>1</td>\n",
       "      <td>3400</td>\n",
       "      <td>0.0</td>\n",
       "      <td>0.0</td>\n",
       "      <td>2500.0</td>\n",
       "      <td>1.0</td>\n",
       "      <td>0.0</td>\n",
       "      <td>0.0</td>\n",
       "      <td>1.0</td>\n",
       "      <td>False</td>\n",
       "    </tr>\n",
       "    <tr>\n",
       "      <th>404</th>\n",
       "      <td>bf8d8de347</td>\n",
       "      <td>45</td>\n",
       "      <td>0</td>\n",
       "      <td>6300</td>\n",
       "      <td>0.0</td>\n",
       "      <td>0.0</td>\n",
       "      <td>0.0</td>\n",
       "      <td>0.0</td>\n",
       "      <td>29134.0</td>\n",
       "      <td>3.0</td>\n",
       "      <td>1.0</td>\n",
       "      <td>False</td>\n",
       "    </tr>\n",
       "    <tr>\n",
       "      <th>892</th>\n",
       "      <td>0ba988ba1b</td>\n",
       "      <td>65</td>\n",
       "      <td>1</td>\n",
       "      <td>7600</td>\n",
       "      <td>0.0</td>\n",
       "      <td>0.0</td>\n",
       "      <td>0.0</td>\n",
       "      <td>0.0</td>\n",
       "      <td>22950.0</td>\n",
       "      <td>2.0</td>\n",
       "      <td>1.0</td>\n",
       "      <td>True</td>\n",
       "    </tr>\n",
       "    <tr>\n",
       "      <th>922</th>\n",
       "      <td>0faa41d303</td>\n",
       "      <td>73</td>\n",
       "      <td>1</td>\n",
       "      <td>8600</td>\n",
       "      <td>0.0</td>\n",
       "      <td>0.0</td>\n",
       "      <td>1600.0</td>\n",
       "      <td>1.0</td>\n",
       "      <td>0.0</td>\n",
       "      <td>0.0</td>\n",
       "      <td>1.0</td>\n",
       "      <td>True</td>\n",
       "    </tr>\n",
       "    <tr>\n",
       "      <th>1019</th>\n",
       "      <td>ba1161e851</td>\n",
       "      <td>57</td>\n",
       "      <td>1</td>\n",
       "      <td>5400</td>\n",
       "      <td>0.0</td>\n",
       "      <td>0.0</td>\n",
       "      <td>0.0</td>\n",
       "      <td>57.0</td>\n",
       "      <td>0.0</td>\n",
       "      <td>0.0</td>\n",
       "      <td>1.0</td>\n",
       "      <td>True</td>\n",
       "    </tr>\n",
       "  </tbody>\n",
       "</table>\n",
       "</div>"
      ],
      "text/plain": [
       "           COMAX  AGE  COSEXE  CTSCPI  MTAPJE  MTCPJE   MTPJE  MTRVIM  \\\n",
       "67    07a5ef7d08   42       1    3400     0.0     0.0  2500.0     1.0   \n",
       "404   bf8d8de347   45       0    6300     0.0     0.0     0.0     0.0   \n",
       "892   0ba988ba1b   65       1    7600     0.0     0.0     0.0     0.0   \n",
       "922   0faa41d303   73       1    8600     0.0     0.0  1600.0     1.0   \n",
       "1019  ba1161e851   57       1    5400     0.0     0.0     0.0    57.0   \n",
       "\n",
       "       MTRVFR  QTPAFI  COHAVI    ECO  \n",
       "67        0.0     0.0     1.0  False  \n",
       "404   29134.0     3.0     1.0  False  \n",
       "892   22950.0     2.0     1.0   True  \n",
       "922       0.0     0.0     1.0   True  \n",
       "1019      0.0     0.0     1.0   True  "
      ]
     },
     "execution_count": 84,
     "metadata": {},
     "output_type": "execute_result"
    }
   ],
   "source": [
    "data.head()"
   ]
  },
  {
   "cell_type": "markdown",
   "id": "smart-pilot",
   "metadata": {},
   "source": [
    "## Model"
   ]
  },
  {
   "cell_type": "code",
   "execution_count": 88,
   "id": "instrumental-coating",
   "metadata": {},
   "outputs": [],
   "source": [
    "# Labels are the values we want to predict\n",
    "labels = np.array(data['ECO'])"
   ]
  },
  {
   "cell_type": "code",
   "execution_count": 90,
   "id": "proved-allen",
   "metadata": {},
   "outputs": [],
   "source": [
    "# Remove the labels from the features\n",
    "features = np.array(data[data.columns[1:-1]])"
   ]
  },
  {
   "cell_type": "code",
   "execution_count": 91,
   "id": "initial-screening",
   "metadata": {},
   "outputs": [],
   "source": [
    "# Using Skicit-learn to split data into training and testing sets\n",
    "from sklearn.model_selection import train_test_split"
   ]
  },
  {
   "cell_type": "code",
   "execution_count": 92,
   "id": "purple-library",
   "metadata": {},
   "outputs": [],
   "source": [
    "# Split the data into training and testing sets\n",
    "train_features, test_features, train_labels, test_labels = train_test_split(features, labels, test_size = 0.2, random_state = 42)"
   ]
  },
  {
   "cell_type": "code",
   "execution_count": 102,
   "id": "regional-miami",
   "metadata": {},
   "outputs": [],
   "source": [
    "# Import the model we are using\n",
    "from sklearn.ensemble import RandomForestRegressor\n",
    "from sklearn.metrics import accuracy_score"
   ]
  },
  {
   "cell_type": "code",
   "execution_count": 94,
   "id": "divided-belle",
   "metadata": {},
   "outputs": [],
   "source": [
    "# Instantiate model with 1000 decision trees\n",
    "rf = RandomForestRegressor(n_estimators = 1000, random_state = 42)\n",
    "\n",
    "# Train the model on training data\n",
    "rf.fit(train_features, train_labels);"
   ]
  },
  {
   "cell_type": "code",
   "execution_count": 113,
   "id": "wicked-reality",
   "metadata": {},
   "outputs": [
    {
     "name": "stdout",
     "output_type": "stream",
     "text": [
      "0.6180392156862745\n"
     ]
    }
   ],
   "source": [
    "# Use the forest's predict method on the test data\n",
    "predictions = rf.predict(test_features)\n",
    "\n",
    "# Calculate the accurancy score\n",
    "print(accuracy_score(test_labels, predictions.round()))"
   ]
  }
 ],
 "metadata": {
  "kernelspec": {
   "display_name": "Python 3",
   "language": "python",
   "name": "python3"
  },
  "language_info": {
   "codemirror_mode": {
    "name": "ipython",
    "version": 3
   },
   "file_extension": ".py",
   "mimetype": "text/x-python",
   "name": "python",
   "nbconvert_exporter": "python",
   "pygments_lexer": "ipython3",
   "version": "3.6.8"
  }
 },
 "nbformat": 4,
 "nbformat_minor": 5
}
