{
 "cells": [
  {
   "cell_type": "code",
   "execution_count": 34,
   "id": "hundred-coordinator",
   "metadata": {},
   "outputs": [],
   "source": [
    "# Load modules for data manipulation\n",
    "from dotenv import load_dotenv\n",
    "import seaborn as sns\n",
    "import matplotlib.pyplot as plt\n",
    "from subprocess import call\n",
    "import pandas as pd\n",
    "import numpy as np\n",
    "import os\n",
    "import time"
   ]
  },
  {
   "cell_type": "code",
   "execution_count": 2,
   "id": "pressed-stake",
   "metadata": {},
   "outputs": [],
   "source": [
    "# Load modules for machine learning\n",
    "# Using Skicit-learn to split data into training and testing sets\n",
    "from sklearn.model_selection import train_test_split\n",
    "\n",
    "# Import the model we are using\n",
    "from sklearn.ensemble import RandomForestRegressor\n",
    "from sklearn.neighbors import KNeighborsClassifier\n",
    "from sklearn.linear_model import LogisticRegression\n",
    "\n",
    "# Calculate the accurancy of the model\n",
    "from sklearn.metrics import accuracy_score, classification_report\n",
    "\n",
    "# For drawing the graph\n",
    "from sklearn.tree import export_graphviz"
   ]
  },
  {
   "cell_type": "code",
   "execution_count": 3,
   "id": "alike-preference",
   "metadata": {},
   "outputs": [
    {
     "data": {
      "text/plain": [
       "True"
      ]
     },
     "execution_count": 3,
     "metadata": {},
     "output_type": "execute_result"
    }
   ],
   "source": [
    "load_dotenv()"
   ]
  },
  {
   "cell_type": "code",
   "execution_count": 4,
   "id": "impressed-formula",
   "metadata": {},
   "outputs": [],
   "source": [
    "# clt = pd.read_csv(os.getenv('CLEANED_DATA_PATH') + '/' + 'TJ38.csv', encoding='ISO-8859-1', sep='\\t')\n",
    "clt = pd.read_csv(os.getenv('CLEANED_DATA_PATH') + '/' + 'TR35.csv', encoding='ISO-8859-1', sep='\\t', low_memory=False)\n",
    "ctr = pd.read_csv(os.getenv('CLEANED_DATA_PATH') + '/' + 'TJ7S.csv', encoding='ISO-8859-1', sep='\\t', usecols=['COCO', 'COMAX', 'COPRO'], low_memory=False)\n",
    "\n",
    "eco = pd.read_csv(os.getenv('CLEANED_DATA_PATH') + '/' + 'eco-products.csv', encoding='ISO-8859-1', sep='\\t')"
   ]
  },
  {
   "cell_type": "markdown",
   "id": "earlier-arabic",
   "metadata": {},
   "source": [
    "## Get the best ecological product"
   ]
  },
  {
   "cell_type": "code",
   "execution_count": 81,
   "id": "transparent-chain",
   "metadata": {},
   "outputs": [],
   "source": [
    "# Get the list of all the eco products code\n",
    "eco = [str(i).zfill(5) for i in eco['COPRO']]\n",
    "\n",
    "# Declare the list of products for each family\n",
    "# Les familles sont: CREDITS, DEPOTS MONETAIRES, PRODUITS EXTERNES COMMERCIALISES\n",
    "credit = ['568', '943', '942', '546', '547', '3992', '940', '941', '548', '6458', '509', '565']\n",
    "depot = ['7648', '7649', '7606', '3']\n",
    "comm = ['5808', '5807']\n",
    "\n",
    "# ECO: 00003 | 242568 - LIVRET DEVELOPPEMENT DURABLE ET SOLIDAIRE\n",
    "# DEPOTS MONETAIRES - EPARGNE MONETAIRE LIQUIDE - LIVRETS REGLEMENTES\n",
    "# ctr[ctr['COPRO'].isin(eco)]['COPRO'].value_counts()"
   ]
  },
  {
   "cell_type": "markdown",
   "id": "exact-boating",
   "metadata": {},
   "source": [
    "## Concatinate with other tables TJ39 - TJDR - TJER"
   ]
  },
  {
   "cell_type": "code",
   "execution_count": 6,
   "id": "entitled-dubai",
   "metadata": {},
   "outputs": [],
   "source": [
    "tj39 = pd.read_csv(os.getenv('DATA_PATH') + '/' + 'tj39.csv', encoding='ISO-8859-1', sep=';', usecols=['COMAX', 'MSMENC', 'MTPATR', 'MTVAOP'])\n",
    "tjdr = pd.read_csv(os.getenv('DATA_PATH') + '/' + 'tjdr.csv', encoding='ISO-8859-1', sep=';', usecols=['COMAX', 'MTRVIM', 'MTRVFR', 'QTPAFI', 'COHAVI'])\n",
    "tjer = pd.read_csv(os.getenv('DATA_PATH') + '/' + 'tjer.csv', encoding='ISO-8859-1', sep=';', usecols=['COMAX', 'MTAPJE', 'MTPJE'])"
   ]
  },
  {
   "cell_type": "code",
   "execution_count": 7,
   "id": "common-bernard",
   "metadata": {},
   "outputs": [],
   "source": [
    "# pour le cas de la table tj39, la variable COMAX elle est de 13 caracteres\n",
    "# or celle des autres tables sont de 10, donc il fallait convertir de 13 a 10\n",
    "# on prend les 10 premiers caractères du COMAX de tj39, d'apres le data engineer\n",
    "# de la PBS.\n",
    "tj39['COMAX'] = [val[:10] for val in tj39['COMAX'].values]"
   ]
  },
  {
   "cell_type": "code",
   "execution_count": 8,
   "id": "global-money",
   "metadata": {},
   "outputs": [],
   "source": [
    "# This table is only good fot the moral clients only\n",
    "data = pd.merge(clt,tj39,on='COMAX',how='left')\n",
    "data = pd.merge(data,tjer,on='COMAX',how='left')\n",
    "data = pd.merge(data,tjdr,on='COMAX',how='left')"
   ]
  },
  {
   "cell_type": "code",
   "execution_count": 9,
   "id": "finite-garlic",
   "metadata": {},
   "outputs": [
    {
     "data": {
      "text/plain": [
       "(1689052, 120)"
      ]
     },
     "execution_count": 9,
     "metadata": {},
     "output_type": "execute_result"
    }
   ],
   "source": [
    "data.shape"
   ]
  },
  {
   "cell_type": "code",
   "execution_count": 10,
   "id": "center-shade",
   "metadata": {},
   "outputs": [],
   "source": [
    "data = data.drop_duplicates(subset=\"COMAX\")"
   ]
  },
  {
   "cell_type": "code",
   "execution_count": 11,
   "id": "worst-asthma",
   "metadata": {},
   "outputs": [],
   "source": [
    "data['CTSCPI'] = data['CTSCPI'].astype(str)\n",
    "data['COPOST'] = data['COPOST'].astype(str)\n",
    "\n",
    "data['COPOST'].replace('nan', np.nan, inplace=True)\n",
    "data['CTSCPI'].replace('nan', np.nan, inplace=True)\n",
    "\n",
    "data.dropna(subset=['COPOST'], inplace=True)\n",
    "data.dropna(subset=['CTSCPI'], inplace=True)"
   ]
  },
  {
   "cell_type": "code",
   "execution_count": 12,
   "id": "loose-turning",
   "metadata": {},
   "outputs": [],
   "source": [
    "# replace Male with 0, et F avec 1\n",
    "data['COSEXE'].replace('M', 0, inplace=True)\n",
    "data['COSEXE'].replace('F', 1, inplace=True)"
   ]
  },
  {
   "cell_type": "code",
   "execution_count": 13,
   "id": "completed-helena",
   "metadata": {},
   "outputs": [],
   "source": [
    "# get the ids of the products\n",
    "ids = ctr[ctr['COPRO'].isin(eco)]['COMAX'].values\n",
    "data['ECO'] = data['COMAX'].isin(ids)"
   ]
  },
  {
   "cell_type": "code",
   "execution_count": 14,
   "id": "diverse-location",
   "metadata": {},
   "outputs": [],
   "source": [
    "# these values are based int but detected as object\n",
    "why = ['CTCOPO', 'CTMENB', 'CTSIFA', 'COPOAG', 'CTSC90', 'CTSC91', 'CTSC92', 'CTFORT','PSGPAR',\n",
    "'CEBPF1', 'CEBPF2', 'CEBPF3', 'CEBPF4', 'CEBPF5', 'CEBPF6', 'CEBPF7', 'CTBP']\n",
    "\n",
    "for i in why:\n",
    "    for k in [j for j in data[i].unique() if j.strip() == '']:\n",
    "         data[i].replace(k, np.nan, inplace=True)"
   ]
  },
  {
   "cell_type": "code",
   "execution_count": 71,
   "id": "nuclear-cornell",
   "metadata": {},
   "outputs": [],
   "source": [
    "to_del = {'QCBPFA', 'COPOST', 'COGRRB', 'COESPF', 'QCLDD', 'MTELDD', 'COPOAG', 'QCCONT', 'QCLIVR', 'QCLIVJ', 'QCCSL', 'QCLEP', 'MTELDD', 'MTELIJ'}\n",
    "cols = list(data.columns.values[1:-1])\n",
    "\n",
    "for i in list(to_del):\n",
    "    cols.remove(i)\n",
    "\n",
    "for l in cols:\n",
    "    try:\n",
    "        data[l] = data[l].fillna(data[l].median())\n",
    "    except:\n",
    "        cols.remove(l)"
   ]
  },
  {
   "cell_type": "code",
   "execution_count": 27,
   "id": "absolute-equilibrium",
   "metadata": {},
   "outputs": [
    {
     "data": {
      "text/plain": [
       "'for i in cols:\\n    print(i, data[i].isna().sum())'"
      ]
     },
     "execution_count": 27,
     "metadata": {},
     "output_type": "execute_result"
    }
   ],
   "source": [
    "'''for i in cols:\n",
    "    print(i, data[i].isna().sum())'''\n",
    "# data['CTMENB'] = data[''].fillna(data[''].median())"
   ]
  },
  {
   "cell_type": "code",
   "execution_count": 62,
   "id": "reserved-associate",
   "metadata": {},
   "outputs": [
    {
     "data": {
      "text/plain": [
       "104"
      ]
     },
     "execution_count": 62,
     "metadata": {},
     "output_type": "execute_result"
    }
   ],
   "source": [
    "len(cols)"
   ]
  },
  {
   "cell_type": "code",
   "execution_count": 63,
   "id": "binary-chorus",
   "metadata": {},
   "outputs": [
    {
     "name": "stdout",
     "output_type": "stream",
     "text": [
      "Stored 'data' (DataFrame)\n",
      "Stored 'cols' (list)\n",
      "Stored 'eco' (list)\n"
     ]
    }
   ],
   "source": [
    "%store data\n",
    "%store cols\n",
    "%store eco"
   ]
  },
  {
   "cell_type": "code",
   "execution_count": 83,
   "id": "forward-participant",
   "metadata": {},
   "outputs": [],
   "source": [
    "def random_forest(data, ecos, cols):   \n",
    "    ''' The Model'''\n",
    "    \n",
    "    # Labels are the values we want to predict\n",
    "    labels = np.array(data['ECO'])\n",
    "\n",
    "    # Remove the labels from the features\n",
    "    features = np.array(data[cols])\n",
    "\n",
    "    # Split the data into training and testing sets\n",
    "    train_features, test_features, train_labels, test_labels = train_test_split(features, labels, test_size = 0.2)\n",
    "\n",
    "    # Instantiate model with 1000 decision trees\n",
    "    rf = RandomForestRegressor(n_estimators = 300)\n",
    "\n",
    "    # Train the model on training data\n",
    "    rf.fit(train_features, train_labels)\n",
    "\n",
    "    # Use the forest's predict method on the test data\n",
    "    predictions = rf.predict(test_features)\n",
    "\n",
    "    # Classification report\n",
    "    print(classification_report(test_labels, predictions.round()))    "
   ]
  },
  {
   "cell_type": "code",
   "execution_count": 65,
   "id": "organic-hometown",
   "metadata": {},
   "outputs": [],
   "source": [
    "def knn(data, ecos, cols):\n",
    "    ''' The Model'''\n",
    "    \n",
    "    # Labels are the values we want to predict\n",
    "    labels = np.array(data['ECO'])\n",
    "\n",
    "    # Remove the labels from the features\n",
    "    features = np.array(data[cols])\n",
    "\n",
    "    # Split the data into training and testing sets, random_state = 42\n",
    "    train_features, test_features, train_labels, test_labels = train_test_split(features, labels, test_size = 0.2, random_state=42)\n",
    "\n",
    "    # Instantiate model with 1000 decision trees\n",
    "    model = KNeighborsClassifier(n_neighbors=3)\n",
    "    \n",
    "    # Train the model on training data\n",
    "    model.fit(train_features, train_labels)\n",
    "    \n",
    "    # Use the forest's predict method on the test data\n",
    "    predictions = model.predict(test_features)\n",
    "\n",
    "    # Classification report\n",
    "    print(classification_report(test_labels, predictions.round()))"
   ]
  },
  {
   "cell_type": "code",
   "execution_count": 66,
   "id": "proper-extraction",
   "metadata": {},
   "outputs": [],
   "source": [
    "def log_reg(data, ecos, cols):\n",
    "    ''' The Model'''\n",
    "    \n",
    "    # Labels are the values we want to predict\n",
    "    labels = np.array(data['ECO'])\n",
    "\n",
    "    # Remove the labels from the features\n",
    "    features = np.array(data[cols])\n",
    "\n",
    "    # Split the data into training and testing sets\n",
    "    train_features, test_features, train_labels, test_labels = train_test_split(features, labels, test_size = 0.2, random_state=42)\n",
    "\n",
    "    # Instantiate model with 1000 decision trees\n",
    "    logisticRegr = LogisticRegression()\n",
    "    \n",
    "    # Train the model on training data\n",
    "    logisticRegr.fit(train_features, train_labels)\n",
    "    \n",
    "    # Use the forest's predict method on the test data\n",
    "    predictions = logisticRegr.predict(test_features)\n",
    "\n",
    "    # Classification report\n",
    "    print(classification_report(test_labels, predictions.round()))"
   ]
  },
  {
   "cell_type": "code",
   "execution_count": 85,
   "id": "electrical-webster",
   "metadata": {},
   "outputs": [],
   "source": [
    "''' The Model'''\n",
    "\n",
    "# Labels are the values we want to predict\n",
    "labels = np.array(data['ECO'])\n",
    "\n",
    "# Remove the labels from the features\n",
    "features = np.array(data[cols])\n",
    "\n",
    "# Split the data into training and testing sets\n",
    "train_features, test_features, train_labels, test_labels = train_test_split(features, labels, test_size = 0.2)"
   ]
  },
  {
   "cell_type": "code",
   "execution_count": 86,
   "id": "adverse-brave",
   "metadata": {},
   "outputs": [
    {
     "name": "stdout",
     "output_type": "stream",
     "text": [
      "2347.960119009018\n",
      "11.459137678146362\n",
      "              precision    recall  f1-score   support\n",
      "\n",
      "       False       0.88      0.91      0.90     69134\n",
      "        True       0.79      0.74      0.76     32145\n",
      "\n",
      "    accuracy                           0.86    101279\n",
      "   macro avg       0.84      0.82      0.83    101279\n",
      "weighted avg       0.85      0.86      0.85    101279\n",
      "\n"
     ]
    }
   ],
   "source": [
    "# Instantiate model with 300 decision trees\n",
    "rf = RandomForestRegressor(n_estimators = 300)\n",
    "\n",
    "st = time.time()\n",
    "\n",
    "# Train the model on training data\n",
    "rf.fit(train_features, train_labels)\n",
    "\n",
    "fn = time.time()\n",
    "print(fn - st)\n",
    "\n",
    "# Use the forest's predict method on the test data\n",
    "predictions = rf.predict(test_features)\n",
    "\n",
    "print(time.time() - fn)\n",
    "\n",
    "# Classification report\n",
    "print(classification_report(test_labels, predictions.round()))"
   ]
  },
  {
   "cell_type": "code",
   "execution_count": 88,
   "id": "conscious-substitute",
   "metadata": {},
   "outputs": [
    {
     "name": "stdout",
     "output_type": "stream",
     "text": [
      "CREDITS\n",
      "              precision    recall  f1-score   support\n",
      "\n",
      "       False       0.88      0.91      0.90     69279\n",
      "        True       0.79      0.74      0.77     32000\n",
      "\n",
      "    accuracy                           0.86    101279\n",
      "   macro avg       0.84      0.83      0.83    101279\n",
      "weighted avg       0.85      0.86      0.86    101279\n",
      "\n",
      "DEPOTS MONETAIRES\n",
      "              precision    recall  f1-score   support\n",
      "\n",
      "       False       0.88      0.91      0.90     69200\n",
      "        True       0.79      0.74      0.77     32079\n",
      "\n",
      "    accuracy                           0.86    101279\n",
      "   macro avg       0.84      0.83      0.83    101279\n",
      "weighted avg       0.85      0.86      0.86    101279\n",
      "\n",
      "PRODUITS EXTERNES COMMERCIALISES\n",
      "              precision    recall  f1-score   support\n",
      "\n",
      "       False       0.88      0.91      0.90     69007\n",
      "        True       0.79      0.74      0.77     32272\n",
      "\n",
      "    accuracy                           0.86    101279\n",
      "   macro avg       0.84      0.82      0.83    101279\n",
      "weighted avg       0.85      0.86      0.85    101279\n",
      "\n"
     ]
    }
   ],
   "source": [
    "# CREDITS\n",
    "print('CREDITS')\n",
    "random_forest(data, credit, cols)\n",
    "\n",
    "# DEPOTS MONETAIRES\n",
    "print('DEPOTS MONETAIRES')\n",
    "random_forest(data, depot, cols)\n",
    "\n",
    "# PRODUITS EXTERNES COMMERCIALISES\n",
    "print('PRODUITS EXTERNES COMMERCIALISES')\n",
    "random_forest(data, comm, cols)"
   ]
  },
  {
   "cell_type": "markdown",
   "id": "stupid-region",
   "metadata": {},
   "source": [
    "# - - - - - - - -- - - - - - - - - - - - - - - - -- - - - - - "
   ]
  },
  {
   "cell_type": "code",
   "execution_count": 77,
   "id": "charming-variety",
   "metadata": {},
   "outputs": [],
   "source": [
    "def plot_feature_importance(importance,names,model_type):\n",
    "    #Create arrays from feature importance and feature name logistic regressions\n",
    "    feature_importance = np.array(importance)\n",
    "    feature_names = np.array(names)\n",
    "\n",
    "    #Create a DataFrame using a Dictionary\n",
    "    data={'feature_names':feature_names,'feature_importance':feature_importance}\n",
    "    fi_df = pd.DataFrame(data)\n",
    "\n",
    "    #Sort the DataFrame in order decreasing feature importance\n",
    "    fi_df.sort_values(by=['feature_importance'], ascending=False,inplace=True)\n",
    "\n",
    "    #Define size of bar plot\n",
    "    plt.figure(figsize=(10,8))\n",
    "    #Plot Searborn bar chart\n",
    "    sns.barplot(x=fi_df['feature_importance'], y=fi_df['feature_names'])\n",
    "    #Add chart labels\n",
    "    plt.title(model_type + '-FEATURE IMPORTANCE')\n",
    "    plt.xlabel('FEATURE IMPORTANCE')\n",
    "    plt.ylabel('FEATURE NAMES')\n",
    "    \n",
    "    plt.savefig('{}.svg'.format(model_type))"
   ]
  },
  {
   "cell_type": "code",
   "execution_count": 80,
   "id": "still-christianity",
   "metadata": {},
   "outputs": [
    {
     "data": {
      "image/png": "[encoded data removed]",
      "text/plain": [
       "<Figure size 720x576 with 1 Axes>"
      ]
     },
     "metadata": {
      "needs_background": "light"
     },
     "output_type": "display_data"
    }
   ],
   "source": [
    "plot_feature_importance(rf.feature_importances_[:30],cols[:30],'Random-Forest')"
   ]
  },
  {
   "cell_type": "code",
   "execution_count": 75,
   "id": "consecutive-jerusalem",
   "metadata": {},
   "outputs": [
    {
     "name": "stdout",
     "output_type": "stream",
     "text": [
      "('SGMIM', 0.17676427083269808)\n",
      "('CEBPF5', 0.12379767905385149)\n",
      "('MTEEML', 0.08604604354591389)\n",
      "('QTAGCL', 0.06369603543586184)\n",
      "('MTECSL', 0.03700731286249313)\n",
      "('LON', 0.033251187526780995)\n",
      "('LAT', 0.03307496025400545)\n",
      "('MTRSMO', 0.03185724373842405)\n",
      "('MTELEP', 0.027896574197270426)\n",
      "('MCTOTA', 0.02775139925333197)\n",
      "('MTRSFI', 0.023405410156830113)\n",
      "('CTSCPI', 0.01979484988913925)\n",
      "('CTCOPO', 0.019725610335973753)\n",
      "('QCCOCY', 0.015147420742947757)\n",
      "('CTMENB', 0.013420891665513494)\n",
      "('CTSC91', 0.01214744659178386)\n",
      "('MCTOTE', 0.011753482258311767)\n",
      "('MTESOC', 0.01034458780985318)\n",
      "('CTSC90', 0.010321430011234317)\n",
      "('CTSIFA', 0.010158868001561839)\n",
      "('MTPATR', 0.0099814474798905)\n",
      "('MTVAOP', 0.008967644340012468)\n",
      "('MTECCS', 0.006861449380475092)\n",
      "('SGMID', 0.006859614507339045)\n",
      "('CTSC92', 0.00681921300088906)\n",
      "('MTEPEL', 0.006712511330632536)\n",
      "('MTPJE', 0.006596093629523922)\n",
      "('MTE19D', 0.00646509843680504)\n",
      "('MTEEMC', 0.006463564413160855)\n",
      "('MTEASV', 0.006330046382460883)\n",
      "('MTRVFR', 0.006215899909154364)\n",
      "('MTECEL', 0.006023662397504262)\n",
      "('SGMFD', 0.0054918268961787605)\n",
      "('MTRETT', 0.005241687764041597)\n",
      "('MTCDIM', 0.005223466001631222)\n",
      "('NBCART', 0.0051934633816606264)\n",
      "('CODCSP', 0.005066152646931885)\n",
      "('QCCAR2', 0.004935208663732247)\n",
      "('MTECIM', 0.004520473246863468)\n",
      "('CTBP', 0.004511597875542548)\n",
      "('COSEXE', 0.004353056343120676)\n",
      "('QCCP19', 0.004344203559936707)\n",
      "('MTRECD', 0.0041649856843712805)\n",
      "('QCCOEQ', 0.004075393651027438)\n",
      "('SGMFM', 0.0035683971749450698)\n",
      "('QCIARD', 0.0033954981286335394)\n",
      "('PSGPAR', 0.0031281232153321276)\n",
      "('QCPREV', 0.0029980213537460147)\n",
      "('QCCEL', 0.0026787259356974404)\n",
      "('CERCPE', 0.002596901488005303)\n",
      "('CERCPS', 0.002579611943669245)\n",
      "('QTPAFI', 0.002516775203565016)\n",
      "('MTRVIM', 0.0024711678713371776)\n",
      "('CEBPF4', 0.0023518771286320196)\n",
      "('CEBPF2', 0.0022211072709400277)\n",
      "('CERCEP', 0.0022179220714083157)\n",
      "('QCITOT', 0.0021260501184555618)\n",
      "('QCCRIM', 0.0021232151537860415)\n",
      "('CEBPF3', 0.0019697120912285466)\n",
      "('CECARP', 0.001821085425923712)\n",
      "('CEBPF7', 0.001806662311868698)\n",
      "('QCASV', 0.0017882970126144322)\n",
      "('QCCARP', 0.0017665802224369439)\n",
      "('CEBPF1', 0.001749869804516163)\n",
      "('QCIHAB', 0.0017163370614390063)\n",
      "('QTIAUT', 0.0017082751091672906)\n",
      "('QCCRPE', 0.001657344923732906)\n",
      "('QCCAR3', 0.0016461299966769017)\n",
      "('CEBPF6', 0.001424996109112457)\n",
      "('QCCTO', 0.0014225432375461597)\n",
      "('QCPEL', 0.0013675303480726849)\n",
      "('QCCAR1', 0.0013298671212130047)\n",
      "('MTEPEP', 0.0013266746189836798)\n",
      "('CERCPL', 0.001307181301032202)\n",
      "('MTECTO', 0.0012417778840627493)\n",
      "('MTECPA', 0.0010538192904465322)\n",
      "('COHAVI', 0.0009515653344198583)\n",
      "('QCPEP', 0.0006865730990833069)\n",
      "('CERCPP', 0.0006813266422503103)\n",
      "('CERCPT', 0.0006438417368225381)\n",
      "('CTFORT', 0.0006297920913410619)\n",
      "('QCPEA', 0.0005379725363357139)\n",
      "('QTCLIF', 0.00043496492990477767)\n",
      "('CERCPC', 0.00035476541102039794)\n",
      "('MTAPJE', 0.0003373602865708467)\n",
      "('QCCP21', 0.00019862233910913945)\n",
      "('QCBASO', 0.00016981625293228405)\n",
      "('MTECEQ', 0.00016089874755631964)\n",
      "('QCCARI', 0.00015611785489891934)\n",
      "('MSMENC', 0.0001535020065306484)\n",
      "('MTE21D', 3.7237595057799804e-05)\n",
      "('QCPRDI', 1.636437217624091e-06)\n",
      "('QFPROSGR', 1.5356028534249173e-06)\n",
      "('QCPRQU', 1.4433862177687606e-06)\n",
      "('MTECTR', 1.302985137113632e-06)\n",
      "('MTFLPR', 4.85388828805976e-07)\n",
      "('QCPRTR', 4.482577603442898e-07)\n",
      "('QCPRCP', 1.4282537497682073e-07)\n",
      "('QCPRFI', 1.0523788187764247e-07)\n",
      "('QCPRAS', 0.0)\n",
      "('QCPRPR', 0.0)\n",
      "('MTFLCO', 0.0)\n",
      "('QCFPRORB', 0.0)\n"
     ]
    }
   ],
   "source": [
    "for lol in sorted(zip(cols, rf.feature_importances_), key=lambda x: x[1], reverse=True):\n",
    "    print(lol)"
   ]
  },
  {
   "cell_type": "code",
   "execution_count": 60,
   "id": "precious-semester",
   "metadata": {},
   "outputs": [
    {
     "name": "stdout",
     "output_type": "stream",
     "text": [
      "QCCEL\n",
      "QCPEL\n",
      "QCPEP\n",
      "QCCSL\n",
      "QCLEP\n",
      "QCCP19\n",
      "QCCP21\n",
      "QCIHAB\n",
      "QCITOT\n",
      "QCASV\n",
      "QCCTO\n",
      "QCPEA\n",
      "QCCRIM\n",
      "QCCRPE\n",
      "QCCAR1\n",
      "QCCAR2\n",
      "QCCAR3\n",
      "QCCARP\n",
      "QCCARI\n",
      "QCBASO\n",
      "QCCOEQ\n",
      "QCPRDI\n",
      "QCPRCP\n",
      "QCPRQU\n",
      "QCPRFI\n",
      "QCPRTR\n",
      "QCPRAS\n",
      "QCPRPR\n",
      "QCCOCY\n",
      "QCBPFA\n",
      "QCPREV\n",
      "QCIARD\n",
      "QCFPRORB\n"
     ]
    }
   ],
   "source": [
    "for i in cols:\n",
    "    if i.startswith('QC'):\n",
    "        print(i)"
   ]
  },
  {
   "cell_type": "code",
   "execution_count": 22,
   "id": "fuzzy-spread",
   "metadata": {},
   "outputs": [],
   "source": [
    "matrix = data.corr().values"
   ]
  },
  {
   "cell_type": "code",
   "execution_count": 24,
   "id": "hearing-knight",
   "metadata": {},
   "outputs": [
    {
     "name": "stdout",
     "output_type": "stream",
     "text": [
      "CTCOPO -- CTMENB:: 5.729616389801779\n",
      "CTCOPO -- CTSIFA:: -20.780067899011932\n",
      "CTCOPO -- CTSCPI:: -29.37657658692635\n",
      "CTCOPO -- COPOAG:: -15.350761871328569\n",
      "CTCOPO -- CODCSP:: -5.726346893486517\n",
      "CTCOPO -- COSEXE:: -4.363044789356529\n",
      "CTCOPO -- QTAGCL:: -0.3455464008840324\n",
      "CTCOPO -- NBCART:: 9.193486026171135\n",
      "CTCOPO -- QCLDD:: 23.348734868179903\n",
      "CTCOPO -- QCCEL:: -1.7528288524597626\n",
      "CTCOPO -- QCPEL:: -31.494578786063794\n",
      "CTCOPO -- QCPEP:: -0.6098451152218634\n",
      "CTCOPO -- QCCSL:: -7.793716189848941\n",
      "CTCOPO -- QCLIVJ:: -5.5111267554148755\n",
      "CTCOPO -- QCLEP:: -9.094906284930081\n",
      "CTCOPO -- QCCP19:: -4.741515572235222\n",
      "CTCOPO -- QCCP21:: 2.6598017657981137\n",
      "CTCOPO -- QCIHAB:: -2.599635869858459\n",
      "CTCOPO -- QTIAUT:: -3.331525391732558\n",
      "CTCOPO -- QCITOT:: -27.62013816878684\n",
      "CTCOPO -- QCASV:: -16.138263668839183\n",
      "CTCOPO -- QCLIVR:: 8.863420061538022\n",
      "CTCOPO -- QCCTO:: -15.64190481878189\n",
      "CTCOPO -- QCPEA:: -20.165486103489076\n",
      "CTCOPO -- QCCRIM:: -18.991026861792925\n",
      "CTCOPO -- QCCRPE:: -5.162674078864918\n",
      "CTCOPO -- QCCAR1:: -0.31554622555085077\n",
      "CTCOPO -- QCCAR2:: -30.395392327980147\n",
      "CTCOPO -- QCCAR3:: -18.74827051417579\n",
      "CTCOPO -- QCCARP:: -35.006252187863126\n",
      "CTCOPO -- QCCARI:: -10.48780453463372\n",
      "CTCOPO -- QCBASO:: -4.500534094093017\n",
      "CTCOPO -- CECARP:: -5.7711396591195285\n",
      "CTCOPO -- QCCOEQ:: -0.4076021886825859\n",
      "CTCOPO -- QCCONT:: -0.17313036440048069\n",
      "CTCOPO -- MTCDIM:: -0.2588282335056321\n",
      "CTCOPO -- MTRECD:: -0.4598406108586574\n",
      "CTCOPO -- MTRETT:: -0.40977246326320776\n",
      "CTCOPO -- QCPRDI:: 0.061720468622380564\n",
      "CTCOPO -- QCPRCP:: nan\n",
      "CTCOPO -- QCPRQU:: -4.1758740321945265\n",
      "CTCOPO -- QCPRFI:: -3.115863306069495\n",
      "CTCOPO -- QCPRTR:: -1.9807165207618118\n",
      "CTCOPO -- QCPRAS:: -2.5800462368072927\n",
      "CTCOPO -- QCPRPR:: 0.7742566669665077\n",
      "CTCOPO -- MTELDD:: 2.776951794128746\n",
      "CTCOPO -- MTECEL:: 12.412477182603878\n",
      "CTCOPO -- MTEPEL:: 10.46561035602552\n",
      "CTCOPO -- MTECSL:: 5.962328429898655\n",
      "CTCOPO -- MTEPEP:: 1.5280242638205417\n",
      "CTCOPO -- MTELEP:: 0.18739613486139106\n",
      "CTCOPO -- MTELIJ:: -4.717647630802743\n",
      "CTCOPO -- MTECIM:: 1.5815450839467\n",
      "CTCOPO -- MTECCS:: 0.07656526530196402\n",
      "CTCOPO -- MTECEQ:: -0.13792602151611522\n",
      "CTCOPO -- MTECTR:: 1.6812510582665967\n",
      "CTCOPO -- MTEEML:: -0.06510797936264925\n",
      "CTCOPO -- MTEASV:: -1.128307115305975\n",
      "CTCOPO -- MTECTO:: -0.44128865005165496\n",
      "CTCOPO -- MTECPA:: -2.4217245699827967\n",
      "CTCOPO -- MTE19D:: 23.59620210939089\n",
      "CTCOPO -- MTE21D:: -12.515689301938346\n",
      "CTCOPO -- MTEEMC:: 1.2337827537353165\n",
      "CTCOPO -- MTESOC:: -46.35132712839149\n",
      "CTCOPO -- MCTOTA:: -32.51085810585354\n",
      "CTCOPO -- MCTOTE:: -46.126039116229684\n",
      "CTCOPO -- CTSC90:: -32.39893121789571\n",
      "CTCOPO -- CTSC91:: -1.0315985413522273\n",
      "CTCOPO -- CTSC92:: -13.963627577731963\n",
      "CTCOPO -- QCCOCY:: -12.775022743671263\n",
      "CTCOPO -- QTCLIF:: -13.356902768195994\n",
      "CTCOPO -- CTFORT:: -2.4092305367524753\n",
      "CTCOPO -- PSGPAR:: -1.368945301309611\n",
      "CTCOPO -- SGMFM:: -1.35664991491711\n",
      "CTCOPO -- SGMFD:: -27.376086027882895\n",
      "CTCOPO -- SGMIM:: 3.8266408512013483\n",
      "CTCOPO -- SGMID:: 0.6057981465871254\n",
      "CTCOPO -- CERCPT:: -0.013075640348163062\n",
      "CTCOPO -- CERCPE:: -9.20105101001228e-12\n",
      "CTCOPO -- CERCEP:: 0.7962223804816162\n",
      "CTCOPO -- CERCPS:: -5.422858904578205\n",
      "CTCOPO -- CERCPL:: 0.1087152573134959\n",
      "CTCOPO -- CERCPC:: -0.33201649849112824\n",
      "CTCOPO -- CERCPP:: -4.31921376070183\n",
      "CTCOPO -- CEBPF1:: -4.640678502565874\n",
      "CTCOPO -- CEBPF2:: -2.428972994066609\n",
      "CTCOPO -- CEBPF3:: 0.01247526862166598\n",
      "CTCOPO -- CEBPF4:: -0.06578730529054261\n",
      "CTCOPO -- CEBPF5:: -0.352921856312527\n",
      "CTCOPO -- CEBPF6:: -0.8152088547222075\n",
      "CTCOPO -- CEBPF7:: -0.739837559642115\n",
      "CTCOPO -- QCBPFA:: -0.9545683216865888\n",
      "CTCOPO -- CTBP:: -3.904482570047395\n",
      "CTCOPO -- QCPREV:: -1.2645635702245794\n",
      "CTCOPO -- QCIARD:: -18.3203306557257\n"
     ]
    },
    {
     "ename": "IndexError",
     "evalue": "index 96 is out of bounds for axis 0 with size 96",
     "output_type": "error",
     "traceback": [
      "\u001b[0;31m---------------------------------------------------------------------------\u001b[0m",
      "\u001b[0;31mIndexError\u001b[0m                                Traceback (most recent call last)",
      "\u001b[0;32m<ipython-input-24-efb8ed582b56>\u001b[0m in \u001b[0;36m<module>\u001b[0;34m\u001b[0m\n\u001b[1;32m      1\u001b[0m \u001b[0;32mfor\u001b[0m \u001b[0mi\u001b[0m \u001b[0;32min\u001b[0m \u001b[0mrange\u001b[0m\u001b[0;34m(\u001b[0m\u001b[0mlen\u001b[0m\u001b[0;34m(\u001b[0m\u001b[0mcols\u001b[0m\u001b[0;34m)\u001b[0m \u001b[0;34m-\u001b[0m \u001b[0;36m1\u001b[0m\u001b[0;34m)\u001b[0m\u001b[0;34m:\u001b[0m\u001b[0;34m\u001b[0m\u001b[0;34m\u001b[0m\u001b[0m\n\u001b[1;32m      2\u001b[0m     \u001b[0;32mfor\u001b[0m \u001b[0mj\u001b[0m \u001b[0;32min\u001b[0m \u001b[0mrange\u001b[0m\u001b[0;34m(\u001b[0m\u001b[0mi\u001b[0m\u001b[0;34m+\u001b[0m\u001b[0;36m1\u001b[0m\u001b[0;34m,\u001b[0m \u001b[0mlen\u001b[0m\u001b[0;34m(\u001b[0m\u001b[0mcols\u001b[0m\u001b[0;34m)\u001b[0m\u001b[0;34m)\u001b[0m\u001b[0;34m:\u001b[0m\u001b[0;34m\u001b[0m\u001b[0;34m\u001b[0m\u001b[0m\n\u001b[0;32m----> 3\u001b[0;31m         \u001b[0mprint\u001b[0m\u001b[0;34m(\u001b[0m\u001b[0;34m'{} -- {}:: {}'\u001b[0m\u001b[0;34m.\u001b[0m\u001b[0mformat\u001b[0m\u001b[0;34m(\u001b[0m\u001b[0mcols\u001b[0m\u001b[0;34m[\u001b[0m\u001b[0mi\u001b[0m\u001b[0;34m]\u001b[0m\u001b[0;34m,\u001b[0m \u001b[0mcols\u001b[0m\u001b[0;34m[\u001b[0m\u001b[0mj\u001b[0m\u001b[0;34m]\u001b[0m\u001b[0;34m,\u001b[0m \u001b[0mmatrix\u001b[0m\u001b[0;34m[\u001b[0m\u001b[0mi\u001b[0m\u001b[0;34m]\u001b[0m\u001b[0;34m[\u001b[0m\u001b[0mj\u001b[0m\u001b[0;34m]\u001b[0m\u001b[0;34m*\u001b[0m\u001b[0;36m100\u001b[0m\u001b[0;34m)\u001b[0m\u001b[0;34m)\u001b[0m\u001b[0;34m\u001b[0m\u001b[0;34m\u001b[0m\u001b[0m\n\u001b[0m",
      "\u001b[0;31mIndexError\u001b[0m: index 96 is out of bounds for axis 0 with size 96"
     ]
    }
   ],
   "source": [
    "for i in range(len(cols) - 1):\n",
    "    for j in range(i+1, len(cols)):\n",
    "        print('{} -- {}:: {}'.format(cols[i], cols[j], matrix[i][j]*100))"
   ]
  },
  {
   "cell_type": "code",
   "execution_count": 31,
   "id": "seeing-proposal",
   "metadata": {},
   "outputs": [
    {
     "name": "stdout",
     "output_type": "stream",
     "text": [
      "False\n"
     ]
    }
   ],
   "source": [
    "print('QCLDD' in cols)"
   ]
  },
  {
   "cell_type": "code",
   "execution_count": 30,
   "id": "private-carol",
   "metadata": {},
   "outputs": [],
   "source": []
  },
  {
   "cell_type": "code",
   "execution_count": null,
   "id": "settled-spending",
   "metadata": {},
   "outputs": [],
   "source": []
  }
 ],
 "metadata": {
  "kernelspec": {
   "display_name": "Python 3",
   "language": "python",
   "name": "python3"
  },
  "language_info": {
   "codemirror_mode": {
    "name": "ipython",
    "version": 3
   },
   "file_extension": ".py",
   "mimetype": "text/x-python",
   "name": "python",
   "nbconvert_exporter": "python",
   "pygments_lexer": "ipython3",
   "version": "3.6.8"
  }
 },
 "nbformat": 4,
 "nbformat_minor": 5
}
