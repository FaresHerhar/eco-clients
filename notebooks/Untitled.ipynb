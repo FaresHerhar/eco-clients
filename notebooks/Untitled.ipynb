{
 "cells": [
  {
   "cell_type": "code",
   "execution_count": 1,
   "id": "hundred-coordinator",
   "metadata": {},
   "outputs": [],
   "source": [
    "# Load modules for data manipulation\n",
    "from dotenv import load_dotenv\n",
    "import seaborn as sns\n",
    "import matplotlib.pyplot as plt\n",
    "from subprocess import call\n",
    "import pandas as pd\n",
    "import numpy as np\n",
    "import time\n",
    "import os"
   ]
  },
  {
   "cell_type": "code",
   "execution_count": 2,
   "id": "pressed-stake",
   "metadata": {},
   "outputs": [],
   "source": [
    "# Load modules for machine learning\n",
    "# Using Skicit-learn to split data into training and testing sets\n",
    "from sklearn.model_selection import train_test_split\n",
    "\n",
    "# Import the model we are using\n",
    "from sklearn.ensemble import RandomForestRegressor\n",
    "from sklearn.neighbors import KNeighborsClassifier\n",
    "from sklearn.linear_model import LogisticRegression\n",
    "\n",
    "# Calculate the accurancy of the model\n",
    "from sklearn.metrics import accuracy_score, classification_report\n",
    "\n",
    "# For drawing the graph\n",
    "from sklearn.tree import export_graphviz"
   ]
  },
  {
   "cell_type": "code",
   "execution_count": 3,
   "id": "alike-preference",
   "metadata": {},
   "outputs": [
    {
     "data": {
      "text/plain": [
       "True"
      ]
     },
     "execution_count": 3,
     "metadata": {},
     "output_type": "execute_result"
    }
   ],
   "source": [
    "load_dotenv()"
   ]
  },
  {
   "cell_type": "code",
   "execution_count": 4,
   "id": "impressed-formula",
   "metadata": {},
   "outputs": [],
   "source": [
    "# clt = pd.read_csv(os.getenv('CLEANED_DATA_PATH') + '/' + 'TJ38.csv', encoding='ISO-8859-1', sep='\\t')\n",
    "clt = pd.read_csv(os.getenv('CLEANED_DATA_PATH') + '/' + 'TR35.csv', encoding='ISO-8859-1', sep='\\t', low_memory=False)\n",
    "ctr = pd.read_csv(os.getenv('CLEANED_DATA_PATH') + '/' + 'TJ7S.csv', encoding='ISO-8859-1', sep='\\t', usecols=['COCO', 'COMAX', 'COPRO'], low_memory=False)\n",
    "\n",
    "eco = pd.read_csv(os.getenv('CLEANED_DATA_PATH') + '/' + 'eco-products.csv', encoding='ISO-8859-1', sep='\\t')"
   ]
  },
  {
   "cell_type": "markdown",
   "id": "earlier-arabic",
   "metadata": {},
   "source": [
    "## Get the best ecological product"
   ]
  },
  {
   "cell_type": "code",
   "execution_count": 5,
   "id": "transparent-chain",
   "metadata": {},
   "outputs": [],
   "source": [
    "# Get the list of all the eco products code\n",
    "eco = [str(i).zfill(5) for i in eco['COPRO']]\n",
    "\n",
    "# Declare the list of products for each family\n",
    "# Les familles sont: CREDITS, DEPOTS MONETAIRES, PRODUITS EXTERNES COMMERCIALISES\n",
    "credit = ['00568', '00943', '00942', '00546', '00547', '03992', '00940', '00941', '00548', '06458', '00509', '00565']\n",
    "depot = ['07648', '07649', '07606', '00003']\n",
    "comm = ['05808', '05807']\n",
    "\n",
    "# ECO: 00003 | 242568 - LIVRET DEVELOPPEMENT DURABLE ET SOLIDAIRE\n",
    "# DEPOTS MONETAIRES - EPARGNE MONETAIRE LIQUIDE - LIVRETS REGLEMENTES\n",
    "# ctr[ctr['COPRO'].isin(eco)]['COPRO'].value_counts()"
   ]
  },
  {
   "cell_type": "markdown",
   "id": "exact-boating",
   "metadata": {},
   "source": [
    "## Concatinate with other tables TJ39 - TJDR - TJER"
   ]
  },
  {
   "cell_type": "code",
   "execution_count": 6,
   "id": "entitled-dubai",
   "metadata": {},
   "outputs": [],
   "source": [
    "tj39 = pd.read_csv(os.getenv('DATA_PATH') + '/' + 'tj39.csv', encoding='ISO-8859-1', sep=';', usecols=['COMAX', 'MSMENC', 'MTPATR', 'MTVAOP'])\n",
    "tjdr = pd.read_csv(os.getenv('DATA_PATH') + '/' + 'tjdr.csv', encoding='ISO-8859-1', sep=';', usecols=['COMAX', 'MTRVIM', 'MTRVFR', 'QTPAFI', 'COHAVI'])\n",
    "tjer = pd.read_csv(os.getenv('DATA_PATH') + '/' + 'tjer.csv', encoding='ISO-8859-1', sep=';', usecols=['COMAX', 'MTAPJE', 'MTPJE'])"
   ]
  },
  {
   "cell_type": "code",
   "execution_count": 7,
   "id": "common-bernard",
   "metadata": {},
   "outputs": [],
   "source": [
    "# pour le cas de la table tj39, la variable COMAX elle est de 13 caracteres\n",
    "# or celle des autres tables sont de 10, donc il fallait convertir de 13 a 10\n",
    "# on prend les 10 premiers caractères du COMAX de tj39, d'apres le data engineer\n",
    "# de la PBS.\n",
    "tj39['COMAX'] = [val[:10] for val in tj39['COMAX'].values]"
   ]
  },
  {
   "cell_type": "code",
   "execution_count": 8,
   "id": "global-money",
   "metadata": {},
   "outputs": [],
   "source": [
    "# This table is only good fot the moral clients only\n",
    "data = pd.merge(clt,tj39,on='COMAX',how='left')\n",
    "data = pd.merge(data,tjer,on='COMAX',how='left')\n",
    "data = pd.merge(data,tjdr,on='COMAX',how='left')"
   ]
  },
  {
   "cell_type": "code",
   "execution_count": 9,
   "id": "finite-garlic",
   "metadata": {},
   "outputs": [
    {
     "data": {
      "text/plain": [
       "(1689052, 120)"
      ]
     },
     "execution_count": 9,
     "metadata": {},
     "output_type": "execute_result"
    }
   ],
   "source": [
    "data.shape"
   ]
  },
  {
   "cell_type": "code",
   "execution_count": 10,
   "id": "center-shade",
   "metadata": {},
   "outputs": [],
   "source": [
    "data = data.drop_duplicates(subset=\"COMAX\")"
   ]
  },
  {
   "cell_type": "code",
   "execution_count": 11,
   "id": "worst-asthma",
   "metadata": {},
   "outputs": [],
   "source": [
    "data['CTSCPI'] = data['CTSCPI'].astype(str)\n",
    "data['COPOST'] = data['COPOST'].astype(str)\n",
    "\n",
    "data['COPOST'].replace('nan', np.nan, inplace=True)\n",
    "data['CTSCPI'].replace('nan', np.nan, inplace=True)\n",
    "\n",
    "data.dropna(subset=['COPOST'], inplace=True)\n",
    "data.dropna(subset=['CTSCPI'], inplace=True)"
   ]
  },
  {
   "cell_type": "code",
   "execution_count": 12,
   "id": "loose-turning",
   "metadata": {},
   "outputs": [],
   "source": [
    "# replace Male with 0, et F avec 1\n",
    "data['COSEXE'].replace('M', 0, inplace=True)\n",
    "data['COSEXE'].replace('F', 1, inplace=True)"
   ]
  },
  {
   "cell_type": "code",
   "execution_count": 13,
   "id": "completed-helena",
   "metadata": {},
   "outputs": [],
   "source": [
    "# get the ids of the products\n",
    "ids = ctr[ctr['COPRO'].isin(eco)]['COMAX'].values\n",
    "data['ECO'] = data['COMAX'].isin(ids)"
   ]
  },
  {
   "cell_type": "code",
   "execution_count": 14,
   "id": "diverse-location",
   "metadata": {},
   "outputs": [],
   "source": [
    "# these values are based int but detected as object\n",
    "why = ['CTCOPO', 'CTMENB', 'CTSIFA', 'COPOAG', 'CTSC90', 'CTSC91', 'CTSC92', 'CTFORT','PSGPAR',\n",
    "'CEBPF1', 'CEBPF2', 'CEBPF3', 'CEBPF4', 'CEBPF5', 'CEBPF6', 'CEBPF7', 'CTBP']\n",
    "\n",
    "for i in why:\n",
    "    for k in [j for j in data[i].unique() if j.strip() == '']:\n",
    "         data[i].replace(k, np.nan, inplace=True)"
   ]
  },
  {
   "cell_type": "code",
   "execution_count": 15,
   "id": "nuclear-cornell",
   "metadata": {},
   "outputs": [],
   "source": [
    "to_del = {'COHAVI', 'CERCPT', 'CERCPE', 'CERCEP', 'CERCPS', 'CERCPL', 'CERCPC', 'CERCPP', 'QCBPFA', 'COPOST', 'COGRRB', 'COESPF', 'QCLDD', 'MTELDD', 'COPOAG', 'QCCONT', 'QCLIVR', 'QCLIVJ', 'QCCSL', 'QCLEP', 'MTELDD', 'MTELIJ'}\n",
    "cols = list(data.columns.values[1:-1])\n",
    "\n",
    "for i in list(to_del):\n",
    "    cols.remove(i)\n",
    "\n",
    "for l in cols:\n",
    "    try:\n",
    "        data[l] = data[l].fillna(data[l].median())\n",
    "    except:\n",
    "        cols.remove(l)\n",
    "\n",
    "for l in cols:\n",
    "    if data[l].isna().sum() != 0:\n",
    "        data[l] = data[l].fillna(data[l].median())"
   ]
  },
  {
   "cell_type": "code",
   "execution_count": 16,
   "id": "absolute-equilibrium",
   "metadata": {},
   "outputs": [],
   "source": [
    "for i in cols:\n",
    "    if data[i].isna().sum() != 0:\n",
    "        print(i)\n",
    "# data['CTMENB'] = data[''].fillna(data[''].median())"
   ]
  },
  {
   "cell_type": "code",
   "execution_count": 17,
   "id": "reserved-associate",
   "metadata": {},
   "outputs": [
    {
     "data": {
      "text/plain": [
       "95"
      ]
     },
     "execution_count": 17,
     "metadata": {},
     "output_type": "execute_result"
    }
   ],
   "source": [
    "len(cols)"
   ]
  },
  {
   "cell_type": "code",
   "execution_count": 18,
   "id": "binary-chorus",
   "metadata": {},
   "outputs": [
    {
     "name": "stdout",
     "output_type": "stream",
     "text": [
      "Stored 'data' (DataFrame)\n",
      "Stored 'cols' (list)\n",
      "Stored 'eco' (list)\n",
      "Stored 'ctr' (DataFrame)\n"
     ]
    }
   ],
   "source": [
    "%store data\n",
    "%store cols\n",
    "%store eco\n",
    "%store ctr"
   ]
  },
  {
   "cell_type": "code",
   "execution_count": 21,
   "id": "forward-participant",
   "metadata": {},
   "outputs": [],
   "source": [
    "def random_forest(data, ecos, cols):   \n",
    "    ''' The Model'''\n",
    "    \n",
    "    # Labels are the values we want to predict\n",
    "    labels = np.array(data['ECO'])\n",
    "\n",
    "    # Remove the labels from the features\n",
    "    features = np.array(data[cols])\n",
    "\n",
    "    # Split the data into training and testing sets\n",
    "    train_features, test_features, train_labels, test_labels = train_test_split(features, labels, test_size = 0.2)\n",
    "\n",
    "    # Instantiate model with 1000 decision trees\n",
    "    rf = RandomForestRegressor(n_estimators = 300)\n",
    "\n",
    "    # Train the model on training data\n",
    "    rf.fit(train_features, train_labels)\n",
    "\n",
    "    # Use the forest's predict method on the test data\n",
    "    predictions = rf.predict(test_features)\n",
    "\n",
    "    # Get the best variables\n",
    "    shit = sorted(zip(cols, rf.feature_importances_), key=lambda x: x[1], reverse=True)\n",
    "    for i in shit:\n",
    "        print(i)    "
   ]
  },
  {
   "cell_type": "code",
   "execution_count": 22,
   "id": "organic-hometown",
   "metadata": {},
   "outputs": [],
   "source": [
    "def knn(data, ecos, cols):\n",
    "    ''' The Model'''\n",
    "    \n",
    "    # Labels are the values we want to predict\n",
    "    labels = np.array(data['ECO'])\n",
    "\n",
    "    # Remove the labels from the features\n",
    "    features = np.array(data[cols])\n",
    "\n",
    "    # Split the data into training and testing sets, random_state = 42\n",
    "    train_features, test_features, train_labels, test_labels = train_test_split(features, labels, test_size = 0.2, random_state=42)\n",
    "\n",
    "    # Instantiate model with 1000 decision trees\n",
    "    model = KNeighborsClassifier(n_neighbors=3)\n",
    "    \n",
    "    # Train the model on training data\n",
    "    model.fit(train_features, train_labels)\n",
    "    \n",
    "    # Use the forest's predict method on the test data\n",
    "    predictions = model.predict(test_features)\n",
    "\n",
    "    # Classification report\n",
    "    print(classification_report(test_labels, predictions.round()))"
   ]
  },
  {
   "cell_type": "code",
   "execution_count": 23,
   "id": "proper-extraction",
   "metadata": {},
   "outputs": [],
   "source": [
    "def log_reg(data, ecos, cols):\n",
    "    ''' The Model'''\n",
    "    \n",
    "    # Labels are the values we want to predict\n",
    "    labels = np.array(data['ECO'])\n",
    "\n",
    "    # Remove the labels from the features\n",
    "    features = np.array(data[cols])\n",
    "\n",
    "    # Split the data into training and testing sets\n",
    "    train_features, test_features, train_labels, test_labels = train_test_split(features, labels, test_size = 0.2, random_state=42)\n",
    "\n",
    "    # Instantiate model with 1000 decision trees\n",
    "    logisticRegr = LogisticRegression()\n",
    "    \n",
    "    # Train the model on training data\n",
    "    logisticRegr.fit(train_features, train_labels)\n",
    "    \n",
    "    # Use the forest's predict method on the test data\n",
    "    predictions = logisticRegr.predict(test_features)\n",
    "\n",
    "    # Classification report\n",
    "    print(classification_report(test_labels, predictions.round()))"
   ]
  },
  {
   "cell_type": "code",
   "execution_count": 81,
   "id": "electrical-webster",
   "metadata": {},
   "outputs": [],
   "source": [
    "''' The Model'''\n",
    "\n",
    "# Labels are the values we want to predict\n",
    "labels = np.array(data['ECO'])\n",
    "\n",
    "# Remove the labels from the features\n",
    "features = np.array(data[cols])\n",
    "\n",
    "# Split the data into training and testing sets\n",
    "train_features, test_features, train_labels, test_labels = train_test_split(features, labels, test_size = 0.2)"
   ]
  },
  {
   "cell_type": "code",
   "execution_count": 82,
   "id": "adverse-brave",
   "metadata": {},
   "outputs": [
    {
     "name": "stdout",
     "output_type": "stream",
     "text": [
      "7644.804353713989\n",
      "36.22756266593933\n",
      "              precision    recall  f1-score   support\n",
      "\n",
      "       False       0.88      0.91      0.90     68956\n",
      "        True       0.80      0.74      0.77     32323\n",
      "\n",
      "    accuracy                           0.86    101279\n",
      "   macro avg       0.84      0.82      0.83    101279\n",
      "weighted avg       0.85      0.86      0.85    101279\n",
      "\n"
     ]
    }
   ],
   "source": [
    "# Instantiate model with 300 decision trees\n",
    "rf = RandomForestRegressor(n_estimators = 1000)\n",
    "\n",
    "st = time.time()\n",
    "\n",
    "# Train the model on training data\n",
    "rf.fit(train_features, train_labels)\n",
    "\n",
    "fn = time.time()\n",
    "print(fn - st)\n",
    "\n",
    "# Use the forest's predict method on the test data\n",
    "predictions = rf.predict(test_features)\n",
    "\n",
    "print(time.time() - fn)\n",
    "\n",
    "# Classification report\n",
    "print(classification_report(test_labels, predictions.round()))"
   ]
  },
  {
   "cell_type": "markdown",
   "id": "minute-conspiracy",
   "metadata": {},
   "source": [
    "# Statistics"
   ]
  },
  {
   "cell_type": "code",
   "execution_count": 24,
   "id": "fuzzy-spread",
   "metadata": {},
   "outputs": [
    {
     "data": {
      "text/plain": [
       "(506392, 121)"
      ]
     },
     "execution_count": 24,
     "metadata": {},
     "output_type": "execute_result"
    }
   ],
   "source": [
    "data.shape"
   ]
  },
  {
   "cell_type": "code",
   "execution_count": 40,
   "id": "increased-arnold",
   "metadata": {},
   "outputs": [
    {
     "name": "stdout",
     "output_type": "stream",
     "text": [
      "False    346365\n",
      "True     160027\n",
      "Name: ECO, dtype: int64\n"
     ]
    }
   ],
   "source": [
    "print(data['ECO'].value_counts())"
   ]
  },
  {
   "cell_type": "code",
   "execution_count": 41,
   "id": "stuffed-messenger",
   "metadata": {},
   "outputs": [
    {
     "name": "stdout",
     "output_type": "stream",
     "text": [
      "1    258539\n",
      "0    247853\n",
      "Name: COSEXE, dtype: int64\n"
     ]
    }
   ],
   "source": [
    "print(data['COSEXE'].value_counts())"
   ]
  },
  {
   "cell_type": "code",
   "execution_count": 43,
   "id": "smaller-bulgarian",
   "metadata": {},
   "outputs": [
    {
     "name": "stdout",
     "output_type": "stream",
     "text": [
      "0-17 :: 98172\n",
      "18-39 :: 135327\n",
      "40-64 :: 173403\n",
      "65-~ :: 99490\n"
     ]
    }
   ],
   "source": [
    "print('0-17 ::', data[(0 <= data['QTAGCL']) & (data['QTAGCL'] < 18)]['COSEXE'].count())\n",
    "print('18-39 ::', data[(18 <= data['QTAGCL']) & (data['QTAGCL'] < 40)]['COSEXE'].count())\n",
    "print('40-64 ::', data[(40 <= data['QTAGCL']) & (data['QTAGCL'] < 65)]['COSEXE'].count())\n",
    "print('65-~ ::', data[65 <= data['QTAGCL']]['COSEXE'].count())"
   ]
  },
  {
   "cell_type": "code",
   "execution_count": 47,
   "id": "settled-spending",
   "metadata": {},
   "outputs": [
    {
     "name": "stdout",
     "output_type": "stream",
     "text": [
      "ECO    COSEXE\n",
      "False  1         174093\n",
      "       0         172272\n",
      "True   1          84446\n",
      "       0          75581\n",
      "Name: COSEXE, dtype: int64\n"
     ]
    }
   ],
   "source": [
    "# lol = ['COSEXE', 'QTAGCL', 'CTSCPI']\n",
    "print(data.groupby('ECO')['COSEXE'].value_counts())"
   ]
  },
  {
   "cell_type": "code",
   "execution_count": 37,
   "id": "united-league",
   "metadata": {},
   "outputs": [
    {
     "name": "stdout",
     "output_type": "stream",
     "text": [
      "0-17 ::\n",
      " ECO\n",
      "False    97505\n",
      "True       667\n",
      "Name: QTAGCL, dtype: int64 \n",
      "\n",
      "18-39 ::\n",
      " ECO\n",
      "False    100192\n",
      "True      35135\n",
      "Name: QTAGCL, dtype: int64 \n",
      "\n",
      "40-64 ::\n",
      " ECO\n",
      "False    98117\n",
      "True     75286\n",
      "Name: QTAGCL, dtype: int64 \n",
      "\n",
      "65-~ ::\n",
      " ECO\n",
      "False    50551\n",
      "True     48939\n",
      "Name: QTAGCL, dtype: int64 \n",
      "\n"
     ]
    }
   ],
   "source": [
    "print('0-17 ::\\n', data[(0 <= data['QTAGCL']) & (data['QTAGCL'] < 18)].groupby('ECO')['QTAGCL'].count(), '\\n')\n",
    "print('18-39 ::\\n', data[(18 <= data['QTAGCL']) & (data['QTAGCL'] < 40)].groupby('ECO')['QTAGCL'].count(), '\\n')\n",
    "print('40-64 ::\\n', data[(40 <= data['QTAGCL']) & (data['QTAGCL'] < 65)].groupby('ECO')['QTAGCL'].count(), '\\n')\n",
    "print('65-~ ::\\n', data[65 <= data['QTAGCL']].groupby('ECO')['QTAGCL'].count(), '\\n')"
   ]
  },
  {
   "cell_type": "markdown",
   "id": "indirect-tucson",
   "metadata": {},
   "source": [
    "## Save it"
   ]
  },
  {
   "cell_type": "code",
   "execution_count": 45,
   "id": "catholic-madonna",
   "metadata": {},
   "outputs": [],
   "source": [
    "ninja = ctr[ctr['COPRO'].isin(eco)][['COMAX', 'COPRO']]\n",
    "ninja = ninja[ninja['COMAX'].isin(data[data['ECO'] == True]['COMAX'])]"
   ]
  },
  {
   "cell_type": "code",
   "execution_count": 62,
   "id": "completed-qualification",
   "metadata": {},
   "outputs": [],
   "source": [
    "one = set(ninja[ninja['COPRO'].isin(credit)]['COMAX'].values)\n",
    "two = set(ninja[ninja['COPRO'].isin(depot)]['COMAX'].values)\n",
    "three = set(ninja[ninja['COPRO'].isin(comm)]['COMAX'].values)"
   ]
  }
 ],
 "metadata": {
  "kernelspec": {
   "display_name": "Python 3",
   "language": "python",
   "name": "python3"
  },
  "language_info": {
   "codemirror_mode": {
    "name": "ipython",
    "version": 3
   },
   "file_extension": ".py",
   "mimetype": "text/x-python",
   "name": "python",
   "nbconvert_exporter": "python",
   "pygments_lexer": "ipython3",
   "version": "3.6.8"
  }
 },
 "nbformat": 4,
 "nbformat_minor": 5
}
