{
 "cells": [
  {
   "cell_type": "code",
   "execution_count": 2,
   "id": "hundred-coordinator",
   "metadata": {},
   "outputs": [],
   "source": [
    "# Load modules for data manipulation\n",
    "from dotenv import load_dotenv\n",
    "import pandas as pd\n",
    "import numpy as np\n",
    "import os"
   ]
  },
  {
   "cell_type": "code",
   "execution_count": 3,
   "id": "pressed-stake",
   "metadata": {},
   "outputs": [],
   "source": [
    "# Load modules for machine learning\n",
    "# Using Skicit-learn to split data into training and testing sets\n",
    "from sklearn.model_selection import train_test_split\n",
    "\n",
    "# Import the model we are using\n",
    "from sklearn.ensemble import RandomForestRegressor\n",
    "\n",
    "# Calculate the accurancy of the model\n",
    "from sklearn.metrics import accuracy_score, classification_report"
   ]
  },
  {
   "cell_type": "code",
   "execution_count": 4,
   "id": "alike-preference",
   "metadata": {},
   "outputs": [
    {
     "data": {
      "text/plain": [
       "True"
      ]
     },
     "execution_count": 4,
     "metadata": {},
     "output_type": "execute_result"
    }
   ],
   "source": [
    "load_dotenv()"
   ]
  },
  {
   "cell_type": "code",
   "execution_count": 5,
   "id": "impressed-formula",
   "metadata": {},
   "outputs": [],
   "source": [
    "eco = pd.read_csv(os.getenv('CLEANED_DATA_PATH') + '/' + 'eco-products.csv', encoding='ISO-8859-1', sep='\\t')\n",
    "clt = pd.read_csv(os.getenv('CLEANED_DATA_PATH') + '/' + 'TJ38.csv', encoding='ISO-8859-1', sep='\\t')\n",
    "ctr = pd.read_csv(os.getenv('CLEANED_DATA_PATH') + '/' + 'TJ7S.csv', encoding='ISO-8859-1', sep='\\t', low_memory=False)"
   ]
  },
  {
   "cell_type": "markdown",
   "id": "earlier-arabic",
   "metadata": {},
   "source": [
    "## Get the best ecological product"
   ]
  },
  {
   "cell_type": "code",
   "execution_count": 6,
   "id": "transparent-chain",
   "metadata": {},
   "outputs": [],
   "source": [
    "eco = [str(i).zfill(5) for i in eco['COPRO']]"
   ]
  },
  {
   "cell_type": "code",
   "execution_count": 7,
   "id": "applied-cheat",
   "metadata": {},
   "outputs": [
    {
     "data": {
      "text/plain": [
       "00003    242568\n",
       "00546      5141\n",
       "00548      4785\n",
       "07649      2724\n",
       "00940      2166\n",
       "00509      1876\n",
       "00547      1027\n",
       "00941       388\n",
       "03992       101\n",
       "00565        83\n",
       "06458        75\n",
       "Name: COPRO, dtype: int64"
      ]
     },
     "execution_count": 7,
     "metadata": {},
     "output_type": "execute_result"
    }
   ],
   "source": [
    "## ECO: 00003 | 242568 - LIVRET DEVELOPPEMENT DURABLE ET SOLIDAIRE\n",
    "## DEPOTS MONETAIRES - EPARGNE MONETAIRE LIQUIDE - LIVRETS REGLEMENTES\n",
    "ctr[ctr['COPRO'].isin(eco)]['COPRO'].value_counts()"
   ]
  },
  {
   "cell_type": "markdown",
   "id": "exact-boating",
   "metadata": {},
   "source": [
    "## Concatinate with other tables TJ39 - TJDR - TJER"
   ]
  },
  {
   "cell_type": "code",
   "execution_count": 8,
   "id": "entitled-dubai",
   "metadata": {},
   "outputs": [],
   "source": [
    "tj39 = pd.read_csv(os.getenv('DATA_PATH') + '/' + 'tj39.csv', encoding='ISO-8859-1', sep=';')\n",
    "tjdr = pd.read_csv(os.getenv('DATA_PATH') + '/' + 'tjdr.csv', encoding='ISO-8859-1', sep=';')\n",
    "tjer = pd.read_csv(os.getenv('DATA_PATH') + '/' + 'tjer.csv', encoding='ISO-8859-1', sep=';')"
   ]
  },
  {
   "cell_type": "code",
   "execution_count": 9,
   "id": "younger-ordinary",
   "metadata": {},
   "outputs": [],
   "source": [
    "tj39 = tj39[['COMAX', 'MSMENC', 'MTPATR', 'MTVAOP']]\n",
    "tjdr = tjdr[['COMAX', 'MTRVIM', 'MTRVFR', 'QTPAFI', 'COHAVI']]\n",
    "tjer = tjer[['COMAX', 'MTAPJE', 'MTCPJE', 'MTPJE']]"
   ]
  },
  {
   "cell_type": "code",
   "execution_count": 10,
   "id": "common-bernard",
   "metadata": {},
   "outputs": [],
   "source": [
    "tj39['COMAX'] = [val[:10] for val in tj39['COMAX'].values]"
   ]
  },
  {
   "cell_type": "code",
   "execution_count": 11,
   "id": "specified-paradise",
   "metadata": {},
   "outputs": [
    {
     "data": {
      "text/html": [
       "<div>\n",
       "<style scoped>\n",
       "    .dataframe tbody tr th:only-of-type {\n",
       "        vertical-align: middle;\n",
       "    }\n",
       "\n",
       "    .dataframe tbody tr th {\n",
       "        vertical-align: top;\n",
       "    }\n",
       "\n",
       "    .dataframe thead th {\n",
       "        text-align: right;\n",
       "    }\n",
       "</style>\n",
       "<table border=\"1\" class=\"dataframe\">\n",
       "  <thead>\n",
       "    <tr style=\"text-align: right;\">\n",
       "      <th></th>\n",
       "      <th>COMAX</th>\n",
       "      <th>AGE</th>\n",
       "      <th>COSEXE</th>\n",
       "      <th>CTSCPI</th>\n",
       "      <th>CESITC</th>\n",
       "      <th>DDVALE</th>\n",
       "      <th>DFVALE</th>\n",
       "      <th>COPOST</th>\n",
       "      <th>LAT</th>\n",
       "      <th>LON</th>\n",
       "    </tr>\n",
       "  </thead>\n",
       "  <tbody>\n",
       "    <tr>\n",
       "      <th>517291</th>\n",
       "      <td>1ce15b6b35</td>\n",
       "      <td>59</td>\n",
       "      <td>1</td>\n",
       "      <td>2300</td>\n",
       "      <td>1</td>\n",
       "      <td>2013-10-21</td>\n",
       "      <td>9999-01-01</td>\n",
       "      <td>66330</td>\n",
       "      <td>42.6813</td>\n",
       "      <td>2.9412</td>\n",
       "    </tr>\n",
       "  </tbody>\n",
       "</table>\n",
       "</div>"
      ],
      "text/plain": [
       "             COMAX  AGE  COSEXE  CTSCPI  CESITC      DDVALE      DFVALE  \\\n",
       "517291  1ce15b6b35   59       1    2300       1  2013-10-21  9999-01-01   \n",
       "\n",
       "        COPOST      LAT     LON  \n",
       "517291   66330  42.6813  2.9412  "
      ]
     },
     "execution_count": 11,
     "metadata": {},
     "output_type": "execute_result"
    }
   ],
   "source": [
    "# pour le cas de la table tj39, la variable COMAX elle est de 13 caracteres\n",
    "# or celle des autres tables sont de 10, donc il fallait convertir de 13 a 10\n",
    "# on prend les 10 premiers caractères du COMAX de tj39, d'apres le data engineer\n",
    "# de la PBS.\n",
    "clt[clt['COMAX'] == '1ce15b6b35']"
   ]
  },
  {
   "cell_type": "code",
   "execution_count": 12,
   "id": "global-money",
   "metadata": {},
   "outputs": [],
   "source": [
    "# This table is only good fot the moral clients only\n",
    "data = pd.merge(clt,tj39,on='COMAX',how='left')\n",
    "data = pd.merge(data,tjer,on='COMAX',how='left')\n",
    "data = pd.merge(data,tjdr,on='COMAX',how='left')"
   ]
  },
  {
   "cell_type": "code",
   "execution_count": 13,
   "id": "legitimate-beatles",
   "metadata": {},
   "outputs": [],
   "source": [
    "data = data.dropna()"
   ]
  },
  {
   "cell_type": "code",
   "execution_count": 14,
   "id": "union-bennett",
   "metadata": {},
   "outputs": [],
   "source": [
    "data = data.drop_duplicates(subset=['COMAX'])"
   ]
  },
  {
   "cell_type": "code",
   "execution_count": 15,
   "id": "finite-garlic",
   "metadata": {},
   "outputs": [
    {
     "data": {
      "text/plain": [
       "(2747, 20)"
      ]
     },
     "execution_count": 15,
     "metadata": {},
     "output_type": "execute_result"
    }
   ],
   "source": [
    "data.shape"
   ]
  },
  {
   "cell_type": "markdown",
   "id": "rotary-sucking",
   "metadata": {},
   "source": [
    "## les avec le 00003"
   ]
  },
  {
   "cell_type": "code",
   "execution_count": 17,
   "id": "brilliant-nowhere",
   "metadata": {},
   "outputs": [],
   "source": [
    "cols = ['AGE', 'COSEXE', 'CTSCPI', 'LAT', 'LON', 'MSMENC', 'MTPATR',\n",
    "        'MTVAOP', 'MTAPJE', 'MTCPJE', 'MTPJE', 'MTRVIM', 'MTRVFR', 'QTPAFI', 'COHAVI']"
   ]
  },
  {
   "cell_type": "code",
   "execution_count": 18,
   "id": "forward-participant",
   "metadata": {},
   "outputs": [],
   "source": [
    "def done(ecos, cols):\n",
    "    print('THIS IS PRODUCT:', ecos)\n",
    "    \n",
    "    # get the ids of the products\n",
    "    ids = ctr[ctr['COPRO'].isin(ecos)]['COMAX'].values\n",
    "    data['ECO'] = data['COMAX'].isin(ids)\n",
    "    \n",
    "    # change the types\n",
    "    data['CTSCPI'] = data['CTSCPI'].astype(str)\n",
    "    data['COPOST'] = data['COPOST'].astype(str)\n",
    "    \n",
    "    ''' The Model'''\n",
    "    \n",
    "    # Labels are the values we want to predict\n",
    "    labels = np.array(data['ECO'])\n",
    "\n",
    "    # Remove the labels from the features\n",
    "    features = np.array(data[cols])\n",
    "\n",
    "    # Split the data into training and testing sets\n",
    "    train_features, test_features, train_labels, test_labels = train_test_split(features, labels, test_size = 0.2, random_state = 42)\n",
    "\n",
    "    # Instantiate model with 1000 decision trees\n",
    "    rf = RandomForestRegressor(n_estimators = 1000, random_state = 42)\n",
    "\n",
    "    # Train the model on training data\n",
    "    rf.fit(train_features, train_labels)\n",
    "\n",
    "    # Use the forest's predict method on the test data\n",
    "    predictions = rf.predict(test_features)\n",
    "\n",
    "    # Classification report\n",
    "    print(classification_report(test_labels, predictions.round()))    "
   ]
  },
  {
   "cell_type": "code",
   "execution_count": 20,
   "id": "certain-baghdad",
   "metadata": {},
   "outputs": [
    {
     "name": "stdout",
     "output_type": "stream",
     "text": [
      "THIS IS PRODUCT: ['00568']\n",
      "              precision    recall  f1-score   support\n",
      "\n",
      "       False       1.00      1.00      1.00       550\n",
      "\n",
      "    accuracy                           1.00       550\n",
      "   macro avg       1.00      1.00      1.00       550\n",
      "weighted avg       1.00      1.00      1.00       550\n",
      "\n",
      "THIS IS PRODUCT: ['05808']\n",
      "              precision    recall  f1-score   support\n",
      "\n",
      "       False       1.00      1.00      1.00       550\n",
      "\n",
      "    accuracy                           1.00       550\n",
      "   macro avg       1.00      1.00      1.00       550\n",
      "weighted avg       1.00      1.00      1.00       550\n",
      "\n",
      "THIS IS PRODUCT: ['00943']\n",
      "              precision    recall  f1-score   support\n",
      "\n",
      "       False       1.00      1.00      1.00       550\n",
      "\n",
      "    accuracy                           1.00       550\n",
      "   macro avg       1.00      1.00      1.00       550\n",
      "weighted avg       1.00      1.00      1.00       550\n",
      "\n",
      "THIS IS PRODUCT: ['00942']\n",
      "              precision    recall  f1-score   support\n",
      "\n",
      "       False       1.00      1.00      1.00       550\n",
      "\n",
      "    accuracy                           1.00       550\n",
      "   macro avg       1.00      1.00      1.00       550\n",
      "weighted avg       1.00      1.00      1.00       550\n",
      "\n",
      "THIS IS PRODUCT: ['07648']\n",
      "              precision    recall  f1-score   support\n",
      "\n",
      "       False       1.00      1.00      1.00       550\n",
      "\n",
      "    accuracy                           1.00       550\n",
      "   macro avg       1.00      1.00      1.00       550\n",
      "weighted avg       1.00      1.00      1.00       550\n",
      "\n",
      "THIS IS PRODUCT: ['07649']\n",
      "              precision    recall  f1-score   support\n",
      "\n",
      "       False       0.98      1.00      0.99       539\n",
      "        True       0.00      0.00      0.00        11\n",
      "\n",
      "    accuracy                           0.98       550\n",
      "   macro avg       0.49      0.50      0.49       550\n",
      "weighted avg       0.96      0.98      0.97       550\n",
      "\n",
      "THIS IS PRODUCT: ['00546']\n"
     ]
    },
    {
     "name": "stderr",
     "output_type": "stream",
     "text": [
      "/trinity/shared/apps/local/Python/3.6.8/lib/python3.6/site-packages/sklearn/metrics/_classification.py:1245: UndefinedMetricWarning: Precision and F-score are ill-defined and being set to 0.0 in labels with no predicted samples. Use `zero_division` parameter to control this behavior.\n",
      "  _warn_prf(average, modifier, msg_start, len(result))\n",
      "/trinity/shared/apps/local/Python/3.6.8/lib/python3.6/site-packages/sklearn/metrics/_classification.py:1245: UndefinedMetricWarning: Precision and F-score are ill-defined and being set to 0.0 in labels with no predicted samples. Use `zero_division` parameter to control this behavior.\n",
      "  _warn_prf(average, modifier, msg_start, len(result))\n",
      "/trinity/shared/apps/local/Python/3.6.8/lib/python3.6/site-packages/sklearn/metrics/_classification.py:1245: UndefinedMetricWarning: Precision and F-score are ill-defined and being set to 0.0 in labels with no predicted samples. Use `zero_division` parameter to control this behavior.\n",
      "  _warn_prf(average, modifier, msg_start, len(result))\n"
     ]
    },
    {
     "name": "stdout",
     "output_type": "stream",
     "text": [
      "              precision    recall  f1-score   support\n",
      "\n",
      "       False       0.97      1.00      0.99       535\n",
      "        True       0.00      0.00      0.00        15\n",
      "\n",
      "    accuracy                           0.97       550\n",
      "   macro avg       0.49      0.50      0.49       550\n",
      "weighted avg       0.95      0.97      0.96       550\n",
      "\n",
      "THIS IS PRODUCT: ['00547']\n"
     ]
    },
    {
     "name": "stderr",
     "output_type": "stream",
     "text": [
      "/trinity/shared/apps/local/Python/3.6.8/lib/python3.6/site-packages/sklearn/metrics/_classification.py:1245: UndefinedMetricWarning: Precision and F-score are ill-defined and being set to 0.0 in labels with no predicted samples. Use `zero_division` parameter to control this behavior.\n",
      "  _warn_prf(average, modifier, msg_start, len(result))\n",
      "/trinity/shared/apps/local/Python/3.6.8/lib/python3.6/site-packages/sklearn/metrics/_classification.py:1245: UndefinedMetricWarning: Precision and F-score are ill-defined and being set to 0.0 in labels with no predicted samples. Use `zero_division` parameter to control this behavior.\n",
      "  _warn_prf(average, modifier, msg_start, len(result))\n",
      "/trinity/shared/apps/local/Python/3.6.8/lib/python3.6/site-packages/sklearn/metrics/_classification.py:1245: UndefinedMetricWarning: Precision and F-score are ill-defined and being set to 0.0 in labels with no predicted samples. Use `zero_division` parameter to control this behavior.\n",
      "  _warn_prf(average, modifier, msg_start, len(result))\n"
     ]
    },
    {
     "name": "stdout",
     "output_type": "stream",
     "text": [
      "              precision    recall  f1-score   support\n",
      "\n",
      "       False       0.99      1.00      1.00       547\n",
      "        True       0.00      0.00      0.00         3\n",
      "\n",
      "    accuracy                           0.99       550\n",
      "   macro avg       0.50      0.50      0.50       550\n",
      "weighted avg       0.99      0.99      0.99       550\n",
      "\n",
      "THIS IS PRODUCT: ['03992']\n",
      "              precision    recall  f1-score   support\n",
      "\n",
      "       False       1.00      1.00      1.00       550\n",
      "\n",
      "    accuracy                           1.00       550\n",
      "   macro avg       1.00      1.00      1.00       550\n",
      "weighted avg       1.00      1.00      1.00       550\n",
      "\n",
      "THIS IS PRODUCT: ['00940']\n"
     ]
    },
    {
     "name": "stderr",
     "output_type": "stream",
     "text": [
      "/trinity/shared/apps/local/Python/3.6.8/lib/python3.6/site-packages/sklearn/metrics/_classification.py:1245: UndefinedMetricWarning: Precision and F-score are ill-defined and being set to 0.0 in labels with no predicted samples. Use `zero_division` parameter to control this behavior.\n",
      "  _warn_prf(average, modifier, msg_start, len(result))\n",
      "/trinity/shared/apps/local/Python/3.6.8/lib/python3.6/site-packages/sklearn/metrics/_classification.py:1245: UndefinedMetricWarning: Precision and F-score are ill-defined and being set to 0.0 in labels with no predicted samples. Use `zero_division` parameter to control this behavior.\n",
      "  _warn_prf(average, modifier, msg_start, len(result))\n",
      "/trinity/shared/apps/local/Python/3.6.8/lib/python3.6/site-packages/sklearn/metrics/_classification.py:1245: UndefinedMetricWarning: Precision and F-score are ill-defined and being set to 0.0 in labels with no predicted samples. Use `zero_division` parameter to control this behavior.\n",
      "  _warn_prf(average, modifier, msg_start, len(result))\n"
     ]
    },
    {
     "name": "stdout",
     "output_type": "stream",
     "text": [
      "              precision    recall  f1-score   support\n",
      "\n",
      "       False       1.00      1.00      1.00       549\n",
      "        True       0.00      0.00      0.00         1\n",
      "\n",
      "    accuracy                           1.00       550\n",
      "   macro avg       0.50      0.50      0.50       550\n",
      "weighted avg       1.00      1.00      1.00       550\n",
      "\n",
      "THIS IS PRODUCT: ['00941']\n"
     ]
    },
    {
     "name": "stderr",
     "output_type": "stream",
     "text": [
      "/trinity/shared/apps/local/Python/3.6.8/lib/python3.6/site-packages/sklearn/metrics/_classification.py:1245: UndefinedMetricWarning: Precision and F-score are ill-defined and being set to 0.0 in labels with no predicted samples. Use `zero_division` parameter to control this behavior.\n",
      "  _warn_prf(average, modifier, msg_start, len(result))\n",
      "/trinity/shared/apps/local/Python/3.6.8/lib/python3.6/site-packages/sklearn/metrics/_classification.py:1245: UndefinedMetricWarning: Precision and F-score are ill-defined and being set to 0.0 in labels with no predicted samples. Use `zero_division` parameter to control this behavior.\n",
      "  _warn_prf(average, modifier, msg_start, len(result))\n",
      "/trinity/shared/apps/local/Python/3.6.8/lib/python3.6/site-packages/sklearn/metrics/_classification.py:1245: UndefinedMetricWarning: Precision and F-score are ill-defined and being set to 0.0 in labels with no predicted samples. Use `zero_division` parameter to control this behavior.\n",
      "  _warn_prf(average, modifier, msg_start, len(result))\n"
     ]
    },
    {
     "name": "stdout",
     "output_type": "stream",
     "text": [
      "              precision    recall  f1-score   support\n",
      "\n",
      "       False       1.00      1.00      1.00       549\n",
      "        True       0.00      0.00      0.00         1\n",
      "\n",
      "    accuracy                           1.00       550\n",
      "   macro avg       0.50      0.50      0.50       550\n",
      "weighted avg       1.00      1.00      1.00       550\n",
      "\n",
      "THIS IS PRODUCT: ['07606']\n",
      "              precision    recall  f1-score   support\n",
      "\n",
      "       False       1.00      1.00      1.00       550\n",
      "\n",
      "    accuracy                           1.00       550\n",
      "   macro avg       1.00      1.00      1.00       550\n",
      "weighted avg       1.00      1.00      1.00       550\n",
      "\n",
      "THIS IS PRODUCT: ['00003']\n",
      "              precision    recall  f1-score   support\n",
      "\n",
      "       False       0.46      0.22      0.30       159\n",
      "        True       0.74      0.90      0.81       391\n",
      "\n",
      "    accuracy                           0.70       550\n",
      "   macro avg       0.60      0.56      0.55       550\n",
      "weighted avg       0.66      0.70      0.66       550\n",
      "\n",
      "THIS IS PRODUCT: ['05807']\n",
      "              precision    recall  f1-score   support\n",
      "\n",
      "       False       1.00      1.00      1.00       550\n",
      "\n",
      "    accuracy                           1.00       550\n",
      "   macro avg       1.00      1.00      1.00       550\n",
      "weighted avg       1.00      1.00      1.00       550\n",
      "\n",
      "THIS IS PRODUCT: ['00548']\n"
     ]
    },
    {
     "name": "stderr",
     "output_type": "stream",
     "text": [
      "/trinity/shared/apps/local/Python/3.6.8/lib/python3.6/site-packages/sklearn/metrics/_classification.py:1245: UndefinedMetricWarning: Precision and F-score are ill-defined and being set to 0.0 in labels with no predicted samples. Use `zero_division` parameter to control this behavior.\n",
      "  _warn_prf(average, modifier, msg_start, len(result))\n",
      "/trinity/shared/apps/local/Python/3.6.8/lib/python3.6/site-packages/sklearn/metrics/_classification.py:1245: UndefinedMetricWarning: Precision and F-score are ill-defined and being set to 0.0 in labels with no predicted samples. Use `zero_division` parameter to control this behavior.\n",
      "  _warn_prf(average, modifier, msg_start, len(result))\n",
      "/trinity/shared/apps/local/Python/3.6.8/lib/python3.6/site-packages/sklearn/metrics/_classification.py:1245: UndefinedMetricWarning: Precision and F-score are ill-defined and being set to 0.0 in labels with no predicted samples. Use `zero_division` parameter to control this behavior.\n",
      "  _warn_prf(average, modifier, msg_start, len(result))\n"
     ]
    },
    {
     "name": "stdout",
     "output_type": "stream",
     "text": [
      "              precision    recall  f1-score   support\n",
      "\n",
      "       False       0.98      1.00      0.99       537\n",
      "        True       0.00      0.00      0.00        13\n",
      "\n",
      "    accuracy                           0.98       550\n",
      "   macro avg       0.49      0.50      0.49       550\n",
      "weighted avg       0.95      0.98      0.96       550\n",
      "\n",
      "THIS IS PRODUCT: ['06458']\n"
     ]
    },
    {
     "name": "stderr",
     "output_type": "stream",
     "text": [
      "/trinity/shared/apps/local/Python/3.6.8/lib/python3.6/site-packages/sklearn/metrics/_classification.py:1245: UndefinedMetricWarning: Recall and F-score are ill-defined and being set to 0.0 in labels with no true samples. Use `zero_division` parameter to control this behavior.\n",
      "  _warn_prf(average, modifier, msg_start, len(result))\n",
      "/trinity/shared/apps/local/Python/3.6.8/lib/python3.6/site-packages/sklearn/metrics/_classification.py:1245: UndefinedMetricWarning: Recall and F-score are ill-defined and being set to 0.0 in labels with no true samples. Use `zero_division` parameter to control this behavior.\n",
      "  _warn_prf(average, modifier, msg_start, len(result))\n",
      "/trinity/shared/apps/local/Python/3.6.8/lib/python3.6/site-packages/sklearn/metrics/_classification.py:1245: UndefinedMetricWarning: Recall and F-score are ill-defined and being set to 0.0 in labels with no true samples. Use `zero_division` parameter to control this behavior.\n",
      "  _warn_prf(average, modifier, msg_start, len(result))\n"
     ]
    },
    {
     "name": "stdout",
     "output_type": "stream",
     "text": [
      "              precision    recall  f1-score   support\n",
      "\n",
      "         0.0       1.00      1.00      1.00       550\n",
      "         1.0       0.00      0.00      0.00         0\n",
      "\n",
      "    accuracy                           1.00       550\n",
      "   macro avg       0.50      0.50      0.50       550\n",
      "weighted avg       1.00      1.00      1.00       550\n",
      "\n",
      "THIS IS PRODUCT: ['00509']\n",
      "              precision    recall  f1-score   support\n",
      "\n",
      "       False       1.00      1.00      1.00       550\n",
      "\n",
      "    accuracy                           1.00       550\n",
      "   macro avg       1.00      1.00      1.00       550\n",
      "weighted avg       1.00      1.00      1.00       550\n",
      "\n",
      "THIS IS PRODUCT: ['00565']\n",
      "              precision    recall  f1-score   support\n",
      "\n",
      "       False       1.00      1.00      1.00       550\n",
      "\n",
      "    accuracy                           1.00       550\n",
      "   macro avg       1.00      1.00      1.00       550\n",
      "weighted avg       1.00      1.00      1.00       550\n",
      "\n"
     ]
    }
   ],
   "source": [
    "for ecos in eco:\n",
    "    done([ecos], cols)"
   ]
  },
  {
   "cell_type": "code",
   "execution_count": 21,
   "id": "nominated-possession",
   "metadata": {},
   "outputs": [
    {
     "name": "stdout",
     "output_type": "stream",
     "text": [
      "THIS IS PRODUCT: ['00568', '05808', '00943', '00942', '07648', '07649', '00546', '00547', '03992', '00940', '00941', '07606', '00003', '05807', '00548', '06458', '00509', '00565']\n",
      "              precision    recall  f1-score   support\n",
      "\n",
      "       False       0.42      0.15      0.22       148\n",
      "        True       0.75      0.92      0.83       402\n",
      "\n",
      "    accuracy                           0.71       550\n",
      "   macro avg       0.58      0.54      0.52       550\n",
      "weighted avg       0.66      0.71      0.66       550\n",
      "\n"
     ]
    }
   ],
   "source": [
    "done(eco, cols)"
   ]
  },
  {
   "cell_type": "code",
   "execution_count": null,
   "id": "split-ticket",
   "metadata": {},
   "outputs": [],
   "source": []
  }
 ],
 "metadata": {
  "kernelspec": {
   "display_name": "Python 3",
   "language": "python",
   "name": "python3"
  },
  "language_info": {
   "codemirror_mode": {
    "name": "ipython",
    "version": 3
   },
   "file_extension": ".py",
   "mimetype": "text/x-python",
   "name": "python",
   "nbconvert_exporter": "python",
   "pygments_lexer": "ipython3",
   "version": "3.6.8"
  }
 },
 "nbformat": 4,
 "nbformat_minor": 5
}
