{
 "cells": [
  {
   "cell_type": "code",
   "execution_count": 52,
   "id": "hundred-coordinator",
   "metadata": {},
   "outputs": [],
   "source": [
    "# Load modules for data manipulation\n",
    "from dotenv import load_dotenv\n",
    "import seaborn as sn\n",
    "import matplotlib.pyplot as plt\n",
    "from subprocess import call\n",
    "import pandas as pd\n",
    "import numpy as np\n",
    "import os"
   ]
  },
  {
   "cell_type": "code",
   "execution_count": 49,
   "id": "pressed-stake",
   "metadata": {},
   "outputs": [],
   "source": [
    "# Load modules for machine learning\n",
    "# Using Skicit-learn to split data into training and testing sets\n",
    "from sklearn.model_selection import train_test_split\n",
    "\n",
    "# Import the model we are using\n",
    "from sklearn.ensemble import RandomForestRegressor\n",
    "\n",
    "# Calculate the accurancy of the model\n",
    "from sklearn.metrics import accuracy_score, classification_report\n",
    "\n",
    "# For drawing the graph\n",
    "from sklearn.tree import export_graphviz"
   ]
  },
  {
   "cell_type": "code",
   "execution_count": 3,
   "id": "alike-preference",
   "metadata": {},
   "outputs": [
    {
     "data": {
      "text/plain": [
       "True"
      ]
     },
     "execution_count": 3,
     "metadata": {},
     "output_type": "execute_result"
    }
   ],
   "source": [
    "load_dotenv()"
   ]
  },
  {
   "cell_type": "code",
   "execution_count": 4,
   "id": "impressed-formula",
   "metadata": {},
   "outputs": [],
   "source": [
    "eco = pd.read_csv(os.getenv('CLEANED_DATA_PATH') + '/' + 'eco-products.csv', encoding='ISO-8859-1', sep='\\t')\n",
    "clt = pd.read_csv(os.getenv('CLEANED_DATA_PATH') + '/' + 'TJ38.csv', encoding='ISO-8859-1', sep='\\t')\n",
    "ctr = pd.read_csv(os.getenv('CLEANED_DATA_PATH') + '/' + 'TJ7S.csv', encoding='ISO-8859-1', sep='\\t', low_memory=False)"
   ]
  },
  {
   "cell_type": "markdown",
   "id": "earlier-arabic",
   "metadata": {},
   "source": [
    "## Get the best ecological product"
   ]
  },
  {
   "cell_type": "code",
   "execution_count": 5,
   "id": "transparent-chain",
   "metadata": {},
   "outputs": [],
   "source": [
    "eco = [str(i).zfill(5) for i in eco['COPRO']]"
   ]
  },
  {
   "cell_type": "code",
   "execution_count": 6,
   "id": "applied-cheat",
   "metadata": {},
   "outputs": [
    {
     "data": {
      "text/plain": [
       "00003    242568\n",
       "00546      5141\n",
       "00548      4785\n",
       "07649      2724\n",
       "00940      2166\n",
       "00509      1876\n",
       "00547      1027\n",
       "00941       388\n",
       "03992       101\n",
       "00565        83\n",
       "06458        75\n",
       "Name: COPRO, dtype: int64"
      ]
     },
     "execution_count": 6,
     "metadata": {},
     "output_type": "execute_result"
    }
   ],
   "source": [
    "## ECO: 00003 | 242568 - LIVRET DEVELOPPEMENT DURABLE ET SOLIDAIRE\n",
    "## DEPOTS MONETAIRES - EPARGNE MONETAIRE LIQUIDE - LIVRETS REGLEMENTES\n",
    "ctr[ctr['COPRO'].isin(eco)]['COPRO'].value_counts()"
   ]
  },
  {
   "cell_type": "markdown",
   "id": "exact-boating",
   "metadata": {},
   "source": [
    "## Concatinate with other tables TJ39 - TJDR - TJER"
   ]
  },
  {
   "cell_type": "code",
   "execution_count": 7,
   "id": "entitled-dubai",
   "metadata": {},
   "outputs": [],
   "source": [
    "tj39 = pd.read_csv(os.getenv('DATA_PATH') + '/' + 'tj39.csv', encoding='ISO-8859-1', sep=';')\n",
    "tjdr = pd.read_csv(os.getenv('DATA_PATH') + '/' + 'tjdr.csv', encoding='ISO-8859-1', sep=';')\n",
    "tjer = pd.read_csv(os.getenv('DATA_PATH') + '/' + 'tjer.csv', encoding='ISO-8859-1', sep=';')"
   ]
  },
  {
   "cell_type": "code",
   "execution_count": 8,
   "id": "younger-ordinary",
   "metadata": {},
   "outputs": [],
   "source": [
    "tj39 = tj39[['COMAX', 'MSMENC', 'MTPATR', 'MTVAOP']]\n",
    "tjdr = tjdr[['COMAX', 'MTRVIM', 'MTRVFR', 'QTPAFI', 'COHAVI']]\n",
    "tjer = tjer[['COMAX', 'MTAPJE', 'MTCPJE', 'MTPJE']]"
   ]
  },
  {
   "cell_type": "code",
   "execution_count": 9,
   "id": "common-bernard",
   "metadata": {},
   "outputs": [],
   "source": [
    "tj39['COMAX'] = [val[:10] for val in tj39['COMAX'].values]"
   ]
  },
  {
   "cell_type": "code",
   "execution_count": 10,
   "id": "specified-paradise",
   "metadata": {},
   "outputs": [
    {
     "data": {
      "text/html": [
       "<div>\n",
       "<style scoped>\n",
       "    .dataframe tbody tr th:only-of-type {\n",
       "        vertical-align: middle;\n",
       "    }\n",
       "\n",
       "    .dataframe tbody tr th {\n",
       "        vertical-align: top;\n",
       "    }\n",
       "\n",
       "    .dataframe thead th {\n",
       "        text-align: right;\n",
       "    }\n",
       "</style>\n",
       "<table border=\"1\" class=\"dataframe\">\n",
       "  <thead>\n",
       "    <tr style=\"text-align: right;\">\n",
       "      <th></th>\n",
       "      <th>COMAX</th>\n",
       "      <th>AGE</th>\n",
       "      <th>COSEXE</th>\n",
       "      <th>CTSCPI</th>\n",
       "      <th>CESITC</th>\n",
       "      <th>DDVALE</th>\n",
       "      <th>DFVALE</th>\n",
       "      <th>COPOST</th>\n",
       "      <th>LAT</th>\n",
       "      <th>LON</th>\n",
       "    </tr>\n",
       "  </thead>\n",
       "  <tbody>\n",
       "    <tr>\n",
       "      <th>517291</th>\n",
       "      <td>1ce15b6b35</td>\n",
       "      <td>59</td>\n",
       "      <td>1</td>\n",
       "      <td>2300</td>\n",
       "      <td>1</td>\n",
       "      <td>2013-10-21</td>\n",
       "      <td>9999-01-01</td>\n",
       "      <td>66330</td>\n",
       "      <td>42.6813</td>\n",
       "      <td>2.9412</td>\n",
       "    </tr>\n",
       "  </tbody>\n",
       "</table>\n",
       "</div>"
      ],
      "text/plain": [
       "             COMAX  AGE  COSEXE  CTSCPI  CESITC      DDVALE      DFVALE  \\\n",
       "517291  1ce15b6b35   59       1    2300       1  2013-10-21  9999-01-01   \n",
       "\n",
       "        COPOST      LAT     LON  \n",
       "517291   66330  42.6813  2.9412  "
      ]
     },
     "execution_count": 10,
     "metadata": {},
     "output_type": "execute_result"
    }
   ],
   "source": [
    "# pour le cas de la table tj39, la variable COMAX elle est de 13 caracteres\n",
    "# or celle des autres tables sont de 10, donc il fallait convertir de 13 a 10\n",
    "# on prend les 10 premiers caractères du COMAX de tj39, d'apres le data engineer\n",
    "# de la PBS.\n",
    "clt[clt['COMAX'] == '1ce15b6b35']"
   ]
  },
  {
   "cell_type": "code",
   "execution_count": 11,
   "id": "global-money",
   "metadata": {},
   "outputs": [],
   "source": [
    "# This table is only good fot the moral clients only\n",
    "data = pd.merge(clt,tj39,on='COMAX',how='left')\n",
    "data = pd.merge(data,tjer,on='COMAX',how='left')\n",
    "data = pd.merge(data,tjdr,on='COMAX',how='left')"
   ]
  },
  {
   "cell_type": "code",
   "execution_count": 12,
   "id": "legitimate-beatles",
   "metadata": {},
   "outputs": [],
   "source": [
    "data = data.dropna()"
   ]
  },
  {
   "cell_type": "code",
   "execution_count": 13,
   "id": "union-bennett",
   "metadata": {},
   "outputs": [],
   "source": [
    "data = data.drop_duplicates(subset=['COMAX'])"
   ]
  },
  {
   "cell_type": "code",
   "execution_count": 40,
   "id": "temporal-music",
   "metadata": {},
   "outputs": [],
   "source": [
    "del data['MTCPJE']"
   ]
  },
  {
   "cell_type": "code",
   "execution_count": 42,
   "id": "finite-garlic",
   "metadata": {},
   "outputs": [
    {
     "data": {
      "text/plain": [
       "(2747, 20)"
      ]
     },
     "execution_count": 42,
     "metadata": {},
     "output_type": "execute_result"
    }
   ],
   "source": [
    "data.shape"
   ]
  },
  {
   "cell_type": "markdown",
   "id": "rotary-sucking",
   "metadata": {},
   "source": [
    "## les avec le 00003"
   ]
  },
  {
   "cell_type": "code",
   "execution_count": 44,
   "id": "brilliant-nowhere",
   "metadata": {},
   "outputs": [],
   "source": [
    "cols = ['AGE', 'COSEXE', 'CTSCPI', 'LAT', 'LON', 'MSMENC', 'MTPATR',\n",
    "        'MTVAOP', 'MTAPJE', 'MTPJE', 'MTRVIM', 'MTRVFR', 'QTPAFI', 'COHAVI']"
   ]
  },
  {
   "cell_type": "code",
   "execution_count": 16,
   "id": "forward-participant",
   "metadata": {},
   "outputs": [],
   "source": [
    "def done(ecos, cols):\n",
    "    print('THIS IS PRODUCT:', ecos)\n",
    "    \n",
    "    # get the ids of the products\n",
    "    ids = ctr[ctr['COPRO'].isin(ecos)]['COMAX'].values\n",
    "    data['ECO'] = data['COMAX'].isin(ids)\n",
    "    \n",
    "    # change the types\n",
    "    data['CTSCPI'] = data['CTSCPI'].astype(str)\n",
    "    data['COPOST'] = data['COPOST'].astype(str)\n",
    "    \n",
    "    ''' The Model'''\n",
    "    \n",
    "    # Labels are the values we want to predict\n",
    "    labels = np.array(data['ECO'])\n",
    "\n",
    "    # Remove the labels from the features\n",
    "    features = np.array(data[cols])\n",
    "\n",
    "    # Split the data into training and testing sets\n",
    "    train_features, test_features, train_labels, test_labels = train_test_split(features, labels, test_size = 0.2, random_state = 42)\n",
    "\n",
    "    # Instantiate model with 1000 decision trees\n",
    "    rf = RandomForestRegressor(n_estimators = 1000, random_state = 42)\n",
    "\n",
    "    # Train the model on training data\n",
    "    rf.fit(train_features, train_labels)\n",
    "\n",
    "    # Use the forest's predict method on the test data\n",
    "    predictions = rf.predict(test_features)\n",
    "\n",
    "    # Classification report\n",
    "    print(classification_report(test_labels, predictions.round()))    "
   ]
  },
  {
   "cell_type": "code",
   "execution_count": 45,
   "id": "split-ticket",
   "metadata": {},
   "outputs": [],
   "source": [
    "# get the ids of the products\n",
    "ids = ctr[ctr['COPRO'].isin(eco)]['COMAX'].values\n",
    "data['ECO'] = data['COMAX'].isin(ids)\n",
    "\n",
    "# change the types\n",
    "data['CTSCPI'] = data['CTSCPI'].astype(str)\n",
    "data['COPOST'] = data['COPOST'].astype(str)"
   ]
  },
  {
   "cell_type": "code",
   "execution_count": 46,
   "id": "electrical-webster",
   "metadata": {},
   "outputs": [],
   "source": [
    "''' The Model'''\n",
    "\n",
    "# Labels are the values we want to predict\n",
    "labels = np.array(data['ECO'])\n",
    "\n",
    "# Remove the labels from the features\n",
    "features = np.array(data[cols])\n",
    "\n",
    "# Split the data into training and testing sets\n",
    "train_features, test_features, train_labels, test_labels = train_test_split(features, labels, test_size = 0.2, random_state = 42)"
   ]
  },
  {
   "cell_type": "code",
   "execution_count": 47,
   "id": "adverse-brave",
   "metadata": {},
   "outputs": [
    {
     "name": "stdout",
     "output_type": "stream",
     "text": [
      "              precision    recall  f1-score   support\n",
      "\n",
      "       False       0.42      0.16      0.23       148\n",
      "        True       0.75      0.92      0.82       402\n",
      "\n",
      "    accuracy                           0.71       550\n",
      "   macro avg       0.58      0.54      0.53       550\n",
      "weighted avg       0.66      0.71      0.66       550\n",
      "\n"
     ]
    }
   ],
   "source": [
    "# Instantiate model with 1000 decision trees\n",
    "rf = RandomForestRegressor(n_estimators = 1000, random_state = 42)\n",
    "\n",
    "# Train the model on training data\n",
    "rf.fit(train_features, train_labels)\n",
    "\n",
    "# Use the forest's predict method on the test data\n",
    "predictions = rf.predict(test_features)\n",
    "\n",
    "# Classification report\n",
    "print(classification_report(test_labels, predictions.round()))"
   ]
  },
  {
   "cell_type": "markdown",
   "id": "stupid-region",
   "metadata": {},
   "source": [
    "# - - - - - - - -- - - - - - - - - - - - - - - - -- - - - - - "
   ]
  },
  {
   "cell_type": "code",
   "execution_count": 50,
   "id": "charming-variety",
   "metadata": {},
   "outputs": [
    {
     "data": {
      "text/plain": [
       "0"
      ]
     },
     "execution_count": 50,
     "metadata": {},
     "output_type": "execute_result"
    }
   ],
   "source": [
    "# Extract single tree\n",
    "estimator = rf.estimators_[5]\n",
    "\n",
    "export_graphviz(estimator, out_file='tree.dot', feature_names = cols,\n",
    "                rounded = True, proportion = False, precision = 2, filled = True)\n",
    "\n",
    "# '-Gdpi=600'\n",
    "call(['dot', '-Tsvg', 'tree.dot', '-o', 'tree.svg'])"
   ]
  },
  {
   "cell_type": "code",
   "execution_count": 81,
   "id": "fuzzy-spread",
   "metadata": {},
   "outputs": [],
   "source": [
    "matrix = data.corr().values"
   ]
  },
  {
   "cell_type": "code",
   "execution_count": 82,
   "id": "hearing-knight",
   "metadata": {},
   "outputs": [
    {
     "name": "stdout",
     "output_type": "stream",
     "text": [
      "AGE -- COSEXE:: 3.072393652040798\n",
      "AGE -- CTSCPI:: 7.987595669398723\n",
      "AGE -- LAT:: -9.897809733166868\n",
      "AGE -- LON:: -0.6471901958887913\n",
      "AGE -- MSMENC:: -1.7420519784402444\n",
      "AGE -- MTPATR:: 8.394401602945948\n",
      "AGE -- MTVAOP:: 6.912120934920904\n",
      "AGE -- MTAPJE:: 4.410312942447301\n",
      "AGE -- MTPJE:: 1.1217326494827329\n",
      "AGE -- MTRVIM:: -1.4391059265382167\n",
      "AGE -- MTRVFR:: -6.744124485757126\n",
      "AGE -- QTPAFI:: -7.625348572621979\n",
      "AGE -- COHAVI:: 2.72763455403074\n",
      "COSEXE -- CTSCPI:: 0.5374285254971073\n",
      "COSEXE -- LAT:: -4.733964265404057\n",
      "COSEXE -- LON:: -1.316769807298293\n",
      "COSEXE -- MSMENC:: 0.3877980554603042\n",
      "COSEXE -- MTPATR:: -0.40537251845024663\n",
      "COSEXE -- MTVAOP:: -0.9525686433095442\n",
      "COSEXE -- MTAPJE:: 2.52222228694067\n",
      "COSEXE -- MTPJE:: 0.5455664141792879\n",
      "COSEXE -- MTRVIM:: -2.4230034532981426\n",
      "COSEXE -- MTRVFR:: -2.237319490326995\n",
      "COSEXE -- QTPAFI:: -0.9777861999174383\n",
      "COSEXE -- COHAVI:: 1.7008681154137766\n",
      "CTSCPI -- LAT:: 0.6754989598428544\n",
      "CTSCPI -- LON:: -1.7505804973627346\n",
      "CTSCPI -- MSMENC:: 0.07706251067507722\n",
      "CTSCPI -- MTPATR:: 2.35106164316218\n",
      "CTSCPI -- MTVAOP:: 1.8484315767430795\n",
      "CTSCPI -- MTAPJE:: 2.047111391308909\n",
      "CTSCPI -- MTPJE:: 1.4660056090863345\n",
      "CTSCPI -- MTRVIM:: -2.1505612067647872\n",
      "CTSCPI -- MTRVFR:: -2.6898853875631428\n",
      "CTSCPI -- QTPAFI:: -0.5778787108945164\n",
      "CTSCPI -- COHAVI:: 1.6058809808421355\n",
      "LAT -- LON:: 26.85655133963997\n",
      "LAT -- MSMENC:: 1.696191771471436\n",
      "LAT -- MTPATR:: 0.22334827117921394\n",
      "LAT -- MTVAOP:: 0.7976578501259508\n",
      "LAT -- MTAPJE:: -0.3724414187436964\n",
      "LAT -- MTPJE:: -1.5327038512665097\n",
      "LAT -- MTRVIM:: -0.47090773127383584\n",
      "LAT -- MTRVFR:: 3.21401543271263\n",
      "LAT -- QTPAFI:: 2.458318809540561\n",
      "LAT -- COHAVI:: -1.03026863029514\n",
      "LON -- MSMENC:: 2.7786035908342686\n",
      "LON -- MTPATR:: 2.419599915841612\n",
      "LON -- MTVAOP:: 2.7310191037848828\n",
      "LON -- MTAPJE:: 1.236018390359\n",
      "LON -- MTPJE:: -0.6177306750081147\n",
      "LON -- MTRVIM:: 0.291937935470899\n",
      "LON -- MTRVFR:: 3.1107312859570664\n",
      "LON -- QTPAFI:: 2.5833169274943826\n",
      "LON -- COHAVI:: -2.5121500072126235\n",
      "MSMENC -- MTPATR:: -0.34382337692936477\n",
      "MSMENC -- MTVAOP:: -0.35715576530780163\n",
      "MSMENC -- MTAPJE:: -0.17060239727051957\n",
      "MSMENC -- MTPJE:: -0.27734704886536593\n",
      "MSMENC -- MTRVIM:: -0.27190516824768834\n",
      "MSMENC -- MTRVFR:: 0.109047875347645\n",
      "MSMENC -- QTPAFI:: 3.121711452886431\n",
      "MSMENC -- COHAVI:: -1.1573419158974305\n",
      "MTPATR -- MTVAOP:: 94.87968678016986\n",
      "MTPATR -- MTAPJE:: 3.0425088857269054\n",
      "MTPATR -- MTPJE:: -0.6303095046454997\n",
      "MTPATR -- MTRVIM:: 2.039257047878014\n",
      "MTPATR -- MTRVFR:: -3.794885889955239\n",
      "MTPATR -- QTPAFI:: -3.138160689277191\n",
      "MTPATR -- COHAVI:: -1.1271997335785382\n",
      "MTVAOP -- MTAPJE:: 2.818595453820801\n",
      "MTVAOP -- MTPJE:: -0.5663206385848522\n",
      "MTVAOP -- MTRVIM:: 1.8370785427479077\n",
      "MTVAOP -- MTRVFR:: -4.247817765352535\n",
      "MTVAOP -- QTPAFI:: -3.6452005256976663\n",
      "MTVAOP -- COHAVI:: -1.3698702083847447\n",
      "MTAPJE -- MTPJE:: 0.6981351049126467\n",
      "MTAPJE -- MTRVIM:: -0.5600477199331716\n",
      "MTAPJE -- MTRVFR:: -0.19580581780687306\n",
      "MTAPJE -- QTPAFI:: -0.03908704368776555\n",
      "MTAPJE -- COHAVI:: -0.84010174682395\n",
      "MTPJE -- MTRVIM:: 0.22184662243108408\n",
      "MTPJE -- MTRVFR:: 2.6117980084344015\n",
      "MTPJE -- QTPAFI:: 6.309198817931833\n",
      "MTPJE -- COHAVI:: 2.650344195215663\n",
      "MTRVIM -- MTRVFR:: -0.5920154895787944\n",
      "MTRVIM -- QTPAFI:: -1.2328567643808135\n",
      "MTRVIM -- COHAVI:: -4.397779506544925\n",
      "MTRVFR -- QTPAFI:: 82.14009997454869\n",
      "MTRVFR -- COHAVI:: 26.895547204447272\n",
      "QTPAFI -- COHAVI:: 28.546520170395556\n"
     ]
    }
   ],
   "source": [
    "for i in range(len(cols) - 1):\n",
    "    for j in range(i+1, len(cols)):\n",
    "        print('{} -- {}:: {}'.format(cols[i], cols[j], matrix[i][j]*100))"
   ]
  },
  {
   "cell_type": "code",
   "execution_count": 69,
   "id": "military-instrument",
   "metadata": {},
   "outputs": [
    {
     "data": {
      "text/plain": [
       "'COHAVI'"
      ]
     },
     "execution_count": 69,
     "metadata": {},
     "output_type": "execute_result"
    }
   ],
   "source": [
    "cols[13]"
   ]
  },
  {
   "cell_type": "code",
   "execution_count": null,
   "id": "instructional-diagnosis",
   "metadata": {},
   "outputs": [],
   "source": []
  }
 ],
 "metadata": {
  "kernelspec": {
   "display_name": "Python 3",
   "language": "python",
   "name": "python3"
  },
  "language_info": {
   "codemirror_mode": {
    "name": "ipython",
    "version": 3
   },
   "file_extension": ".py",
   "mimetype": "text/x-python",
   "name": "python",
   "nbconvert_exporter": "python",
   "pygments_lexer": "ipython3",
   "version": "3.6.8"
  }
 },
 "nbformat": 4,
 "nbformat_minor": 5
}
