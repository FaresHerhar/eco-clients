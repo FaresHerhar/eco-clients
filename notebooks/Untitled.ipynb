{
 "cells": [
  {
   "cell_type": "code",
   "execution_count": 1,
   "id": "hundred-coordinator",
   "metadata": {},
   "outputs": [],
   "source": [
    "from dotenv import load_dotenv\n",
    "import pandas as pd\n",
    "import numpy as np\n",
    "import os"
   ]
  },
  {
   "cell_type": "code",
   "execution_count": 2,
   "id": "alike-preference",
   "metadata": {},
   "outputs": [
    {
     "data": {
      "text/plain": [
       "True"
      ]
     },
     "execution_count": 2,
     "metadata": {},
     "output_type": "execute_result"
    }
   ],
   "source": [
    "load_dotenv()"
   ]
  },
  {
   "cell_type": "code",
   "execution_count": 12,
   "id": "impressed-formula",
   "metadata": {},
   "outputs": [],
   "source": [
    "clt = pd.read_csv(os.getenv('CLEANED_DATA_PATH') + '/' + 'clients.csv', encoding='ISO-8859-1', sep='\\t')\n",
    "ctr = pd.read_csv(os.getenv('DATA_PATH') + '/' + 'tj7s.csv', encoding='ISO-8859-1', sep=';', low_memory=False)"
   ]
  },
  {
   "cell_type": "code",
   "execution_count": 13,
   "id": "substantial-space",
   "metadata": {},
   "outputs": [],
   "source": [
    "# theses are the only columns that matters\n",
    "ctr = ctr[['COCO', 'COMAX', 'COPRO' ]]"
   ]
  },
  {
   "cell_type": "code",
   "execution_count": 14,
   "id": "weekly-catch",
   "metadata": {},
   "outputs": [],
   "source": [
    "ctr = ctr[ctr['COMAX'].isin(clt['COMAX'])]"
   ]
  },
  {
   "cell_type": "code",
   "execution_count": 21,
   "id": "hourly-institute",
   "metadata": {},
   "outputs": [
    {
     "data": {
      "text/plain": [
       "(32773662, 3)"
      ]
     },
     "execution_count": 21,
     "metadata": {},
     "output_type": "execute_result"
    }
   ],
   "source": [
    "ctr.shape"
   ]
  },
  {
   "cell_type": "code",
   "execution_count": 61,
   "id": "contemporary-lancaster",
   "metadata": {},
   "outputs": [],
   "source": [
    "# ECO: CODEVAIR\n",
    "ids = list(ctr[ctr['COPRO'] == '07649']['COMAX'].values)\n",
    "\n",
    "# NON-ECO: Direct & Proche Référencement\n",
    "ids.extend(list(ctr[ctr['COPRO'] == '02716']['COMAX'].values))"
   ]
  },
  {
   "cell_type": "code",
   "execution_count": 63,
   "id": "comic-healthcare",
   "metadata": {},
   "outputs": [],
   "source": [
    "clt = clt[clt['COMAX'].isin(ids)]"
   ]
  },
  {
   "cell_type": "code",
   "execution_count": 65,
   "id": "exciting-channel",
   "metadata": {},
   "outputs": [
    {
     "data": {
      "text/html": [
       "<div>\n",
       "<style scoped>\n",
       "    .dataframe tbody tr th:only-of-type {\n",
       "        vertical-align: middle;\n",
       "    }\n",
       "\n",
       "    .dataframe tbody tr th {\n",
       "        vertical-align: top;\n",
       "    }\n",
       "\n",
       "    .dataframe thead th {\n",
       "        text-align: right;\n",
       "    }\n",
       "</style>\n",
       "<table border=\"1\" class=\"dataframe\">\n",
       "  <thead>\n",
       "    <tr style=\"text-align: right;\">\n",
       "      <th></th>\n",
       "      <th>COMAX</th>\n",
       "      <th>AGE</th>\n",
       "      <th>COSEXE</th>\n",
       "      <th>CTSCPI</th>\n",
       "      <th>CESITC</th>\n",
       "      <th>DDVALE</th>\n",
       "      <th>DFVALE</th>\n",
       "      <th>COPOST</th>\n",
       "    </tr>\n",
       "  </thead>\n",
       "  <tbody>\n",
       "    <tr>\n",
       "      <th>764</th>\n",
       "      <td>b0ce1a9aae</td>\n",
       "      <td>63</td>\n",
       "      <td>1</td>\n",
       "      <td>7300</td>\n",
       "      <td>1</td>\n",
       "      <td>2018-07-02</td>\n",
       "      <td>9999-01-01</td>\n",
       "      <td>34990</td>\n",
       "    </tr>\n",
       "    <tr>\n",
       "      <th>1521</th>\n",
       "      <td>141c7a4de2</td>\n",
       "      <td>59</td>\n",
       "      <td>1</td>\n",
       "      <td>3400</td>\n",
       "      <td>1</td>\n",
       "      <td>2018-10-22</td>\n",
       "      <td>9999-01-01</td>\n",
       "      <td>66120</td>\n",
       "    </tr>\n",
       "    <tr>\n",
       "      <th>1613</th>\n",
       "      <td>03834c8de8</td>\n",
       "      <td>83</td>\n",
       "      <td>0</td>\n",
       "      <td>7600</td>\n",
       "      <td>1</td>\n",
       "      <td>2015-12-09</td>\n",
       "      <td>9999-01-01</td>\n",
       "      <td>11000</td>\n",
       "    </tr>\n",
       "    <tr>\n",
       "      <th>2144</th>\n",
       "      <td>98846a5d47</td>\n",
       "      <td>79</td>\n",
       "      <td>0</td>\n",
       "      <td>7200</td>\n",
       "      <td>1</td>\n",
       "      <td>2013-10-10</td>\n",
       "      <td>9999-01-01</td>\n",
       "      <td>11100</td>\n",
       "    </tr>\n",
       "    <tr>\n",
       "      <th>2304</th>\n",
       "      <td>9ac220a4f2</td>\n",
       "      <td>87</td>\n",
       "      <td>0</td>\n",
       "      <td>7100</td>\n",
       "      <td>1</td>\n",
       "      <td>2015-11-23</td>\n",
       "      <td>9999-01-01</td>\n",
       "      <td>66140</td>\n",
       "    </tr>\n",
       "  </tbody>\n",
       "</table>\n",
       "</div>"
      ],
      "text/plain": [
       "           COMAX  AGE  COSEXE  CTSCPI  CESITC      DDVALE      DFVALE  COPOST\n",
       "764   b0ce1a9aae   63       1    7300       1  2018-07-02  9999-01-01   34990\n",
       "1521  141c7a4de2   59       1    3400       1  2018-10-22  9999-01-01   66120\n",
       "1613  03834c8de8   83       0    7600       1  2015-12-09  9999-01-01   11000\n",
       "2144  98846a5d47   79       0    7200       1  2013-10-10  9999-01-01   11100\n",
       "2304  9ac220a4f2   87       0    7100       1  2015-11-23  9999-01-01   66140"
      ]
     },
     "execution_count": 65,
     "metadata": {},
     "output_type": "execute_result"
    }
   ],
   "source": [
    "clt.head()"
   ]
  },
  {
   "cell_type": "code",
   "execution_count": 79,
   "id": "wrapped-spectacular",
   "metadata": {},
   "outputs": [],
   "source": [
    "clt['ECO'] = clt['COMAX'].isin(ctr[ctr['COPRO'] == '07649']['COMAX'].values)"
   ]
  },
  {
   "cell_type": "code",
   "execution_count": 80,
   "id": "given-factory",
   "metadata": {},
   "outputs": [
    {
     "data": {
      "text/html": [
       "<div>\n",
       "<style scoped>\n",
       "    .dataframe tbody tr th:only-of-type {\n",
       "        vertical-align: middle;\n",
       "    }\n",
       "\n",
       "    .dataframe tbody tr th {\n",
       "        vertical-align: top;\n",
       "    }\n",
       "\n",
       "    .dataframe thead th {\n",
       "        text-align: right;\n",
       "    }\n",
       "</style>\n",
       "<table border=\"1\" class=\"dataframe\">\n",
       "  <thead>\n",
       "    <tr style=\"text-align: right;\">\n",
       "      <th></th>\n",
       "      <th>COMAX</th>\n",
       "      <th>AGE</th>\n",
       "      <th>COSEXE</th>\n",
       "      <th>CTSCPI</th>\n",
       "      <th>CESITC</th>\n",
       "      <th>DDVALE</th>\n",
       "      <th>DFVALE</th>\n",
       "      <th>COPOST</th>\n",
       "      <th>ECO</th>\n",
       "    </tr>\n",
       "  </thead>\n",
       "  <tbody>\n",
       "    <tr>\n",
       "      <th>764</th>\n",
       "      <td>b0ce1a9aae</td>\n",
       "      <td>63</td>\n",
       "      <td>1</td>\n",
       "      <td>7300</td>\n",
       "      <td>1</td>\n",
       "      <td>2018-07-02</td>\n",
       "      <td>9999-01-01</td>\n",
       "      <td>34990</td>\n",
       "      <td>True</td>\n",
       "    </tr>\n",
       "    <tr>\n",
       "      <th>1521</th>\n",
       "      <td>141c7a4de2</td>\n",
       "      <td>59</td>\n",
       "      <td>1</td>\n",
       "      <td>3400</td>\n",
       "      <td>1</td>\n",
       "      <td>2018-10-22</td>\n",
       "      <td>9999-01-01</td>\n",
       "      <td>66120</td>\n",
       "      <td>True</td>\n",
       "    </tr>\n",
       "    <tr>\n",
       "      <th>1613</th>\n",
       "      <td>03834c8de8</td>\n",
       "      <td>83</td>\n",
       "      <td>0</td>\n",
       "      <td>7600</td>\n",
       "      <td>1</td>\n",
       "      <td>2015-12-09</td>\n",
       "      <td>9999-01-01</td>\n",
       "      <td>11000</td>\n",
       "      <td>True</td>\n",
       "    </tr>\n",
       "    <tr>\n",
       "      <th>2144</th>\n",
       "      <td>98846a5d47</td>\n",
       "      <td>79</td>\n",
       "      <td>0</td>\n",
       "      <td>7200</td>\n",
       "      <td>1</td>\n",
       "      <td>2013-10-10</td>\n",
       "      <td>9999-01-01</td>\n",
       "      <td>11100</td>\n",
       "      <td>True</td>\n",
       "    </tr>\n",
       "    <tr>\n",
       "      <th>2304</th>\n",
       "      <td>9ac220a4f2</td>\n",
       "      <td>87</td>\n",
       "      <td>0</td>\n",
       "      <td>7100</td>\n",
       "      <td>1</td>\n",
       "      <td>2015-11-23</td>\n",
       "      <td>9999-01-01</td>\n",
       "      <td>66140</td>\n",
       "      <td>True</td>\n",
       "    </tr>\n",
       "  </tbody>\n",
       "</table>\n",
       "</div>"
      ],
      "text/plain": [
       "           COMAX  AGE  COSEXE  CTSCPI  CESITC      DDVALE      DFVALE  COPOST  \\\n",
       "764   b0ce1a9aae   63       1    7300       1  2018-07-02  9999-01-01   34990   \n",
       "1521  141c7a4de2   59       1    3400       1  2018-10-22  9999-01-01   66120   \n",
       "1613  03834c8de8   83       0    7600       1  2015-12-09  9999-01-01   11000   \n",
       "2144  98846a5d47   79       0    7200       1  2013-10-10  9999-01-01   11100   \n",
       "2304  9ac220a4f2   87       0    7100       1  2015-11-23  9999-01-01   66140   \n",
       "\n",
       "       ECO  \n",
       "764   True  \n",
       "1521  True  \n",
       "1613  True  \n",
       "2144  True  \n",
       "2304  True  "
      ]
     },
     "execution_count": 80,
     "metadata": {},
     "output_type": "execute_result"
    }
   ],
   "source": [
    "clt.head()"
   ]
  },
  {
   "cell_type": "code",
   "execution_count": 82,
   "id": "wrapped-motor",
   "metadata": {},
   "outputs": [],
   "source": [
    "eco = clt[clt['ECO'] == True]"
   ]
  },
  {
   "cell_type": "code",
   "execution_count": 84,
   "id": "developing-alaska",
   "metadata": {},
   "outputs": [
    {
     "data": {
      "text/plain": [
       "count    2009.000000\n",
       "mean       59.423096\n",
       "std        16.027652\n",
       "min        19.000000\n",
       "25%        48.000000\n",
       "50%        60.000000\n",
       "75%        70.000000\n",
       "max       101.000000\n",
       "Name: AGE, dtype: float64"
      ]
     },
     "execution_count": 84,
     "metadata": {},
     "output_type": "execute_result"
    }
   ],
   "source": [
    "eco['AGE'].describe()"
   ]
  },
  {
   "cell_type": "code",
   "execution_count": 85,
   "id": "stupid-scholar",
   "metadata": {},
   "outputs": [
    {
     "data": {
      "text/plain": [
       "array([7300, 3400, 7600, 7200, 7100, 5500, 8500, 6300, 8100, 2300, 5400,\n",
       "       3100, 5200, 8400, 3300, 3800, 5300, 8600, 4600, 6400, 2100, 4300,\n",
       "       3700, 6500, 4200, 4700, 3500, 4800, 1100, 6200, 7500, 5600, 6900,\n",
       "       2200, 4500, 1200, 6700, 6800, 7800])"
      ]
     },
     "execution_count": 85,
     "metadata": {},
     "output_type": "execute_result"
    }
   ],
   "source": [
    "eco['CTSCPI'].unique()"
   ]
  },
  {
   "cell_type": "code",
   "execution_count": 86,
   "id": "close-upper",
   "metadata": {},
   "outputs": [],
   "source": [
    "insee = pd.read_csv(os.getenv('DATA_PATH') + '/' + 'tj10.csv', encoding='ISO-8859-1', sep=';', low_memory=False)"
   ]
  },
  {
   "cell_type": "code",
   "execution_count": 90,
   "id": "incomplete-implement",
   "metadata": {},
   "outputs": [
    {
     "name": "stdout",
     "output_type": "stream",
     "text": [
      "7300 ANCIENS CADRES PROFESSIONS INTER\n",
      "3400 PROFESSEURS PROF SCIENTIFIQUES  \n",
      "7600 ANCIENS EMPLOYES ET OUVRIERS    \n",
      "7200 ANCIENS ARTIS COMMERC CHEF ENTRE\n",
      "7100 ANCIENS AGRICULTEURS EXPLOITANTS\n",
      "5500 EMPLOYES DE COMMERCE            \n",
      "8500 INACTIFS DIVERS SAUF RET - 60ANS\n",
      "6300 OUVRIER QUALIFIE DE L'ARTISANAT \n",
      "8100 CHOMEURS                        \n",
      "2300 CHEFS D'ENTREPRISES             \n",
      "5400 EMPLOYES ADMI.ENTREPRISE PRIVEE \n",
      "3100 PROFESSIONS LIBERALES           \n",
      "5200 EMPL CIVILS AGENTS FONCT PUBLIQ \n",
      "8400 ELEVES ETUDIANTS                \n",
      "3300 CADRES DE LA FONCTION PUBLIQUE  \n",
      "3800 INGENIEURS CADRES TECHNI ENTREP \n",
      "5300 POLIC.MILIT.GEND.POMPIER GARDE  \n",
      "8600 INACTIFS DIVERS SAUF RET +60ANS \n",
      "4600 PROFESSIONS ADM COMMERCIAL PRIVE\n",
      "6400 CHAUFFEURS CONDUCTEURS ROUTIERS \n",
      "2100 ARTISANS                        \n",
      "4300 PROFESSIONS SANTE TRAVAIL SOCIAL\n",
      "3700 CADRES ADMN COMMERC ENTREPRISES \n",
      "6500 OUV QUAL MANUT MAGASIN TRANSPORT\n",
      "4200 INSTITUTEURS ET ASSIMILES       \n",
      "4700 TECHNICIENS                     \n",
      "3500 PROFESSIONS DE L'INFO ART SPECTA\n",
      "4800 CONTREMAITRES,AGENTS DE MAITRISE\n",
      "1100 AGRICULTEUR PETITE EXPLOITATION \n",
      "6200 OUVRIER QUALIFIE DE L'INDUSTRIE \n",
      "7500 ANCIEN PROFNS INTERMEDIAIRES    \n",
      "5600 PERSONNEL SERVICE AU PARTICULIER\n",
      "6900 OUVRIERS AGRICOLES              \n",
      "2200 COMMERCANTS ET ASSIMILES        \n",
      "4500 PROFESSION ADM FONCTION PUBLIQUE\n",
      "1200 AGRICULTEUR MOYENNE EXPLOITATION\n",
      "6700 OUV NON QUALIFIE DE L'INDUSTRIE \n",
      "6800 OUVRIER NON QUALIFIE ARTISANAT  \n",
      "7800 ANCIENS OUVRIERS                \n"
     ]
    }
   ],
   "source": [
    "insee\n",
    "for val in eco['CTSCPI'].unique():\n",
    "    print(val, insee[insee['CTSCPI'] == val]['LISCPI'].values[0])"
   ]
  },
  {
   "cell_type": "code",
   "execution_count": 91,
   "id": "objective-apparatus",
   "metadata": {},
   "outputs": [
    {
     "data": {
      "text/plain": [
       "0    0.509209\n",
       "1    0.490791\n",
       "Name: COSEXE, dtype: float64"
      ]
     },
     "execution_count": 91,
     "metadata": {},
     "output_type": "execute_result"
    }
   ],
   "source": [
    "eco['COSEXE'].value_counts(normalize=True)"
   ]
  },
  {
   "cell_type": "code",
   "execution_count": 95,
   "id": "sitting-grammar",
   "metadata": {},
   "outputs": [
    {
     "data": {
      "text/plain": [
       "11100    0.035839\n",
       "66000    0.034345\n",
       "30000    0.031857\n",
       "34000    0.031857\n",
       "30900    0.027875\n",
       "           ...   \n",
       "7330     0.000498\n",
       "11420    0.000498\n",
       "97435    0.000498\n",
       "97434    0.000498\n",
       "30720    0.000498\n",
       "Name: COPOST, Length: 412, dtype: float64"
      ]
     },
     "execution_count": 95,
     "metadata": {},
     "output_type": "execute_result"
    }
   ],
   "source": [
    "eco['COPOST'].value_counts(normalize=True)"
   ]
  },
  {
   "cell_type": "markdown",
   "id": "smart-pilot",
   "metadata": {},
   "source": [
    "# Model"
   ]
  },
  {
   "cell_type": "code",
   "execution_count": 96,
   "id": "instrumental-coating",
   "metadata": {},
   "outputs": [],
   "source": [
    "# Labels are the values we want to predict\n",
    "labels = np.array(clt['ECO'])"
   ]
  },
  {
   "cell_type": "code",
   "execution_count": 99,
   "id": "proved-allen",
   "metadata": {},
   "outputs": [],
   "source": [
    "# Remove the labels from the features\n",
    "features = np.array(clt[['AGE', 'COSEXE', 'CTSCPI', 'CESITC', 'COPOST']])"
   ]
  },
  {
   "cell_type": "code",
   "execution_count": 100,
   "id": "initial-screening",
   "metadata": {},
   "outputs": [],
   "source": [
    "# Using Skicit-learn to split data into training and testing sets\n",
    "from sklearn.model_selection import train_test_split"
   ]
  },
  {
   "cell_type": "code",
   "execution_count": 101,
   "id": "purple-library",
   "metadata": {},
   "outputs": [],
   "source": [
    "# Split the data into training and testing sets\n",
    "train_features, test_features, train_labels, test_labels = train_test_split(features, labels, test_size = 0.2, random_state = 42)"
   ]
  },
  {
   "cell_type": "code",
   "execution_count": 102,
   "id": "regional-miami",
   "metadata": {},
   "outputs": [],
   "source": [
    "# Import the model we are using\n",
    "from sklearn.ensemble import RandomForestRegressor"
   ]
  },
  {
   "cell_type": "code",
   "execution_count": 103,
   "id": "divided-belle",
   "metadata": {},
   "outputs": [],
   "source": [
    "# Instantiate model with 1000 decision trees\n",
    "rf = RandomForestRegressor(n_estimators = 1000, random_state = 42)\n",
    "\n",
    "# Train the model on training data\n",
    "rf.fit(train_features, train_labels);"
   ]
  },
  {
   "cell_type": "code",
   "execution_count": 105,
   "id": "wicked-reality",
   "metadata": {},
   "outputs": [
    {
     "name": "stdout",
     "output_type": "stream",
     "text": [
      "Mean Absolute Error: 0.0 degrees.\n"
     ]
    }
   ],
   "source": [
    "# Use the forest's predict method on the test data\n",
    "predictions = rf.predict(test_features)\n",
    "\n",
    "# Calculate the absolute errors\n",
    "errors = abs(predictions - test_labels)\n",
    "\n",
    "# Print out the mean absolute error (mae)\n",
    "print('Mean Absolute Error:', round(np.mean(errors), 2), 'degrees.')"
   ]
  },
  {
   "cell_type": "code",
   "execution_count": 106,
   "id": "bacterial-kingston",
   "metadata": {},
   "outputs": [
    {
     "name": "stdout",
     "output_type": "stream",
     "text": [
      "Accuracy: 99.67 %.\n"
     ]
    }
   ],
   "source": [
    "# Calculate mean absolute percentage error (MAPE)\n",
    "mape = 100 * (errors / test_labels)\n",
    "\n",
    "# Calculate and display accuracy\n",
    "accuracy = 100 - np.mean(mape)\n",
    "print('Accuracy:', round(accuracy, 2), '%.')"
   ]
  },
  {
   "cell_type": "code",
   "execution_count": null,
   "id": "objective-physics",
   "metadata": {},
   "outputs": [],
   "source": []
  }
 ],
 "metadata": {
  "kernelspec": {
   "display_name": "Python 3",
   "language": "python",
   "name": "python3"
  },
  "language_info": {
   "codemirror_mode": {
    "name": "ipython",
    "version": 3
   },
   "file_extension": ".py",
   "mimetype": "text/x-python",
   "name": "python",
   "nbconvert_exporter": "python",
   "pygments_lexer": "ipython3",
   "version": "3.6.8"
  }
 },
 "nbformat": 4,
 "nbformat_minor": 5
}
