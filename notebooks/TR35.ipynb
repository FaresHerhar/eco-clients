{
 "cells": [
  {
   "cell_type": "code",
   "execution_count": 1,
   "id": "durable-territory",
   "metadata": {},
   "outputs": [],
   "source": [
    "# Load modules for data manipulation\n",
    "from dotenv import load_dotenv\n",
    "import pandas as pd\n",
    "import numpy as np\n",
    "import os"
   ]
  },
  {
   "cell_type": "code",
   "execution_count": 2,
   "id": "exclusive-passion",
   "metadata": {},
   "outputs": [
    {
     "data": {
      "text/plain": [
       "True"
      ]
     },
     "execution_count": 2,
     "metadata": {},
     "output_type": "execute_result"
    }
   ],
   "source": [
    "load_dotenv()"
   ]
  },
  {
   "cell_type": "markdown",
   "id": "thrown-kidney",
   "metadata": {},
   "source": [
    "# Read and split data"
   ]
  },
  {
   "cell_type": "code",
   "execution_count": 4,
   "id": "hundred-happening",
   "metadata": {},
   "outputs": [],
   "source": [
    "# clt = pd.read_csv(os.getenv('CLEANED_DATA_PATH') + '/' + 'TJ38.csv', encoding='ISO-8859-1', sep='\\t', usecols=['COMAX'])\n",
    "data = pd.read_csv(os.getenv('META_DATA_PATH') + '/' + 'tr35-01.csv', encoding='ISO-8859-1', sep=';', low_memory=False)"
   ]
  },
  {
   "cell_type": "code",
   "execution_count": 5,
   "id": "fifty-keyboard",
   "metadata": {},
   "outputs": [],
   "source": [
    "# Get only the physical clients, that are libaled by 1\n",
    "data = data[data['CTPE'] == 1]"
   ]
  },
  {
   "cell_type": "code",
   "execution_count": 6,
   "id": "advanced-boxing",
   "metadata": {},
   "outputs": [
    {
     "name": "stdout",
     "output_type": "stream",
     "text": [
      "tr35-02.csv\n",
      "tr35-03.csv\n",
      "tr35-04.csv\n",
      "tr35-05.csv\n",
      "tr35-06.csv\n",
      "tr35-07.csv\n",
      "tr35-08.csv\n",
      "tr35-09.csv\n",
      "tr35-10.csv\n",
      "tr35-11.csv\n",
      "tr35-12.csv\n"
     ]
    }
   ],
   "source": [
    "for file in [str(i).zfill(2) for i in range(2, 13)]:\n",
    "    print('tr35-{}.csv'.format(file))\n",
    "    tr = pd.read_csv(os.getenv('META_DATA_PATH') + '/' + 'tr35-{}.csv'.format(file), encoding='ISO-8859-1', sep=';', low_memory=False)\n",
    "    tr = tr[tr['CTPE'] == 1]\n",
    "    data = pd.concat([data, tr])\n",
    "    \n",
    "    del tr"
   ]
  },
  {
   "cell_type": "code",
   "execution_count": 7,
   "id": "democratic-invention",
   "metadata": {},
   "outputs": [],
   "source": [
    "# delete duplicated matricules\n",
    "data = data.drop_duplicates(subset=\"COMAX\")"
   ]
  },
  {
   "cell_type": "code",
   "execution_count": 8,
   "id": "freelance-lobby",
   "metadata": {},
   "outputs": [],
   "source": [
    "# take only the age less or equal to 110 for demographoc statistc reasons\n",
    "data = data[data['QTAGCL'] <= 110]"
   ]
  },
  {
   "cell_type": "code",
   "execution_count": 9,
   "id": "critical-exhaust",
   "metadata": {},
   "outputs": [],
   "source": [
    "# we replace the sex with numbers, 0 for M and 1 for F\n",
    "data['COSEXE'].replace('M', 0, inplace=True)\n",
    "data['COSEXE'].replace('F', 1, inplace=True)"
   ]
  },
  {
   "cell_type": "code",
   "execution_count": 10,
   "id": "stuffed-roulette",
   "metadata": {},
   "outputs": [],
   "source": [
    "# The non predictif data, all zeros data, codevi data \n",
    "cols = ['QCPRPO', 'QTEQUI', 'PSGASS', 'MTUTCT', 'MTAUCT', 'QCTFEFCT', 'QCFEFMLT', 'QCTFEFXFC', 'QCFEISAS',\n",
    "        'QCFEINTR', 'QCFETRES', 'QFAMESGR', 'QCPEAICF', 'QCPEAIBQ', 'QCPEAIFC', 'QCPEAIFL', 'QCPEAITR',\n",
    "        'QCPEAIIR', 'QCPEAIAP', 'QCPEAIDI', 'QFPEAISR', 'QCPEAIBP', 'COETB', 'COPFCI', 'COEM',\n",
    "        'COESPF', 'CTPE', 'COGRRB', 'COSGPA', 'COCINS', 'COPOAG', 'CORIPA', 'CESITC', 'CERCPT',\n",
    "        'CERCPE', 'CERCEP', 'CERCPS', 'CERCPL', 'CERCPC', 'CERCPP', 'COHAVI', 'QCLDD', 'QCCSL', 'QCLIVJ',\n",
    "        'QCLEP', 'QCLIVR', 'QCCONT', 'MTELDD', 'MTELIJ', 'QCBPFA']"
   ]
  },
  {
   "cell_type": "code",
   "execution_count": 11,
   "id": "overhead-verification",
   "metadata": {},
   "outputs": [
    {
     "name": "stdout",
     "output_type": "stream",
     "text": [
      "COETB\n",
      "CESITC\n",
      "COHAVI\n"
     ]
    }
   ],
   "source": [
    "# delete all the none relative data\n",
    "for col in cols:\n",
    "    try:\n",
    "        del data[col]\n",
    "    except:\n",
    "        print(col)"
   ]
  },
  {
   "cell_type": "markdown",
   "id": "otherwise-playlist",
   "metadata": {},
   "source": [
    "# Add the post data"
   ]
  },
  {
   "cell_type": "code",
   "execution_count": 12,
   "id": "simplified-estonia",
   "metadata": {},
   "outputs": [],
   "source": [
    "# Read the post codes data\n",
    "poste =  pd.read_csv(os.getenv('DATA_PATH') + '/' + 'tj24.csv', encoding='ISO-8859-1', sep=';')\n",
    "pc = pd.read_csv(os.getenv('DATA_PATH') + '/' + 'post_codes.csv', encoding='ISO-8859-1', sep='\\t')"
   ]
  },
  {
   "cell_type": "code",
   "execution_count": 13,
   "id": "classical-martial",
   "metadata": {},
   "outputs": [],
   "source": [
    "# It was int, convert it to str\n",
    "pc['COPOST'] = pc['COPOST'].astype(str)"
   ]
  },
  {
   "cell_type": "code",
   "execution_count": 14,
   "id": "finished-wireless",
   "metadata": {},
   "outputs": [],
   "source": [
    "# concatenate clients with the latitide longtitue data\n",
    "temp = pd.merge(poste, pc, on='COPOST', how='left')\n",
    "data = pd.merge(data, temp, on='COMAX', how='left')"
   ]
  },
  {
   "cell_type": "code",
   "execution_count": 15,
   "id": "reliable-turning",
   "metadata": {},
   "outputs": [],
   "source": [
    "# Clean the dataset\n",
    "del data['COPOST_y']\n",
    "data.rename(columns={'COPOST_x': 'COPOST'}, inplace=True)"
   ]
  },
  {
   "cell_type": "code",
   "execution_count": 16,
   "id": "reported-feature",
   "metadata": {},
   "outputs": [],
   "source": [
    "# get the list of miss typed data, CTSCPI\n",
    "lol = list()\n",
    "for i in data['CTSCPI'].unique():\n",
    "    if not i.isdigit():\n",
    "        lol.append(i)\n",
    "        \n",
    "# replce the missed data, and miss created one with nan values\n",
    "data['CTSCPI'].replace(lol, np.nan, inplace=True)"
   ]
  },
  {
   "cell_type": "code",
   "execution_count": 17,
   "id": "familiar-kenya",
   "metadata": {},
   "outputs": [],
   "source": [
    "# get the list of miss typed data, for COPOST\n",
    "lol = list()\n",
    "for i in data['COPOST'].unique():\n",
    "    if not str(i).isdigit():\n",
    "        lol.append(i)\n",
    "        \n",
    "# replce the missed data, and miss created one with nan values\n",
    "data['COPOST'].replace(lol, np.nan, inplace=True)\n",
    "data['LAT'].replace(lol, np.nan, inplace=True)\n",
    "data['LON'].replace(lol, np.nan, inplace=True)"
   ]
  },
  {
   "cell_type": "code",
   "execution_count": 18,
   "id": "sticky-module",
   "metadata": {},
   "outputs": [],
   "source": [
    "# delete duplicated matricules\n",
    "data = data.drop_duplicates(subset=\"COMAX\")"
   ]
  },
  {
   "cell_type": "code",
   "execution_count": 19,
   "id": "liberal-truck",
   "metadata": {},
   "outputs": [],
   "source": [
    "# in some cases there was an input mistake\n",
    "# so instead of typing the age they type the\n",
    "# birth year, so we correct that\n",
    "data['QTAGCL'] = data['QTAGCL'].replace(2019, 2021-2019)"
   ]
  },
  {
   "cell_type": "markdown",
   "id": "floral-cattle",
   "metadata": {},
   "source": [
    "## Data Info"
   ]
  },
  {
   "cell_type": "code",
   "execution_count": 20,
   "id": "perceived-communication",
   "metadata": {},
   "outputs": [
    {
     "name": "stdout",
     "output_type": "stream",
     "text": [
      "<class 'pandas.core.frame.DataFrame'>\n",
      "Int64Index: 580778 entries, 0 to 2773641\n",
      "Columns: 116 entries, COMAX to LON\n",
      "dtypes: float64(70), int64(1), object(45)\n",
      "memory usage: 518.4+ MB\n"
     ]
    }
   ],
   "source": [
    "data.info()"
   ]
  },
  {
   "cell_type": "code",
   "execution_count": 25,
   "id": "federal-travel",
   "metadata": {},
   "outputs": [
    {
     "data": {
      "text/plain": [
       "580778"
      ]
     },
     "execution_count": 25,
     "metadata": {},
     "output_type": "execute_result"
    }
   ],
   "source": [
    "data['COMAX'].nunique()"
   ]
  },
  {
   "cell_type": "markdown",
   "id": "silent-contemporary",
   "metadata": {},
   "source": [
    "# Save the data"
   ]
  },
  {
   "cell_type": "code",
   "execution_count": 26,
   "id": "matched-offense",
   "metadata": {},
   "outputs": [],
   "source": [
    "# save into csv\n",
    "data.to_csv(os.getenv('CLEANED_DATA_PATH') + '/' + 'TR35.csv', index=False, sep=\"\\t\")"
   ]
  },
  {
   "cell_type": "code",
   "execution_count": 21,
   "id": "public-spotlight",
   "metadata": {},
   "outputs": [
    {
     "data": {
      "text/plain": [
       "(580778, 116)"
      ]
     },
     "execution_count": 21,
     "metadata": {},
     "output_type": "execute_result"
    }
   ],
   "source": [
    "# consult final data set shape\n",
    "data.shape"
   ]
  },
  {
   "cell_type": "code",
   "execution_count": 22,
   "id": "healthy-click",
   "metadata": {},
   "outputs": [
    {
     "name": "stdout",
     "output_type": "stream",
     "text": [
      "('COPOST', True)\n",
      "('CTSCPI', True)\n",
      "('MTCDIM', True)\n",
      "('MTRECD', True)\n",
      "('MTRETT', True)\n",
      "('QCPRDI', True)\n",
      "('QCPRCP', True)\n",
      "('QCPRQU', True)\n",
      "('QCPRMO', True)\n",
      "('QCPRFI', True)\n",
      "('QCPRTR', True)\n",
      "('QCPRAS', True)\n",
      "('QCPRPR', True)\n",
      "('MTECEL', True)\n",
      "('MTEPEL', True)\n",
      "('MTECSL', True)\n",
      "('MTEPEP', True)\n",
      "('MTELEP', True)\n",
      "('MTECIM', True)\n",
      "('MTECCS', True)\n",
      "('MTECEQ', True)\n",
      "('MTECTR', True)\n",
      "('MTEEML', True)\n",
      "('MTEASV', True)\n",
      "('MTECTO', True)\n",
      "('MTECPA', True)\n",
      "('MTE19D', True)\n",
      "('MTE21D', True)\n",
      "('MTEEMC', True)\n",
      "('MTESOC', True)\n",
      "('MCTOTA', True)\n",
      "('MCTOTE', True)\n",
      "('QTCLIF', True)\n",
      "('QCPREV', True)\n",
      "('QCIARD', True)\n",
      "('MTFLPR', True)\n",
      "('MTFLCO', True)\n",
      "('MTRSFI', True)\n",
      "('MTRSMO', True)\n",
      "('QCFPRORB', True)\n",
      "('QFPROSGR', True)\n",
      "('LAT', True)\n",
      "('LON', True)\n"
     ]
    }
   ],
   "source": [
    "# no data is missing\n",
    "for i in zip(data.isna().any().index, data.isna().any().values):\n",
    "    if i[1]:\n",
    "        print(i)"
   ]
  },
  {
   "cell_type": "code",
   "execution_count": null,
   "id": "every-spanish",
   "metadata": {},
   "outputs": [],
   "source": []
  }
 ],
 "metadata": {
  "kernelspec": {
   "display_name": "Python 3",
   "language": "python",
   "name": "python3"
  },
  "language_info": {
   "codemirror_mode": {
    "name": "ipython",
    "version": 3
   },
   "file_extension": ".py",
   "mimetype": "text/x-python",
   "name": "python",
   "nbconvert_exporter": "python",
   "pygments_lexer": "ipython3",
   "version": "3.6.8"
  }
 },
 "nbformat": 4,
 "nbformat_minor": 5
}
