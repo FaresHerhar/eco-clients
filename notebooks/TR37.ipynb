{
 "cells": [
  {
   "cell_type": "code",
   "execution_count": 1,
   "id": "recognized-marsh",
   "metadata": {},
   "outputs": [],
   "source": [
    "# Load modules for data manipulation\n",
    "from dotenv import load_dotenv\n",
    "import pandas as pd\n",
    "import numpy as np\n",
    "import os"
   ]
  },
  {
   "cell_type": "code",
   "execution_count": 2,
   "id": "solid-genetics",
   "metadata": {},
   "outputs": [
    {
     "data": {
      "text/plain": [
       "True"
      ]
     },
     "execution_count": 2,
     "metadata": {},
     "output_type": "execute_result"
    }
   ],
   "source": [
    "load_dotenv()"
   ]
  },
  {
   "cell_type": "markdown",
   "id": "every-smart",
   "metadata": {},
   "source": [
    "## Read and clean data"
   ]
  },
  {
   "cell_type": "code",
   "execution_count": 22,
   "id": "bronze-indication",
   "metadata": {},
   "outputs": [],
   "source": [
    "# Load the data\n",
    "# For the transactions, we only need these columns for now\n",
    "# The transactions data only goes for 2018, 2019, 2020\n",
    "comax = pd.read_csv(os.getenv('CLEANED_DATA_PATH') + '/' + 'TR35.csv', encoding='ISO-8859-1', sep='\\t', usecols=['COMAX'])\n",
    "data = pd.read_csv(os.getenv('META_DATA_PATH') + '/' + 'tr37-132018.csv', encoding='ISO-8859-1', sep=';', usecols=['COCO', 'COPRO', 'COMAX'], low_memory=False)"
   ]
  },
  {
   "cell_type": "code",
   "execution_count": 25,
   "id": "intimate-remark",
   "metadata": {},
   "outputs": [],
   "source": [
    "for file in [str(i).zfill(2) for i in range(1, 12)]:\n",
    "    for year in ['2019', '2020', '2018']:\n",
    "        temp = pd.read_csv(os.getenv('META_DATA_PATH') + '/' + 'tr37-{}{}.csv'.format(file, year), encoding='ISO-8859-1', sep=';', usecols=['COCO', 'COPRO', 'COMAX'], low_memory=False)\n",
    "        data = pd.concat([data, temp])\n",
    "        \n",
    "        del temp"
   ]
  },
  {
   "cell_type": "code",
   "execution_count": 36,
   "id": "indirect-hawaiian",
   "metadata": {},
   "outputs": [],
   "source": [
    "# Take only the transactions that we need, that corresponds to our clients only\n",
    "data = data[data['COMAX'].isin(comax['COMAX'])]"
   ]
  },
  {
   "cell_type": "markdown",
   "id": "understood-luther",
   "metadata": {},
   "source": [
    "## Data Info"
   ]
  },
  {
   "cell_type": "code",
   "execution_count": 37,
   "id": "funny-grass",
   "metadata": {},
   "outputs": [
    {
     "name": "stdout",
     "output_type": "stream",
     "text": [
      "<class 'pandas.core.frame.DataFrame'>\n",
      "Int64Index: 86089757 entries, 0 to 2306799\n",
      "Data columns (total 3 columns):\n",
      " #   Column  Dtype \n",
      "---  ------  ----- \n",
      " 0   COCO    object\n",
      " 1   COPRO   object\n",
      " 2   COMAX   object\n",
      "dtypes: object(3)\n",
      "memory usage: 2.6+ GB\n"
     ]
    }
   ],
   "source": [
    "data.info()"
   ]
  },
  {
   "cell_type": "code",
   "execution_count": 39,
   "id": "aggregate-suggestion",
   "metadata": {},
   "outputs": [
    {
     "data": {
      "text/plain": [
       "(86089757, 3)"
      ]
     },
     "execution_count": 39,
     "metadata": {},
     "output_type": "execute_result"
    }
   ],
   "source": [
    "data.shape"
   ]
  },
  {
   "cell_type": "markdown",
   "id": "limiting-blast",
   "metadata": {},
   "source": [
    "## Save the data"
   ]
  },
  {
   "cell_type": "code",
   "execution_count": 41,
   "id": "bright-works",
   "metadata": {},
   "outputs": [],
   "source": [
    "# save into csv\n",
    "data.to_csv(os.getenv('CLEANED_DATA_PATH') + '/' + 'TR37.csv', index=False, sep=\"\\t\")"
   ]
  }
 ],
 "metadata": {
  "kernelspec": {
   "display_name": "Python 3",
   "language": "python",
   "name": "python3"
  },
  "language_info": {
   "codemirror_mode": {
    "name": "ipython",
    "version": 3
   },
   "file_extension": ".py",
   "mimetype": "text/x-python",
   "name": "python",
   "nbconvert_exporter": "python",
   "pygments_lexer": "ipython3",
   "version": "3.6.8"
  }
 },
 "nbformat": 4,
 "nbformat_minor": 5
}
