{
 "cells": [
  {
   "cell_type": "code",
   "execution_count": 1,
   "id": "mental-jason",
   "metadata": {},
   "outputs": [],
   "source": [
    "# Load modules for data manipulation\n",
    "from dotenv import load_dotenv\n",
    "import seaborn as sns\n",
    "import matplotlib.pyplot as plt\n",
    "from subprocess import call\n",
    "import pandas as pd\n",
    "import numpy as np\n",
    "import time\n",
    "import os"
   ]
  },
  {
   "cell_type": "code",
   "execution_count": 2,
   "id": "employed-equation",
   "metadata": {},
   "outputs": [],
   "source": [
    "# Load modules for machine learning\n",
    "# Using Skicit-learn to split data into training and testing sets\n",
    "from sklearn.model_selection import train_test_split\n",
    "\n",
    "# Import the model we are using\n",
    "from sklearn.ensemble import RandomForestRegressor\n",
    "from sklearn.neighbors import KNeighborsClassifier\n",
    "from sklearn.linear_model import LogisticRegression\n",
    "\n",
    "# Calculate the accurancy of the model\n",
    "from sklearn.metrics import accuracy_score, classification_report\n",
    "\n",
    "# For drawing the graph\n",
    "from sklearn.tree import export_graphviz\n",
    "\n",
    "# will be used for tree visualization\n",
    "from dtreeviz.trees import dtreeviz"
   ]
  },
  {
   "cell_type": "code",
   "execution_count": 3,
   "id": "thorough-proposal",
   "metadata": {},
   "outputs": [
    {
     "data": {
      "text/plain": [
       "True"
      ]
     },
     "execution_count": 3,
     "metadata": {},
     "output_type": "execute_result"
    }
   ],
   "source": [
    "load_dotenv()"
   ]
  },
  {
   "cell_type": "code",
   "execution_count": 4,
   "id": "greek-motorcycle",
   "metadata": {},
   "outputs": [],
   "source": [
    "# Declare the list of products for each family\n",
    "# Les familles sont: CREDITS, DEPOTS MONETAIRES, PRODUITS EXTERNES COMMERCIALISES\n",
    "credit = ['00568', '00943', '00942', '00546', '00547', '03992', '00940', '00941', '00548', '06458', '00509', '00565']\n",
    "depot = ['07648', '07649', '07606', '00003']\n",
    "comm = ['05808', '05807']"
   ]
  },
  {
   "cell_type": "code",
   "execution_count": 5,
   "id": "hearing-producer",
   "metadata": {},
   "outputs": [],
   "source": [
    "def plot_feature_importance(importance,names,model_type):\n",
    "    #Create arrays from feature importance and feature name logistic regressions\n",
    "    feature_importance = np.array(importance)\n",
    "    feature_names = np.array(names)\n",
    "\n",
    "    #Create a DataFrame using a Dictionary\n",
    "    data={'feature_names':feature_names,'feature_importance':feature_importance}\n",
    "    fi_df = pd.DataFrame(data)\n",
    "\n",
    "    #Sort the DataFrame in order decreasing feature importance\n",
    "    fi_df.sort_values(by=['feature_importance'], ascending=False,inplace=True)\n",
    "\n",
    "    #Define size of bar plot\n",
    "    plt.figure(figsize=(10,8))\n",
    "    #Plot Searborn bar chart\n",
    "    sns.barplot(x=fi_df['feature_importance'], y=fi_df['feature_names'])\n",
    "    #Add chart labels\n",
    "    plt.title(model_type + '-FEATURE IMPORTANCE')\n",
    "    plt.xlabel('FEATURE IMPORTANCE')\n",
    "    plt.ylabel('FEATURE NAMES')\n",
    "    \n",
    "    plt.savefig('{}.svg'.format(model_type))"
   ]
  },
  {
   "cell_type": "code",
   "execution_count": 6,
   "id": "revolutionary-family",
   "metadata": {},
   "outputs": [],
   "source": [
    "# Get the data from the other notebook\n",
    "%store -r data\n",
    "%store -r columns\n",
    "%store -r eco\n",
    "%store -r ctr"
   ]
  },
  {
   "cell_type": "markdown",
   "id": "premier-romance",
   "metadata": {},
   "source": [
    "# -------------------------------------------------------------------------------------------------------------"
   ]
  },
  {
   "cell_type": "markdown",
   "id": "controlling-consent",
   "metadata": {},
   "source": [
    "# Statistics"
   ]
  },
  {
   "cell_type": "markdown",
   "id": "brave-friend",
   "metadata": {},
   "source": [
    "## Single"
   ]
  },
  {
   "cell_type": "code",
   "execution_count": 7,
   "id": "confidential-signature",
   "metadata": {},
   "outputs": [
    {
     "data": {
      "text/plain": [
       "(580778, 126)"
      ]
     },
     "execution_count": 7,
     "metadata": {},
     "output_type": "execute_result"
    }
   ],
   "source": [
    "data.shape"
   ]
  },
  {
   "cell_type": "markdown",
   "id": "creative-breathing",
   "metadata": {},
   "source": [
    "### Eco"
   ]
  },
  {
   "cell_type": "code",
   "execution_count": 8,
   "id": "directed-interaction",
   "metadata": {},
   "outputs": [
    {
     "name": "stdout",
     "output_type": "stream",
     "text": [
      "False    424185\n",
      "True     156593\n",
      "Name: ECO, dtype: int64\n"
     ]
    }
   ],
   "source": [
    "print(data['ECO'].value_counts())"
   ]
  },
  {
   "cell_type": "markdown",
   "id": "starting-placement",
   "metadata": {},
   "source": [
    "### Sexe"
   ]
  },
  {
   "cell_type": "code",
   "execution_count": 9,
   "id": "adjacent-grove",
   "metadata": {},
   "outputs": [
    {
     "name": "stdout",
     "output_type": "stream",
     "text": [
      "1    298055\n",
      "0    282723\n",
      "Name: COSEXE, dtype: int64\n"
     ]
    }
   ],
   "source": [
    "print(data['COSEXE'].value_counts())"
   ]
  },
  {
   "cell_type": "markdown",
   "id": "turned-milan",
   "metadata": {},
   "source": [
    "### Age"
   ]
  },
  {
   "cell_type": "code",
   "execution_count": 10,
   "id": "artificial-elite",
   "metadata": {},
   "outputs": [
    {
     "name": "stdout",
     "output_type": "stream",
     "text": [
      "0-14 :: 90670\n",
      "15-29 :: 94889\n",
      "30-44 :: 115920\n",
      "45-59 :: 121305\n",
      "60-74 :: 105068\n",
      "75-~ :: 52926\n"
     ]
    }
   ],
   "source": [
    "print('0-14 ::', data[(0 <= data['QTAGCL']) & (data['QTAGCL'] <= 14)]['COSEXE'].count())\n",
    "print('15-29 ::', data[(15 <= data['QTAGCL']) & (data['QTAGCL'] <= 29)]['COSEXE'].count())\n",
    "print('30-44 ::', data[(30 <= data['QTAGCL']) & (data['QTAGCL'] <= 44)]['COSEXE'].count())\n",
    "print('45-59 ::', data[(45 <= data['QTAGCL']) & (data['QTAGCL'] <= 59)]['COSEXE'].count())\n",
    "print('60-74 ::', data[(60 <= data['QTAGCL']) & (data['QTAGCL'] <= 74)]['COSEXE'].count())\n",
    "print('75-~ ::', data[75 <= data['QTAGCL']]['COSEXE'].count())"
   ]
  },
  {
   "cell_type": "code",
   "execution_count": 11,
   "id": "dressed-stream",
   "metadata": {},
   "outputs": [
    {
     "data": {
      "text/html": [
       "<div>\n",
       "<style scoped>\n",
       "    .dataframe tbody tr th:only-of-type {\n",
       "        vertical-align: middle;\n",
       "    }\n",
       "\n",
       "    .dataframe tbody tr th {\n",
       "        vertical-align: top;\n",
       "    }\n",
       "\n",
       "    .dataframe thead th {\n",
       "        text-align: right;\n",
       "    }\n",
       "</style>\n",
       "<table border=\"1\" class=\"dataframe\">\n",
       "  <thead>\n",
       "    <tr style=\"text-align: right;\">\n",
       "      <th></th>\n",
       "      <th>QTAGCL</th>\n",
       "    </tr>\n",
       "  </thead>\n",
       "  <tbody>\n",
       "    <tr>\n",
       "      <th>count</th>\n",
       "      <td>580778.000000</td>\n",
       "    </tr>\n",
       "    <tr>\n",
       "      <th>mean</th>\n",
       "      <td>42.499341</td>\n",
       "    </tr>\n",
       "    <tr>\n",
       "      <th>std</th>\n",
       "      <td>23.679098</td>\n",
       "    </tr>\n",
       "    <tr>\n",
       "      <th>min</th>\n",
       "      <td>0.000000</td>\n",
       "    </tr>\n",
       "    <tr>\n",
       "      <th>25%</th>\n",
       "      <td>23.000000</td>\n",
       "    </tr>\n",
       "    <tr>\n",
       "      <th>50%</th>\n",
       "      <td>43.000000</td>\n",
       "    </tr>\n",
       "    <tr>\n",
       "      <th>75%</th>\n",
       "      <td>61.000000</td>\n",
       "    </tr>\n",
       "    <tr>\n",
       "      <th>max</th>\n",
       "      <td>110.000000</td>\n",
       "    </tr>\n",
       "  </tbody>\n",
       "</table>\n",
       "</div>"
      ],
      "text/plain": [
       "              QTAGCL\n",
       "count  580778.000000\n",
       "mean       42.499341\n",
       "std        23.679098\n",
       "min         0.000000\n",
       "25%        23.000000\n",
       "50%        43.000000\n",
       "75%        61.000000\n",
       "max       110.000000"
      ]
     },
     "execution_count": 11,
     "metadata": {},
     "output_type": "execute_result"
    }
   ],
   "source": [
    "pd.DataFrame(data['QTAGCL'].describe())"
   ]
  },
  {
   "cell_type": "code",
   "execution_count": 12,
   "id": "intellectual-eligibility",
   "metadata": {},
   "outputs": [
    {
     "name": "stdout",
     "output_type": "stream",
     "text": [
      "43.0\n",
      "0    43.0\n",
      "dtype: float64\n"
     ]
    }
   ],
   "source": [
    "print(data['QTAGCL'].median())\n",
    "print(data['QTAGCL'].mode())"
   ]
  },
  {
   "cell_type": "code",
   "execution_count": 13,
   "id": "smaller-fraud",
   "metadata": {},
   "outputs": [
    {
     "data": {
      "image/png": "[encoded data removed]",
      "text/plain": [
       "<Figure size 432x288 with 1 Axes>"
      ]
     },
     "metadata": {
      "needs_background": "light"
     },
     "output_type": "display_data"
    }
   ],
   "source": [
    "bp = plt.boxplot(data['QTAGCL'], vert=False, patch_artist=True)\n",
    "plt.yticks([1], [''])\n",
    "\n",
    "plt.setp(bp['caps'],color='blue',alpha=1)\n",
    "plt.setp(bp['whiskers'],color='blue',alpha=1)\n",
    "plt.setp(bp['medians'],color='tomato',alpha=1,linewidth=4.0)\n",
    "plt.setp(bp['boxes'], color='blue', facecolor='lightblue',alpha=1,linewidth=0.5)\n",
    "\n",
    "plt.xlabel('AGE')\n",
    "plt.ylabel('BOX PLOT')\n",
    "\n",
    "plt.grid(alpha=0.5)\n",
    "plt.savefig(\"../graphs/age_box.png\", dpi = 300)"
   ]
  },
  {
   "cell_type": "code",
   "execution_count": 14,
   "id": "paperback-niger",
   "metadata": {},
   "outputs": [
    {
     "data": {
      "image/png": "[encoded data removed]",
      "text/plain": [
       "<Figure size 432x288 with 1 Axes>"
      ]
     },
     "metadata": {
      "needs_background": "light"
     },
     "output_type": "display_data"
    }
   ],
   "source": [
    "bins = [i for i in range(125)]\n",
    "plt.hist(data['QTAGCL'], bins=bins, edgecolor='black')\n",
    "plt.axvline(data['QTAGCL'].median(), color='#FC4F30', label='Median Age')\n",
    "\n",
    "plt.xlabel('Age')\n",
    "plt.ylabel('Nombre de Clients')\n",
    "plt.legend()\n",
    "plt.tight_layout()\n",
    "plt.savefig(\"../graphs/age_hist.png\", dpi = 300)"
   ]
  },
  {
   "cell_type": "markdown",
   "id": "unauthorized-developer",
   "metadata": {},
   "source": [
    "### CTSCPI"
   ]
  },
  {
   "cell_type": "code",
   "execution_count": 15,
   "id": "first-europe",
   "metadata": {},
   "outputs": [
    {
     "data": {
      "text/plain": [
       "53"
      ]
     },
     "execution_count": 15,
     "metadata": {},
     "output_type": "execute_result"
    }
   ],
   "source": [
    "data.CTSCPI.nunique()"
   ]
  },
  {
   "cell_type": "code",
   "execution_count": 16,
   "id": "perfect-tribune",
   "metadata": {},
   "outputs": [],
   "source": [
    "ctscpi = data['CTSCPI'].value_counts()\n",
    "ctscpi = list(zip(ctscpi.index, ctscpi.values))"
   ]
  },
  {
   "cell_type": "code",
   "execution_count": 17,
   "id": "higher-andrews",
   "metadata": {},
   "outputs": [
    {
     "name": "stdout",
     "output_type": "stream",
     "text": [
      "INSEE: 8400.0, COUNT: 119489, %: 20.6.\n",
      "INSEE: 7600.0, COUNT: 56987, %: 9.81.\n",
      "INSEE: 8500.0, COUNT: 55329, %: 9.53.\n",
      "INSEE: 5400.0, COUNT: 32460, %: 5.59.\n",
      "INSEE: 7300.0, COUNT: 32052, %: 5.52.\n",
      "INSEE: 5200.0, COUNT: 29908, %: 5.15.\n",
      "INSEE: 8600.0, COUNT: 27565, %: 4.75.\n",
      "INSEE: 5500.0, COUNT: 21119, %: 3.64.\n",
      "INSEE: 4200.0, COUNT: 18018, %: 3.1.\n",
      "INSEE: 5600.0, COUNT: 15557, %: 2.68.\n",
      "INSEE: 4300.0, COUNT: 14145, %: 2.44.\n",
      "INSEE: 2300.0, COUNT: 14027, %: 2.42.\n",
      "INSEE: 6300.0, COUNT: 13798, %: 2.38.\n",
      "INSEE: 7200.0, COUNT: 12598, %: 2.17.\n",
      "INSEE: 3400.0, COUNT: 12191, %: 2.1.\n",
      "INSEE: 3700.0, COUNT: 12094, %: 2.08.\n",
      "INSEE: 4600.0, COUNT: 12090, %: 2.08.\n",
      "INSEE: 4700.0, COUNT: 11771, %: 2.03.\n",
      "INSEE: 8100.0, COUNT: 11071, %: 1.91.\n",
      "INSEE: 5300.0, COUNT: 7534, %: 1.3.\n",
      "INSEE: 6200.0, COUNT: 7107, %: 1.22.\n",
      "INSEE: 6400.0, COUNT: 4940, %: 0.851.\n",
      "INSEE: 3300.0, COUNT: 4895, %: 0.843.\n",
      "INSEE: 7500.0, COUNT: 3950, %: 0.68.\n",
      "INSEE: 6900.0, COUNT: 3565, %: 0.614.\n",
      "INSEE: 4500.0, COUNT: 3267, %: 0.563.\n",
      "INSEE: 6800.0, COUNT: 3183, %: 0.548.\n",
      "INSEE: 6700.0, COUNT: 2939, %: 0.506.\n",
      "INSEE: 4800.0, COUNT: 2761, %: 0.475.\n",
      "INSEE: 3800.0, COUNT: 2672, %: 0.46.\n",
      "INSEE: 3500.0, COUNT: 1837, %: 0.316.\n",
      "INSEE: 7100.0, COUNT: 1708, %: 0.294.\n",
      "INSEE: 2200.0, COUNT: 1652, %: 0.284.\n",
      "INSEE: 7700.0, COUNT: 1324, %: 0.228.\n",
      "INSEE: 3100.0, COUNT: 1184, %: 0.204.\n",
      "INSEE: 2100.0, COUNT: 1122, %: 0.193.\n",
      "INSEE: 6500.0, COUNT: 938, %: 0.162.\n",
      "INSEE: 3600.0, COUNT: 457, %: 0.0787.\n",
      "INSEE: 1100.0, COUNT: 439, %: 0.0756.\n",
      "INSEE: 1200.0, COUNT: 338, %: 0.0582.\n",
      "INSEE: 7400.0, COUNT: 336, %: 0.0579.\n",
      "INSEE: 7800.0, COUNT: 145, %: 0.025.\n",
      "INSEE: 4400.0, COUNT: 69, %: 0.0119.\n",
      "INSEE: 1300.0, COUNT: 48, %: 0.00826.\n",
      "INSEE: 0.0, COUNT: 48, %: 0.00826.\n",
      "INSEE: 8300.0, COUNT: 22, %: 0.00379.\n",
      "INSEE: 6100.0, COUNT: 7, %: 0.00121.\n",
      "INSEE: 5100.0, COUNT: 6, %: 0.00103.\n",
      "INSEE: 8200.0, COUNT: 6, %: 0.00103.\n",
      "INSEE: 6600.0, COUNT: 4, %: 0.000689.\n",
      "INSEE: 3200.0, COUNT: 3, %: 0.000517.\n",
      "INSEE: 1000.0, COUNT: 2, %: 0.000344.\n",
      "INSEE: 4100.0, COUNT: 1, %: 0.000172.\n"
     ]
    }
   ],
   "source": [
    "for temp in ctscpi:\n",
    "    print('INSEE: {}, COUNT: {}, %: {:.3}.'.format(temp[0], temp[1], temp[1] / data.shape[0] * 100))"
   ]
  },
  {
   "cell_type": "markdown",
   "id": "suburban-behalf",
   "metadata": {},
   "source": [
    "## Double"
   ]
  },
  {
   "cell_type": "markdown",
   "id": "brilliant-thompson",
   "metadata": {},
   "source": [
    "### Age Sexe"
   ]
  },
  {
   "cell_type": "code",
   "execution_count": 18,
   "id": "legal-honolulu",
   "metadata": {},
   "outputs": [
    {
     "name": "stdout",
     "output_type": "stream",
     "text": [
      "0-14 & 44323 & 17.14\n",
      "15-29 & 47084 & 18.21\n",
      "30-44 & 58862 & 22.77\n",
      "45-59 & 62600 & 24.21\n",
      "60-74 & 54851 & 21.22\n",
      "75-~ & 30335 & 11.73\n"
     ]
    }
   ],
   "source": [
    "kill = 258539\n",
    "who = 1\n",
    "temp = data[(0 <= data['QTAGCL']) & (data['QTAGCL'] <= 14) & (data['COSEXE'] == who)]['COSEXE'].count()\n",
    "print('0-14 & {} & {}'.format(temp, round(temp / kill * 100, 2)))\n",
    "\n",
    "temp = data[(15 <= data['QTAGCL']) & (data['QTAGCL'] <= 29) & (data['COSEXE'] == who)]['COSEXE'].count()\n",
    "print('15-29 & {} & {}'.format(temp, round(temp / kill * 100, 2)))\n",
    "\n",
    "temp = data[(30 <= data['QTAGCL']) & (data['QTAGCL'] <= 44) & (data['COSEXE'] == who)]['COSEXE'].count()\n",
    "print('30-44 & {} & {}'.format(temp, round(temp / kill * 100, 2)))\n",
    "\n",
    "temp = data[(45 <= data['QTAGCL']) & (data['QTAGCL'] <= 59) & (data['COSEXE'] == who)]['COSEXE'].count()\n",
    "print('45-59 & {} & {}'.format(temp, round(temp / kill * 100, 2)))\n",
    "\n",
    "temp = data[(60 <= data['QTAGCL']) & (data['QTAGCL'] <= 74) & (data['COSEXE'] == who)]['COSEXE'].count()\n",
    "print('60-74 & {} & {}'.format(temp, round(temp / kill * 100, 2)))\n",
    "\n",
    "temp = data[(75 <= data['QTAGCL']) & (data['COSEXE'] == who)]['COSEXE'].count()\n",
    "print('75-~ & {} & {}'.format(temp, round(temp / kill * 100, 2)))"
   ]
  },
  {
   "cell_type": "markdown",
   "id": "expired-episode",
   "metadata": {},
   "source": [
    "### Eco Sexe"
   ]
  },
  {
   "cell_type": "code",
   "execution_count": 19,
   "id": "bottom-length",
   "metadata": {},
   "outputs": [
    {
     "name": "stdout",
     "output_type": "stream",
     "text": [
      "ECO    COSEXE\n",
      "False  1         214811\n",
      "       0         209374\n",
      "True   1          83244\n",
      "       0          73349\n",
      "Name: COSEXE, dtype: int64\n"
     ]
    }
   ],
   "source": [
    "# lol = ['COSEXE', 'QTAGCL', 'CTSCPI']\n",
    "print(data.groupby('ECO')['COSEXE'].value_counts())"
   ]
  },
  {
   "cell_type": "markdown",
   "id": "essential-alcohol",
   "metadata": {},
   "source": [
    "### Eco Age"
   ]
  },
  {
   "cell_type": "code",
   "execution_count": 20,
   "id": "satisfactory-blast",
   "metadata": {},
   "outputs": [
    {
     "name": "stdout",
     "output_type": "stream",
     "text": [
      "0-14 & 90558 & 26.15\n",
      "15-29 & 81681 & 23.58\n",
      "30-44 & 81159 & 23.43\n",
      "45-59 & 76323 & 22.04\n",
      "60-74 & 61549 & 17.77\n",
      "75-~ & 30335 & 8.76\n"
     ]
    }
   ],
   "source": [
    "kill = 346365\n",
    "isit = False\n",
    "\n",
    "temp = data[(0 <= data['QTAGCL']) & (data['QTAGCL'] <= 14) & (data['ECO'] == isit)]['COSEXE'].count()\n",
    "print('0-14 & {} & {}'.format(temp, round(temp / kill * 100, 2)))\n",
    "\n",
    "temp = data[(15 <= data['QTAGCL']) & (data['QTAGCL'] <= 29) & (data['ECO'] == isit)]['COSEXE'].count()\n",
    "print('15-29 & {} & {}'.format(temp, round(temp / kill * 100, 2)))\n",
    "\n",
    "temp = data[(30 <= data['QTAGCL']) & (data['QTAGCL'] <= 44) & (data['ECO'] == isit)]['COSEXE'].count()\n",
    "print('30-44 & {} & {}'.format(temp, round(temp / kill * 100, 2)))\n",
    "\n",
    "temp = data[(45 <= data['QTAGCL']) & (data['QTAGCL'] <= 59) & (data['ECO'] == isit)]['COSEXE'].count()\n",
    "print('45-59 & {} & {}'.format(temp, round(temp / kill * 100, 2)))\n",
    "\n",
    "temp = data[(60 <= data['QTAGCL']) & (data['QTAGCL'] <= 74) & (data['ECO'] == isit)]['COSEXE'].count()\n",
    "print('60-74 & {} & {}'.format(temp, round(temp / kill * 100, 2)))\n",
    "\n",
    "temp = data[(75 <= data['QTAGCL']) & (data['COSEXE'] == who)]['ECO'].count()\n",
    "print('75-~ & {} & {}'.format(temp, round(temp / kill * 100, 2)))"
   ]
  },
  {
   "cell_type": "code",
   "execution_count": null,
   "id": "peaceful-purse",
   "metadata": {},
   "outputs": [],
   "source": []
  }
 ],
 "metadata": {
  "kernelspec": {
   "display_name": "Python 3",
   "language": "python",
   "name": "python3"
  },
  "language_info": {
   "codemirror_mode": {
    "name": "ipython",
    "version": 3
   },
   "file_extension": ".py",
   "mimetype": "text/x-python",
   "name": "python",
   "nbconvert_exporter": "python",
   "pygments_lexer": "ipython3",
   "version": "3.6.8"
  }
 },
 "nbformat": 4,
 "nbformat_minor": 5
}
