{
 "cells": [
  {
   "cell_type": "code",
   "execution_count": 1,
   "id": "durable-territory",
   "metadata": {},
   "outputs": [],
   "source": [
    "# Load modules for data manipulation\n",
    "from dotenv import load_dotenv\n",
    "import pandas as pd\n",
    "import numpy as np\n",
    "import os"
   ]
  },
  {
   "cell_type": "code",
   "execution_count": 2,
   "id": "exclusive-passion",
   "metadata": {},
   "outputs": [
    {
     "data": {
      "text/plain": [
       "True"
      ]
     },
     "execution_count": 2,
     "metadata": {},
     "output_type": "execute_result"
    }
   ],
   "source": [
    "load_dotenv()"
   ]
  },
  {
   "cell_type": "code",
   "execution_count": 5,
   "id": "hundred-happening",
   "metadata": {},
   "outputs": [],
   "source": [
    "clt = pd.read_csv(os.getenv('CLEANED_DATA_PATH') + '/' + 'TJ38.csv', encoding='ISO-8859-1', sep='\\t', usecols=['COMAX'])\n",
    "tr = pd.read_csv(os.getenv('META_DATA_PATH') + '/' + 'tr35-01.csv', encoding='ISO-8859-1', sep=';', low_memory=False)"
   ]
  },
  {
   "cell_type": "code",
   "execution_count": 13,
   "id": "fifty-keyboard",
   "metadata": {},
   "outputs": [],
   "source": [
    "tr = tr[tr['CTPE'] == 1]"
   ]
  },
  {
   "cell_type": "code",
   "execution_count": 14,
   "id": "meaning-swaziland",
   "metadata": {},
   "outputs": [
    {
     "data": {
      "text/plain": [
       "(2075487, 161)"
      ]
     },
     "execution_count": 14,
     "metadata": {},
     "output_type": "execute_result"
    }
   ],
   "source": [
    "tr.shape"
   ]
  },
  {
   "cell_type": "code",
   "execution_count": 18,
   "id": "upper-telephone",
   "metadata": {},
   "outputs": [],
   "source": [
    "comax = clt['COMAX'].values\n",
    "data = tr[tr['COMAX'].isin(comax)]"
   ]
  },
  {
   "cell_type": "code",
   "execution_count": 16,
   "id": "rental-complaint",
   "metadata": {},
   "outputs": [
    {
     "data": {
      "text/plain": [
       "(1865496, 161)"
      ]
     },
     "execution_count": 16,
     "metadata": {},
     "output_type": "execute_result"
    }
   ],
   "source": [
    "tr.shape"
   ]
  },
  {
   "cell_type": "code",
   "execution_count": 25,
   "id": "advanced-boxing",
   "metadata": {},
   "outputs": [
    {
     "name": "stdout",
     "output_type": "stream",
     "text": [
      "tr35-11.csv\n",
      "tr35-12.csv\n"
     ]
    }
   ],
   "source": [
    "for file in [str(i).zfill(2) for i in range(2, 13)][-2:]:\n",
    "    print('tr35-{}.csv'.format(file))\n",
    "    tr = pd.read_csv(os.getenv('META_DATA_PATH') + '/' + 'tr35-{}.csv'.format(file), encoding='ISO-8859-1', sep=';', low_memory=False)\n",
    "    tr = tr[tr['CTPE'] == 1]\n",
    "    tr = tr[tr['COMAX'].isin(comax)]\n",
    "    data = pd.concat([data, tr])\n",
    "    \n",
    "    del tr"
   ]
  },
  {
   "cell_type": "code",
   "execution_count": 28,
   "id": "authorized-commitment",
   "metadata": {},
   "outputs": [
    {
     "data": {
      "text/plain": [
       "516200"
      ]
     },
     "execution_count": 28,
     "metadata": {},
     "output_type": "execute_result"
    }
   ],
   "source": [
    "data['COMAX'].nunique()"
   ]
  },
  {
   "cell_type": "code",
   "execution_count": 33,
   "id": "challenging-doctrine",
   "metadata": {},
   "outputs": [
    {
     "data": {
      "text/html": [
       "<div>\n",
       "<style scoped>\n",
       "    .dataframe tbody tr th:only-of-type {\n",
       "        vertical-align: middle;\n",
       "    }\n",
       "\n",
       "    .dataframe tbody tr th {\n",
       "        vertical-align: top;\n",
       "    }\n",
       "\n",
       "    .dataframe thead th {\n",
       "        text-align: right;\n",
       "    }\n",
       "</style>\n",
       "<table border=\"1\" class=\"dataframe\">\n",
       "  <thead>\n",
       "    <tr style=\"text-align: right;\">\n",
       "      <th></th>\n",
       "      <th>COMAX</th>\n",
       "      <th>COPFCI</th>\n",
       "      <th>COEM</th>\n",
       "      <th>CTCOPO</th>\n",
       "      <th>COESPF</th>\n",
       "      <th>CTPE</th>\n",
       "      <th>COGRRB</th>\n",
       "      <th>COSGPA</th>\n",
       "      <th>CTMENB</th>\n",
       "      <th>COCINS</th>\n",
       "      <th>...</th>\n",
       "      <th>QCPEAICF</th>\n",
       "      <th>QCPEAIBQ</th>\n",
       "      <th>QCPEAIFC</th>\n",
       "      <th>QCPEAIFL</th>\n",
       "      <th>QCPEAITR</th>\n",
       "      <th>QCPEAIIR</th>\n",
       "      <th>QCPEAIAP</th>\n",
       "      <th>QCPEAIDI</th>\n",
       "      <th>QFPEAISR</th>\n",
       "      <th>QCPEAIBP</th>\n",
       "    </tr>\n",
       "  </thead>\n",
       "  <tbody>\n",
       "    <tr>\n",
       "      <th>426607</th>\n",
       "      <td>53e00f4c23</td>\n",
       "      <td>aef6bc6341</td>\n",
       "      <td>e4e9d3da9e</td>\n",
       "      <td>527</td>\n",
       "      <td>16aa008b0a</td>\n",
       "      <td>1</td>\n",
       "      <td>f94fdbb8b3</td>\n",
       "      <td>3200</td>\n",
       "      <td>07</td>\n",
       "      <td>11397</td>\n",
       "      <td>...</td>\n",
       "      <td>NaN</td>\n",
       "      <td>NaN</td>\n",
       "      <td>NaN</td>\n",
       "      <td>NaN</td>\n",
       "      <td>NaN</td>\n",
       "      <td>NaN</td>\n",
       "      <td>NaN</td>\n",
       "      <td>NaN</td>\n",
       "      <td>NaN</td>\n",
       "      <td>NaN</td>\n",
       "    </tr>\n",
       "    <tr>\n",
       "      <th>604387</th>\n",
       "      <td>53e00f4c23</td>\n",
       "      <td>aef6bc6341</td>\n",
       "      <td>e4e9d3da9e</td>\n",
       "      <td>527</td>\n",
       "      <td>16aa008b0a</td>\n",
       "      <td>1</td>\n",
       "      <td>f94fdbb8b3</td>\n",
       "      <td>3200</td>\n",
       "      <td>07</td>\n",
       "      <td>11397</td>\n",
       "      <td>...</td>\n",
       "      <td>NaN</td>\n",
       "      <td>NaN</td>\n",
       "      <td>NaN</td>\n",
       "      <td>NaN</td>\n",
       "      <td>NaN</td>\n",
       "      <td>NaN</td>\n",
       "      <td>NaN</td>\n",
       "      <td>NaN</td>\n",
       "      <td>NaN</td>\n",
       "      <td>NaN</td>\n",
       "    </tr>\n",
       "    <tr>\n",
       "      <th>1235704</th>\n",
       "      <td>53e00f4c23</td>\n",
       "      <td>aef6bc6341</td>\n",
       "      <td>6b16359725</td>\n",
       "      <td>527</td>\n",
       "      <td>16aa008b0a</td>\n",
       "      <td>1</td>\n",
       "      <td>f94fdbb8b3</td>\n",
       "      <td>3200</td>\n",
       "      <td>07</td>\n",
       "      <td>11397</td>\n",
       "      <td>...</td>\n",
       "      <td>NaN</td>\n",
       "      <td>NaN</td>\n",
       "      <td>NaN</td>\n",
       "      <td>NaN</td>\n",
       "      <td>NaN</td>\n",
       "      <td>NaN</td>\n",
       "      <td>NaN</td>\n",
       "      <td>NaN</td>\n",
       "      <td>NaN</td>\n",
       "      <td>NaN</td>\n",
       "    </tr>\n",
       "    <tr>\n",
       "      <th>1403953</th>\n",
       "      <td>53e00f4c23</td>\n",
       "      <td>aef6bc6341</td>\n",
       "      <td>8cf4f60d9d</td>\n",
       "      <td>527</td>\n",
       "      <td>16aa008b0a</td>\n",
       "      <td>1</td>\n",
       "      <td>f94fdbb8b3</td>\n",
       "      <td>3200</td>\n",
       "      <td>07</td>\n",
       "      <td>11397</td>\n",
       "      <td>...</td>\n",
       "      <td>NaN</td>\n",
       "      <td>NaN</td>\n",
       "      <td>NaN</td>\n",
       "      <td>NaN</td>\n",
       "      <td>NaN</td>\n",
       "      <td>NaN</td>\n",
       "      <td>NaN</td>\n",
       "      <td>NaN</td>\n",
       "      <td>NaN</td>\n",
       "      <td>NaN</td>\n",
       "    </tr>\n",
       "    <tr>\n",
       "      <th>1974023</th>\n",
       "      <td>53e00f4c23</td>\n",
       "      <td>aef6bc6341</td>\n",
       "      <td>2e317663a7</td>\n",
       "      <td>527</td>\n",
       "      <td>16aa008b0a</td>\n",
       "      <td>1</td>\n",
       "      <td>f94fdbb8b3</td>\n",
       "      <td>3200</td>\n",
       "      <td>07</td>\n",
       "      <td>11397</td>\n",
       "      <td>...</td>\n",
       "      <td>NaN</td>\n",
       "      <td>NaN</td>\n",
       "      <td>NaN</td>\n",
       "      <td>NaN</td>\n",
       "      <td>NaN</td>\n",
       "      <td>NaN</td>\n",
       "      <td>NaN</td>\n",
       "      <td>NaN</td>\n",
       "      <td>NaN</td>\n",
       "      <td>NaN</td>\n",
       "    </tr>\n",
       "    <tr>\n",
       "      <th>...</th>\n",
       "      <td>...</td>\n",
       "      <td>...</td>\n",
       "      <td>...</td>\n",
       "      <td>...</td>\n",
       "      <td>...</td>\n",
       "      <td>...</td>\n",
       "      <td>...</td>\n",
       "      <td>...</td>\n",
       "      <td>...</td>\n",
       "      <td>...</td>\n",
       "      <td>...</td>\n",
       "      <td>...</td>\n",
       "      <td>...</td>\n",
       "      <td>...</td>\n",
       "      <td>...</td>\n",
       "      <td>...</td>\n",
       "      <td>...</td>\n",
       "      <td>...</td>\n",
       "      <td>...</td>\n",
       "      <td>...</td>\n",
       "      <td>...</td>\n",
       "    </tr>\n",
       "    <tr>\n",
       "      <th>498169</th>\n",
       "      <td>53e00f4c23</td>\n",
       "      <td>aef6bc6341</td>\n",
       "      <td>6b16359725</td>\n",
       "      <td>527</td>\n",
       "      <td>16aa008b0a</td>\n",
       "      <td>1</td>\n",
       "      <td>f94fdbb8b3</td>\n",
       "      <td>3200</td>\n",
       "      <td>07</td>\n",
       "      <td>11397</td>\n",
       "      <td>...</td>\n",
       "      <td>NaN</td>\n",
       "      <td>NaN</td>\n",
       "      <td>NaN</td>\n",
       "      <td>NaN</td>\n",
       "      <td>NaN</td>\n",
       "      <td>NaN</td>\n",
       "      <td>NaN</td>\n",
       "      <td>NaN</td>\n",
       "      <td>NaN</td>\n",
       "      <td>NaN</td>\n",
       "    </tr>\n",
       "    <tr>\n",
       "      <th>1096833</th>\n",
       "      <td>53e00f4c23</td>\n",
       "      <td>aef6bc6341</td>\n",
       "      <td>8cf4f60d9d</td>\n",
       "      <td>527</td>\n",
       "      <td>16aa008b0a</td>\n",
       "      <td>1</td>\n",
       "      <td>f94fdbb8b3</td>\n",
       "      <td>3200</td>\n",
       "      <td>07</td>\n",
       "      <td>11397</td>\n",
       "      <td>...</td>\n",
       "      <td>NaN</td>\n",
       "      <td>NaN</td>\n",
       "      <td>NaN</td>\n",
       "      <td>NaN</td>\n",
       "      <td>NaN</td>\n",
       "      <td>NaN</td>\n",
       "      <td>NaN</td>\n",
       "      <td>NaN</td>\n",
       "      <td>NaN</td>\n",
       "      <td>NaN</td>\n",
       "    </tr>\n",
       "    <tr>\n",
       "      <th>1683951</th>\n",
       "      <td>53e00f4c23</td>\n",
       "      <td>aef6bc6341</td>\n",
       "      <td>2e317663a7</td>\n",
       "      <td>527</td>\n",
       "      <td>16aa008b0a</td>\n",
       "      <td>1</td>\n",
       "      <td>f94fdbb8b3</td>\n",
       "      <td>3200</td>\n",
       "      <td>07</td>\n",
       "      <td>11397</td>\n",
       "      <td>...</td>\n",
       "      <td>NaN</td>\n",
       "      <td>NaN</td>\n",
       "      <td>NaN</td>\n",
       "      <td>NaN</td>\n",
       "      <td>NaN</td>\n",
       "      <td>NaN</td>\n",
       "      <td>NaN</td>\n",
       "      <td>NaN</td>\n",
       "      <td>NaN</td>\n",
       "      <td>NaN</td>\n",
       "    </tr>\n",
       "    <tr>\n",
       "      <th>1868873</th>\n",
       "      <td>53e00f4c23</td>\n",
       "      <td>aef6bc6341</td>\n",
       "      <td>2e317663a7</td>\n",
       "      <td>527</td>\n",
       "      <td>16aa008b0a</td>\n",
       "      <td>1</td>\n",
       "      <td>f94fdbb8b3</td>\n",
       "      <td>3200</td>\n",
       "      <td>07</td>\n",
       "      <td>11397</td>\n",
       "      <td>...</td>\n",
       "      <td>NaN</td>\n",
       "      <td>NaN</td>\n",
       "      <td>NaN</td>\n",
       "      <td>NaN</td>\n",
       "      <td>NaN</td>\n",
       "      <td>NaN</td>\n",
       "      <td>NaN</td>\n",
       "      <td>NaN</td>\n",
       "      <td>NaN</td>\n",
       "      <td>NaN</td>\n",
       "    </tr>\n",
       "    <tr>\n",
       "      <th>1925891</th>\n",
       "      <td>53e00f4c23</td>\n",
       "      <td>803b61c324</td>\n",
       "      <td>3b488679a4</td>\n",
       "      <td>541</td>\n",
       "      <td>ed951d3440</td>\n",
       "      <td>1</td>\n",
       "      <td>f98cb60082</td>\n",
       "      <td>3200</td>\n",
       "      <td>02</td>\n",
       "      <td>30189</td>\n",
       "      <td>...</td>\n",
       "      <td>NaN</td>\n",
       "      <td>NaN</td>\n",
       "      <td>NaN</td>\n",
       "      <td>NaN</td>\n",
       "      <td>NaN</td>\n",
       "      <td>NaN</td>\n",
       "      <td>NaN</td>\n",
       "      <td>NaN</td>\n",
       "      <td>NaN</td>\n",
       "      <td>NaN</td>\n",
       "    </tr>\n",
       "  </tbody>\n",
       "</table>\n",
       "<p>68 rows × 161 columns</p>\n",
       "</div>"
      ],
      "text/plain": [
       "              COMAX      COPFCI        COEM CTCOPO      COESPF  CTPE  \\\n",
       "426607   53e00f4c23  aef6bc6341  e4e9d3da9e    527  16aa008b0a     1   \n",
       "604387   53e00f4c23  aef6bc6341  e4e9d3da9e    527  16aa008b0a     1   \n",
       "1235704  53e00f4c23  aef6bc6341  6b16359725    527  16aa008b0a     1   \n",
       "1403953  53e00f4c23  aef6bc6341  8cf4f60d9d    527  16aa008b0a     1   \n",
       "1974023  53e00f4c23  aef6bc6341  2e317663a7    527  16aa008b0a     1   \n",
       "...             ...         ...         ...    ...         ...   ...   \n",
       "498169   53e00f4c23  aef6bc6341  6b16359725    527  16aa008b0a     1   \n",
       "1096833  53e00f4c23  aef6bc6341  8cf4f60d9d    527  16aa008b0a     1   \n",
       "1683951  53e00f4c23  aef6bc6341  2e317663a7    527  16aa008b0a     1   \n",
       "1868873  53e00f4c23  aef6bc6341  2e317663a7    527  16aa008b0a     1   \n",
       "1925891  53e00f4c23  803b61c324  3b488679a4    541  ed951d3440     1   \n",
       "\n",
       "             COGRRB COSGPA CTMENB COCINS  ... QCPEAICF QCPEAIBQ QCPEAIFC  \\\n",
       "426607   f94fdbb8b3   3200     07  11397  ...      NaN      NaN      NaN   \n",
       "604387   f94fdbb8b3   3200     07  11397  ...      NaN      NaN      NaN   \n",
       "1235704  f94fdbb8b3   3200     07  11397  ...      NaN      NaN      NaN   \n",
       "1403953  f94fdbb8b3   3200     07  11397  ...      NaN      NaN      NaN   \n",
       "1974023  f94fdbb8b3   3200     07  11397  ...      NaN      NaN      NaN   \n",
       "...             ...    ...    ...    ...  ...      ...      ...      ...   \n",
       "498169   f94fdbb8b3   3200     07  11397  ...      NaN      NaN      NaN   \n",
       "1096833  f94fdbb8b3   3200     07  11397  ...      NaN      NaN      NaN   \n",
       "1683951  f94fdbb8b3   3200     07  11397  ...      NaN      NaN      NaN   \n",
       "1868873  f94fdbb8b3   3200     07  11397  ...      NaN      NaN      NaN   \n",
       "1925891  f98cb60082   3200     02  30189  ...      NaN      NaN      NaN   \n",
       "\n",
       "         QCPEAIFL  QCPEAITR  QCPEAIIR  QCPEAIAP  QCPEAIDI QFPEAISR QCPEAIBP  \n",
       "426607        NaN       NaN       NaN       NaN       NaN      NaN      NaN  \n",
       "604387        NaN       NaN       NaN       NaN       NaN      NaN      NaN  \n",
       "1235704       NaN       NaN       NaN       NaN       NaN      NaN      NaN  \n",
       "1403953       NaN       NaN       NaN       NaN       NaN      NaN      NaN  \n",
       "1974023       NaN       NaN       NaN       NaN       NaN      NaN      NaN  \n",
       "...           ...       ...       ...       ...       ...      ...      ...  \n",
       "498169        NaN       NaN       NaN       NaN       NaN      NaN      NaN  \n",
       "1096833       NaN       NaN       NaN       NaN       NaN      NaN      NaN  \n",
       "1683951       NaN       NaN       NaN       NaN       NaN      NaN      NaN  \n",
       "1868873       NaN       NaN       NaN       NaN       NaN      NaN      NaN  \n",
       "1925891       NaN       NaN       NaN       NaN       NaN      NaN      NaN  \n",
       "\n",
       "[68 rows x 161 columns]"
      ]
     },
     "execution_count": 33,
     "metadata": {},
     "output_type": "execute_result"
    }
   ],
   "source": [
    "data[data['COMAX'] == '53e00f4c23']"
   ]
  },
  {
   "cell_type": "code",
   "execution_count": 45,
   "id": "spread-bandwidth",
   "metadata": {},
   "outputs": [],
   "source": [
    "def wow(lol):\n",
    "    global data\n",
    "    for shit in lol.split('\\n'):\n",
    "        print(shit)\n",
    "        print(data[shit].nunique())\n",
    "        print(data[shit].unique())\n",
    "        print('\\n')"
   ]
  },
  {
   "cell_type": "code",
   "execution_count": 48,
   "id": "legislative-referral",
   "metadata": {},
   "outputs": [],
   "source": [
    "shit = '''\n",
    "'''\n",
    "cols = [i for i in shit.split('\\n')]\n",
    "cols = [i for i in cols if i in data.columns]"
   ]
  },
  {
   "cell_type": "code",
   "execution_count": 56,
   "id": "subject-thomson",
   "metadata": {},
   "outputs": [],
   "source": [
    "data = data[cols]"
   ]
  },
  {
   "cell_type": "code",
   "execution_count": 77,
   "id": "opposite-stanley",
   "metadata": {},
   "outputs": [
    {
     "name": "stdout",
     "output_type": "stream",
     "text": [
      "COPFCI\n",
      "1469\n",
      "['d378509698' '2b4e95fe50' 'ac10a12275' ... 'a63debb0ac' '590c49a810'\n",
      " 'f9c50d9e16']\n",
      "\n",
      "\n",
      "COEM\n",
      "1539\n",
      "['747832c2a6' '5b20a0f34a' '2a25395979' ... '53bad583d7' '7ee6bb03b4'\n",
      " '48e6154271']\n",
      "\n",
      "\n",
      "CTPE\n",
      "1\n",
      "[1]\n",
      "\n",
      "\n"
     ]
    }
   ],
   "source": [
    "wow('''COPFCI\n",
    "COEM\n",
    "CTPE''')"
   ]
  },
  {
   "cell_type": "code",
   "execution_count": 81,
   "id": "growing-attraction",
   "metadata": {},
   "outputs": [],
   "source": [
    "shit = '''QCPRMO\n",
    "QCPRPO\n",
    "QTEQUI\n",
    "PSGASS\n",
    "MTAUCT\n",
    "MTUTCT\n",
    "QCTFEFCT\n",
    "QCFEFMLT\n",
    "QCTFEFXFC\n",
    "QCFEISAS\n",
    "QCFEINTR\n",
    "QCFETRES\n",
    "QFAMESGR\n",
    "QCPEAICF\n",
    "QCPEAIBQ\n",
    "QCPEAIFC\n",
    "QCPEAIFL\n",
    "QCPEAITR\n",
    "QCPEAIIR\n",
    "QCPEAIAP\n",
    "QCPEAIDI\n",
    "QFPEAISR\n",
    "QCPEAIBP\n",
    "COPFCI\n",
    "COEM\n",
    "CTPE\n",
    "'''\n",
    "cols = [i for i in shit.split('\\n')]\n",
    "cols.pop()"
   ]
  },
  {
   "cell_type": "code",
   "execution_count": 82,
   "id": "technological-contemporary",
   "metadata": {},
   "outputs": [
    {
     "ename": "KeyError",
     "evalue": "''",
     "output_type": "error",
     "traceback": [
      "\u001b[0;31m---------------------------------------------------------------------------\u001b[0m",
      "\u001b[0;31mKeyError\u001b[0m                                  Traceback (most recent call last)",
      "\u001b[0;32m~/.local/lib/python3.6/site-packages/pandas/core/indexes/base.py\u001b[0m in \u001b[0;36mget_loc\u001b[0;34m(self, key, method, tolerance)\u001b[0m\n\u001b[1;32m   2897\u001b[0m             \u001b[0;32mtry\u001b[0m\u001b[0;34m:\u001b[0m\u001b[0;34m\u001b[0m\u001b[0;34m\u001b[0m\u001b[0m\n\u001b[0;32m-> 2898\u001b[0;31m                 \u001b[0;32mreturn\u001b[0m \u001b[0mself\u001b[0m\u001b[0;34m.\u001b[0m\u001b[0m_engine\u001b[0m\u001b[0;34m.\u001b[0m\u001b[0mget_loc\u001b[0m\u001b[0;34m(\u001b[0m\u001b[0mcasted_key\u001b[0m\u001b[0;34m)\u001b[0m\u001b[0;34m\u001b[0m\u001b[0;34m\u001b[0m\u001b[0m\n\u001b[0m\u001b[1;32m   2899\u001b[0m             \u001b[0;32mexcept\u001b[0m \u001b[0mKeyError\u001b[0m \u001b[0;32mas\u001b[0m \u001b[0merr\u001b[0m\u001b[0;34m:\u001b[0m\u001b[0;34m\u001b[0m\u001b[0;34m\u001b[0m\u001b[0m\n",
      "\u001b[0;32mpandas/_libs/index.pyx\u001b[0m in \u001b[0;36mpandas._libs.index.IndexEngine.get_loc\u001b[0;34m()\u001b[0m\n",
      "\u001b[0;32mpandas/_libs/index.pyx\u001b[0m in \u001b[0;36mpandas._libs.index.IndexEngine.get_loc\u001b[0;34m()\u001b[0m\n",
      "\u001b[0;32mpandas/_libs/hashtable_class_helper.pxi\u001b[0m in \u001b[0;36mpandas._libs.hashtable.PyObjectHashTable.get_item\u001b[0;34m()\u001b[0m\n",
      "\u001b[0;32mpandas/_libs/hashtable_class_helper.pxi\u001b[0m in \u001b[0;36mpandas._libs.hashtable.PyObjectHashTable.get_item\u001b[0;34m()\u001b[0m\n",
      "\u001b[0;31mKeyError\u001b[0m: ''",
      "\nThe above exception was the direct cause of the following exception:\n",
      "\u001b[0;31mKeyError\u001b[0m                                  Traceback (most recent call last)",
      "\u001b[0;32m<ipython-input-82-373bad70f724>\u001b[0m in \u001b[0;36m<module>\u001b[0;34m\u001b[0m\n\u001b[1;32m      1\u001b[0m \u001b[0;32mfor\u001b[0m \u001b[0mcol\u001b[0m \u001b[0;32min\u001b[0m \u001b[0mcols\u001b[0m\u001b[0;34m:\u001b[0m\u001b[0;34m\u001b[0m\u001b[0;34m\u001b[0m\u001b[0m\n\u001b[0;32m----> 2\u001b[0;31m     \u001b[0;32mdel\u001b[0m \u001b[0mdata\u001b[0m\u001b[0;34m[\u001b[0m\u001b[0mcol\u001b[0m\u001b[0;34m]\u001b[0m\u001b[0;34m\u001b[0m\u001b[0;34m\u001b[0m\u001b[0m\n\u001b[0m",
      "\u001b[0;32m~/.local/lib/python3.6/site-packages/pandas/core/generic.py\u001b[0m in \u001b[0;36m__delitem__\u001b[0;34m(self, key)\u001b[0m\n\u001b[1;32m   3711\u001b[0m             \u001b[0;31m# there was no match, this call should raise the appropriate\u001b[0m\u001b[0;34m\u001b[0m\u001b[0;34m\u001b[0m\u001b[0;34m\u001b[0m\u001b[0m\n\u001b[1;32m   3712\u001b[0m             \u001b[0;31m# exception:\u001b[0m\u001b[0;34m\u001b[0m\u001b[0;34m\u001b[0m\u001b[0;34m\u001b[0m\u001b[0m\n\u001b[0;32m-> 3713\u001b[0;31m             \u001b[0mloc\u001b[0m \u001b[0;34m=\u001b[0m \u001b[0mself\u001b[0m\u001b[0;34m.\u001b[0m\u001b[0maxes\u001b[0m\u001b[0;34m[\u001b[0m\u001b[0;34m-\u001b[0m\u001b[0;36m1\u001b[0m\u001b[0;34m]\u001b[0m\u001b[0;34m.\u001b[0m\u001b[0mget_loc\u001b[0m\u001b[0;34m(\u001b[0m\u001b[0mkey\u001b[0m\u001b[0;34m)\u001b[0m\u001b[0;34m\u001b[0m\u001b[0;34m\u001b[0m\u001b[0m\n\u001b[0m\u001b[1;32m   3714\u001b[0m             \u001b[0mself\u001b[0m\u001b[0;34m.\u001b[0m\u001b[0m_mgr\u001b[0m\u001b[0;34m.\u001b[0m\u001b[0midelete\u001b[0m\u001b[0;34m(\u001b[0m\u001b[0mloc\u001b[0m\u001b[0;34m)\u001b[0m\u001b[0;34m\u001b[0m\u001b[0;34m\u001b[0m\u001b[0m\n\u001b[1;32m   3715\u001b[0m \u001b[0;34m\u001b[0m\u001b[0m\n",
      "\u001b[0;32m~/.local/lib/python3.6/site-packages/pandas/core/indexes/base.py\u001b[0m in \u001b[0;36mget_loc\u001b[0;34m(self, key, method, tolerance)\u001b[0m\n\u001b[1;32m   2898\u001b[0m                 \u001b[0;32mreturn\u001b[0m \u001b[0mself\u001b[0m\u001b[0;34m.\u001b[0m\u001b[0m_engine\u001b[0m\u001b[0;34m.\u001b[0m\u001b[0mget_loc\u001b[0m\u001b[0;34m(\u001b[0m\u001b[0mcasted_key\u001b[0m\u001b[0;34m)\u001b[0m\u001b[0;34m\u001b[0m\u001b[0;34m\u001b[0m\u001b[0m\n\u001b[1;32m   2899\u001b[0m             \u001b[0;32mexcept\u001b[0m \u001b[0mKeyError\u001b[0m \u001b[0;32mas\u001b[0m \u001b[0merr\u001b[0m\u001b[0;34m:\u001b[0m\u001b[0;34m\u001b[0m\u001b[0;34m\u001b[0m\u001b[0m\n\u001b[0;32m-> 2900\u001b[0;31m                 \u001b[0;32mraise\u001b[0m \u001b[0mKeyError\u001b[0m\u001b[0;34m(\u001b[0m\u001b[0mkey\u001b[0m\u001b[0;34m)\u001b[0m \u001b[0;32mfrom\u001b[0m \u001b[0merr\u001b[0m\u001b[0;34m\u001b[0m\u001b[0;34m\u001b[0m\u001b[0m\n\u001b[0m\u001b[1;32m   2901\u001b[0m \u001b[0;34m\u001b[0m\u001b[0m\n\u001b[1;32m   2902\u001b[0m         \u001b[0;32mif\u001b[0m \u001b[0mtolerance\u001b[0m \u001b[0;32mis\u001b[0m \u001b[0;32mnot\u001b[0m \u001b[0;32mNone\u001b[0m\u001b[0;34m:\u001b[0m\u001b[0;34m\u001b[0m\u001b[0;34m\u001b[0m\u001b[0m\n",
      "\u001b[0;31mKeyError\u001b[0m: ''"
     ]
    }
   ],
   "source": [
    "for col in cols:\n",
    "    del data[col]"
   ]
  },
  {
   "cell_type": "code",
   "execution_count": 113,
   "id": "analyzed-bibliography",
   "metadata": {},
   "outputs": [],
   "source": [
    "data = data.drop_duplicates(subset=\"COMAX\")"
   ]
  },
  {
   "cell_type": "code",
   "execution_count": 88,
   "id": "flying-lexington",
   "metadata": {},
   "outputs": [
    {
     "name": "stdout",
     "output_type": "stream",
     "text": [
      "<class 'pandas.core.frame.DataFrame'>\n",
      "Int64Index: 516200 entries, 0 to 2261264\n",
      "Columns: 109 entries, COMAX to QFPROSGR\n",
      "dtypes: float64(42), int64(36), object(31)\n",
      "memory usage: 433.2+ MB\n"
     ]
    }
   ],
   "source": [
    "data.info()"
   ]
  },
  {
   "cell_type": "code",
   "execution_count": 89,
   "id": "formed-internship",
   "metadata": {},
   "outputs": [
    {
     "data": {
      "text/plain": [
       "(516200, 109)"
      ]
     },
     "execution_count": 89,
     "metadata": {},
     "output_type": "execute_result"
    }
   ],
   "source": [
    "data.shape"
   ]
  },
  {
   "cell_type": "code",
   "execution_count": 90,
   "id": "simplified-estonia",
   "metadata": {},
   "outputs": [],
   "source": [
    "poste =  pd.read_csv(os.getenv('DATA_PATH') + '/' + 'tj24.csv', encoding='ISO-8859-1', sep=';')\n",
    "pc = pd.read_csv(os.getenv('DATA_PATH') + '/' + 'post_codes.csv', encoding='ISO-8859-1', sep='\\t')"
   ]
  },
  {
   "cell_type": "code",
   "execution_count": 93,
   "id": "classical-martial",
   "metadata": {},
   "outputs": [],
   "source": [
    "data['COPOST'] = data['COPOST'].astype(str)\n",
    "pc['COPOST'] = pc['COPOST'].astype(str)"
   ]
  },
  {
   "cell_type": "code",
   "execution_count": 94,
   "id": "finished-wireless",
   "metadata": {},
   "outputs": [],
   "source": [
    "# concatenate clients with the latitide longtitue data\n",
    "temp = pd.merge(poste, pc, on='COPOST', how='left')"
   ]
  },
  {
   "cell_type": "code",
   "execution_count": 95,
   "id": "varied-weekend",
   "metadata": {},
   "outputs": [],
   "source": [
    "data = pd.merge(data, temp, on='COMAX', how='left')"
   ]
  },
  {
   "cell_type": "code",
   "execution_count": 97,
   "id": "reliable-turning",
   "metadata": {},
   "outputs": [],
   "source": [
    "del data['COPOST_y']"
   ]
  },
  {
   "cell_type": "code",
   "execution_count": 98,
   "id": "pleased-india",
   "metadata": {},
   "outputs": [],
   "source": [
    "data.rename(columns={'COPOST_x': 'COPOST'}, inplace=True)"
   ]
  },
  {
   "cell_type": "code",
   "execution_count": 100,
   "id": "difficult-catalog",
   "metadata": {},
   "outputs": [
    {
     "name": "stdout",
     "output_type": "stream",
     "text": [
      "QCPREV\n",
      "7\n",
      "[nan  2.  0.  1.  3.  4.  5.  6.]\n",
      "\n",
      "\n"
     ]
    }
   ],
   "source": [
    "wow('QCPREV')"
   ]
  },
  {
   "cell_type": "code",
   "execution_count": 103,
   "id": "reported-feature",
   "metadata": {},
   "outputs": [],
   "source": [
    "# get the list of miss typed data\n",
    "lol = list()\n",
    "for i in data['CTSCPI'].unique():\n",
    "    if not i.isdigit():\n",
    "        lol.append(i)\n",
    "        \n",
    "# replce the missed data, and miss created one with nan values\n",
    "data['CTSCPI'].replace(lol, np.nan, inplace=True)"
   ]
  },
  {
   "cell_type": "code",
   "execution_count": 105,
   "id": "familiar-kenya",
   "metadata": {},
   "outputs": [],
   "source": [
    "lol = list()\n",
    "\n",
    "for i in data['COPOST'].unique():\n",
    "    if not str(i).isdigit():\n",
    "        lol.append(i)"
   ]
  },
  {
   "cell_type": "code",
   "execution_count": 107,
   "id": "disciplinary-mortality",
   "metadata": {},
   "outputs": [],
   "source": [
    "# replce the missed data, and miss created one with nan values\n",
    "data['COPOST'].replace(lol, np.nan, inplace=True)\n",
    "data['LAT'].replace(lol, np.nan, inplace=True)\n",
    "data['LON'].replace(lol, np.nan, inplace=True)"
   ]
  },
  {
   "cell_type": "code",
   "execution_count": 109,
   "id": "pregnant-compression",
   "metadata": {},
   "outputs": [
    {
     "data": {
      "text/plain": [
       "(2700351, 111)"
      ]
     },
     "execution_count": 109,
     "metadata": {},
     "output_type": "execute_result"
    }
   ],
   "source": [
    "data.shape"
   ]
  },
  {
   "cell_type": "code",
   "execution_count": 115,
   "id": "perceived-communication",
   "metadata": {},
   "outputs": [
    {
     "name": "stdout",
     "output_type": "stream",
     "text": [
      "<class 'pandas.core.frame.DataFrame'>\n",
      "Int64Index: 516200 entries, 0 to 2700350\n",
      "Columns: 111 entries, COMAX to LON\n",
      "dtypes: float64(44), int64(36), object(31)\n",
      "memory usage: 441.1+ MB\n"
     ]
    }
   ],
   "source": [
    "data.info()"
   ]
  },
  {
   "cell_type": "code",
   "execution_count": 114,
   "id": "positive-sculpture",
   "metadata": {},
   "outputs": [
    {
     "data": {
      "text/html": [
       "<div>\n",
       "<style scoped>\n",
       "    .dataframe tbody tr th:only-of-type {\n",
       "        vertical-align: middle;\n",
       "    }\n",
       "\n",
       "    .dataframe tbody tr th {\n",
       "        vertical-align: top;\n",
       "    }\n",
       "\n",
       "    .dataframe thead th {\n",
       "        text-align: right;\n",
       "    }\n",
       "</style>\n",
       "<table border=\"1\" class=\"dataframe\">\n",
       "  <thead>\n",
       "    <tr style=\"text-align: right;\">\n",
       "      <th></th>\n",
       "      <th>COMAX</th>\n",
       "      <th>CTCOPO</th>\n",
       "      <th>COESPF</th>\n",
       "      <th>COGRRB</th>\n",
       "      <th>COSGPA</th>\n",
       "      <th>CTMENB</th>\n",
       "      <th>COCINS</th>\n",
       "      <th>COPOST</th>\n",
       "      <th>CTSIFA</th>\n",
       "      <th>CTSCPI</th>\n",
       "      <th>...</th>\n",
       "      <th>QCPREV</th>\n",
       "      <th>QCIARD</th>\n",
       "      <th>MTFLPR</th>\n",
       "      <th>MTFLCO</th>\n",
       "      <th>MTRSFI</th>\n",
       "      <th>MTRSMO</th>\n",
       "      <th>QCFPRORB</th>\n",
       "      <th>QFPROSGR</th>\n",
       "      <th>LAT</th>\n",
       "      <th>LON</th>\n",
       "    </tr>\n",
       "  </thead>\n",
       "  <tbody>\n",
       "    <tr>\n",
       "      <th>0</th>\n",
       "      <td>39e4b5c00a</td>\n",
       "      <td>582</td>\n",
       "      <td>d10869c66b</td>\n",
       "      <td>194acf0904</td>\n",
       "      <td>3200</td>\n",
       "      <td>04</td>\n",
       "      <td>34172</td>\n",
       "      <td>34000</td>\n",
       "      <td>1</td>\n",
       "      <td>5500</td>\n",
       "      <td>...</td>\n",
       "      <td>NaN</td>\n",
       "      <td>NaN</td>\n",
       "      <td>NaN</td>\n",
       "      <td>NaN</td>\n",
       "      <td>0.00</td>\n",
       "      <td>5605.00</td>\n",
       "      <td>NaN</td>\n",
       "      <td>NaN</td>\n",
       "      <td>43.6109</td>\n",
       "      <td>3.8772</td>\n",
       "    </tr>\n",
       "    <tr>\n",
       "      <th>1</th>\n",
       "      <td>77cedb77d9</td>\n",
       "      <td>527</td>\n",
       "      <td>c3ea678087</td>\n",
       "      <td>fd7c332a52</td>\n",
       "      <td>3200</td>\n",
       "      <td>07</td>\n",
       "      <td>66136</td>\n",
       "      <td>66000</td>\n",
       "      <td>2</td>\n",
       "      <td>6700</td>\n",
       "      <td>...</td>\n",
       "      <td>NaN</td>\n",
       "      <td>NaN</td>\n",
       "      <td>NaN</td>\n",
       "      <td>NaN</td>\n",
       "      <td>7565.88</td>\n",
       "      <td>0.00</td>\n",
       "      <td>NaN</td>\n",
       "      <td>NaN</td>\n",
       "      <td>42.6976</td>\n",
       "      <td>2.8954</td>\n",
       "    </tr>\n",
       "    <tr>\n",
       "      <th>2</th>\n",
       "      <td>cfb9f1d41b</td>\n",
       "      <td>542</td>\n",
       "      <td>76b274b0ad</td>\n",
       "      <td>e9a0dda18b</td>\n",
       "      <td>3200</td>\n",
       "      <td>07</td>\n",
       "      <td>66021</td>\n",
       "      <td>66430</td>\n",
       "      <td>5</td>\n",
       "      <td>4700</td>\n",
       "      <td>...</td>\n",
       "      <td>2.0</td>\n",
       "      <td>1.0</td>\n",
       "      <td>NaN</td>\n",
       "      <td>NaN</td>\n",
       "      <td>11021.49</td>\n",
       "      <td>21477.82</td>\n",
       "      <td>NaN</td>\n",
       "      <td>NaN</td>\n",
       "      <td>42.7333</td>\n",
       "      <td>2.9333</td>\n",
       "    </tr>\n",
       "    <tr>\n",
       "      <th>3</th>\n",
       "      <td>3a738f58cc</td>\n",
       "      <td>542</td>\n",
       "      <td>cb74f7d1d3</td>\n",
       "      <td>7044fd434c</td>\n",
       "      <td>3200</td>\n",
       "      <td>07</td>\n",
       "      <td>66148</td>\n",
       "      <td>66660</td>\n",
       "      <td>5</td>\n",
       "      <td>4200</td>\n",
       "      <td>...</td>\n",
       "      <td>NaN</td>\n",
       "      <td>NaN</td>\n",
       "      <td>NaN</td>\n",
       "      <td>NaN</td>\n",
       "      <td>0.00</td>\n",
       "      <td>5104.67</td>\n",
       "      <td>NaN</td>\n",
       "      <td>NaN</td>\n",
       "      <td>42.6360</td>\n",
       "      <td>2.9165</td>\n",
       "    </tr>\n",
       "    <tr>\n",
       "      <th>4</th>\n",
       "      <td>57fdb1b811</td>\n",
       "      <td>582</td>\n",
       "      <td>7db43147e8</td>\n",
       "      <td>85bda13ea9</td>\n",
       "      <td>3200</td>\n",
       "      <td>01</td>\n",
       "      <td>66050</td>\n",
       "      <td>66530</td>\n",
       "      <td>1</td>\n",
       "      <td>4300</td>\n",
       "      <td>...</td>\n",
       "      <td>NaN</td>\n",
       "      <td>NaN</td>\n",
       "      <td>NaN</td>\n",
       "      <td>NaN</td>\n",
       "      <td>30.00</td>\n",
       "      <td>11.22</td>\n",
       "      <td>NaN</td>\n",
       "      <td>NaN</td>\n",
       "      <td>42.6976</td>\n",
       "      <td>2.8954</td>\n",
       "    </tr>\n",
       "    <tr>\n",
       "      <th>...</th>\n",
       "      <td>...</td>\n",
       "      <td>...</td>\n",
       "      <td>...</td>\n",
       "      <td>...</td>\n",
       "      <td>...</td>\n",
       "      <td>...</td>\n",
       "      <td>...</td>\n",
       "      <td>...</td>\n",
       "      <td>...</td>\n",
       "      <td>...</td>\n",
       "      <td>...</td>\n",
       "      <td>...</td>\n",
       "      <td>...</td>\n",
       "      <td>...</td>\n",
       "      <td>...</td>\n",
       "      <td>...</td>\n",
       "      <td>...</td>\n",
       "      <td>...</td>\n",
       "      <td>...</td>\n",
       "      <td>...</td>\n",
       "      <td>...</td>\n",
       "    </tr>\n",
       "    <tr>\n",
       "      <th>2700339</th>\n",
       "      <td>bdff614b8e</td>\n",
       "      <td>542</td>\n",
       "      <td>3683ca7eb9</td>\n",
       "      <td>7bb252f99f</td>\n",
       "      <td>3200</td>\n",
       "      <td>01</td>\n",
       "      <td>66136</td>\n",
       "      <td>66000</td>\n",
       "      <td>1</td>\n",
       "      <td>8400</td>\n",
       "      <td>...</td>\n",
       "      <td>NaN</td>\n",
       "      <td>NaN</td>\n",
       "      <td>NaN</td>\n",
       "      <td>NaN</td>\n",
       "      <td>0.00</td>\n",
       "      <td>340.11</td>\n",
       "      <td>NaN</td>\n",
       "      <td>NaN</td>\n",
       "      <td>42.6976</td>\n",
       "      <td>2.8954</td>\n",
       "    </tr>\n",
       "    <tr>\n",
       "      <th>2700340</th>\n",
       "      <td>3e9a7786fa</td>\n",
       "      <td>015</td>\n",
       "      <td>1a611ac154</td>\n",
       "      <td>4f6ceedba1</td>\n",
       "      <td>3200</td>\n",
       "      <td>07</td>\n",
       "      <td>34226</td>\n",
       "      <td>34310</td>\n",
       "      <td>1</td>\n",
       "      <td>8400</td>\n",
       "      <td>...</td>\n",
       "      <td>NaN</td>\n",
       "      <td>NaN</td>\n",
       "      <td>NaN</td>\n",
       "      <td>NaN</td>\n",
       "      <td>0.00</td>\n",
       "      <td>69.01</td>\n",
       "      <td>NaN</td>\n",
       "      <td>NaN</td>\n",
       "      <td>43.3554</td>\n",
       "      <td>2.9410</td>\n",
       "    </tr>\n",
       "    <tr>\n",
       "      <th>2700347</th>\n",
       "      <td>9155efe92a</td>\n",
       "      <td>711</td>\n",
       "      <td>fec4cbfaa3</td>\n",
       "      <td>31cc7457b4</td>\n",
       "      <td>3200</td>\n",
       "      <td>01</td>\n",
       "      <td>34332</td>\n",
       "      <td>34450</td>\n",
       "      <td>1</td>\n",
       "      <td>6300</td>\n",
       "      <td>...</td>\n",
       "      <td>1.0</td>\n",
       "      <td>0.0</td>\n",
       "      <td>NaN</td>\n",
       "      <td>NaN</td>\n",
       "      <td>0.00</td>\n",
       "      <td>837.55</td>\n",
       "      <td>NaN</td>\n",
       "      <td>NaN</td>\n",
       "      <td>43.3046</td>\n",
       "      <td>3.3337</td>\n",
       "    </tr>\n",
       "    <tr>\n",
       "      <th>2700349</th>\n",
       "      <td>f77e145033</td>\n",
       "      <td>542</td>\n",
       "      <td>2e090fd987</td>\n",
       "      <td>a59c956c6b</td>\n",
       "      <td>3200</td>\n",
       "      <td>08</td>\n",
       "      <td>30189</td>\n",
       "      <td>30000</td>\n",
       "      <td>1</td>\n",
       "      <td>8400</td>\n",
       "      <td>...</td>\n",
       "      <td>NaN</td>\n",
       "      <td>NaN</td>\n",
       "      <td>NaN</td>\n",
       "      <td>NaN</td>\n",
       "      <td>0.00</td>\n",
       "      <td>740.33</td>\n",
       "      <td>NaN</td>\n",
       "      <td>NaN</td>\n",
       "      <td>43.8338</td>\n",
       "      <td>4.3596</td>\n",
       "    </tr>\n",
       "    <tr>\n",
       "      <th>2700350</th>\n",
       "      <td>17d92d31c1</td>\n",
       "      <td>582</td>\n",
       "      <td>d10869c66b</td>\n",
       "      <td>16ffe4f872</td>\n",
       "      <td>3200</td>\n",
       "      <td>08</td>\n",
       "      <td>34172</td>\n",
       "      <td>34070</td>\n",
       "      <td>1</td>\n",
       "      <td>8400</td>\n",
       "      <td>...</td>\n",
       "      <td>NaN</td>\n",
       "      <td>NaN</td>\n",
       "      <td>NaN</td>\n",
       "      <td>NaN</td>\n",
       "      <td>0.00</td>\n",
       "      <td>10.00</td>\n",
       "      <td>NaN</td>\n",
       "      <td>NaN</td>\n",
       "      <td>43.6109</td>\n",
       "      <td>3.8772</td>\n",
       "    </tr>\n",
       "  </tbody>\n",
       "</table>\n",
       "<p>516200 rows × 111 columns</p>\n",
       "</div>"
      ],
      "text/plain": [
       "              COMAX CTCOPO      COESPF      COGRRB COSGPA CTMENB COCINS  \\\n",
       "0        39e4b5c00a    582  d10869c66b  194acf0904   3200     04  34172   \n",
       "1        77cedb77d9    527  c3ea678087  fd7c332a52   3200     07  66136   \n",
       "2        cfb9f1d41b    542  76b274b0ad  e9a0dda18b   3200     07  66021   \n",
       "3        3a738f58cc    542  cb74f7d1d3  7044fd434c   3200     07  66148   \n",
       "4        57fdb1b811    582  7db43147e8  85bda13ea9   3200     01  66050   \n",
       "...             ...    ...         ...         ...    ...    ...    ...   \n",
       "2700339  bdff614b8e    542  3683ca7eb9  7bb252f99f   3200     01  66136   \n",
       "2700340  3e9a7786fa    015  1a611ac154  4f6ceedba1   3200     07  34226   \n",
       "2700347  9155efe92a    711  fec4cbfaa3  31cc7457b4   3200     01  34332   \n",
       "2700349  f77e145033    542  2e090fd987  a59c956c6b   3200     08  30189   \n",
       "2700350  17d92d31c1    582  d10869c66b  16ffe4f872   3200     08  34172   \n",
       "\n",
       "        COPOST CTSIFA CTSCPI  ... QCPREV QCIARD MTFLPR  MTFLCO    MTRSFI  \\\n",
       "0        34000      1   5500  ...    NaN    NaN    NaN     NaN      0.00   \n",
       "1        66000      2   6700  ...    NaN    NaN    NaN     NaN   7565.88   \n",
       "2        66430      5   4700  ...    2.0    1.0    NaN     NaN  11021.49   \n",
       "3        66660      5   4200  ...    NaN    NaN    NaN     NaN      0.00   \n",
       "4        66530      1   4300  ...    NaN    NaN    NaN     NaN     30.00   \n",
       "...        ...    ...    ...  ...    ...    ...    ...     ...       ...   \n",
       "2700339  66000      1   8400  ...    NaN    NaN    NaN     NaN      0.00   \n",
       "2700340  34310      1   8400  ...    NaN    NaN    NaN     NaN      0.00   \n",
       "2700347  34450      1   6300  ...    1.0    0.0    NaN     NaN      0.00   \n",
       "2700349  30000      1   8400  ...    NaN    NaN    NaN     NaN      0.00   \n",
       "2700350  34070      1   8400  ...    NaN    NaN    NaN     NaN      0.00   \n",
       "\n",
       "           MTRSMO  QCFPRORB  QFPROSGR      LAT     LON  \n",
       "0         5605.00       NaN       NaN  43.6109  3.8772  \n",
       "1            0.00       NaN       NaN  42.6976  2.8954  \n",
       "2        21477.82       NaN       NaN  42.7333  2.9333  \n",
       "3         5104.67       NaN       NaN  42.6360  2.9165  \n",
       "4           11.22       NaN       NaN  42.6976  2.8954  \n",
       "...           ...       ...       ...      ...     ...  \n",
       "2700339    340.11       NaN       NaN  42.6976  2.8954  \n",
       "2700340     69.01       NaN       NaN  43.3554  2.9410  \n",
       "2700347    837.55       NaN       NaN  43.3046  3.3337  \n",
       "2700349    740.33       NaN       NaN  43.8338  4.3596  \n",
       "2700350     10.00       NaN       NaN  43.6109  3.8772  \n",
       "\n",
       "[516200 rows x 111 columns]"
      ]
     },
     "execution_count": 114,
     "metadata": {},
     "output_type": "execute_result"
    }
   ],
   "source": [
    "data"
   ]
  },
  {
   "cell_type": "code",
   "execution_count": 116,
   "id": "matched-offense",
   "metadata": {},
   "outputs": [],
   "source": [
    "data.to_csv(os.getenv('CLEANED_DATA_PATH') + '/' + 'TR35.csv', index=False, sep=\"\\t\")"
   ]
  },
  {
   "cell_type": "code",
   "execution_count": 118,
   "id": "invisible-declaration",
   "metadata": {},
   "outputs": [],
   "source": [
    "# data.fillna(data.mean() , inplace = True)"
   ]
  },
  {
   "cell_type": "code",
   "execution_count": 120,
   "id": "public-spotlight",
   "metadata": {},
   "outputs": [
    {
     "data": {
      "text/plain": [
       "(516200, 111)"
      ]
     },
     "execution_count": 120,
     "metadata": {},
     "output_type": "execute_result"
    }
   ],
   "source": [
    "data.shape"
   ]
  },
  {
   "cell_type": "code",
   "execution_count": 123,
   "id": "least-meaning",
   "metadata": {},
   "outputs": [
    {
     "name": "stderr",
     "output_type": "stream",
     "text": [
      "/home/herharf/.local/lib/python3.6/site-packages/ipykernel_launcher.py:1: SettingWithCopyWarning: \n",
      "A value is trying to be set on a copy of a slice from a DataFrame.\n",
      "Try using .loc[row_indexer,col_indexer] = value instead\n",
      "\n",
      "See the caveats in the documentation: https://pandas.pydata.org/pandas-docs/stable/user_guide/indexing.html#returning-a-view-versus-a-copy\n",
      "  \"\"\"Entry point for launching an IPython kernel.\n"
     ]
    }
   ],
   "source": [
    "data['QCPREV'] = data['QCPREV'].fillna(data['QCPREV'].mean())"
   ]
  },
  {
   "cell_type": "code",
   "execution_count": 129,
   "id": "healthy-click",
   "metadata": {},
   "outputs": [
    {
     "name": "stdout",
     "output_type": "stream",
     "text": [
      "('COPOST', True)\n",
      "('CTSCPI', True)\n",
      "('MTCDIM', True)\n",
      "('MTRECD', True)\n",
      "('MTRETT', True)\n",
      "('QCPRDI', True)\n",
      "('QCPRCP', True)\n",
      "('QCPRQU', True)\n",
      "('QCPRFI', True)\n",
      "('QCPRTR', True)\n",
      "('QCPRAS', True)\n",
      "('QCPRPR', True)\n",
      "('MTELDD', True)\n",
      "('MTECEL', True)\n",
      "('MTEPEL', True)\n",
      "('MTECSL', True)\n",
      "('MTEPEP', True)\n",
      "('MTELEP', True)\n",
      "('MTELIJ', True)\n",
      "('MTECIM', True)\n",
      "('MTECCS', True)\n",
      "('MTECEQ', True)\n",
      "('MTECTR', True)\n",
      "('MTEEML', True)\n",
      "('MTEASV', True)\n",
      "('MTECTO', True)\n",
      "('MTECPA', True)\n",
      "('MTE19D', True)\n",
      "('MTE21D', True)\n",
      "('MTEEMC', True)\n",
      "('MTESOC', True)\n",
      "('MCTOTA', True)\n",
      "('MCTOTE', True)\n",
      "('QTCLIF', True)\n",
      "('QCBPFA', True)\n",
      "('QCIARD', True)\n",
      "('MTFLPR', True)\n",
      "('MTFLCO', True)\n",
      "('MTRSFI', True)\n",
      "('MTRSMO', True)\n",
      "('QCFPRORB', True)\n",
      "('QFPROSGR', True)\n"
     ]
    }
   ],
   "source": [
    "for i in zip(data.isna().any().index, data.isna().any().values):\n",
    "    if i[1]:\n",
    "        print(i)"
   ]
  },
  {
   "cell_type": "code",
   "execution_count": 133,
   "id": "metropolitan-webster",
   "metadata": {},
   "outputs": [
    {
     "name": "stderr",
     "output_type": "stream",
     "text": [
      "/home/herharf/.local/lib/python3.6/site-packages/ipykernel_launcher.py:1: SettingWithCopyWarning: \n",
      "A value is trying to be set on a copy of a slice from a DataFrame\n",
      "\n",
      "See the caveats in the documentation: https://pandas.pydata.org/pandas-docs/stable/user_guide/indexing.html#returning-a-view-versus-a-copy\n",
      "  \"\"\"Entry point for launching an IPython kernel.\n"
     ]
    }
   ],
   "source": [
    "data['CTSCPI'].unique()"
   ]
  },
  {
   "cell_type": "code",
   "execution_count": 135,
   "id": "described-inclusion",
   "metadata": {},
   "outputs": [],
   "source": []
  },
  {
   "cell_type": "code",
   "execution_count": null,
   "id": "micro-banks",
   "metadata": {},
   "outputs": [],
   "source": []
  }
 ],
 "metadata": {
  "kernelspec": {
   "display_name": "Python 3",
   "language": "python",
   "name": "python3"
  },
  "language_info": {
   "codemirror_mode": {
    "name": "ipython",
    "version": 3
   },
   "file_extension": ".py",
   "mimetype": "text/x-python",
   "name": "python",
   "nbconvert_exporter": "python",
   "pygments_lexer": "ipython3",
   "version": "3.6.8"
  }
 },
 "nbformat": 4,
 "nbformat_minor": 5
}
