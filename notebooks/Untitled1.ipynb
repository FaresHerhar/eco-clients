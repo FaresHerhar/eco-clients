{
 "cells": [
  {
   "cell_type": "code",
   "execution_count": 1,
   "id": "happy-guess",
   "metadata": {},
   "outputs": [],
   "source": [
    "from dotenv import load_dotenv\n",
    "import pandas as pd\n",
    "import numpy as np\n",
    "import os"
   ]
  },
  {
   "cell_type": "code",
   "execution_count": 2,
   "id": "allied-serum",
   "metadata": {},
   "outputs": [
    {
     "data": {
      "text/plain": [
       "True"
      ]
     },
     "execution_count": 2,
     "metadata": {},
     "output_type": "execute_result"
    }
   ],
   "source": [
    "load_dotenv()"
   ]
  },
  {
   "cell_type": "code",
   "execution_count": 3,
   "id": "unauthorized-architecture",
   "metadata": {},
   "outputs": [],
   "source": [
    "df = pd.read_csv(os.getenv('DATA_PATH') + '/' + \"tj7s.csv\", encoding=\"ISO-8859-1\", sep=\";\", low_memory=False)"
   ]
  },
  {
   "cell_type": "code",
   "execution_count": 5,
   "id": "eastern-detector",
   "metadata": {},
   "outputs": [],
   "source": [
    "clt = pd.read_csv(os.getenv('CLEANED_DATA_PATH') + '/' + 'TJ38.csv', encoding='ISO-8859-1', sep='\\t')"
   ]
  },
  {
   "cell_type": "markdown",
   "id": "recreational-chicago",
   "metadata": {},
   "source": [
    "## Corp The Data"
   ]
  },
  {
   "cell_type": "code",
   "execution_count": 8,
   "id": "dated-atlantic",
   "metadata": {},
   "outputs": [],
   "source": [
    "df = df[['COCO', 'COMAX', 'DDCO', 'DFCO', 'DACOEF', 'DFCORE', 'COPRO', 'CTCOOV', 'CTCOCL' ]]"
   ]
  },
  {
   "cell_type": "code",
   "execution_count": 9,
   "id": "different-argument",
   "metadata": {},
   "outputs": [],
   "source": [
    "df = df[df['COMAX'].isin(clt['COMAX'])]"
   ]
  },
  {
   "cell_type": "code",
   "execution_count": 10,
   "id": "imported-index",
   "metadata": {},
   "outputs": [
    {
     "data": {
      "text/plain": [
       "(32773662, 9)"
      ]
     },
     "execution_count": 10,
     "metadata": {},
     "output_type": "execute_result"
    }
   ],
   "source": [
    "df.shape"
   ]
  },
  {
   "cell_type": "code",
   "execution_count": 11,
   "id": "national-denial",
   "metadata": {},
   "outputs": [
    {
     "name": "stdout",
     "output_type": "stream",
     "text": [
      "<class 'pandas.core.frame.DataFrame'>\n",
      "Int64Index: 32773662 entries, 0 to 33329626\n",
      "Data columns (total 9 columns):\n",
      " #   Column  Dtype \n",
      "---  ------  ----- \n",
      " 0   COCO    object\n",
      " 1   COMAX   object\n",
      " 2   DDCO    object\n",
      " 3   DFCO    object\n",
      " 4   DACOEF  object\n",
      " 5   DFCORE  object\n",
      " 6   COPRO   object\n",
      " 7   CTCOOV  object\n",
      " 8   CTCOCL  object\n",
      "dtypes: object(9)\n",
      "memory usage: 2.4+ GB\n"
     ]
    }
   ],
   "source": [
    "df.info()"
   ]
  },
  {
   "cell_type": "code",
   "execution_count": 15,
   "id": "developing-knife",
   "metadata": {},
   "outputs": [],
   "source": [
    " df.to_csv(os.getenv('CLEANED_DATA_PATH') + '/' + 'TJ7S.csv', index=False, sep=\"\\t\")"
   ]
  }
 ],
 "metadata": {
  "kernelspec": {
   "display_name": "Python 3",
   "language": "python",
   "name": "python3"
  },
  "language_info": {
   "codemirror_mode": {
    "name": "ipython",
    "version": 3
   },
   "file_extension": ".py",
   "mimetype": "text/x-python",
   "name": "python",
   "nbconvert_exporter": "python",
   "pygments_lexer": "ipython3",
   "version": "3.6.8"
  }
 },
 "nbformat": 4,
 "nbformat_minor": 5
}
