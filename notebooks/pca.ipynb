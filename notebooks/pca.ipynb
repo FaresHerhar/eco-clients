{
 "cells": [
  {
   "cell_type": "code",
   "execution_count": 6,
   "id": "imperial-chester",
   "metadata": {},
   "outputs": [],
   "source": [
    "# modules for ploting and data manipulation\n",
    "import pandas as pd\n",
    "import numpy as np\n",
    "import matplotlib.pyplot as plt"
   ]
  },
  {
   "cell_type": "code",
   "execution_count": 3,
   "id": "purple-tomorrow",
   "metadata": {},
   "outputs": [],
   "source": [
    "# for the pca analysis\n",
    "from sklearn.preprocessing import StandardScaler\n",
    "from sklearn.decomposition import PCA"
   ]
  },
  {
   "cell_type": "markdown",
   "id": "genetic-cooling",
   "metadata": {},
   "source": [
    "## Get the data"
   ]
  },
  {
   "cell_type": "code",
   "execution_count": 1,
   "id": "greatest-emergency",
   "metadata": {},
   "outputs": [],
   "source": [
    "# Get the data from the other notebook\n",
    "%store -r data\n",
    "%store -r columns\n",
    "%store -r eco"
   ]
  },
  {
   "cell_type": "markdown",
   "id": "polish-spirit",
   "metadata": {},
   "source": [
    "## Do PCA mojo"
   ]
  },
  {
   "cell_type": "code",
   "execution_count": 4,
   "id": "bigger-reasoning",
   "metadata": {},
   "outputs": [],
   "source": [
    "# get the data to pass to the pca\n",
    "x = data[columns].values\n",
    "\n",
    "# stransforming the data\n",
    "x = StandardScaler().fit_transform(x)\n",
    "\n",
    "# fiting\n",
    "pca = PCA().fit(x)"
   ]
  },
  {
   "cell_type": "code",
   "execution_count": 8,
   "id": "departmental-feeling",
   "metadata": {},
   "outputs": [
    {
     "data": {
      "image/png": "[encoded data removed]",
      "text/plain": [
       "<Figure size 432x288 with 1 Axes>"
      ]
     },
     "metadata": {
      "needs_background": "light"
     },
     "output_type": "display_data"
    }
   ],
   "source": [
    "fig, ax = plt.subplots()\n",
    "xi = np.arange(1, len(columns) + 1, step=1)\n",
    "y = np.cumsum(pca.explained_variance_ratio_)\n",
    "\n",
    "plt.ylim(0.0,1.1)\n",
    "plt.plot(xi, y, marker='o', linestyle='--', color='b')\n",
    "\n",
    "plt.xlabel('Number of Components')\n",
    "plt.ylabel('Cumulative variance (%)')\n",
    "\n",
    "plt.axhline(y=0.95, color='r', linestyle='-')\n",
    "plt.text(0.5, 0.85, '95% cut-off threshold', color = 'red', fontsize=16)\n",
    "\n",
    "ax.grid(axis='x')"
   ]
  },
  {
   "cell_type": "code",
   "execution_count": null,
   "id": "composite-howard",
   "metadata": {},
   "outputs": [],
   "source": []
  }
 ],
 "metadata": {
  "kernelspec": {
   "display_name": "Python 3",
   "language": "python",
   "name": "python3"
  },
  "language_info": {
   "codemirror_mode": {
    "name": "ipython",
    "version": 3
   },
   "file_extension": ".py",
   "mimetype": "text/x-python",
   "name": "python",
   "nbconvert_exporter": "python",
   "pygments_lexer": "ipython3",
   "version": "3.6.8"
  }
 },
 "nbformat": 4,
 "nbformat_minor": 5
}
