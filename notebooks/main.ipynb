{
 "cells": [
  {
   "cell_type": "code",
   "execution_count": 1,
   "id": "frozen-assessment",
   "metadata": {},
   "outputs": [],
   "source": [
    "# Load modules for data manipulation\n",
    "from dotenv import load_dotenv\n",
    "import seaborn as sns\n",
    "import matplotlib.pyplot as plt\n",
    "from subprocess import call\n",
    "import pandas as pd\n",
    "import numpy as np\n",
    "import time\n",
    "import os"
   ]
  },
  {
   "cell_type": "code",
   "execution_count": 2,
   "id": "exceptional-python",
   "metadata": {},
   "outputs": [],
   "source": [
    "# Load modules for machine learning\n",
    "# Using Skicit-learn to split data into training and testing sets\n",
    "from sklearn.model_selection import train_test_split\n",
    "\n",
    "# Import the model we are using\n",
    "from sklearn.ensemble import RandomForestRegressor\n",
    "from sklearn.neighbors import KNeighborsClassifier\n",
    "from sklearn.linear_model import LogisticRegression\n",
    "\n",
    "# Calculate the accurancy of the model\n",
    "from sklearn.metrics import accuracy_score, classification_report\n",
    "\n",
    "# For drawing the graph\n",
    "from sklearn.tree import export_graphviz"
   ]
  },
  {
   "cell_type": "code",
   "execution_count": 3,
   "id": "current-accessory",
   "metadata": {},
   "outputs": [
    {
     "data": {
      "text/plain": [
       "True"
      ]
     },
     "execution_count": 3,
     "metadata": {},
     "output_type": "execute_result"
    }
   ],
   "source": [
    "load_dotenv()"
   ]
  },
  {
   "cell_type": "markdown",
   "id": "biblical-learning",
   "metadata": {},
   "source": [
    "## Load the data"
   ]
  },
  {
   "cell_type": "code",
   "execution_count": 4,
   "id": "blond-martial",
   "metadata": {},
   "outputs": [],
   "source": [
    "# load clients\n",
    "clt = pd.read_csv(os.getenv('CLEANED_DATA_PATH') + '/' + 'TR35.csv', encoding='ISO-8859-1', sep='\\t', low_memory=False)\n",
    "# load transaction\n",
    "ctr = pd.read_csv(os.getenv('CLEANED_DATA_PATH') + '/' + 'TR37.csv', encoding='ISO-8859-1', sep='\\t', low_memory=False)\n",
    "# load ecological products\n",
    "eco = pd.read_csv(os.getenv('CLEANED_DATA_PATH') + '/' + 'eco-products.csv', encoding='ISO-8859-1', sep='\\t')"
   ]
  },
  {
   "cell_type": "code",
   "execution_count": 6,
   "id": "fossil-breed",
   "metadata": {},
   "outputs": [],
   "source": [
    "# Load TJ39, TJDR, TJER\n",
    "tj39 = pd.read_csv(os.getenv('DATA_PATH') + '/' + 'tj39.csv', encoding='ISO-8859-1', sep=';', usecols=['COMAX', 'MSMENC', 'MTPATR', 'MTVAOP'])\n",
    "tjdr = pd.read_csv(os.getenv('DATA_PATH') + '/' + 'tjdr.csv', encoding='ISO-8859-1', sep=';', usecols=['COMAX', 'MTRVIM', 'MTRVFR', 'QTPAFI', 'COHAVI'])\n",
    "tjer = pd.read_csv(os.getenv('DATA_PATH') + '/' + 'tjer.csv', encoding='ISO-8859-1', sep=';', usecols=['COMAX', 'MTAPJE', 'MTPJE'])"
   ]
  },
  {
   "cell_type": "markdown",
   "id": "decent-inquiry",
   "metadata": {},
   "source": [
    "## Get the best ecological product"
   ]
  },
  {
   "cell_type": "code",
   "execution_count": 5,
   "id": "attached-visit",
   "metadata": {},
   "outputs": [],
   "source": [
    "# Get the list of all the eco products code\n",
    "eco = [str(i).zfill(5) for i in eco['COPRO']]\n",
    "\n",
    "# Declare the list of products for each family\n",
    "# Les familles sont: CREDITS, DEPOTS MONETAIRES, PRODUITS EXTERNES COMMERCIALISES\n",
    "credit = ['00568', '00943', '00942', '00546', '00547', '03992', '00940', '00941', '00548', '06458', '00509', '00565']\n",
    "depot = ['07648', '07649', '07606', '00003']\n",
    "comm = ['05808', '05807']\n",
    "\n",
    "# ECO: 00003 | 242568 - LIVRET DEVELOPPEMENT DURABLE ET SOLIDAIRE\n",
    "# DEPOTS MONETAIRES - EPARGNE MONETAIRE LIQUIDE - LIVRETS REGLEMENTES\n",
    "# ctr[ctr['COPRO'].isin(eco)]['COPRO'].value_counts()"
   ]
  },
  {
   "cell_type": "code",
   "execution_count": 11,
   "id": "expressed-notebook",
   "metadata": {},
   "outputs": [],
   "source": [
    "# pour le cas de la table tj39, la variable COMAX elle est de 13 caracteres\n",
    "# or celle des autres tables sont de 10, donc il fallait convertir de 13 a 10\n",
    "# on prend les 10 premiers caractères du COMAX de tj39, d'apres le data engineer\n",
    "# de la PBS.\n",
    "tj39['COMAX'] = [val[:10] for val in tj39['COMAX'].values]"
   ]
  },
  {
   "cell_type": "code",
   "execution_count": 12,
   "id": "quiet-first",
   "metadata": {},
   "outputs": [],
   "source": [
    "# This table is only good fot the moral clients only\n",
    "data = pd.merge(clt,tj39,on='COMAX',how='left')\n",
    "data = pd.merge(data,tjer,on='COMAX',how='left')\n",
    "data = pd.merge(data,tjdr,on='COMAX',how='left')"
   ]
  },
  {
   "cell_type": "code",
   "execution_count": 14,
   "id": "published-accent",
   "metadata": {},
   "outputs": [],
   "source": [
    "# Drop the duplicates\n",
    "data = data.drop_duplicates(subset=\"COMAX\")"
   ]
  },
  {
   "cell_type": "code",
   "execution_count": 37,
   "id": "false-aviation",
   "metadata": {},
   "outputs": [],
   "source": [
    "# These values are based int but detected as object\n",
    "# So convert them back to int\n",
    "why = ['CTCOPO', 'CTMENB', 'CTSIFA', 'CTSC90', 'CTSC91', 'CTSC92', 'CTFORT','PSGPAR',\n",
    "'CEBPF1', 'CEBPF2', 'CEBPF3', 'CEBPF4', 'CEBPF5', 'CEBPF6', 'CEBPF7', 'CTBP']\n",
    "\n",
    "for i in why:\n",
    "    for k in [j for j in data[i].unique() if j.strip() == '']:\n",
    "         data[i].replace(k, np.nan, inplace=True)"
   ]
  },
  {
   "cell_type": "code",
   "execution_count": 29,
   "id": "understanding-corps",
   "metadata": {},
   "outputs": [],
   "source": [
    "# Define the list of the columns that we need\n",
    "columns = ['LON', 'LAT', 'CTCOPO', 'CTMENB', 'CTSIFA', 'CTSCPI', 'CODCSP', 'COSEXE', 'QTAGCL', 'NBCART', 'QCCEL', 'QCPEL', 'QCPEP', 'QCCP19', 'QCCP21', 'QCIHAB', 'QTIAUT', 'QCITOT', 'QCASV', 'QCCTO', 'QCPEA', 'QCCRIM', 'QCCRPE', 'QCCAR1', 'QCCAR2', 'QCCAR3', 'QCCARP', 'QCCARI', 'QCBASO', 'CECARP', 'QCCOEQ', 'MTCDIM', 'MTRECD', 'MTRETT', 'QCPRDI', 'QCPRCP', 'QCPRQU', 'QCPRFI', 'QCPRTR', 'MTECEL', 'MTEPEL', 'MTECSL', 'MTEPEP', 'MTELEP', 'MTECIM', 'MTECCS', 'MTECEQ', 'MTECTR', 'MTEEML', 'MTEASV', 'MTECTO', 'MTECPA', 'MTE19D', 'MTE21D', 'MTEEMC', 'MTESOC', 'MCTOTA', 'MCTOTE', 'CTSC90', 'CTSC91', 'CTSC92', 'QCCOCY', 'QTCLIF', 'CTFORT', 'PSGPAR', 'SGMFM', 'SGMFD', 'SGMIM', 'SGMID', 'CEBPF1', 'CEBPF2', 'CEBPF3', 'CEBPF4', 'CEBPF5', 'CEBPF6', 'CEBPF7', 'CTBP', 'QCPREV', 'QCIARD', 'MTFLPR', 'MTRSFI', 'MTRSMO', 'QFPROSGR', 'MSMENC', 'MTPATR', 'MTVAOP', 'MTRVIM', 'MTRVFR', 'QTPAFI', 'MTAPJE', 'MTPJE']"
   ]
  },
  {
   "cell_type": "code",
   "execution_count": 48,
   "id": "floral-fusion",
   "metadata": {},
   "outputs": [],
   "source": [
    "# Fill the missing data, by the median value\n",
    "data[columns] = data[columns].fillna(data[columns].median())"
   ]
  },
  {
   "cell_type": "code",
   "execution_count": 51,
   "id": "framed-peace",
   "metadata": {},
   "outputs": [],
   "source": [
    "# Define the ECO variable\n",
    "# First, get the ids of the products, and then assign it\n",
    "ids = ctr[ctr['COPRO'].isin(eco)]['COMAX'].values\n",
    "data['ECO'] = data['COMAX'].isin(ids)"
   ]
  },
  {
   "cell_type": "markdown",
   "id": "italic-profile",
   "metadata": {},
   "source": [
    "## Save the data"
   ]
  },
  {
   "cell_type": "code",
   "execution_count": 58,
   "id": "popular-writing",
   "metadata": {},
   "outputs": [
    {
     "name": "stdout",
     "output_type": "stream",
     "text": [
      "Stored 'data' (DataFrame)\n",
      "Stored 'columns' (list)\n",
      "Stored 'eco' (list)\n"
     ]
    }
   ],
   "source": [
    "# Save the data, so you can open stats file\n",
    "%store data\n",
    "%store columns\n",
    "%store eco"
   ]
  },
  {
   "cell_type": "code",
   "execution_count": null,
   "id": "imperial-address",
   "metadata": {},
   "outputs": [],
   "source": []
  }
 ],
 "metadata": {
  "kernelspec": {
   "display_name": "Python 3",
   "language": "python",
   "name": "python3"
  },
  "language_info": {
   "codemirror_mode": {
    "name": "ipython",
    "version": 3
   },
   "file_extension": ".py",
   "mimetype": "text/x-python",
   "name": "python",
   "nbconvert_exporter": "python",
   "pygments_lexer": "ipython3",
   "version": "3.6.8"
  }
 },
 "nbformat": 4,
 "nbformat_minor": 5
}
