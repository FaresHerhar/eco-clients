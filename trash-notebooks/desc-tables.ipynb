{
 "cells": [
  {
   "cell_type": "code",
   "execution_count": 1,
   "id": "trained-raleigh",
   "metadata": {},
   "outputs": [],
   "source": [
    "import pandas as pd\n",
    "import matplotlib.pyplot as plt\n",
    "import math"
   ]
  },
  {
   "cell_type": "code",
   "execution_count": 2,
   "id": "aquatic-feeling",
   "metadata": {},
   "outputs": [],
   "source": [
    "df = pd.read_csv('../cleaned-data/pc-clusters.csv', encoding='iso-8859-1', sep=\"\\t\", usecols=['COMAX', 'AGE', 'COSEXE', 'CTSCPI', 'Cluster'])"
   ]
  },
  {
   "cell_type": "code",
   "execution_count": 3,
   "id": "invalid-loading",
   "metadata": {},
   "outputs": [],
   "source": [
    "df_ = pd.read_csv('../cleaned-data/mc-clusters.csv', encoding='iso-8859-1', sep=\"\\t\", usecols=['COMAX', 'CTPE', 'CORELB', 'Cluster'])"
   ]
  },
  {
   "cell_type": "code",
   "execution_count": 4,
   "id": "viral-cooling",
   "metadata": {},
   "outputs": [],
   "source": [
    "insee = pd.read_csv('../data/tj10.csv', encoding='iso-8859-1', sep=\";\", usecols=['CTSCPI', 'LISCPI'])"
   ]
  },
  {
   "cell_type": "code",
   "execution_count": 5,
   "id": "attractive-magazine",
   "metadata": {},
   "outputs": [],
   "source": [
    "ctr = pd.read_csv('../cleaned-data/cleaned/contracts.csv', encoding='iso-8859-1', sep=\"\\t\", usecols=['COCO', 'COMAX', 'COPRO'])"
   ]
  },
  {
   "cell_type": "code",
   "execution_count": 6,
   "id": "through-policy",
   "metadata": {},
   "outputs": [],
   "source": [
    "prod = pd.read_csv('../cleaned-data/cleaned/products.csv', encoding='iso-8859-1', sep=\"\\t\", usecols=['COPRO', 'COPROG'])"
   ]
  },
  {
   "cell_type": "code",
   "execution_count": 3,
   "id": "painful-spirituality",
   "metadata": {},
   "outputs": [
    {
     "name": "stdout",
     "output_type": "stream",
     "text": [
      "<class 'pandas.core.frame.DataFrame'>\n",
      "RangeIndex: 627591 entries, 0 to 627590\n",
      "Data columns (total 5 columns):\n",
      " #   Column   Non-Null Count   Dtype \n",
      "---  ------   --------------   ----- \n",
      " 0   COMAX    627591 non-null  object\n",
      " 1   AGE      627591 non-null  int64 \n",
      " 2   COSEXE   627591 non-null  int64 \n",
      " 3   CTSCPI   627591 non-null  int64 \n",
      " 4   Cluster  627591 non-null  int64 \n",
      "dtypes: int64(4), object(1)\n",
      "memory usage: 23.9+ MB\n"
     ]
    }
   ],
   "source": [
    "df.info()"
   ]
  },
  {
   "cell_type": "code",
   "execution_count": 4,
   "id": "complete-concentration",
   "metadata": {},
   "outputs": [
    {
     "data": {
      "text/plain": [
       "(627591, 5)"
      ]
     },
     "execution_count": 4,
     "metadata": {},
     "output_type": "execute_result"
    }
   ],
   "source": [
    "df.shape"
   ]
  },
  {
   "cell_type": "code",
   "execution_count": 5,
   "id": "several-plasma",
   "metadata": {},
   "outputs": [
    {
     "data": {
      "text/plain": [
       "Index(['COMAX', 'AGE', 'COSEXE', 'CTSCPI', 'Cluster'], dtype='object')"
      ]
     },
     "execution_count": 5,
     "metadata": {},
     "output_type": "execute_result"
    }
   ],
   "source": [
    "df.columns"
   ]
  },
  {
   "cell_type": "markdown",
   "id": "private-heaven",
   "metadata": {},
   "source": [
    "# Analyse une variable"
   ]
  },
  {
   "cell_type": "markdown",
   "id": "coupled-valve",
   "metadata": {},
   "source": [
    "## Clients physiques"
   ]
  },
  {
   "cell_type": "markdown",
   "id": "harmful-commons",
   "metadata": {},
   "source": [
    "### AGE"
   ]
  },
  {
   "cell_type": "code",
   "execution_count": 6,
   "id": "controlling-picking",
   "metadata": {},
   "outputs": [
    {
     "data": {
      "text/html": [
       "<div>\n",
       "<style scoped>\n",
       "    .dataframe tbody tr th:only-of-type {\n",
       "        vertical-align: middle;\n",
       "    }\n",
       "\n",
       "    .dataframe tbody tr th {\n",
       "        vertical-align: top;\n",
       "    }\n",
       "\n",
       "    .dataframe thead th {\n",
       "        text-align: right;\n",
       "    }\n",
       "</style>\n",
       "<table border=\"1\" class=\"dataframe\">\n",
       "  <thead>\n",
       "    <tr style=\"text-align: right;\">\n",
       "      <th></th>\n",
       "      <th>AGE</th>\n",
       "    </tr>\n",
       "  </thead>\n",
       "  <tbody>\n",
       "    <tr>\n",
       "      <th>count</th>\n",
       "      <td>627591.000000</td>\n",
       "    </tr>\n",
       "    <tr>\n",
       "      <th>mean</th>\n",
       "      <td>47.584097</td>\n",
       "    </tr>\n",
       "    <tr>\n",
       "      <th>std</th>\n",
       "      <td>23.205680</td>\n",
       "    </tr>\n",
       "    <tr>\n",
       "      <th>min</th>\n",
       "      <td>0.000000</td>\n",
       "    </tr>\n",
       "    <tr>\n",
       "      <th>25%</th>\n",
       "      <td>30.000000</td>\n",
       "    </tr>\n",
       "    <tr>\n",
       "      <th>50%</th>\n",
       "      <td>48.000000</td>\n",
       "    </tr>\n",
       "    <tr>\n",
       "      <th>75%</th>\n",
       "      <td>65.000000</td>\n",
       "    </tr>\n",
       "    <tr>\n",
       "      <th>max</th>\n",
       "      <td>110.000000</td>\n",
       "    </tr>\n",
       "  </tbody>\n",
       "</table>\n",
       "</div>"
      ],
      "text/plain": [
       "                 AGE\n",
       "count  627591.000000\n",
       "mean       47.584097\n",
       "std        23.205680\n",
       "min         0.000000\n",
       "25%        30.000000\n",
       "50%        48.000000\n",
       "75%        65.000000\n",
       "max       110.000000"
      ]
     },
     "execution_count": 6,
     "metadata": {},
     "output_type": "execute_result"
    }
   ],
   "source": [
    "pd.DataFrame(df['AGE'].describe())"
   ]
  },
  {
   "cell_type": "code",
   "execution_count": 7,
   "id": "after-mapping",
   "metadata": {},
   "outputs": [
    {
     "name": "stdout",
     "output_type": "stream",
     "text": [
      "48.0\n",
      "0    49\n",
      "dtype: int64\n"
     ]
    }
   ],
   "source": [
    "print(df.AGE.median())\n",
    "print(df.AGE.mode())"
   ]
  },
  {
   "cell_type": "code",
   "execution_count": 8,
   "id": "departmental-explorer",
   "metadata": {},
   "outputs": [
    {
     "data": {
      "text/plain": [
       "array([ 55,  41,  32,  23,  13,  61,  40,  69,  44,  10,  49,  84,  58,\n",
       "        28,  31,  37,  19,   8,  56,   6,  78,  53,  46,   4,  54,  48,\n",
       "        25,  66,  42,  57,  18,  35,  63,  39,  70,  81,  76,  52,  47,\n",
       "        60,  59,  12,  51,  14,  68,  33,  67,  43,  26,  64,  74,   9,\n",
       "        62,  50,  72,  95,  65,   2,  82,  80,  17,  94,  38,  16,  71,\n",
       "        73,  34,  30,   3,  22,  36,  24,  20,  88,  83,  75,  21,  89,\n",
       "        99,  85,  91,  86,  77,   7,  45,  29,   1,  15,   5,  11,  79,\n",
       "        92,  98,  93,  87,  27,  90,  96, 100,  97, 101, 104,   0, 102,\n",
       "       106, 107, 105, 108, 103, 110, 109])"
      ]
     },
     "execution_count": 8,
     "metadata": {},
     "output_type": "execute_result"
    }
   ],
   "source": [
    "df.AGE.unique()"
   ]
  },
  {
   "cell_type": "code",
   "execution_count": 9,
   "id": "senior-politics",
   "metadata": {},
   "outputs": [
    {
     "data": {
      "text/plain": [
       "111"
      ]
     },
     "execution_count": 9,
     "metadata": {},
     "output_type": "execute_result"
    }
   ],
   "source": [
    "df.AGE.nunique()"
   ]
  },
  {
   "cell_type": "code",
   "execution_count": 10,
   "id": "hollow-syndicate",
   "metadata": {},
   "outputs": [
    {
     "data": {
      "image/png": "[encoded data removed]",
      "text/plain": [
       "<Figure size 432x288 with 1 Axes>"
      ]
     },
     "metadata": {
      "needs_background": "light"
     },
     "output_type": "display_data"
    }
   ],
   "source": [
    "bp = plt.boxplot(df['AGE'], vert=False, patch_artist=True)\n",
    "plt.yticks([1], [''])\n",
    "\n",
    "plt.setp(bp['caps'],color='blue',alpha=1)\n",
    "plt.setp(bp['whiskers'],color='blue',alpha=1)\n",
    "plt.setp(bp['medians'],color='tomato',alpha=1,linewidth=4.0)\n",
    "plt.setp(bp['boxes'], color='blue', facecolor='lightblue',alpha=1,linewidth=0.5)\n",
    "\n",
    "plt.xlabel('AGE')\n",
    "plt.ylabel('BOX PLOT')\n",
    "\n",
    "plt.grid(alpha=0.5)\n",
    "plt.savefig(\"../graphs/age_box.svg\")"
   ]
  },
  {
   "cell_type": "code",
   "execution_count": 11,
   "id": "three-recording",
   "metadata": {},
   "outputs": [],
   "source": [
    "age = df['AGE'].value_counts()\n",
    "age = list(zip(age.index, age.values))\n",
    "age.sort(key=lambda x: x[0])"
   ]
  },
  {
   "cell_type": "code",
   "execution_count": 12,
   "id": "cooked-calibration",
   "metadata": {},
   "outputs": [
    {
     "name": "stdout",
     "output_type": "stream",
     "text": [
      "AGE: 0, COUNT: 438, %: 0.06979067577450919.\n",
      "AGE: 1, COUNT: 1215, %: 0.1935974225251796.\n",
      "AGE: 2, COUNT: 1798, %: 0.28649231744878434.\n",
      "AGE: 3, COUNT: 2229, %: 0.3551676171264406.\n",
      "AGE: 4, COUNT: 2687, %: 0.4281450817491009.\n",
      "AGE: 5, COUNT: 3225, %: 0.5138697017643656.\n",
      "AGE: 6, COUNT: 3819, %: 0.6085173305544535.\n",
      "AGE: 7, COUNT: 4190, %: 0.6676322636876565.\n",
      "AGE: 8, COUNT: 4677, %: 0.7452305721401358.\n",
      "AGE: 9, COUNT: 4924, %: 0.784587414414802.\n",
      "AGE: 10, COUNT: 5215, %: 0.8309551921554005.\n",
      "AGE: 11, COUNT: 5392, %: 0.859158273461538.\n",
      "AGE: 12, COUNT: 5501, %: 0.8765262726839614.\n",
      "AGE: 13, COUNT: 5541, %: 0.8828998503802636.\n",
      "AGE: 14, COUNT: 5817, %: 0.9268775364847489.\n",
      "AGE: 15, COUNT: 6187, %: 0.9858331301755443.\n",
      "AGE: 16, COUNT: 6190, %: 0.986311148502767.\n",
      "AGE: 17, COUNT: 6430, %: 1.0245526146805801.\n",
      "AGE: 18, COUNT: 6640, %: 1.0580138975861668.\n",
      "AGE: 19, COUNT: 6636, %: 1.0573765398165367.\n",
      "AGE: 20, COUNT: 7027, %: 1.1196782617978907.\n",
      "AGE: 21, COUNT: 6757, %: 1.0766566123478507.\n",
      "AGE: 22, COUNT: 6822, %: 1.0870136761043419.\n",
      "AGE: 23, COUNT: 6680, %: 1.0643874752824691.\n",
      "AGE: 24, COUNT: 6718, %: 1.0704423740939562.\n",
      "AGE: 25, COUNT: 6721, %: 1.0709203924211788.\n",
      "AGE: 26, COUNT: 6556, %: 1.044629384423932.\n",
      "AGE: 27, COUNT: 6715, %: 1.0699643557667333.\n",
      "AGE: 28, COUNT: 6948, %: 1.1070904458476938.\n",
      "AGE: 29, COUNT: 7118, %: 1.1341781510569782.\n",
      "AGE: 30, COUNT: 7480, %: 1.1918590292085132.\n",
      "AGE: 31, COUNT: 7539, %: 1.201260056310559.\n",
      "AGE: 32, COUNT: 7619, %: 1.2140072117031635.\n",
      "AGE: 33, COUNT: 7801, %: 1.2430069902213383.\n",
      "AGE: 34, COUNT: 7866, %: 1.2533640539778295.\n",
      "AGE: 35, COUNT: 7894, %: 1.2578255583652411.\n",
      "AGE: 36, COUNT: 7856, %: 1.2517706595537539.\n",
      "AGE: 37, COUNT: 7941, %: 1.2653145121583962.\n",
      "AGE: 38, COUNT: 8655, %: 1.3790828740373906.\n",
      "AGE: 39, COUNT: 8970, %: 1.4292747983957705.\n",
      "AGE: 40, COUNT: 9255, %: 1.4746865394819237.\n",
      "AGE: 41, COUNT: 8882, %: 1.4152529274639056.\n",
      "AGE: 42, COUNT: 8672, %: 1.381791644558319.\n",
      "AGE: 43, COUNT: 8928, %: 1.4225825418146532.\n",
      "AGE: 44, COUNT: 8309, %: 1.3239514269643764.\n",
      "AGE: 45, COUNT: 8708, %: 1.387527864484991.\n",
      "AGE: 46, COUNT: 9391, %: 1.4963567036493512.\n",
      "AGE: 47, COUNT: 9925, %: 1.5814439658949857.\n",
      "AGE: 48, COUNT: 10152, %: 1.617614019321501.\n",
      "AGE: 49, COUNT: 10191, %: 1.6238282575753955.\n",
      "AGE: 50, COUNT: 9807, %: 1.5626419116908943.\n",
      "AGE: 51, COUNT: 9608, %: 1.5309333626517907.\n",
      "AGE: 52, COUNT: 9463, %: 1.5078291435026951.\n",
      "AGE: 53, COUNT: 9513, %: 1.5157961156230728.\n",
      "AGE: 54, COUNT: 9578, %: 1.526153179379564.\n",
      "AGE: 55, COUNT: 9507, %: 1.5148400789686276.\n",
      "AGE: 56, COUNT: 9688, %: 1.543680518044395.\n",
      "AGE: 57, COUNT: 9427, %: 1.5020929235760234.\n",
      "AGE: 58, COUNT: 8770, %: 1.3974069099142594.\n",
      "AGE: 59, COUNT: 8768, %: 1.3970882310294443.\n",
      "AGE: 60, COUNT: 8556, %: 1.3633082692390426.\n",
      "AGE: 61, COUNT: 8766, %: 1.3967695521446293.\n",
      "AGE: 62, COUNT: 8334, %: 1.3279349130245655.\n",
      "AGE: 63, COUNT: 8221, %: 1.3099295560325117.\n",
      "AGE: 64, COUNT: 8265, %: 1.316940491498444.\n",
      "AGE: 65, COUNT: 8135, %: 1.2962263639854619.\n",
      "AGE: 66, COUNT: 8215, %: 1.3089735193780663.\n",
      "AGE: 67, COUNT: 8087, %: 1.2885780707498993.\n",
      "AGE: 68, COUNT: 8051, %: 1.282841850823227.\n",
      "AGE: 69, COUNT: 7886, %: 1.2565508428259806.\n",
      "AGE: 70, COUNT: 8168, %: 1.3014845655849112.\n",
      "AGE: 71, COUNT: 8124, %: 1.2944736301189788.\n",
      "AGE: 72, COUNT: 8130, %: 1.2954296667734242.\n",
      "AGE: 73, COUNT: 7911, %: 1.2605343288861695.\n",
      "AGE: 74, COUNT: 7484, %: 1.1924963869781435.\n",
      "AGE: 75, COUNT: 5764, %: 0.9184325460371484.\n",
      "AGE: 76, COUNT: 5614, %: 0.8945316296760151.\n",
      "AGE: 77, COUNT: 5668, %: 0.903135959566023.\n",
      "AGE: 78, COUNT: 4853, %: 0.7732743140038656.\n",
      "AGE: 79, COUNT: 4420, %: 0.7042803354413941.\n",
      "AGE: 80, COUNT: 3836, %: 0.6112261010753819.\n",
      "AGE: 81, COUNT: 3931, %: 0.6263633481040997.\n",
      "AGE: 82, COUNT: 3983, %: 0.6346489991092925.\n",
      "AGE: 83, COUNT: 3720, %: 0.5927427257561055.\n",
      "AGE: 84, COUNT: 3549, %: 0.5654956811044135.\n",
      "AGE: 85, COUNT: 3462, %: 0.5516331496149562.\n",
      "AGE: 86, COUNT: 3318, %: 0.5286882699082683.\n",
      "AGE: 87, COUNT: 3244, %: 0.5168971511701091.\n",
      "AGE: 88, COUNT: 3096, %: 0.493314913693791.\n",
      "AGE: 89, COUNT: 2951, %: 0.47021069454469555.\n",
      "AGE: 90, COUNT: 2775, %: 0.4421669526809658.\n",
      "AGE: 91, COUNT: 2555, %: 0.4071122753513037.\n",
      "AGE: 92, COUNT: 2204, %: 0.35118413106625174.\n",
      "AGE: 93, COUNT: 1935, %: 0.3083218210586194.\n",
      "AGE: 94, COUNT: 1809, %: 0.28824505131526745.\n",
      "AGE: 95, COUNT: 1753, %: 0.27932204254044435.\n",
      "AGE: 96, COUNT: 1512, %: 0.24092123692022352.\n",
      "AGE: 97, COUNT: 1336, %: 0.21287749505649378.\n",
      "AGE: 98, COUNT: 1204, %: 0.19184468865869653.\n",
      "AGE: 99, COUNT: 1079, %: 0.1719272583577521.\n",
      "AGE: 100, COUNT: 902, %: 0.14372417705161483.\n",
      "AGE: 101, COUNT: 426, %: 0.06787860246561853.\n",
      "AGE: 102, COUNT: 367, %: 0.05847757536357278.\n",
      "AGE: 103, COUNT: 236, %: 0.03760410840818303.\n",
      "AGE: 104, COUNT: 153, %: 0.02437893468835595.\n",
      "AGE: 105, COUNT: 155, %: 0.024697613573171063.\n",
      "AGE: 106, COUNT: 168, %: 0.026769026324469283.\n",
      "AGE: 107, COUNT: 102, %: 0.016252623125570635.\n",
      "AGE: 108, COUNT: 92, %: 0.01465922870149508.\n",
      "AGE: 109, COUNT: 68, %: 0.010835082083713756.\n",
      "AGE: 110, COUNT: 42, %: 0.006692256581117321.\n"
     ]
    }
   ],
   "source": [
    "for temp in age:\n",
    "    print('AGE: {}, COUNT: {}, %: {}.'.format(temp[0], temp[1], temp[1] / df.shape[0] * 100))"
   ]
  },
  {
   "cell_type": "code",
   "execution_count": 13,
   "id": "centered-dynamics",
   "metadata": {},
   "outputs": [
    {
     "data": {
      "image/png": "[encoded data removed]",
      "text/plain": [
       "<Figure size 432x288 with 1 Axes>"
      ]
     },
     "metadata": {
      "needs_background": "light"
     },
     "output_type": "display_data"
    }
   ],
   "source": [
    "bins = [i for i in range(125)]\n",
    "plt.hist(df['AGE'], bins=bins, edgecolor='black')\n",
    "plt.axvline(df.AGE.median(), color='#FC4F30', label='Median Age')\n",
    "\n",
    "plt.xlabel('Age')\n",
    "plt.ylabel('Nombre de Clients')\n",
    "plt.legend()\n",
    "plt.tight_layout()\n",
    "plt.savefig(\"../graphs/age_hist.svg\")"
   ]
  },
  {
   "cell_type": "markdown",
   "id": "wooden-devil",
   "metadata": {},
   "source": [
    "### SEXE"
   ]
  },
  {
   "cell_type": "code",
   "execution_count": 14,
   "id": "dress-eleven",
   "metadata": {},
   "outputs": [
    {
     "data": {
      "text/plain": [
       "0    316680\n",
       "1    310911\n",
       "Name: COSEXE, dtype: int64"
      ]
     },
     "execution_count": 14,
     "metadata": {},
     "output_type": "execute_result"
    }
   ],
   "source": [
    "df['COSEXE'].value_counts()"
   ]
  },
  {
   "cell_type": "code",
   "execution_count": 15,
   "id": "inside-comfort",
   "metadata": {},
   "outputs": [],
   "source": [
    "# O is for male, and 1 for female\n",
    "sex = df['COSEXE'].value_counts(normalize=True)"
   ]
  },
  {
   "cell_type": "code",
   "execution_count": 16,
   "id": "rocky-narrow",
   "metadata": {},
   "outputs": [
    {
     "data": {
      "text/plain": [
       "array([0.50459615, 0.49540385])"
      ]
     },
     "execution_count": 16,
     "metadata": {},
     "output_type": "execute_result"
    }
   ],
   "source": [
    "sex.values"
   ]
  },
  {
   "cell_type": "code",
   "execution_count": 17,
   "id": "pressed-potato",
   "metadata": {},
   "outputs": [
    {
     "data": {
      "text/plain": [
       "Int64Index([0, 1], dtype='int64')"
      ]
     },
     "execution_count": 17,
     "metadata": {},
     "output_type": "execute_result"
    }
   ],
   "source": [
    "sex.index"
   ]
  },
  {
   "cell_type": "code",
   "execution_count": 18,
   "id": "stable-merchandise",
   "metadata": {},
   "outputs": [
    {
     "data": {
      "image/png": "[encoded data removed]",
      "text/plain": [
       "<Figure size 432x288 with 1 Axes>"
      ]
     },
     "metadata": {},
     "output_type": "display_data"
    }
   ],
   "source": [
    "colors = ['#66b3ff', '#ff9999']\n",
    "labels = ['MALE', 'FEMELLE']\n",
    "explode = [0.025, 0.025]\n",
    "plt.pie(sex.values, labels=labels, explode=explode, colors=colors, autopct='%1.1f%%', shadow=True, startangle=45)\n",
    "\n",
    "plt.savefig(\"../graphs/sexe.svg\")"
   ]
  },
  {
   "cell_type": "markdown",
   "id": "abstract-balloon",
   "metadata": {},
   "source": [
    "### CTSCPI"
   ]
  },
  {
   "cell_type": "code",
   "execution_count": 19,
   "id": "atlantic-venezuela",
   "metadata": {},
   "outputs": [
    {
     "data": {
      "text/plain": [
       "array([4600, 4700, 3500, 8400, 6200, 8600, 8500, 7600, 6300, 5400, 2300,\n",
       "       3700, 4200, 4300, 6400, 3100, 3300, 4800, 5200, 7300, 5600, 3400,\n",
       "       2200, 5500, 5300, 4500, 1100, 2100, 7200, 6800, 6700, 8100, 7700,\n",
       "       7100, 6500, 3800, 7500, 6900, 7400, 1200, 8200, 3600, 7800,    0,\n",
       "       4400, 1300, 5100, 8300, 6600, 1000, 6100])"
      ]
     },
     "execution_count": 19,
     "metadata": {},
     "output_type": "execute_result"
    }
   ],
   "source": [
    "df.CTSCPI.unique()"
   ]
  },
  {
   "cell_type": "code",
   "execution_count": 20,
   "id": "precious-parameter",
   "metadata": {},
   "outputs": [
    {
     "data": {
      "text/plain": [
       "51"
      ]
     },
     "execution_count": 20,
     "metadata": {},
     "output_type": "execute_result"
    }
   ],
   "source": [
    "df.CTSCPI.nunique()"
   ]
  },
  {
   "cell_type": "code",
   "execution_count": 21,
   "id": "certain-response",
   "metadata": {},
   "outputs": [],
   "source": [
    "ctscpi = df['CTSCPI'].value_counts()\n",
    "ctscpi = list(zip(ctscpi.index, ctscpi.values))"
   ]
  },
  {
   "cell_type": "code",
   "execution_count": 23,
   "id": "available-terminal",
   "metadata": {},
   "outputs": [
    {
     "name": "stdout",
     "output_type": "stream",
     "text": [
      "INSEE: 8400, COUNT: 109127, %: 17.4.\n",
      "INSEE: 7600, COUNT: 67885, %: 10.8.\n",
      "INSEE: 8500, COUNT: 46771, %: 7.45.\n",
      "INSEE: 8600, COUNT: 33827, %: 5.39.\n",
      "INSEE: 5400, COUNT: 33090, %: 5.27.\n",
      "INSEE: 7300, COUNT: 31347, %: 4.99.\n",
      "INSEE: 5200, COUNT: 30174, %: 4.81.\n",
      "INSEE: 5500, COUNT: 22273, %: 3.55.\n",
      "INSEE: 2300, COUNT: 17449, %: 2.78.\n",
      "INSEE: 4200, COUNT: 17261, %: 2.75.\n",
      "INSEE: 7200, COUNT: 15946, %: 2.54.\n",
      "INSEE: 5600, COUNT: 15812, %: 2.52.\n",
      "INSEE: 4300, COUNT: 14949, %: 2.38.\n",
      "INSEE: 6300, COUNT: 13535, %: 2.16.\n",
      "INSEE: 3700, COUNT: 13038, %: 2.08.\n",
      "INSEE: 2100, COUNT: 12934, %: 2.06.\n",
      "INSEE: 4600, COUNT: 12814, %: 2.04.\n",
      "INSEE: 4700, COUNT: 12748, %: 2.03.\n",
      "INSEE: 3400, COUNT: 12678, %: 2.02.\n",
      "INSEE: 8100, COUNT: 11343, %: 1.81.\n",
      "INSEE: 3100, COUNT: 10070, %: 1.6.\n",
      "INSEE: 2200, COUNT: 9818, %: 1.56.\n",
      "INSEE: 5300, COUNT: 7904, %: 1.26.\n",
      "INSEE: 6200, COUNT: 7152, %: 1.14.\n",
      "INSEE: 6400, COUNT: 5306, %: 0.845.\n",
      "INSEE: 3300, COUNT: 5060, %: 0.806.\n",
      "INSEE: 1100, COUNT: 4168, %: 0.664.\n",
      "INSEE: 7500, COUNT: 4013, %: 0.639.\n",
      "INSEE: 6900, COUNT: 3457, %: 0.551.\n",
      "INSEE: 6800, COUNT: 3253, %: 0.518.\n",
      "INSEE: 4500, COUNT: 3207, %: 0.511.\n",
      "INSEE: 6700, COUNT: 3155, %: 0.503.\n",
      "INSEE: 3800, COUNT: 2993, %: 0.477.\n",
      "INSEE: 4800, COUNT: 2877, %: 0.458.\n",
      "INSEE: 7100, COUNT: 2397, %: 0.382.\n",
      "INSEE: 3500, COUNT: 2141, %: 0.341.\n",
      "INSEE: 7700, COUNT: 1814, %: 0.289.\n",
      "INSEE: 1200, COUNT: 1384, %: 0.221.\n",
      "INSEE: 6500, COUNT: 980, %: 0.156.\n",
      "INSEE: 3600, COUNT: 530, %: 0.0844.\n",
      "INSEE: 7400, COUNT: 391, %: 0.0623.\n",
      "INSEE: 7800, COUNT: 209, %: 0.0333.\n",
      "INSEE: 1300, COUNT: 146, %: 0.0233.\n",
      "INSEE: 4400, COUNT: 77, %: 0.0123.\n",
      "INSEE: 0, COUNT: 39, %: 0.00621.\n",
      "INSEE: 8300, COUNT: 26, %: 0.00414.\n",
      "INSEE: 8200, COUNT: 7, %: 0.00112.\n",
      "INSEE: 6600, COUNT: 5, %: 0.000797.\n",
      "INSEE: 6100, COUNT: 5, %: 0.000797.\n",
      "INSEE: 5100, COUNT: 3, %: 0.000478.\n",
      "INSEE: 1000, COUNT: 3, %: 0.000478.\n"
     ]
    }
   ],
   "source": [
    "for temp in ctscpi:\n",
    "    print('INSEE: {}, COUNT: {}, %: {:.3}.'.format(temp[0], temp[1], temp[1] / df.shape[0] * 100))"
   ]
  },
  {
   "cell_type": "code",
   "execution_count": 24,
   "id": "scientific-member",
   "metadata": {},
   "outputs": [
    {
     "data": {
      "text/plain": [
       "0    361951\n",
       "1    265640\n",
       "Name: Cluster, dtype: int64"
      ]
     },
     "execution_count": 24,
     "metadata": {},
     "output_type": "execute_result"
    }
   ],
   "source": [
    "df['Cluster'].value_counts()"
   ]
  },
  {
   "cell_type": "code",
   "execution_count": 25,
   "id": "experimental-unknown",
   "metadata": {},
   "outputs": [],
   "source": [
    "pc_cluster = df['Cluster'].value_counts(normalize=True)"
   ]
  },
  {
   "cell_type": "code",
   "execution_count": 26,
   "id": "disciplinary-demographic",
   "metadata": {},
   "outputs": [
    {
     "name": "stdout",
     "output_type": "stream",
     "text": [
      "Int64Index([0, 1], dtype='int64')\n",
      "[0.57673071 0.42326929]\n"
     ]
    }
   ],
   "source": [
    "print(pc_cluster.index)\n",
    "print(pc_cluster.values)"
   ]
  },
  {
   "cell_type": "code",
   "execution_count": 27,
   "id": "architectural-retail",
   "metadata": {},
   "outputs": [
    {
     "data": {
      "image/png": "[encoded data removed]",
      "text/plain": [
       "<Figure size 432x288 with 1 Axes>"
      ]
     },
     "metadata": {},
     "output_type": "display_data"
    }
   ],
   "source": [
    "colors = ['#4788FF', '#AFCBFF']\n",
    "labels = ['Cluster 0', 'Cluster 1']\n",
    "explode = [0.025, 0.025]\n",
    "plt.pie(pc_cluster.values, labels=labels, explode=explode, colors=colors, autopct='%1.1f%%', shadow=True, startangle=45)\n",
    "\n",
    "plt.savefig(\"../graphs/pc_cluster.svg\")"
   ]
  },
  {
   "cell_type": "markdown",
   "id": "valid-decision",
   "metadata": {},
   "source": [
    "## Clients moraux"
   ]
  },
  {
   "cell_type": "code",
   "execution_count": 57,
   "id": "reserved-florist",
   "metadata": {},
   "outputs": [
    {
     "data": {
      "text/plain": [
       "(2979146, 3)"
      ]
     },
     "execution_count": 57,
     "metadata": {},
     "output_type": "execute_result"
    }
   ],
   "source": [
    "df_.shape"
   ]
  },
  {
   "cell_type": "markdown",
   "id": "intense-repository",
   "metadata": {},
   "source": [
    "### CTPE"
   ]
  },
  {
   "cell_type": "code",
   "execution_count": 27,
   "id": "clinical-ultimate",
   "metadata": {},
   "outputs": [
    {
     "data": {
      "text/plain": [
       "array([1, 2])"
      ]
     },
     "execution_count": 27,
     "metadata": {},
     "output_type": "execute_result"
    }
   ],
   "source": [
    "df_['CTPE'].unique()"
   ]
  },
  {
   "cell_type": "code",
   "execution_count": 28,
   "id": "separated-family",
   "metadata": {},
   "outputs": [
    {
     "data": {
      "text/plain": [
       "2"
      ]
     },
     "execution_count": 28,
     "metadata": {},
     "output_type": "execute_result"
    }
   ],
   "source": [
    "df_['CTPE'].nunique()"
   ]
  },
  {
   "cell_type": "code",
   "execution_count": 29,
   "id": "aging-blues",
   "metadata": {},
   "outputs": [
    {
     "data": {
      "text/plain": [
       "1    2793416\n",
       "2     185730\n",
       "Name: CTPE, dtype: int64"
      ]
     },
     "execution_count": 29,
     "metadata": {},
     "output_type": "execute_result"
    }
   ],
   "source": [
    "df_['CTPE'].value_counts()"
   ]
  },
  {
   "cell_type": "code",
   "execution_count": 30,
   "id": "suburban-entrance",
   "metadata": {},
   "outputs": [
    {
     "data": {
      "text/plain": [
       "1    0.937657\n",
       "2    0.062343\n",
       "Name: CTPE, dtype: float64"
      ]
     },
     "execution_count": 30,
     "metadata": {},
     "output_type": "execute_result"
    }
   ],
   "source": [
    "ctpe = df_['CTPE'].value_counts(normalize=True)\n",
    "ctpe"
   ]
  },
  {
   "cell_type": "code",
   "execution_count": 58,
   "id": "proud-methodology",
   "metadata": {},
   "outputs": [
    {
     "data": {
      "image/png": "[encoded data removed]",
      "text/plain": [
       "<Figure size 432x288 with 1 Axes>"
      ]
     },
     "metadata": {},
     "output_type": "display_data"
    }
   ],
   "source": [
    "colors = ['#D8DFCB', '#6D7D7B']\n",
    "labels = ['Categorie 1', 'Categorie 2']\n",
    "explode = [0.025, 0.025]\n",
    "plt.pie(ctpe.values, labels=labels, explode=explode, colors=colors, autopct='%1.1f%%', shadow=True, startangle=45)\n",
    "\n",
    "plt.savefig(\"../graphs/ctpe.svg\")"
   ]
  },
  {
   "cell_type": "markdown",
   "id": "freelance-monkey",
   "metadata": {},
   "source": [
    "### CORELB"
   ]
  },
  {
   "cell_type": "code",
   "execution_count": 32,
   "id": "fifth-motivation",
   "metadata": {},
   "outputs": [
    {
     "data": {
      "text/plain": [
       "array([1, 4])"
      ]
     },
     "execution_count": 32,
     "metadata": {},
     "output_type": "execute_result"
    }
   ],
   "source": [
    "df_['CORELB'].unique()"
   ]
  },
  {
   "cell_type": "code",
   "execution_count": 33,
   "id": "tough-wings",
   "metadata": {},
   "outputs": [
    {
     "data": {
      "text/plain": [
       "2"
      ]
     },
     "execution_count": 33,
     "metadata": {},
     "output_type": "execute_result"
    }
   ],
   "source": [
    "df_['CORELB'].nunique()"
   ]
  },
  {
   "cell_type": "code",
   "execution_count": 34,
   "id": "returning-kingston",
   "metadata": {},
   "outputs": [
    {
     "data": {
      "text/plain": [
       "1    2626102\n",
       "4     353044\n",
       "Name: CORELB, dtype: int64"
      ]
     },
     "execution_count": 34,
     "metadata": {},
     "output_type": "execute_result"
    }
   ],
   "source": [
    "df_['CORELB'].value_counts()"
   ]
  },
  {
   "cell_type": "code",
   "execution_count": 35,
   "id": "digital-algeria",
   "metadata": {},
   "outputs": [
    {
     "data": {
      "text/plain": [
       "1    0.881495\n",
       "4    0.118505\n",
       "Name: CORELB, dtype: float64"
      ]
     },
     "execution_count": 35,
     "metadata": {},
     "output_type": "execute_result"
    }
   ],
   "source": [
    "corelb = df_['CORELB'].value_counts(normalize=True)\n",
    "corelb"
   ]
  },
  {
   "cell_type": "code",
   "execution_count": 59,
   "id": "fossil-remainder",
   "metadata": {},
   "outputs": [
    {
     "data": {
      "image/png": "[encoded data removed]",
      "text/plain": [
       "<Figure size 432x288 with 1 Axes>"
      ]
     },
     "metadata": {},
     "output_type": "display_data"
    }
   ],
   "source": [
    "colors = ['#91bdff', '#558fe6']\n",
    "labels = ['Categorie 1', 'Categorie 4']\n",
    "explode = [0.025, 0.025]\n",
    "plt.pie(corelb.values, labels=labels, explode=explode, colors=colors, autopct='%1.1f%%', shadow=True, startangle=45)\n",
    "\n",
    "plt.savefig(\"../graphs/corelb.svg\")"
   ]
  },
  {
   "cell_type": "code",
   "execution_count": 17,
   "id": "alleged-collaboration",
   "metadata": {},
   "outputs": [
    {
     "data": {
      "text/plain": [
       "0    2125812\n",
       "1     853334\n",
       "Name: Cluster, dtype: int64"
      ]
     },
     "execution_count": 17,
     "metadata": {},
     "output_type": "execute_result"
    }
   ],
   "source": [
    "df_['Cluster'].value_counts()"
   ]
  },
  {
   "cell_type": "code",
   "execution_count": 22,
   "id": "victorian-cover",
   "metadata": {},
   "outputs": [],
   "source": [
    "mc_cluster = df_['Cluster'].value_counts(normalize=True)"
   ]
  },
  {
   "cell_type": "code",
   "execution_count": 23,
   "id": "patent-numbers",
   "metadata": {},
   "outputs": [
    {
     "name": "stdout",
     "output_type": "stream",
     "text": [
      "Int64Index([0, 1], dtype='int64')\n",
      "[0.71356422 0.28643578]\n"
     ]
    }
   ],
   "source": [
    "print(mc_cluster.index)\n",
    "print(mc_cluster.values)"
   ]
  },
  {
   "cell_type": "code",
   "execution_count": 24,
   "id": "confident-heating",
   "metadata": {},
   "outputs": [
    {
     "data": {
      "image/png": "[encoded data removed]",
      "text/plain": [
       "<Figure size 432x288 with 1 Axes>"
      ]
     },
     "metadata": {},
     "output_type": "display_data"
    }
   ],
   "source": [
    "colors = ['#99A1A6', '#DEE1E3']\n",
    "labels = ['Cluster 0', 'Cluster 1']\n",
    "explode = [0.025, 0.025]\n",
    "plt.pie(mc_cluster.values, labels=labels, explode=explode, colors=colors, autopct='%1.1f%%', shadow=True, startangle=45)\n",
    "\n",
    "plt.savefig(\"../graphs/mc_cluster.svg\")"
   ]
  },
  {
   "cell_type": "markdown",
   "id": "chicken-anaheim",
   "metadata": {},
   "source": [
    "## Contracts"
   ]
  },
  {
   "cell_type": "code",
   "execution_count": 37,
   "id": "imperial-hampton",
   "metadata": {},
   "outputs": [
    {
     "data": {
      "text/plain": [
       "37"
      ]
     },
     "execution_count": 37,
     "metadata": {},
     "output_type": "execute_result"
    }
   ],
   "source": [
    "# PRODUITS\n",
    "ctr['COPRO'].nunique()"
   ]
  },
  {
   "cell_type": "code",
   "execution_count": 62,
   "id": "important-chart",
   "metadata": {},
   "outputs": [
    {
     "data": {
      "text/plain": [
       "24140903"
      ]
     },
     "execution_count": 62,
     "metadata": {},
     "output_type": "execute_result"
    }
   ],
   "source": [
    "ctr['COCO'].nunique()"
   ]
  },
  {
   "cell_type": "code",
   "execution_count": 63,
   "id": "conventional-cleveland",
   "metadata": {},
   "outputs": [
    {
     "data": {
      "text/plain": [
       "(28685139, 3)"
      ]
     },
     "execution_count": 63,
     "metadata": {},
     "output_type": "execute_result"
    }
   ],
   "source": [
    "ctr.shape"
   ]
  },
  {
   "cell_type": "code",
   "execution_count": 38,
   "id": "bound-territory",
   "metadata": {},
   "outputs": [
    {
     "data": {
      "text/plain": [
       "637143"
      ]
     },
     "execution_count": 38,
     "metadata": {},
     "output_type": "execute_result"
    }
   ],
   "source": [
    "# CLIENTS\n",
    "ctr['COMAX'].nunique()"
   ]
  },
  {
   "cell_type": "code",
   "execution_count": 39,
   "id": "facial-lecture",
   "metadata": {},
   "outputs": [
    {
     "data": {
      "text/plain": [
       "28685139"
      ]
     },
     "execution_count": 39,
     "metadata": {},
     "output_type": "execute_result"
    }
   ],
   "source": [
    "# CONTRACTS TITAL\n",
    "ctr['COMAX'].count()"
   ]
  },
  {
   "cell_type": "markdown",
   "id": "descending-somerset",
   "metadata": {},
   "source": [
    "## Produits"
   ]
  },
  {
   "cell_type": "code",
   "execution_count": 40,
   "id": "improved-denmark",
   "metadata": {},
   "outputs": [
    {
     "name": "stdout",
     "output_type": "stream",
     "text": [
      "<class 'pandas.core.frame.DataFrame'>\n",
      "RangeIndex: 2341 entries, 0 to 2340\n",
      "Data columns (total 2 columns):\n",
      " #   Column  Non-Null Count  Dtype \n",
      "---  ------  --------------  ----- \n",
      " 0   COPRO   2341 non-null   int64 \n",
      " 1   COPROG  2341 non-null   object\n",
      "dtypes: int64(1), object(1)\n",
      "memory usage: 36.7+ KB\n"
     ]
    }
   ],
   "source": [
    "prod.info()"
   ]
  },
  {
   "cell_type": "markdown",
   "id": "cross-samoa",
   "metadata": {},
   "source": [
    "### COPRO"
   ]
  },
  {
   "cell_type": "code",
   "execution_count": 41,
   "id": "fresh-gravity",
   "metadata": {},
   "outputs": [
    {
     "data": {
      "text/plain": [
       "array([7018, 2116, 2019, ...,  692,  653,  872])"
      ]
     },
     "execution_count": 41,
     "metadata": {},
     "output_type": "execute_result"
    }
   ],
   "source": [
    "prod.COPRO.unique()"
   ]
  },
  {
   "cell_type": "code",
   "execution_count": 42,
   "id": "lonely-encoding",
   "metadata": {},
   "outputs": [
    {
     "data": {
      "text/plain": [
       "2341"
      ]
     },
     "execution_count": 42,
     "metadata": {},
     "output_type": "execute_result"
    }
   ],
   "source": [
    "# Nombre de produits\n",
    "prod.COPRO.nunique()"
   ]
  },
  {
   "cell_type": "markdown",
   "id": "corporate-marijuana",
   "metadata": {},
   "source": [
    "### COPROG"
   ]
  },
  {
   "cell_type": "code",
   "execution_count": 65,
   "id": "falling-british",
   "metadata": {},
   "outputs": [
    {
     "data": {
      "text/plain": [
       "456"
      ]
     },
     "execution_count": 65,
     "metadata": {},
     "output_type": "execute_result"
    }
   ],
   "source": [
    "# Nmbre de groupe de produits\n",
    "prod.COPROG.nunique()"
   ]
  },
  {
   "cell_type": "markdown",
   "id": "mexican-registrar",
   "metadata": {},
   "source": [
    "# Analyse deux variables"
   ]
  },
  {
   "cell_type": "code",
   "execution_count": 8,
   "id": "chicken-columbia",
   "metadata": {},
   "outputs": [
    {
     "data": {
      "text/plain": [
       "48     8260\n",
       "49     8128\n",
       "47     7960\n",
       "50     7807\n",
       "51     7632\n",
       "       ... \n",
       "12        1\n",
       "101       1\n",
       "102       1\n",
       "3         1\n",
       "1         1\n",
       "Name: AGE, Length: 102, dtype: int64"
      ]
     },
     "execution_count": 8,
     "metadata": {},
     "output_type": "execute_result"
    }
   ],
   "source": [
    "df[df.Cluster == 1]['AGE'].value_counts()"
   ]
  },
  {
   "cell_type": "code",
   "execution_count": null,
   "id": "specified-vietnamese",
   "metadata": {},
   "outputs": [],
   "source": [
    "insee.head()"
   ]
  },
  {
   "cell_type": "code",
   "execution_count": null,
   "id": "representative-reviewer",
   "metadata": {},
   "outputs": [],
   "source": [
    "df.head()"
   ]
  },
  {
   "cell_type": "markdown",
   "id": "lasting-province",
   "metadata": {},
   "source": [
    "## AGE SEXE"
   ]
  },
  {
   "cell_type": "code",
   "execution_count": 53,
   "id": "compatible-conversation",
   "metadata": {},
   "outputs": [
    {
     "name": "stdout",
     "output_type": "stream",
     "text": [
      "((0, 49), 5410)\n",
      "((0, 48), 5239)\n",
      "((0, 50), 5200)\n",
      "((0, 56), 5127)\n",
      "((0, 47), 5112)\n",
      "((0, 51), 5062)\n",
      "((0, 53), 4953)\n",
      "((0, 54), 4951)\n",
      "((0, 55), 4933)\n",
      "((0, 52), 4928)\n",
      "((0, 57), 4915)\n",
      "((0, 46), 4812)\n",
      "((0, 43), 4701)\n",
      "((0, 40), 4665)\n",
      "((0, 59), 4548)\n",
      "((0, 41), 4546)\n",
      "((0, 39), 4539)\n",
      "((0, 45), 4501)\n",
      "((0, 58), 4475)\n",
      "((0, 60), 4472)\n",
      "((0, 61), 4436)\n",
      "((0, 42), 4412)\n",
      "((0, 62), 4345)\n",
      "((0, 38), 4323)\n",
      "((0, 44), 4296)\n",
      "((0, 64), 4290)\n",
      "((0, 63), 4266)\n",
      "((0, 66), 4251)\n",
      "((0, 65), 4180)\n",
      "((0, 70), 4116)\n",
      "((0, 71), 4111)\n",
      "((0, 68), 4094)\n",
      "((0, 37), 4077)\n",
      "((0, 34), 4072)\n",
      "((0, 72), 4066)\n",
      "((0, 67), 4054)\n",
      "((0, 69), 4010)\n",
      "((0, 33), 3985)\n",
      "((0, 36), 3981)\n",
      "((0, 35), 3976)\n",
      "((0, 73), 3925)\n",
      "((0, 32), 3873)\n",
      "((0, 31), 3833)\n",
      "((0, 74), 3785)\n",
      "((0, 30), 3784)\n",
      "((0, 20), 3601)\n",
      "((0, 29), 3587)\n",
      "((0, 28), 3489)\n",
      "((0, 22), 3471)\n",
      "((0, 21), 3452)\n",
      "((0, 19), 3425)\n",
      "((0, 23), 3415)\n",
      "((0, 18), 3361)\n",
      "((0, 25), 3358)\n",
      "((0, 27), 3334)\n",
      "((0, 24), 3327)\n",
      "((0, 17), 3323)\n",
      "((0, 26), 3260)\n",
      "((0, 15), 3223)\n",
      "((0, 16), 3135)\n",
      "((0, 14), 3005)\n",
      "((0, 75), 2892)\n",
      "((0, 76), 2850)\n",
      "((0, 13), 2835)\n",
      "((0, 11), 2829)\n",
      "((0, 12), 2795)\n",
      "((0, 77), 2779)\n",
      "((0, 10), 2623)\n",
      "((0, 9), 2531)\n",
      "((0, 78), 2422)\n",
      "((0, 8), 2388)\n",
      "((0, 79), 2178)\n",
      "((0, 7), 2120)\n",
      "((0, 82), 1967)\n",
      "((0, 6), 1930)\n",
      "((0, 81), 1900)\n",
      "((0, 80), 1886)\n",
      "((0, 83), 1742)\n",
      "((0, 84), 1732)\n",
      "((0, 5), 1650)\n",
      "((0, 85), 1595)\n",
      "((0, 86), 1546)\n",
      "((0, 87), 1519)\n",
      "((0, 4), 1416)\n",
      "((0, 88), 1343)\n",
      "((0, 89), 1249)\n",
      "((0, 3), 1154)\n",
      "((0, 90), 1151)\n",
      "((0, 91), 1088)\n",
      "((0, 2), 914)\n",
      "((0, 92), 826)\n",
      "((0, 93), 729)\n",
      "((0, 94), 686)\n",
      "((0, 1), 631)\n",
      "((0, 95), 626)\n",
      "((0, 96), 534)\n",
      "((0, 97), 471)\n",
      "((0, 98), 377)\n",
      "((0, 99), 349)\n",
      "((0, 100), 296)\n",
      "((0, 0), 209)\n",
      "((0, 102), 121)\n",
      "((0, 101), 116)\n",
      "((0, 103), 63)\n",
      "((0, 104), 49)\n",
      "((0, 105), 45)\n",
      "((0, 106), 37)\n",
      "((0, 107), 29)\n",
      "((0, 109), 27)\n",
      "((0, 108), 23)\n",
      "((0, 110), 16)\n",
      "((1, 48), 4913)\n",
      "((1, 47), 4813)\n",
      "((1, 49), 4781)\n",
      "((1, 54), 4627)\n",
      "((1, 50), 4607)\n",
      "((1, 40), 4590)\n",
      "((1, 46), 4579)\n",
      "((1, 55), 4574)\n",
      "((1, 56), 4561)\n",
      "((1, 53), 4560)\n",
      "((1, 51), 4546)\n",
      "((1, 52), 4535)\n",
      "((1, 57), 4512)\n",
      "((1, 39), 4431)\n",
      "((1, 41), 4336)\n",
      "((1, 38), 4332)\n",
      "((1, 61), 4330)\n",
      "((1, 58), 4295)\n",
      "((1, 42), 4260)\n",
      "((1, 43), 4227)\n",
      "((1, 59), 4220)\n",
      "((1, 45), 4207)\n",
      "((1, 60), 4084)\n",
      "((1, 72), 4064)\n",
      "((1, 70), 4052)\n",
      "((1, 67), 4033)\n",
      "((1, 44), 4013)\n",
      "((1, 71), 4013)\n",
      "((1, 62), 3989)\n",
      "((1, 73), 3986)\n",
      "((1, 64), 3975)\n",
      "((1, 66), 3964)\n",
      "((1, 68), 3957)\n",
      "((1, 63), 3955)\n",
      "((1, 65), 3955)\n",
      "((1, 35), 3918)\n",
      "((1, 69), 3876)\n",
      "((1, 36), 3875)\n",
      "((1, 37), 3864)\n",
      "((1, 33), 3816)\n",
      "((1, 34), 3794)\n",
      "((1, 32), 3746)\n",
      "((1, 31), 3706)\n",
      "((1, 74), 3699)\n",
      "((1, 30), 3696)\n",
      "((1, 29), 3531)\n",
      "((1, 28), 3459)\n",
      "((1, 20), 3426)\n",
      "((1, 24), 3391)\n",
      "((1, 27), 3381)\n",
      "((1, 25), 3363)\n",
      "((1, 22), 3351)\n",
      "((1, 21), 3305)\n",
      "((1, 26), 3296)\n",
      "((1, 18), 3279)\n",
      "((1, 23), 3265)\n",
      "((1, 19), 3211)\n",
      "((1, 17), 3107)\n",
      "((1, 16), 3055)\n",
      "((1, 15), 2964)\n",
      "((1, 77), 2889)\n",
      "((1, 75), 2872)\n",
      "((1, 14), 2812)\n",
      "((1, 76), 2764)\n",
      "((1, 12), 2706)\n",
      "((1, 13), 2706)\n",
      "((1, 10), 2592)\n",
      "((1, 11), 2563)\n",
      "((1, 78), 2431)\n",
      "((1, 9), 2393)\n",
      "((1, 8), 2289)\n",
      "((1, 79), 2242)\n",
      "((1, 7), 2070)\n",
      "((1, 81), 2031)\n",
      "((1, 82), 2016)\n",
      "((1, 83), 1978)\n",
      "((1, 80), 1950)\n",
      "((1, 6), 1889)\n",
      "((1, 85), 1867)\n",
      "((1, 84), 1817)\n",
      "((1, 86), 1772)\n",
      "((1, 88), 1753)\n",
      "((1, 87), 1725)\n",
      "((1, 89), 1702)\n",
      "((1, 90), 1624)\n",
      "((1, 5), 1575)\n",
      "((1, 91), 1467)\n",
      "((1, 92), 1378)\n",
      "((1, 4), 1271)\n",
      "((1, 93), 1206)\n",
      "((1, 95), 1127)\n",
      "((1, 94), 1123)\n",
      "((1, 3), 1075)\n",
      "((1, 96), 978)\n",
      "((1, 2), 884)\n",
      "((1, 97), 865)\n",
      "((1, 98), 827)\n",
      "((1, 99), 730)\n",
      "((1, 100), 606)\n",
      "((1, 1), 584)\n",
      "((1, 101), 310)\n",
      "((1, 102), 246)\n",
      "((1, 0), 229)\n",
      "((1, 103), 173)\n",
      "((1, 106), 131)\n",
      "((1, 105), 110)\n",
      "((1, 104), 104)\n",
      "((1, 107), 73)\n",
      "((1, 108), 69)\n",
      "((1, 109), 41)\n",
      "((1, 110), 26)\n"
     ]
    }
   ],
   "source": [
    "sex_age = df.groupby('COSEXE')['AGE'].value_counts()\n",
    "for val in zip(sex_age.index, sex_age.values):\n",
    "    print(val)"
   ]
  },
  {
   "cell_type": "markdown",
   "id": "large-bottom",
   "metadata": {},
   "source": [
    "## AGE INSEE"
   ]
  },
  {
   "cell_type": "code",
   "execution_count": null,
   "id": "persistent-activity",
   "metadata": {},
   "outputs": [],
   "source": [
    "age_insee = df.groupby('AGE')['CTSCPI'].value_counts()\n",
    "age_insee.head(10)"
   ]
  },
  {
   "cell_type": "markdown",
   "id": "satisfied-biology",
   "metadata": {},
   "source": [
    "## SEXE INSEE"
   ]
  },
  {
   "cell_type": "code",
   "execution_count": 28,
   "id": "impossible-sellers",
   "metadata": {},
   "outputs": [
    {
     "data": {
      "text/plain": [
       "COSEXE  CTSCPI\n",
       "0       8400      54269\n",
       "        7600      31598\n",
       "        8500      19239\n",
       "        7300      17834\n",
       "        2300      13188\n",
       "        6300      12580\n",
       "        5400      11471\n",
       "        7200      10966\n",
       "        5200      10918\n",
       "        2100      10384\n",
       "Name: CTSCPI, dtype: int64"
      ]
     },
     "execution_count": 28,
     "metadata": {},
     "output_type": "execute_result"
    }
   ],
   "source": [
    "sex_insee = df.groupby('COSEXE')['CTSCPI'].value_counts()\n",
    "sex_insee.head(10)"
   ]
  },
  {
   "cell_type": "code",
   "execution_count": null,
   "id": "flying-tissue",
   "metadata": {
    "scrolled": true
   },
   "outputs": [],
   "source": [
    "ctr.head()"
   ]
  },
  {
   "cell_type": "code",
   "execution_count": null,
   "id": "sudden-district",
   "metadata": {},
   "outputs": [],
   "source": [
    "df.head()"
   ]
  },
  {
   "cell_type": "markdown",
   "id": "communist-taylor",
   "metadata": {},
   "source": [
    "## Produits SEXE"
   ]
  },
  {
   "cell_type": "code",
   "execution_count": null,
   "id": "abstract-interest",
   "metadata": {},
   "outputs": [],
   "source": [
    "women = df[df['COSEXE'] == 1]['COMAX']\n",
    "men = df[df['COSEXE'] == 0]['COMAX']"
   ]
  },
  {
   "cell_type": "code",
   "execution_count": null,
   "id": "laughing-trunk",
   "metadata": {},
   "outputs": [],
   "source": [
    "women_best = ctr[ctr['COMAX'].isin(women)]['COPRO'].value_counts()"
   ]
  },
  {
   "cell_type": "code",
   "execution_count": null,
   "id": "weird-liberty",
   "metadata": {},
   "outputs": [],
   "source": [
    "women_best"
   ]
  },
  {
   "cell_type": "code",
   "execution_count": null,
   "id": "sound-thesaurus",
   "metadata": {},
   "outputs": [],
   "source": [
    "men_best = ctr[ctr['COMAX'].isin(men)]['COPRO'].value_counts()"
   ]
  },
  {
   "cell_type": "code",
   "execution_count": null,
   "id": "raising-texas",
   "metadata": {},
   "outputs": [],
   "source": [
    "men_best"
   ]
  },
  {
   "cell_type": "markdown",
   "id": "asian-interstate",
   "metadata": {},
   "source": [
    "## Produits AGE"
   ]
  },
  {
   "cell_type": "code",
   "execution_count": null,
   "id": "commercial-martial",
   "metadata": {},
   "outputs": [],
   "source": [
    "age = dict()\n",
    "for key in df.AGE:\n",
    "    age[key] = None"
   ]
  },
  {
   "cell_type": "code",
   "execution_count": 44,
   "id": "eight-atlas",
   "metadata": {},
   "outputs": [
    {
     "ename": "AttributeError",
     "evalue": "'list' object has no attribute 'keys'",
     "output_type": "error",
     "traceback": [
      "\u001b[0;31m---------------------------------------------------------------------------\u001b[0m",
      "\u001b[0;31mAttributeError\u001b[0m                            Traceback (most recent call last)",
      "\u001b[0;32m<ipython-input-44-9a4f58776ad3>\u001b[0m in \u001b[0;36m<module>\u001b[0;34m\u001b[0m\n\u001b[0;32m----> 1\u001b[0;31m \u001b[0;32mfor\u001b[0m \u001b[0mkey\u001b[0m \u001b[0;32min\u001b[0m \u001b[0mage\u001b[0m\u001b[0;34m.\u001b[0m\u001b[0mkeys\u001b[0m\u001b[0;34m(\u001b[0m\u001b[0;34m)\u001b[0m\u001b[0;34m:\u001b[0m\u001b[0;34m\u001b[0m\u001b[0;34m\u001b[0m\u001b[0m\n\u001b[0m\u001b[1;32m      2\u001b[0m     \u001b[0mtemp\u001b[0m \u001b[0;34m=\u001b[0m \u001b[0mdf\u001b[0m\u001b[0;34m[\u001b[0m\u001b[0mdf\u001b[0m\u001b[0;34m[\u001b[0m\u001b[0;34m'AGE'\u001b[0m\u001b[0;34m]\u001b[0m \u001b[0;34m==\u001b[0m \u001b[0mkey\u001b[0m\u001b[0;34m]\u001b[0m\u001b[0;34m[\u001b[0m\u001b[0;34m'COMAX'\u001b[0m\u001b[0;34m]\u001b[0m\u001b[0;34m\u001b[0m\u001b[0;34m\u001b[0m\u001b[0m\n\u001b[1;32m      3\u001b[0m     \u001b[0mage\u001b[0m\u001b[0;34m[\u001b[0m\u001b[0mkey\u001b[0m\u001b[0;34m]\u001b[0m \u001b[0;34m=\u001b[0m \u001b[0mctr\u001b[0m\u001b[0;34m[\u001b[0m\u001b[0mctr\u001b[0m\u001b[0;34m[\u001b[0m\u001b[0;34m'COMAX'\u001b[0m\u001b[0;34m]\u001b[0m\u001b[0;34m.\u001b[0m\u001b[0misin\u001b[0m\u001b[0;34m(\u001b[0m\u001b[0mtemp\u001b[0m\u001b[0;34m)\u001b[0m\u001b[0;34m]\u001b[0m\u001b[0;34m[\u001b[0m\u001b[0;34m'COPRO'\u001b[0m\u001b[0;34m]\u001b[0m\u001b[0;34m.\u001b[0m\u001b[0mvalue_counts\u001b[0m\u001b[0;34m(\u001b[0m\u001b[0;34m)\u001b[0m\u001b[0;34m\u001b[0m\u001b[0;34m\u001b[0m\u001b[0m\n",
      "\u001b[0;31mAttributeError\u001b[0m: 'list' object has no attribute 'keys'"
     ]
    }
   ],
   "source": [
    "for key in age.keys():\n",
    "    temp = df[df['AGE'] == key]['COMAX']\n",
    "    age[key] = ctr[ctr['COMAX'].isin(temp)]['COPRO'].value_counts()"
   ]
  },
  {
   "cell_type": "code",
   "execution_count": 45,
   "id": "premium-syndicate",
   "metadata": {},
   "outputs": [
    {
     "data": {
      "text/plain": [
       "(19, 6635)"
      ]
     },
     "execution_count": 45,
     "metadata": {},
     "output_type": "execute_result"
    }
   ],
   "source": [
    "age[19]"
   ]
  },
  {
   "cell_type": "markdown",
   "id": "unlikely-dietary",
   "metadata": {},
   "source": [
    "## Produits INSEE "
   ]
  },
  {
   "cell_type": "code",
   "execution_count": 46,
   "id": "wired-client",
   "metadata": {},
   "outputs": [],
   "source": [
    "insee_prod = dict()\n",
    "for key in df.CTSCPI.unique():\n",
    "    insee_prod[key] = None"
   ]
  },
  {
   "cell_type": "code",
   "execution_count": 47,
   "id": "secret-optimization",
   "metadata": {},
   "outputs": [],
   "source": [
    "for key in insee_prod.keys():\n",
    "    temp = df[df['CTSCPI'] == key]['COMAX']\n",
    "    insee_prod[key] = ctr[ctr['COMAX'].isin(temp)]['COPRO'].value_counts()"
   ]
  },
  {
   "cell_type": "code",
   "execution_count": 48,
   "id": "general-delaware",
   "metadata": {},
   "outputs": [
    {
     "data": {
      "text/plain": [
       "812     1735471\n",
       "7652      61321\n",
       "160       59407\n",
       "727       55228\n",
       "954       49101\n",
       "100       37623\n",
       "65        37353\n",
       "4545      36536\n",
       "137       33858\n",
       "53        30489\n",
       "867       27476\n",
       "647       24383\n",
       "1         22929\n",
       "753       17791\n",
       "2076      16321\n",
       "600       15447\n",
       "646       13758\n",
       "7604       8171\n",
       "780        5788\n",
       "3          4588\n",
       "52         2172\n",
       "1752       2013\n",
       "411        1971\n",
       "807        1382\n",
       "8          1019\n",
       "1556        614\n",
       "7530        527\n",
       "2350        525\n",
       "823         459\n",
       "97          454\n",
       "1759        335\n",
       "2114        334\n",
       "820         331\n",
       "542         286\n",
       "658         228\n",
       "7532        224\n",
       "384         164\n",
       "Name: COPRO, dtype: int64"
      ]
     },
     "execution_count": 48,
     "metadata": {},
     "output_type": "execute_result"
    }
   ],
   "source": [
    "insee_prod[8400]"
   ]
  },
  {
   "cell_type": "markdown",
   "id": "industrial-publisher",
   "metadata": {},
   "source": [
    "## Produits CTPE"
   ]
  },
  {
   "cell_type": "code",
   "execution_count": 49,
   "id": "cultural-seating",
   "metadata": {},
   "outputs": [],
   "source": [
    "ctpe_1 = df_[df_['CTPE'] == 1]['COMAX']\n",
    "ctpe_2 = df_[df_['CTPE'] == 2]['COMAX']"
   ]
  },
  {
   "cell_type": "markdown",
   "id": "finite-roberts",
   "metadata": {},
   "source": [
    "### Categorie 1"
   ]
  },
  {
   "cell_type": "code",
   "execution_count": 50,
   "id": "seven-behalf",
   "metadata": {},
   "outputs": [],
   "source": [
    "ctpe_1_best = ctr[ctr['COMAX'].isin(ctpe_1)]['COPRO'].value_counts()"
   ]
  },
  {
   "cell_type": "code",
   "execution_count": 51,
   "id": "fatal-communication",
   "metadata": {},
   "outputs": [
    {
     "data": {
      "text/plain": [
       "812     14876899\n",
       "2076     2622035\n",
       "647       678841\n",
       "65        631110\n",
       "160       573577\n",
       "954       473959\n",
       "753       461984\n",
       "137       393736\n",
       "53        376871\n",
       "100       344540\n",
       "4545      301352\n",
       "646       275667\n",
       "1556      258901\n",
       "7530      239907\n",
       "823       234677\n",
       "3         234480\n",
       "7652      229300\n",
       "542       198968\n",
       "7604      171526\n",
       "1752      159224\n",
       "780       150977\n",
       "411       147568\n",
       "867       138085\n",
       "600       131437\n",
       "807       129931\n",
       "1759      114706\n",
       "52        113359\n",
       "2114      111458\n",
       "97        109303\n",
       "1         106498\n",
       "8         105017\n",
       "2350      103110\n",
       "727       102701\n",
       "7532       96493\n",
       "820        94788\n",
       "384        93076\n",
       "658        68763\n",
       "Name: COPRO, dtype: int64"
      ]
     },
     "execution_count": 51,
     "metadata": {},
     "output_type": "execute_result"
    }
   ],
   "source": [
    "ctpe_1_best"
   ]
  },
  {
   "cell_type": "markdown",
   "id": "sunrise-riding",
   "metadata": {},
   "source": [
    "### Categorie 2"
   ]
  },
  {
   "cell_type": "code",
   "execution_count": 52,
   "id": "sized-transfer",
   "metadata": {},
   "outputs": [],
   "source": [
    "ctpe_2_best = ctr[ctr['COMAX'].isin(ctpe_2)]['COPRO'].value_counts()"
   ]
  },
  {
   "cell_type": "code",
   "execution_count": 53,
   "id": "interstate-planet",
   "metadata": {},
   "outputs": [
    {
     "data": {
      "text/plain": [
       "812     2893722\n",
       "2076     413606\n",
       "647       88083\n",
       "658       65319\n",
       "160       52151\n",
       "646       52010\n",
       "65        49465\n",
       "780       47340\n",
       "753       44348\n",
       "7604      42997\n",
       "954       35686\n",
       "53        32909\n",
       "542       30029\n",
       "137       29156\n",
       "100       27081\n",
       "823       26209\n",
       "384       24999\n",
       "1556      23799\n",
       "4545      23422\n",
       "3         21168\n",
       "807       19201\n",
       "7530      17269\n",
       "1752      15514\n",
       "7652      13990\n",
       "820       12541\n",
       "600       12352\n",
       "97        12114\n",
       "1759      11978\n",
       "411       11839\n",
       "7532      11824\n",
       "2114      11660\n",
       "1          9841\n",
       "52         9496\n",
       "2350       8922\n",
       "8          6956\n",
       "867        5709\n",
       "727        2158\n",
       "Name: COPRO, dtype: int64"
      ]
     },
     "execution_count": 53,
     "metadata": {},
     "output_type": "execute_result"
    }
   ],
   "source": [
    "ctpe_2_best"
   ]
  },
  {
   "cell_type": "markdown",
   "id": "serial-scroll",
   "metadata": {},
   "source": [
    "## Produits CORELB"
   ]
  },
  {
   "cell_type": "code",
   "execution_count": 54,
   "id": "skilled-mission",
   "metadata": {},
   "outputs": [],
   "source": [
    "corelb_1 = df_[df_['CORELB'] == 1]['COMAX']\n",
    "corelb_4 = df_[df_['CORELB'] == 2]['COMAX']"
   ]
  },
  {
   "cell_type": "markdown",
   "id": "civilian-wagon",
   "metadata": {},
   "source": [
    "### Categorie 1"
   ]
  },
  {
   "cell_type": "code",
   "execution_count": 55,
   "id": "hungry-jungle",
   "metadata": {},
   "outputs": [
    {
     "data": {
      "text/plain": [
       "812     16913651\n",
       "2076     2757039\n",
       "647       738476\n",
       "65        629239\n",
       "160       576147\n",
       "954       482820\n",
       "753       462051\n",
       "137       404180\n",
       "53        388528\n",
       "100       357408\n",
       "4545      315552\n",
       "646       313999\n",
       "1556      268646\n",
       "823       249635\n",
       "7530      247613\n",
       "3         240183\n",
       "7652      228206\n",
       "542       215170\n",
       "7604      198337\n",
       "780       179596\n",
       "1752      167405\n",
       "411       154171\n",
       "807       142316\n",
       "600       137992\n",
       "867       137400\n",
       "1759      121190\n",
       "2114      117786\n",
       "52        117444\n",
       "97        116032\n",
       "658       113326\n",
       "1         109630\n",
       "2350      107478\n",
       "8         105119\n",
       "384       104787\n",
       "7532      103471\n",
       "820       102014\n",
       "727       100199\n",
       "Name: COPRO, dtype: int64"
      ]
     },
     "execution_count": 55,
     "metadata": {},
     "output_type": "execute_result"
    }
   ],
   "source": [
    "corelb_1_best = ctr[ctr['COMAX'].isin(corelb_1)]['COPRO'].value_counts()\n",
    "corelb_1_best"
   ]
  },
  {
   "cell_type": "markdown",
   "id": "incorporate-christian",
   "metadata": {},
   "source": [
    "### Categorie 4"
   ]
  },
  {
   "cell_type": "code",
   "execution_count": 56,
   "id": "roman-penguin",
   "metadata": {},
   "outputs": [
    {
     "data": {
      "text/plain": [
       "Series([], Name: COPRO, dtype: int64)"
      ]
     },
     "execution_count": 56,
     "metadata": {},
     "output_type": "execute_result"
    }
   ],
   "source": [
    "corelb_4_best = ctr[ctr['COMAX'].isin(corelb_4)]['COPRO'].value_counts()\n",
    "corelb_4_best"
   ]
  },
  {
   "cell_type": "code",
   "execution_count": null,
   "id": "functioning-toilet",
   "metadata": {},
   "outputs": [],
   "source": []
  }
 ],
 "metadata": {
  "kernelspec": {
   "display_name": "Python 3",
   "language": "python",
   "name": "python3"
  },
  "language_info": {
   "codemirror_mode": {
    "name": "ipython",
    "version": 3
   },
   "file_extension": ".py",
   "mimetype": "text/x-python",
   "name": "python",
   "nbconvert_exporter": "python",
   "pygments_lexer": "ipython3",
   "version": "3.6.8"
  }
 },
 "nbformat": 4,
 "nbformat_minor": 5
}
