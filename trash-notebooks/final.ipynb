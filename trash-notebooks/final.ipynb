{
 "cells": [
  {
   "cell_type": "code",
   "execution_count": 1,
   "id": "approved-crossing",
   "metadata": {},
   "outputs": [],
   "source": [
    "import pandas as pd\n",
    "from sklearn.cluster import KMeans\n",
    "from matplotlib import pyplot as plt"
   ]
  },
  {
   "cell_type": "markdown",
   "id": "fabulous-kitty",
   "metadata": {},
   "source": [
    "# Cette partie est pour les clients morales"
   ]
  },
  {
   "cell_type": "code",
   "execution_count": 2,
   "id": "assumed-capitol",
   "metadata": {},
   "outputs": [],
   "source": [
    "mc_data = pd.read_csv('../cleaned-data/production/final-mc-data.csv', encoding='iso-8859-1', sep='\\t')"
   ]
  },
  {
   "cell_type": "code",
   "execution_count": 3,
   "id": "contemporary-pharmacy",
   "metadata": {},
   "outputs": [
    {
     "name": "stdout",
     "output_type": "stream",
     "text": [
      "<class 'pandas.core.frame.DataFrame'>\n",
      "RangeIndex: 2979146 entries, 0 to 2979145\n",
      "Data columns (total 41 columns):\n",
      " #   Column      Dtype  \n",
      "---  ------      -----  \n",
      " 0   Unnamed: 0  int64  \n",
      " 1   COMAX       object \n",
      " 2   CTPE        int64  \n",
      " 3   CORELB      int64  \n",
      " 4   PCA-1       float64\n",
      " 5   PCA-2       float64\n",
      " 6   PCA-3       float64\n",
      " 7   PCA-4       float64\n",
      " 8   PCA-5       float64\n",
      " 9   PCA-6       float64\n",
      " 10  PCA-7       float64\n",
      " 11  PCA-8       float64\n",
      " 12  PCA-9       float64\n",
      " 13  PCA-10      float64\n",
      " 14  PCA-11      float64\n",
      " 15  PCA-12      float64\n",
      " 16  PCA-13      float64\n",
      " 17  PCA-14      float64\n",
      " 18  PCA-15      float64\n",
      " 19  PCA-16      float64\n",
      " 20  PCA-17      float64\n",
      " 21  PCA-18      float64\n",
      " 22  PCA-19      float64\n",
      " 23  PCA-20      float64\n",
      " 24  PCA-21      float64\n",
      " 25  PCA-22      float64\n",
      " 26  PCA-23      float64\n",
      " 27  PCA-24      float64\n",
      " 28  PCA-25      float64\n",
      " 29  PCA-26      float64\n",
      " 30  PCA-27      float64\n",
      " 31  PCA-28      float64\n",
      " 32  PCA-29      float64\n",
      " 33  PCA-30      float64\n",
      " 34  PCA-31      float64\n",
      " 35  PCA-32      float64\n",
      " 36  PCA-33      float64\n",
      " 37  PCA-34      float64\n",
      " 38  PCA-35      float64\n",
      " 39  PCA-36      float64\n",
      " 40  PCA-37      float64\n",
      "dtypes: float64(37), int64(3), object(1)\n",
      "memory usage: 931.9+ MB\n"
     ]
    }
   ],
   "source": [
    "mc_data.info()"
   ]
  },
  {
   "cell_type": "code",
   "execution_count": 4,
   "id": "tired-swift",
   "metadata": {},
   "outputs": [
    {
     "data": {
      "text/plain": [
       "['CTPE',\n",
       " 'CORELB',\n",
       " 'PCA-1',\n",
       " 'PCA-2',\n",
       " 'PCA-3',\n",
       " 'PCA-4',\n",
       " 'PCA-5',\n",
       " 'PCA-6',\n",
       " 'PCA-7',\n",
       " 'PCA-8',\n",
       " 'PCA-9',\n",
       " 'PCA-10',\n",
       " 'PCA-11',\n",
       " 'PCA-12',\n",
       " 'PCA-13',\n",
       " 'PCA-14',\n",
       " 'PCA-15',\n",
       " 'PCA-16',\n",
       " 'PCA-17',\n",
       " 'PCA-18',\n",
       " 'PCA-19',\n",
       " 'PCA-20',\n",
       " 'PCA-21',\n",
       " 'PCA-22',\n",
       " 'PCA-23',\n",
       " 'PCA-24',\n",
       " 'PCA-25',\n",
       " 'PCA-26',\n",
       " 'PCA-27',\n",
       " 'PCA-28',\n",
       " 'PCA-29',\n",
       " 'PCA-30',\n",
       " 'PCA-31',\n",
       " 'PCA-32',\n",
       " 'PCA-33',\n",
       " 'PCA-34',\n",
       " 'PCA-35',\n",
       " 'PCA-36',\n",
       " 'PCA-37']"
      ]
     },
     "execution_count": 4,
     "metadata": {},
     "output_type": "execute_result"
    }
   ],
   "source": [
    "list(mc_data.columns)[2:]"
   ]
  },
  {
   "cell_type": "code",
   "execution_count": 4,
   "id": "several-concept",
   "metadata": {},
   "outputs": [
    {
     "name": "stdout",
     "output_type": "stream",
     "text": [
      "1\n",
      "2\n",
      "3\n",
      "4\n",
      "5\n",
      "6\n",
      "7\n",
      "8\n",
      "9\n",
      "10\n"
     ]
    }
   ],
   "source": [
    "WCSS = list()\n",
    "for clusters in range(1, 11):\n",
    "    kmeans = KMeans(n_clusters=clusters, init='k-means++')\n",
    "    \n",
    "    # WCSS: Within Cluster Sum of Squares\n",
    "    kmeans.fit(mc_data[list(mc_data.columns)[2:]])\n",
    "    WCSS.append(kmeans.inertia_)\n",
    "    \n",
    "    print(clusters)"
   ]
  },
  {
   "cell_type": "code",
   "execution_count": 6,
   "id": "little-burns",
   "metadata": {},
   "outputs": [
    {
     "data": {
      "image/png": "[encoded data removed]",
      "text/plain": [
       "<Figure size 432x288 with 1 Axes>"
      ]
     },
     "metadata": {
      "needs_background": "light"
     },
     "output_type": "display_data"
    }
   ],
   "source": [
    "plt.plot(range(1, 11), WCSS, 'bx-')\n",
    "plt.plot([2], WCSS[1], 'ro')  # c='r', marker='o'\n",
    "plt.xlabel('Number Of Clusters')\n",
    "plt.ylabel('WCSS')\n",
    "# Elbow Method For Optimal k\n",
    "plt.savefig('../graphs/wcss-moral.svg')"
   ]
  },
  {
   "cell_type": "markdown",
   "id": "union-state",
   "metadata": {},
   "source": [
    "### As we can see here, the value of cluster 2 is the elbow point, therefore the number of clusters is 2."
   ]
  },
  {
   "cell_type": "code",
   "execution_count": 7,
   "id": "accessible-caribbean",
   "metadata": {},
   "outputs": [
    {
     "data": {
      "text/plain": [
       "KMeans(n_clusters=2)"
      ]
     },
     "execution_count": 7,
     "metadata": {},
     "output_type": "execute_result"
    }
   ],
   "source": [
    "clusters = 2\n",
    "kmeans = KMeans(n_clusters=clusters, init='k-means++')\n",
    "kmeans.fit(mc_data[list(mc_data.columns)[2:]])"
   ]
  },
  {
   "cell_type": "code",
   "execution_count": 8,
   "id": "general-bottle",
   "metadata": {},
   "outputs": [
    {
     "data": {
      "text/plain": [
       "array([[ 1.05088062e+00,  1.43676419e+00, -8.05361349e-01,\n",
       "         3.67298666e-01, -1.57098452e-01, -9.81302239e-03,\n",
       "        -1.40536628e-02, -6.10099923e-02, -1.46195464e-01,\n",
       "        -1.20839821e-01,  1.17394727e-01, -4.23096454e-02,\n",
       "         8.15507758e-04, -4.95363892e-02,  2.66493083e-02,\n",
       "         1.53634412e-01, -3.00356473e-03,  2.36898355e-02,\n",
       "        -1.64521358e-03,  8.24409460e-03,  4.88072677e-02,\n",
       "        -2.55784157e-02,  3.19667429e-02,  3.49255992e-03,\n",
       "        -3.79092299e-02,  5.86205165e-02, -1.93450946e-02,\n",
       "        -2.10556360e-02,  3.82908462e-02,  1.61316069e-02,\n",
       "        -1.68849027e-02, -1.48316964e-02, -2.02040763e-02,\n",
       "         9.42258617e-03,  3.11324452e-02,  2.44971627e-02,\n",
       "         1.82815343e-02,  3.68207550e-02,  5.56776206e-04],\n",
       "       [ 1.09091890e+00,  1.15296970e+00,  4.08708099e+00,\n",
       "         1.98694569e-01,  3.61691671e-01,  2.69647123e-01,\n",
       "        -1.30893568e-01, -1.02109401e-01, -5.46303733e-02,\n",
       "         2.91124346e-02, -7.15622890e-02, -1.43948401e-01,\n",
       "         1.03479701e-01,  1.61421991e-02,  1.51582270e-01,\n",
       "        -7.28869045e-02, -4.49330900e-02,  1.96929880e-02,\n",
       "         1.37958427e-01, -6.27301069e-03, -8.86956111e-03,\n",
       "        -1.54072661e-01,  4.51507799e-03, -1.44595679e-01,\n",
       "         3.77148210e-02, -1.15958677e-02,  8.02417523e-02,\n",
       "         3.83101039e-02,  5.41221271e-02,  2.16518557e-02,\n",
       "         1.96237099e-02,  4.52696532e-02,  3.05759488e-02,\n",
       "        -1.58814907e-02,  1.53543527e-02, -1.77167581e-02,\n",
       "        -8.17556560e-02,  2.00900651e-02, -1.62872764e-03]])"
      ]
     },
     "execution_count": 8,
     "metadata": {},
     "output_type": "execute_result"
    }
   ],
   "source": [
    "# The clusters centers\n",
    "kmeans.cluster_centers_"
   ]
  },
  {
   "cell_type": "code",
   "execution_count": 9,
   "id": "equipped-essence",
   "metadata": {},
   "outputs": [],
   "source": [
    "mc_data['Cluster'] = kmeans.labels_"
   ]
  },
  {
   "cell_type": "code",
   "execution_count": null,
   "id": "cognitive-wright",
   "metadata": {},
   "outputs": [],
   "source": [
    "mc_data.head()"
   ]
  },
  {
   "cell_type": "code",
   "execution_count": null,
   "id": "golden-editing",
   "metadata": {},
   "outputs": [],
   "source": [
    "mc_data.columns[1:]"
   ]
  },
  {
   "cell_type": "code",
   "execution_count": null,
   "id": "wired-collaboration",
   "metadata": {},
   "outputs": [],
   "source": [
    "mc_data[mc_data.columns[1:]].to_csv('../cleaned-data/mc-clusters.csv', sep='\\t')"
   ]
  },
  {
   "cell_type": "code",
   "execution_count": null,
   "id": "generic-language",
   "metadata": {},
   "outputs": [],
   "source": [
    "mc_data['Cluster'].value_counts()"
   ]
  },
  {
   "cell_type": "markdown",
   "id": "crazy-theory",
   "metadata": {},
   "source": [
    "# Cette partie est pour les client physiques"
   ]
  },
  {
   "cell_type": "code",
   "execution_count": 2,
   "id": "earned-architecture",
   "metadata": {},
   "outputs": [],
   "source": [
    "pc_data = pd.read_csv('../cleaned-data/production/final-pc-data.csv', encoding='iso-8859-1', sep='\\t')"
   ]
  },
  {
   "cell_type": "code",
   "execution_count": 3,
   "id": "anonymous-thailand",
   "metadata": {},
   "outputs": [
    {
     "name": "stdout",
     "output_type": "stream",
     "text": [
      "<class 'pandas.core.frame.DataFrame'>\n",
      "RangeIndex: 627591 entries, 0 to 627590\n",
      "Data columns (total 42 columns):\n",
      " #   Column      Non-Null Count   Dtype  \n",
      "---  ------      --------------   -----  \n",
      " 0   Unnamed: 0  627591 non-null  int64  \n",
      " 1   COMAX       627591 non-null  object \n",
      " 2   AGE         627591 non-null  int64  \n",
      " 3   COSEXE      627591 non-null  int64  \n",
      " 4   CTSCPI      627591 non-null  int64  \n",
      " 5   PCA-1       627591 non-null  float64\n",
      " 6   PCA-2       627591 non-null  float64\n",
      " 7   PCA-3       627591 non-null  float64\n",
      " 8   PCA-4       627591 non-null  float64\n",
      " 9   PCA-5       627591 non-null  float64\n",
      " 10  PCA-6       627591 non-null  float64\n",
      " 11  PCA-7       627591 non-null  float64\n",
      " 12  PCA-8       627591 non-null  float64\n",
      " 13  PCA-9       627591 non-null  float64\n",
      " 14  PCA-10      627591 non-null  float64\n",
      " 15  PCA-11      627591 non-null  float64\n",
      " 16  PCA-12      627591 non-null  float64\n",
      " 17  PCA-13      627591 non-null  float64\n",
      " 18  PCA-14      627591 non-null  float64\n",
      " 19  PCA-15      627591 non-null  float64\n",
      " 20  PCA-16      627591 non-null  float64\n",
      " 21  PCA-17      627591 non-null  float64\n",
      " 22  PCA-18      627591 non-null  float64\n",
      " 23  PCA-19      627591 non-null  float64\n",
      " 24  PCA-20      627591 non-null  float64\n",
      " 25  PCA-21      627591 non-null  float64\n",
      " 26  PCA-22      627591 non-null  float64\n",
      " 27  PCA-23      627591 non-null  float64\n",
      " 28  PCA-24      627591 non-null  float64\n",
      " 29  PCA-25      627591 non-null  float64\n",
      " 30  PCA-26      627591 non-null  float64\n",
      " 31  PCA-27      627591 non-null  float64\n",
      " 32  PCA-28      627591 non-null  float64\n",
      " 33  PCA-29      627591 non-null  float64\n",
      " 34  PCA-30      627591 non-null  float64\n",
      " 35  PCA-31      627591 non-null  float64\n",
      " 36  PCA-32      627591 non-null  float64\n",
      " 37  PCA-33      627591 non-null  float64\n",
      " 38  PCA-34      627591 non-null  float64\n",
      " 39  PCA-35      627591 non-null  float64\n",
      " 40  PCA-36      627591 non-null  float64\n",
      " 41  PCA-37      627591 non-null  float64\n",
      "dtypes: float64(37), int64(4), object(1)\n",
      "memory usage: 201.1+ MB\n"
     ]
    }
   ],
   "source": [
    "pc_data.info()"
   ]
  },
  {
   "cell_type": "code",
   "execution_count": 4,
   "id": "average-pennsylvania",
   "metadata": {},
   "outputs": [
    {
     "data": {
      "text/plain": [
       "['AGE',\n",
       " 'COSEXE',\n",
       " 'CTSCPI',\n",
       " 'PCA-1',\n",
       " 'PCA-2',\n",
       " 'PCA-3',\n",
       " 'PCA-4',\n",
       " 'PCA-5',\n",
       " 'PCA-6',\n",
       " 'PCA-7',\n",
       " 'PCA-8',\n",
       " 'PCA-9',\n",
       " 'PCA-10',\n",
       " 'PCA-11',\n",
       " 'PCA-12',\n",
       " 'PCA-13',\n",
       " 'PCA-14',\n",
       " 'PCA-15',\n",
       " 'PCA-16',\n",
       " 'PCA-17',\n",
       " 'PCA-18',\n",
       " 'PCA-19',\n",
       " 'PCA-20',\n",
       " 'PCA-21',\n",
       " 'PCA-22',\n",
       " 'PCA-23',\n",
       " 'PCA-24',\n",
       " 'PCA-25',\n",
       " 'PCA-26',\n",
       " 'PCA-27',\n",
       " 'PCA-28',\n",
       " 'PCA-29',\n",
       " 'PCA-30',\n",
       " 'PCA-31',\n",
       " 'PCA-32',\n",
       " 'PCA-33',\n",
       " 'PCA-34',\n",
       " 'PCA-35',\n",
       " 'PCA-36',\n",
       " 'PCA-37']"
      ]
     },
     "execution_count": 4,
     "metadata": {},
     "output_type": "execute_result"
    }
   ],
   "source": [
    "list(pc_data.columns)[2:]"
   ]
  },
  {
   "cell_type": "code",
   "execution_count": 13,
   "id": "opposed-excuse",
   "metadata": {},
   "outputs": [
    {
     "name": "stdout",
     "output_type": "stream",
     "text": [
      "1\n",
      "2\n",
      "3\n",
      "4\n",
      "5\n",
      "6\n",
      "7\n",
      "8\n",
      "9\n",
      "10\n"
     ]
    }
   ],
   "source": [
    "WCSS = list()\n",
    "for clusters in range(1, 11):\n",
    "    kmeans = KMeans(n_clusters=clusters, init='k-means++')\n",
    "    \n",
    "    # WCSS: Within Cluster Sum of Squares\n",
    "    kmeans.fit(pc_data[list(pc_data.columns)[2:]])\n",
    "    WCSS.append(kmeans.inertia_)\n",
    "    \n",
    "    print(clusters)"
   ]
  },
  {
   "cell_type": "code",
   "execution_count": 14,
   "id": "spiritual-creator",
   "metadata": {},
   "outputs": [
    {
     "data": {
      "image/png": "[encoded data removed]",
      "text/plain": [
       "<Figure size 432x288 with 1 Axes>"
      ]
     },
     "metadata": {
      "needs_background": "light"
     },
     "output_type": "display_data"
    }
   ],
   "source": [
    "plt.plot(range(1, 11), WCSS, 'bx-')\n",
    "plt.plot([2], WCSS[1], 'ro')  # c='r', marker='o'\n",
    "plt.xlabel('Number Of Clusters')\n",
    "plt.ylabel('WCSS')\n",
    "plt.savefig('../graphs/wcss-physique.svg')"
   ]
  },
  {
   "cell_type": "markdown",
   "id": "failing-courage",
   "metadata": {},
   "source": [
    "### As we can see here, the value of cluster 2 is the elbow point, therefore the number of clusters is 2."
   ]
  },
  {
   "cell_type": "code",
   "execution_count": 5,
   "id": "unlike-relationship",
   "metadata": {},
   "outputs": [
    {
     "data": {
      "text/plain": [
       "KMeans(n_clusters=2)"
      ]
     },
     "execution_count": 5,
     "metadata": {},
     "output_type": "execute_result"
    }
   ],
   "source": [
    "clusters = 2\n",
    "kmeans = KMeans(n_clusters=clusters, init='k-means++')\n",
    "kmeans.fit(pc_data[list(pc_data.columns)[2:]])"
   ]
  },
  {
   "cell_type": "code",
   "execution_count": 6,
   "id": "iraqi-split",
   "metadata": {},
   "outputs": [
    {
     "data": {
      "text/plain": [
       "array([[ 4.82937829e+01,  4.89212628e-01,  7.90045863e+03,\n",
       "        -5.83896755e-01, -1.30159550e-01, -1.81312375e-01,\n",
       "        -2.28023331e-02, -2.59741432e-03,  1.74936861e-01,\n",
       "         1.19723868e-01, -1.82472785e-02, -3.51131416e-02,\n",
       "        -4.25857456e-02, -6.10501774e-02,  6.23059465e-02,\n",
       "        -4.97127894e-03, -4.10570624e-02,  9.77639398e-03,\n",
       "         3.41944481e-02,  5.37683053e-02,  2.20877438e-04,\n",
       "        -1.55837718e-02,  4.85021744e-02, -2.00799635e-03,\n",
       "        -7.48994468e-03,  1.95821472e-02,  3.36448318e-03,\n",
       "        -1.15242625e-02,  2.28082450e-03, -8.03653674e-03,\n",
       "        -6.02647360e-03, -3.59725642e-02, -2.70973715e-02,\n",
       "        -1.36443942e-03,  2.28876506e-02, -1.20640641e-02,\n",
       "         5.57179669e-03, -3.10249112e-03,  8.47776109e-03,\n",
       "         3.42580430e-04],\n",
       "       [ 4.66171059e+01,  5.03839783e-01,  4.24684008e+03,\n",
       "         8.65569352e-01,  1.90759751e-01,  2.40159462e-01,\n",
       "         2.01240693e-02,  9.06446436e-03, -2.28559532e-01,\n",
       "        -1.65942386e-01,  1.92778213e-02,  4.63357489e-02,\n",
       "         5.85263172e-02,  7.41457673e-02, -8.42077571e-02,\n",
       "         3.06937859e-03,  5.02397491e-02, -1.68232290e-02,\n",
       "        -4.27649466e-02, -7.74580457e-02, -3.44355199e-03,\n",
       "         1.93617931e-02, -5.35257757e-02,  6.05278128e-03,\n",
       "         1.28230531e-02, -2.67471915e-02, -7.00842086e-04,\n",
       "         2.76331323e-02,  1.11798845e-03,  1.89206736e-02,\n",
       "         9.52267692e-03,  4.37083718e-02,  3.83981630e-02,\n",
       "         9.67711509e-04, -3.05774331e-02,  1.46743470e-02,\n",
       "        -1.22224321e-02,  8.66754569e-03, -8.36949277e-03,\n",
       "        -5.71565393e-04]])"
      ]
     },
     "execution_count": 6,
     "metadata": {},
     "output_type": "execute_result"
    }
   ],
   "source": [
    "# The clusters centers\n",
    "kmeans.cluster_centers_"
   ]
  },
  {
   "cell_type": "code",
   "execution_count": 7,
   "id": "established-flour",
   "metadata": {},
   "outputs": [],
   "source": [
    "pc_data['Cluster'] = kmeans.labels_"
   ]
  },
  {
   "cell_type": "code",
   "execution_count": 8,
   "id": "metric-polyester",
   "metadata": {},
   "outputs": [
    {
     "data": {
      "text/html": [
       "<div>\n",
       "<style scoped>\n",
       "    .dataframe tbody tr th:only-of-type {\n",
       "        vertical-align: middle;\n",
       "    }\n",
       "\n",
       "    .dataframe tbody tr th {\n",
       "        vertical-align: top;\n",
       "    }\n",
       "\n",
       "    .dataframe thead th {\n",
       "        text-align: right;\n",
       "    }\n",
       "</style>\n",
       "<table border=\"1\" class=\"dataframe\">\n",
       "  <thead>\n",
       "    <tr style=\"text-align: right;\">\n",
       "      <th></th>\n",
       "      <th>Unnamed: 0</th>\n",
       "      <th>COMAX</th>\n",
       "      <th>AGE</th>\n",
       "      <th>COSEXE</th>\n",
       "      <th>CTSCPI</th>\n",
       "      <th>PCA-1</th>\n",
       "      <th>PCA-2</th>\n",
       "      <th>PCA-3</th>\n",
       "      <th>PCA-4</th>\n",
       "      <th>PCA-5</th>\n",
       "      <th>...</th>\n",
       "      <th>PCA-29</th>\n",
       "      <th>PCA-30</th>\n",
       "      <th>PCA-31</th>\n",
       "      <th>PCA-32</th>\n",
       "      <th>PCA-33</th>\n",
       "      <th>PCA-34</th>\n",
       "      <th>PCA-35</th>\n",
       "      <th>PCA-36</th>\n",
       "      <th>PCA-37</th>\n",
       "      <th>Cluster</th>\n",
       "    </tr>\n",
       "  </thead>\n",
       "  <tbody>\n",
       "    <tr>\n",
       "      <th>0</th>\n",
       "      <td>0</td>\n",
       "      <td>6e3a2b9fa1</td>\n",
       "      <td>55</td>\n",
       "      <td>1</td>\n",
       "      <td>4600</td>\n",
       "      <td>-0.646623</td>\n",
       "      <td>-0.036604</td>\n",
       "      <td>2.217052</td>\n",
       "      <td>1.189677</td>\n",
       "      <td>-4.046703</td>\n",
       "      <td>...</td>\n",
       "      <td>-1.054477</td>\n",
       "      <td>0.082188</td>\n",
       "      <td>-0.801875</td>\n",
       "      <td>0.339208</td>\n",
       "      <td>-0.071603</td>\n",
       "      <td>0.864257</td>\n",
       "      <td>0.379414</td>\n",
       "      <td>-0.140253</td>\n",
       "      <td>-0.009858</td>\n",
       "      <td>1</td>\n",
       "    </tr>\n",
       "    <tr>\n",
       "      <th>1</th>\n",
       "      <td>1</td>\n",
       "      <td>1b44a67f61</td>\n",
       "      <td>41</td>\n",
       "      <td>0</td>\n",
       "      <td>4700</td>\n",
       "      <td>0.125416</td>\n",
       "      <td>1.073165</td>\n",
       "      <td>0.868038</td>\n",
       "      <td>-0.562101</td>\n",
       "      <td>-1.432925</td>\n",
       "      <td>...</td>\n",
       "      <td>-0.859818</td>\n",
       "      <td>0.367623</td>\n",
       "      <td>-0.055811</td>\n",
       "      <td>0.160076</td>\n",
       "      <td>0.196749</td>\n",
       "      <td>-0.514201</td>\n",
       "      <td>0.016502</td>\n",
       "      <td>-0.028747</td>\n",
       "      <td>-0.000648</td>\n",
       "      <td>1</td>\n",
       "    </tr>\n",
       "    <tr>\n",
       "      <th>2</th>\n",
       "      <td>4</td>\n",
       "      <td>bdf1f63a98</td>\n",
       "      <td>32</td>\n",
       "      <td>1</td>\n",
       "      <td>3500</td>\n",
       "      <td>0.348781</td>\n",
       "      <td>1.062793</td>\n",
       "      <td>1.610536</td>\n",
       "      <td>2.872877</td>\n",
       "      <td>1.810966</td>\n",
       "      <td>...</td>\n",
       "      <td>-0.215323</td>\n",
       "      <td>-0.080807</td>\n",
       "      <td>-0.432228</td>\n",
       "      <td>0.395973</td>\n",
       "      <td>0.524581</td>\n",
       "      <td>-0.378137</td>\n",
       "      <td>0.317089</td>\n",
       "      <td>0.171683</td>\n",
       "      <td>0.004463</td>\n",
       "      <td>1</td>\n",
       "    </tr>\n",
       "    <tr>\n",
       "      <th>3</th>\n",
       "      <td>6</td>\n",
       "      <td>bc9f2a4a5c</td>\n",
       "      <td>23</td>\n",
       "      <td>1</td>\n",
       "      <td>8400</td>\n",
       "      <td>0.392665</td>\n",
       "      <td>1.259812</td>\n",
       "      <td>-0.214781</td>\n",
       "      <td>0.013254</td>\n",
       "      <td>0.447652</td>\n",
       "      <td>...</td>\n",
       "      <td>1.271328</td>\n",
       "      <td>-0.727147</td>\n",
       "      <td>-0.957508</td>\n",
       "      <td>0.169303</td>\n",
       "      <td>0.410911</td>\n",
       "      <td>-0.246126</td>\n",
       "      <td>0.247796</td>\n",
       "      <td>-1.030909</td>\n",
       "      <td>-0.000723</td>\n",
       "      <td>0</td>\n",
       "    </tr>\n",
       "    <tr>\n",
       "      <th>4</th>\n",
       "      <td>8</td>\n",
       "      <td>deb8a278df</td>\n",
       "      <td>13</td>\n",
       "      <td>0</td>\n",
       "      <td>8400</td>\n",
       "      <td>-2.550140</td>\n",
       "      <td>-0.080349</td>\n",
       "      <td>0.070126</td>\n",
       "      <td>0.620882</td>\n",
       "      <td>-0.472329</td>\n",
       "      <td>...</td>\n",
       "      <td>-0.378938</td>\n",
       "      <td>0.120383</td>\n",
       "      <td>-0.135912</td>\n",
       "      <td>0.008983</td>\n",
       "      <td>-0.119032</td>\n",
       "      <td>-0.035045</td>\n",
       "      <td>-0.217251</td>\n",
       "      <td>0.098249</td>\n",
       "      <td>0.001169</td>\n",
       "      <td>0</td>\n",
       "    </tr>\n",
       "  </tbody>\n",
       "</table>\n",
       "<p>5 rows × 43 columns</p>\n",
       "</div>"
      ],
      "text/plain": [
       "   Unnamed: 0       COMAX  AGE  COSEXE  CTSCPI     PCA-1     PCA-2     PCA-3  \\\n",
       "0           0  6e3a2b9fa1   55       1    4600 -0.646623 -0.036604  2.217052   \n",
       "1           1  1b44a67f61   41       0    4700  0.125416  1.073165  0.868038   \n",
       "2           4  bdf1f63a98   32       1    3500  0.348781  1.062793  1.610536   \n",
       "3           6  bc9f2a4a5c   23       1    8400  0.392665  1.259812 -0.214781   \n",
       "4           8  deb8a278df   13       0    8400 -2.550140 -0.080349  0.070126   \n",
       "\n",
       "      PCA-4     PCA-5  ...    PCA-29    PCA-30    PCA-31    PCA-32    PCA-33  \\\n",
       "0  1.189677 -4.046703  ... -1.054477  0.082188 -0.801875  0.339208 -0.071603   \n",
       "1 -0.562101 -1.432925  ... -0.859818  0.367623 -0.055811  0.160076  0.196749   \n",
       "2  2.872877  1.810966  ... -0.215323 -0.080807 -0.432228  0.395973  0.524581   \n",
       "3  0.013254  0.447652  ...  1.271328 -0.727147 -0.957508  0.169303  0.410911   \n",
       "4  0.620882 -0.472329  ... -0.378938  0.120383 -0.135912  0.008983 -0.119032   \n",
       "\n",
       "     PCA-34    PCA-35    PCA-36    PCA-37  Cluster  \n",
       "0  0.864257  0.379414 -0.140253 -0.009858        1  \n",
       "1 -0.514201  0.016502 -0.028747 -0.000648        1  \n",
       "2 -0.378137  0.317089  0.171683  0.004463        1  \n",
       "3 -0.246126  0.247796 -1.030909 -0.000723        0  \n",
       "4 -0.035045 -0.217251  0.098249  0.001169        0  \n",
       "\n",
       "[5 rows x 43 columns]"
      ]
     },
     "execution_count": 8,
     "metadata": {},
     "output_type": "execute_result"
    }
   ],
   "source": [
    "pc_data.head()"
   ]
  },
  {
   "cell_type": "code",
   "execution_count": 9,
   "id": "optional-stevens",
   "metadata": {},
   "outputs": [
    {
     "data": {
      "text/plain": [
       "Index(['COMAX', 'AGE', 'COSEXE', 'CTSCPI', 'PCA-1', 'PCA-2', 'PCA-3', 'PCA-4',\n",
       "       'PCA-5', 'PCA-6', 'PCA-7', 'PCA-8', 'PCA-9', 'PCA-10', 'PCA-11',\n",
       "       'PCA-12', 'PCA-13', 'PCA-14', 'PCA-15', 'PCA-16', 'PCA-17', 'PCA-18',\n",
       "       'PCA-19', 'PCA-20', 'PCA-21', 'PCA-22', 'PCA-23', 'PCA-24', 'PCA-25',\n",
       "       'PCA-26', 'PCA-27', 'PCA-28', 'PCA-29', 'PCA-30', 'PCA-31', 'PCA-32',\n",
       "       'PCA-33', 'PCA-34', 'PCA-35', 'PCA-36', 'PCA-37', 'Cluster'],\n",
       "      dtype='object')"
      ]
     },
     "execution_count": 9,
     "metadata": {},
     "output_type": "execute_result"
    }
   ],
   "source": [
    "pc_data.columns[1:]"
   ]
  },
  {
   "cell_type": "code",
   "execution_count": 10,
   "id": "general-belfast",
   "metadata": {},
   "outputs": [],
   "source": [
    "pc_data[pc_data.columns[1:]].to_csv('../cleaned-data/pc-clusters.csv', sep='\\t')"
   ]
  },
  {
   "cell_type": "code",
   "execution_count": 11,
   "id": "molecular-harvard",
   "metadata": {},
   "outputs": [
    {
     "data": {
      "text/plain": [
       "0    361951\n",
       "1    265640\n",
       "Name: Cluster, dtype: int64"
      ]
     },
     "execution_count": 11,
     "metadata": {},
     "output_type": "execute_result"
    }
   ],
   "source": [
    "pc_data['Cluster'].value_counts()"
   ]
  },
  {
   "cell_type": "code",
   "execution_count": null,
   "id": "injured-adolescent",
   "metadata": {},
   "outputs": [],
   "source": []
  }
 ],
 "metadata": {
  "kernelspec": {
   "display_name": "Python 3",
   "language": "python",
   "name": "python3"
  },
  "language_info": {
   "codemirror_mode": {
    "name": "ipython",
    "version": 3
   },
   "file_extension": ".py",
   "mimetype": "text/x-python",
   "name": "python",
   "nbconvert_exporter": "python",
   "pygments_lexer": "ipython3",
   "version": "3.6.8"
  }
 },
 "nbformat": 4,
 "nbformat_minor": 5
}
