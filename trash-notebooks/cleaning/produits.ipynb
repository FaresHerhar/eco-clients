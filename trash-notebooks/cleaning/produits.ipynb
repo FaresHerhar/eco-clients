{
 "cells": [
  {
   "cell_type": "code",
   "execution_count": 1,
   "metadata": {},
   "outputs": [],
   "source": [
    "import pandas as pd\n",
    "import numpy as np"
   ]
  },
  {
   "cell_type": "code",
   "execution_count": 4,
   "metadata": {},
   "outputs": [],
   "source": [
    "df = pd.read_csv(\"../../data/CatalogueProduit.csv\", encoding=\"ISO-8859-1\", sep=\";\")"
   ]
  },
  {
   "cell_type": "code",
   "execution_count": 5,
   "metadata": {},
   "outputs": [
    {
     "data": {
      "text/plain": [
       "(2801, 14)"
      ]
     },
     "execution_count": 5,
     "metadata": {},
     "output_type": "execute_result"
    }
   ],
   "source": [
    "df.shape"
   ]
  },
  {
   "cell_type": "code",
   "execution_count": 6,
   "metadata": {},
   "outputs": [
    {
     "name": "stdout",
     "output_type": "stream",
     "text": [
      "<class 'pandas.core.frame.DataFrame'>\n",
      "RangeIndex: 2801 entries, 0 to 2800\n",
      "Data columns (total 14 columns):\n",
      " #   Column  Non-Null Count  Dtype \n",
      "---  ------  --------------  ----- \n",
      " 0   COPRO   2801 non-null   object\n",
      " 1   LIPRLG  2342 non-null   object\n",
      " 2   CTENSI  2801 non-null   object\n",
      " 3   COPRID  2801 non-null   object\n",
      " 4   COPROG  2801 non-null   object\n",
      " 5   LIPRO   2342 non-null   object\n",
      " 6   COPRG1  2801 non-null   object\n",
      " 7   LIPRG1  2800 non-null   object\n",
      " 8   COPRG2  2801 non-null   object\n",
      " 9   LIPRG2  2800 non-null   object\n",
      " 10  COPRG3  2801 non-null   object\n",
      " 11  LIPRG3  2800 non-null   object\n",
      " 12  COPRG4  2801 non-null   object\n",
      " 13  LIPRG4  2800 non-null   object\n",
      "dtypes: object(14)\n",
      "memory usage: 306.5+ KB\n"
     ]
    }
   ],
   "source": [
    "df.info()"
   ]
  },
  {
   "cell_type": "code",
   "execution_count": 7,
   "metadata": {},
   "outputs": [
    {
     "data": {
      "text/html": [
       "<div>\n",
       "<style scoped>\n",
       "    .dataframe tbody tr th:only-of-type {\n",
       "        vertical-align: middle;\n",
       "    }\n",
       "\n",
       "    .dataframe tbody tr th {\n",
       "        vertical-align: top;\n",
       "    }\n",
       "\n",
       "    .dataframe thead th {\n",
       "        text-align: right;\n",
       "    }\n",
       "</style>\n",
       "<table border=\"1\" class=\"dataframe\">\n",
       "  <thead>\n",
       "    <tr style=\"text-align: right;\">\n",
       "      <th></th>\n",
       "      <th>COPRO</th>\n",
       "      <th>LIPRLG</th>\n",
       "      <th>CTENSI</th>\n",
       "      <th>COPRID</th>\n",
       "      <th>COPROG</th>\n",
       "      <th>LIPRO</th>\n",
       "      <th>COPRG1</th>\n",
       "      <th>LIPRG1</th>\n",
       "      <th>COPRG2</th>\n",
       "      <th>LIPRG2</th>\n",
       "      <th>COPRG3</th>\n",
       "      <th>LIPRG3</th>\n",
       "      <th>COPRG4</th>\n",
       "      <th>LIPRG4</th>\n",
       "    </tr>\n",
       "  </thead>\n",
       "  <tbody>\n",
       "    <tr>\n",
       "      <th>0</th>\n",
       "      <td>07018</td>\n",
       "      <td>FREQUENCE PRO STOCK OUEST SOCIETE</td>\n",
       "      <td>CNV</td>\n",
       "      <td>0000005</td>\n",
       "      <td>I1221</td>\n",
       "      <td>CONV FREQ PRO</td>\n",
       "      <td>I0000</td>\n",
       "      <td>SERVICES BANCAIRES</td>\n",
       "      <td>I1000</td>\n",
       "      <td>CONVENTIONS</td>\n",
       "      <td>I1200</td>\n",
       "      <td>CONVENTIONS DE RELATION</td>\n",
       "      <td>I1220</td>\n",
       "      <td>CONVENTIONS PROFESSIONNELS</td>\n",
       "    </tr>\n",
       "  </tbody>\n",
       "</table>\n",
       "</div>"
      ],
      "text/plain": [
       "   COPRO                             LIPRLG CTENSI   COPRID COPROG  \\\n",
       "0  07018  FREQUENCE PRO STOCK OUEST SOCIETE    CNV  0000005  I1221   \n",
       "\n",
       "           LIPRO COPRG1              LIPRG1 COPRG2       LIPRG2 COPRG3  \\\n",
       "0  CONV FREQ PRO  I0000  SERVICES BANCAIRES  I1000  CONVENTIONS  I1200   \n",
       "\n",
       "                    LIPRG3 COPRG4                      LIPRG4  \n",
       "0  CONVENTIONS DE RELATION  I1220  CONVENTIONS PROFESSIONNELS  "
      ]
     },
     "execution_count": 7,
     "metadata": {},
     "output_type": "execute_result"
    }
   ],
   "source": [
    "df.head(n=1)"
   ]
  },
  {
   "cell_type": "code",
   "execution_count": 8,
   "metadata": {},
   "outputs": [
    {
     "data": {
      "text/plain": [
       "2343"
      ]
     },
     "execution_count": 8,
     "metadata": {},
     "output_type": "execute_result"
    }
   ],
   "source": [
    "df[\"COPRO\"].nunique()"
   ]
  },
  {
   "cell_type": "code",
   "execution_count": 9,
   "metadata": {},
   "outputs": [
    {
     "data": {
      "text/plain": [
       "915"
      ]
     },
     "execution_count": 9,
     "metadata": {},
     "output_type": "execute_result"
    }
   ],
   "source": [
    "df[\"COPROG\"].nunique()"
   ]
  },
  {
   "cell_type": "code",
   "execution_count": 10,
   "metadata": {},
   "outputs": [
    {
     "data": {
      "text/plain": [
       "array(['FREQUENCE PRO STOCK OUEST SOCIETE', 'FREQUENCE LIBERALE BPS',\n",
       "       'FREQUENCE PRO 2 STOCK BPPOAA', ..., 'FR SELECTION CAPI',\n",
       "       'EFFETS A PAYER', 'Carte Visa business Electron'], dtype=object)"
      ]
     },
     "execution_count": 10,
     "metadata": {},
     "output_type": "execute_result"
    }
   ],
   "source": [
    "df[\"LIPRLG\"].unique()"
   ]
  },
  {
   "cell_type": "code",
   "execution_count": 11,
   "metadata": {},
   "outputs": [
    {
     "name": "stdout",
     "output_type": "stream",
     "text": [
      "CB_FI\n",
      "     \n"
     ]
    }
   ],
   "source": [
    "for i in df['COPRO'].unique():\n",
    "    if not i.isdigit():\n",
    "        print(i)"
   ]
  },
  {
   "cell_type": "code",
   "execution_count": 12,
   "metadata": {},
   "outputs": [
    {
     "data": {
      "text/html": [
       "<div>\n",
       "<style scoped>\n",
       "    .dataframe tbody tr th:only-of-type {\n",
       "        vertical-align: middle;\n",
       "    }\n",
       "\n",
       "    .dataframe tbody tr th {\n",
       "        vertical-align: top;\n",
       "    }\n",
       "\n",
       "    .dataframe thead th {\n",
       "        text-align: right;\n",
       "    }\n",
       "</style>\n",
       "<table border=\"1\" class=\"dataframe\">\n",
       "  <thead>\n",
       "    <tr style=\"text-align: right;\">\n",
       "      <th></th>\n",
       "      <th>COPRO</th>\n",
       "      <th>LIPRLG</th>\n",
       "      <th>CTENSI</th>\n",
       "      <th>COPRID</th>\n",
       "      <th>COPROG</th>\n",
       "      <th>LIPRO</th>\n",
       "      <th>COPRG1</th>\n",
       "      <th>LIPRG1</th>\n",
       "      <th>COPRG2</th>\n",
       "      <th>LIPRG2</th>\n",
       "      <th>COPRG3</th>\n",
       "      <th>LIPRG3</th>\n",
       "      <th>COPRG4</th>\n",
       "      <th>LIPRG4</th>\n",
       "    </tr>\n",
       "  </thead>\n",
       "  <tbody>\n",
       "    <tr>\n",
       "      <th>1270</th>\n",
       "      <td>CB_FI</td>\n",
       "      <td>DIFFERE CARTE BANCAIRE</td>\n",
       "      <td></td>\n",
       "      <td></td>\n",
       "      <td>G3411</td>\n",
       "      <td>DIFFERES CARTES BANCAIRES</td>\n",
       "      <td>G0000</td>\n",
       "      <td>CREDITS</td>\n",
       "      <td>G3000</td>\n",
       "      <td>CREDITS CONSOMMATION</td>\n",
       "      <td>G3400</td>\n",
       "      <td>DEBIT DIFFERE CARTES</td>\n",
       "      <td>G3410</td>\n",
       "      <td>DEBIT DIFFERE CARTES</td>\n",
       "    </tr>\n",
       "  </tbody>\n",
       "</table>\n",
       "</div>"
      ],
      "text/plain": [
       "      COPRO                  LIPRLG CTENSI   COPRID COPROG  \\\n",
       "1270  CB_FI  DIFFERE CARTE BANCAIRE                  G3411   \n",
       "\n",
       "                          LIPRO COPRG1   LIPRG1 COPRG2                LIPRG2  \\\n",
       "1270  DIFFERES CARTES BANCAIRES  G0000  CREDITS  G3000  CREDITS CONSOMMATION   \n",
       "\n",
       "     COPRG3                LIPRG3 COPRG4                LIPRG4  \n",
       "1270  G3400  DEBIT DIFFERE CARTES  G3410  DEBIT DIFFERE CARTES  "
      ]
     },
     "execution_count": 12,
     "metadata": {},
     "output_type": "execute_result"
    }
   ],
   "source": [
    "df[df.COPRO == 'CB_FI']"
   ]
  },
  {
   "cell_type": "code",
   "execution_count": 13,
   "metadata": {},
   "outputs": [],
   "source": [
    "df = df.drop(df.index[1270])"
   ]
  },
  {
   "cell_type": "code",
   "execution_count": 14,
   "metadata": {},
   "outputs": [
    {
     "data": {
      "text/html": [
       "<div>\n",
       "<style scoped>\n",
       "    .dataframe tbody tr th:only-of-type {\n",
       "        vertical-align: middle;\n",
       "    }\n",
       "\n",
       "    .dataframe tbody tr th {\n",
       "        vertical-align: top;\n",
       "    }\n",
       "\n",
       "    .dataframe thead th {\n",
       "        text-align: right;\n",
       "    }\n",
       "</style>\n",
       "<table border=\"1\" class=\"dataframe\">\n",
       "  <thead>\n",
       "    <tr style=\"text-align: right;\">\n",
       "      <th></th>\n",
       "      <th>COPRO</th>\n",
       "      <th>LIPRLG</th>\n",
       "      <th>CTENSI</th>\n",
       "      <th>COPRID</th>\n",
       "      <th>COPROG</th>\n",
       "      <th>LIPRO</th>\n",
       "      <th>COPRG1</th>\n",
       "      <th>LIPRG1</th>\n",
       "      <th>COPRG2</th>\n",
       "      <th>LIPRG2</th>\n",
       "      <th>COPRG3</th>\n",
       "      <th>LIPRG3</th>\n",
       "      <th>COPRG4</th>\n",
       "      <th>LIPRG4</th>\n",
       "    </tr>\n",
       "  </thead>\n",
       "  <tbody>\n",
       "  </tbody>\n",
       "</table>\n",
       "</div>"
      ],
      "text/plain": [
       "Empty DataFrame\n",
       "Columns: [COPRO, LIPRLG, CTENSI, COPRID, COPROG, LIPRO, COPRG1, LIPRG1, COPRG2, LIPRG2, COPRG3, LIPRG3, COPRG4, LIPRG4]\n",
       "Index: []"
      ]
     },
     "execution_count": 14,
     "metadata": {},
     "output_type": "execute_result"
    }
   ],
   "source": [
    "df[df.COPRO == 'CB_FI']"
   ]
  },
  {
   "cell_type": "code",
   "execution_count": 15,
   "metadata": {},
   "outputs": [
    {
     "data": {
      "text/plain": [
       "(2800, 14)"
      ]
     },
     "execution_count": 15,
     "metadata": {},
     "output_type": "execute_result"
    }
   ],
   "source": [
    "df.shape"
   ]
  },
  {
   "cell_type": "code",
   "execution_count": 16,
   "metadata": {},
   "outputs": [],
   "source": [
    "#df['COPRO'].astype(int)"
   ]
  },
  {
   "cell_type": "code",
   "execution_count": 17,
   "metadata": {},
   "outputs": [],
   "source": [
    "lol = list()\n",
    "for i in df['COPRO'].unique():\n",
    "    if not i.isdigit():\n",
    "        lol.append(i)"
   ]
  },
  {
   "cell_type": "code",
   "execution_count": 18,
   "metadata": {},
   "outputs": [],
   "source": [
    "df['COPRO'].replace(lol, np.nan, inplace=True)"
   ]
  },
  {
   "cell_type": "code",
   "execution_count": 19,
   "metadata": {},
   "outputs": [],
   "source": [
    "df['COPROG'].replace(lol, np.nan, inplace=True)"
   ]
  },
  {
   "cell_type": "code",
   "execution_count": 20,
   "metadata": {},
   "outputs": [],
   "source": [
    "df.dropna(subset=['COPRO'], inplace=True)\n",
    "df.dropna(subset=['COPROG'], inplace=True)"
   ]
  },
  {
   "cell_type": "code",
   "execution_count": 21,
   "metadata": {},
   "outputs": [
    {
     "data": {
      "text/plain": [
       "(2341, 14)"
      ]
     },
     "execution_count": 21,
     "metadata": {},
     "output_type": "execute_result"
    }
   ],
   "source": [
    "df.shape"
   ]
  },
  {
   "cell_type": "code",
   "execution_count": 22,
   "metadata": {},
   "outputs": [
    {
     "data": {
      "text/plain": [
       "0        7018\n",
       "1        2116\n",
       "2        2019\n",
       "3        2115\n",
       "4        2018\n",
       "        ...  \n",
       "2796     7614\n",
       "2797    74291\n",
       "2798      692\n",
       "2799      653\n",
       "2800      872\n",
       "Name: COPRO, Length: 2341, dtype: int64"
      ]
     },
     "execution_count": 22,
     "metadata": {},
     "output_type": "execute_result"
    }
   ],
   "source": [
    "df['COPRO'].astype(int)"
   ]
  },
  {
   "cell_type": "code",
   "execution_count": 29,
   "metadata": {},
   "outputs": [
    {
     "data": {
      "text/html": [
       "<div>\n",
       "<style scoped>\n",
       "    .dataframe tbody tr th:only-of-type {\n",
       "        vertical-align: middle;\n",
       "    }\n",
       "\n",
       "    .dataframe tbody tr th {\n",
       "        vertical-align: top;\n",
       "    }\n",
       "\n",
       "    .dataframe thead th {\n",
       "        text-align: right;\n",
       "    }\n",
       "</style>\n",
       "<table border=\"1\" class=\"dataframe\">\n",
       "  <thead>\n",
       "    <tr style=\"text-align: right;\">\n",
       "      <th></th>\n",
       "      <th>COPRO</th>\n",
       "      <th>LIPRLG</th>\n",
       "      <th>CTENSI</th>\n",
       "      <th>COPRID</th>\n",
       "      <th>COPROG</th>\n",
       "      <th>LIPRO</th>\n",
       "      <th>COPRG1</th>\n",
       "      <th>LIPRG1</th>\n",
       "      <th>COPRG2</th>\n",
       "      <th>LIPRG2</th>\n",
       "      <th>COPRG3</th>\n",
       "      <th>LIPRG3</th>\n",
       "      <th>COPRG4</th>\n",
       "      <th>LIPRG4</th>\n",
       "    </tr>\n",
       "  </thead>\n",
       "  <tbody>\n",
       "    <tr>\n",
       "      <th>0</th>\n",
       "      <td>07018</td>\n",
       "      <td>FREQUENCE PRO STOCK OUEST SOCIETE</td>\n",
       "      <td>CNV</td>\n",
       "      <td>0000005</td>\n",
       "      <td>I1221</td>\n",
       "      <td>CONV FREQ PRO</td>\n",
       "      <td>I0000</td>\n",
       "      <td>SERVICES BANCAIRES</td>\n",
       "      <td>I1000</td>\n",
       "      <td>CONVENTIONS</td>\n",
       "      <td>I1200</td>\n",
       "      <td>CONVENTIONS DE RELATION</td>\n",
       "      <td>I1220</td>\n",
       "      <td>CONVENTIONS PROFESSIONNELS</td>\n",
       "    </tr>\n",
       "    <tr>\n",
       "      <th>1</th>\n",
       "      <td>02116</td>\n",
       "      <td>FREQUENCE LIBERALE BPS</td>\n",
       "      <td>CNV</td>\n",
       "      <td>0000007</td>\n",
       "      <td>I1221</td>\n",
       "      <td>CONV FREQ PRO</td>\n",
       "      <td>I0000</td>\n",
       "      <td>SERVICES BANCAIRES</td>\n",
       "      <td>I1000</td>\n",
       "      <td>CONVENTIONS</td>\n",
       "      <td>I1200</td>\n",
       "      <td>CONVENTIONS DE RELATION</td>\n",
       "      <td>I1220</td>\n",
       "      <td>CONVENTIONS PROFESSIONNELS</td>\n",
       "    </tr>\n",
       "    <tr>\n",
       "      <th>2</th>\n",
       "      <td>02019</td>\n",
       "      <td>FREQUENCE PRO 2 STOCK BPPOAA</td>\n",
       "      <td>CNV</td>\n",
       "      <td>0000102</td>\n",
       "      <td>I1221</td>\n",
       "      <td>CONV FREQ PRO</td>\n",
       "      <td>I0000</td>\n",
       "      <td>SERVICES BANCAIRES</td>\n",
       "      <td>I1000</td>\n",
       "      <td>CONVENTIONS</td>\n",
       "      <td>I1200</td>\n",
       "      <td>CONVENTIONS DE RELATION</td>\n",
       "      <td>I1220</td>\n",
       "      <td>CONVENTIONS PROFESSIONNELS</td>\n",
       "    </tr>\n",
       "    <tr>\n",
       "      <th>3</th>\n",
       "      <td>02115</td>\n",
       "      <td>FREQUENCE PRO BPS</td>\n",
       "      <td>CNV</td>\n",
       "      <td>0000112</td>\n",
       "      <td>I1221</td>\n",
       "      <td>CONV FREQ PRO</td>\n",
       "      <td>I0000</td>\n",
       "      <td>SERVICES BANCAIRES</td>\n",
       "      <td>I1000</td>\n",
       "      <td>CONVENTIONS</td>\n",
       "      <td>I1200</td>\n",
       "      <td>CONVENTIONS DE RELATION</td>\n",
       "      <td>I1220</td>\n",
       "      <td>CONVENTIONS PROFESSIONNELS</td>\n",
       "    </tr>\n",
       "    <tr>\n",
       "      <th>4</th>\n",
       "      <td>02018</td>\n",
       "      <td>FREQUENCE PRO 1 STOCK BPPOAA</td>\n",
       "      <td>CNV</td>\n",
       "      <td>0000101</td>\n",
       "      <td>I1221</td>\n",
       "      <td>CONV FREQ PRO</td>\n",
       "      <td>I0000</td>\n",
       "      <td>SERVICES BANCAIRES</td>\n",
       "      <td>I1000</td>\n",
       "      <td>CONVENTIONS</td>\n",
       "      <td>I1200</td>\n",
       "      <td>CONVENTIONS DE RELATION</td>\n",
       "      <td>I1220</td>\n",
       "      <td>CONVENTIONS PROFESSIONNELS</td>\n",
       "    </tr>\n",
       "    <tr>\n",
       "      <th>...</th>\n",
       "      <td>...</td>\n",
       "      <td>...</td>\n",
       "      <td>...</td>\n",
       "      <td>...</td>\n",
       "      <td>...</td>\n",
       "      <td>...</td>\n",
       "      <td>...</td>\n",
       "      <td>...</td>\n",
       "      <td>...</td>\n",
       "      <td>...</td>\n",
       "      <td>...</td>\n",
       "      <td>...</td>\n",
       "      <td>...</td>\n",
       "      <td>...</td>\n",
       "    </tr>\n",
       "    <tr>\n",
       "      <th>2796</th>\n",
       "      <td>07614</td>\n",
       "      <td>LIVRET EPARGNE LOGEMENT</td>\n",
       "      <td>CPT</td>\n",
       "      <td>070</td>\n",
       "      <td>B2215</td>\n",
       "      <td>COMPTES D EPARGNE LOGEMENT (CEL)</td>\n",
       "      <td>B0000</td>\n",
       "      <td>DEPOTS MONETAIRES</td>\n",
       "      <td>B2000</td>\n",
       "      <td>EPARGNE MONETAIRE LIQUIDE</td>\n",
       "      <td>B2200</td>\n",
       "      <td>LIVRETS REGLEMENTES</td>\n",
       "      <td>B2210</td>\n",
       "      <td>LIVRETS REGLEMENTES</td>\n",
       "    </tr>\n",
       "    <tr>\n",
       "      <th>2797</th>\n",
       "      <td>74291</td>\n",
       "      <td>COMPTE EPARGNE LOGEMENT</td>\n",
       "      <td>GEP</td>\n",
       "      <td>0704291</td>\n",
       "      <td>B2215</td>\n",
       "      <td>COMPTES D EPARGNE LOGEMENT (CEL)</td>\n",
       "      <td>B0000</td>\n",
       "      <td>DEPOTS MONETAIRES</td>\n",
       "      <td>B2000</td>\n",
       "      <td>EPARGNE MONETAIRE LIQUIDE</td>\n",
       "      <td>B2200</td>\n",
       "      <td>LIVRETS REGLEMENTES</td>\n",
       "      <td>B2210</td>\n",
       "      <td>LIVRETS REGLEMENTES</td>\n",
       "    </tr>\n",
       "    <tr>\n",
       "      <th>2798</th>\n",
       "      <td>00692</td>\n",
       "      <td>FR SELECTION CAPI</td>\n",
       "      <td>ASV</td>\n",
       "      <td>109X6</td>\n",
       "      <td>D1412</td>\n",
       "      <td>FSV CAPI MSU</td>\n",
       "      <td>D0000</td>\n",
       "      <td>ASV EPARGNE</td>\n",
       "      <td>D1000</td>\n",
       "      <td>EPARGNE INDIVIDUELLE</td>\n",
       "      <td>D1400</td>\n",
       "      <td>EPARGNE INDIVIDUEL MSU CAPI</td>\n",
       "      <td>D1410</td>\n",
       "      <td>EPARGNE INDIVIDUELLE CAPI MSU FISCALITE CLASSIQUE</td>\n",
       "    </tr>\n",
       "    <tr>\n",
       "      <th>2799</th>\n",
       "      <td>00653</td>\n",
       "      <td>EFFETS A PAYER</td>\n",
       "      <td>DOM</td>\n",
       "      <td>CPT</td>\n",
       "      <td>I3611</td>\n",
       "      <td>EFFET TIRE</td>\n",
       "      <td>I0000</td>\n",
       "      <td>SERVICES BANCAIRES</td>\n",
       "      <td>I3000</td>\n",
       "      <td>AUTRES MOYENS DE PAIEMENT</td>\n",
       "      <td>I3600</td>\n",
       "      <td>EFFETS DE COMMERCE</td>\n",
       "      <td>I3610</td>\n",
       "      <td>EFFETS DE COMMERCE</td>\n",
       "    </tr>\n",
       "    <tr>\n",
       "      <th>2800</th>\n",
       "      <td>00872</td>\n",
       "      <td>Carte Visa business Electron</td>\n",
       "      <td>GFC</td>\n",
       "      <td>5BI</td>\n",
       "      <td>I2211</td>\n",
       "      <td>CB VISA B ELEC</td>\n",
       "      <td>I0000</td>\n",
       "      <td>SERVICES BANCAIRES</td>\n",
       "      <td>I2000</td>\n",
       "      <td>MONETIQUE / CART</td>\n",
       "      <td>I2200</td>\n",
       "      <td>CARTES PROFESSIONNELLES</td>\n",
       "      <td>I2210</td>\n",
       "      <td>CB PRO AUTORISATION SYSTEMATIQUE</td>\n",
       "    </tr>\n",
       "  </tbody>\n",
       "</table>\n",
       "<p>2341 rows × 14 columns</p>\n",
       "</div>"
      ],
      "text/plain": [
       "      COPRO                             LIPRLG CTENSI   COPRID COPROG  \\\n",
       "0     07018  FREQUENCE PRO STOCK OUEST SOCIETE    CNV  0000005  I1221   \n",
       "1     02116             FREQUENCE LIBERALE BPS    CNV  0000007  I1221   \n",
       "2     02019       FREQUENCE PRO 2 STOCK BPPOAA    CNV  0000102  I1221   \n",
       "3     02115                  FREQUENCE PRO BPS    CNV  0000112  I1221   \n",
       "4     02018       FREQUENCE PRO 1 STOCK BPPOAA    CNV  0000101  I1221   \n",
       "...     ...                                ...    ...      ...    ...   \n",
       "2796  07614            LIVRET EPARGNE LOGEMENT    CPT  070      B2215   \n",
       "2797  74291            COMPTE EPARGNE LOGEMENT    GEP  0704291  B2215   \n",
       "2798  00692                  FR SELECTION CAPI    ASV  109X6    D1412   \n",
       "2799  00653                     EFFETS A PAYER    DOM  CPT      I3611   \n",
       "2800  00872       Carte Visa business Electron    GFC  5BI      I2211   \n",
       "\n",
       "                                 LIPRO COPRG1              LIPRG1 COPRG2  \\\n",
       "0                        CONV FREQ PRO  I0000  SERVICES BANCAIRES  I1000   \n",
       "1                        CONV FREQ PRO  I0000  SERVICES BANCAIRES  I1000   \n",
       "2                        CONV FREQ PRO  I0000  SERVICES BANCAIRES  I1000   \n",
       "3                        CONV FREQ PRO  I0000  SERVICES BANCAIRES  I1000   \n",
       "4                        CONV FREQ PRO  I0000  SERVICES BANCAIRES  I1000   \n",
       "...                                ...    ...                 ...    ...   \n",
       "2796  COMPTES D EPARGNE LOGEMENT (CEL)  B0000   DEPOTS MONETAIRES  B2000   \n",
       "2797  COMPTES D EPARGNE LOGEMENT (CEL)  B0000   DEPOTS MONETAIRES  B2000   \n",
       "2798                      FSV CAPI MSU  D0000         ASV EPARGNE  D1000   \n",
       "2799                        EFFET TIRE  I0000  SERVICES BANCAIRES  I3000   \n",
       "2800                    CB VISA B ELEC  I0000  SERVICES BANCAIRES  I2000   \n",
       "\n",
       "                         LIPRG2 COPRG3                       LIPRG3 COPRG4  \\\n",
       "0                   CONVENTIONS  I1200      CONVENTIONS DE RELATION  I1220   \n",
       "1                   CONVENTIONS  I1200      CONVENTIONS DE RELATION  I1220   \n",
       "2                   CONVENTIONS  I1200      CONVENTIONS DE RELATION  I1220   \n",
       "3                   CONVENTIONS  I1200      CONVENTIONS DE RELATION  I1220   \n",
       "4                   CONVENTIONS  I1200      CONVENTIONS DE RELATION  I1220   \n",
       "...                         ...    ...                          ...    ...   \n",
       "2796  EPARGNE MONETAIRE LIQUIDE  B2200          LIVRETS REGLEMENTES  B2210   \n",
       "2797  EPARGNE MONETAIRE LIQUIDE  B2200          LIVRETS REGLEMENTES  B2210   \n",
       "2798       EPARGNE INDIVIDUELLE  D1400  EPARGNE INDIVIDUEL MSU CAPI  D1410   \n",
       "2799  AUTRES MOYENS DE PAIEMENT  I3600           EFFETS DE COMMERCE  I3610   \n",
       "2800           MONETIQUE / CART  I2200      CARTES PROFESSIONNELLES  I2210   \n",
       "\n",
       "                                                 LIPRG4  \n",
       "0                            CONVENTIONS PROFESSIONNELS  \n",
       "1                            CONVENTIONS PROFESSIONNELS  \n",
       "2                            CONVENTIONS PROFESSIONNELS  \n",
       "3                            CONVENTIONS PROFESSIONNELS  \n",
       "4                            CONVENTIONS PROFESSIONNELS  \n",
       "...                                                 ...  \n",
       "2796                                LIVRETS REGLEMENTES  \n",
       "2797                                LIVRETS REGLEMENTES  \n",
       "2798  EPARGNE INDIVIDUELLE CAPI MSU FISCALITE CLASSIQUE  \n",
       "2799                                 EFFETS DE COMMERCE  \n",
       "2800                   CB PRO AUTORISATION SYSTEMATIQUE  \n",
       "\n",
       "[2341 rows x 14 columns]"
      ]
     },
     "execution_count": 29,
     "metadata": {},
     "output_type": "execute_result"
    }
   ],
   "source": [
    "df"
   ]
  },
  {
   "cell_type": "code",
   "execution_count": 26,
   "metadata": {},
   "outputs": [],
   "source": [
    "df[[\"COPRO\", \"COPROG\"]].to_csv(\"../../cleaned-data/cleaned/products.csv\", index=False, sep=\"\\t\")"
   ]
  },
  {
   "cell_type": "code",
   "execution_count": 27,
   "metadata": {},
   "outputs": [],
   "source": [
    "shit = pd.read_csv(\"../../cleaned-data/cleaned/products.csv\", encoding=\"ISO-8859-1\", sep=\"\\t\")"
   ]
  },
  {
   "cell_type": "code",
   "execution_count": 28,
   "metadata": {},
   "outputs": [
    {
     "name": "stdout",
     "output_type": "stream",
     "text": [
      "<class 'pandas.core.frame.DataFrame'>\n",
      "RangeIndex: 2341 entries, 0 to 2340\n",
      "Data columns (total 2 columns):\n",
      " #   Column  Non-Null Count  Dtype \n",
      "---  ------  --------------  ----- \n",
      " 0   COPRO   2341 non-null   int64 \n",
      " 1   COPROG  2341 non-null   object\n",
      "dtypes: int64(1), object(1)\n",
      "memory usage: 36.7+ KB\n"
     ]
    }
   ],
   "source": [
    "shit.info()"
   ]
  },
  {
   "cell_type": "code",
   "execution_count": null,
   "metadata": {},
   "outputs": [],
   "source": []
  }
 ],
 "metadata": {
  "kernelspec": {
   "display_name": "Python 3",
   "language": "python",
   "name": "python3"
  },
  "language_info": {
   "codemirror_mode": {
    "name": "ipython",
    "version": 3
   },
   "file_extension": ".py",
   "mimetype": "text/x-python",
   "name": "python",
   "nbconvert_exporter": "python",
   "pygments_lexer": "ipython3",
   "version": "3.8.5"
  }
 },
 "nbformat": 4,
 "nbformat_minor": 2
}
