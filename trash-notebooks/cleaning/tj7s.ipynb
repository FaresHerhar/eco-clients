{
 "cells": [
  {
   "cell_type": "code",
   "execution_count": 1,
   "metadata": {},
   "outputs": [],
   "source": [
    "import pandas as pd"
   ]
  },
  {
   "cell_type": "code",
   "execution_count": 35,
   "metadata": {},
   "outputs": [],
   "source": [
    "df = pd.read_csv(\"../../data/tj7s.csv\", encoding=\"ISO-8859-1\", sep=\";\", low_memory=False)"
   ]
  },
  {
   "cell_type": "code",
   "execution_count": 36,
   "metadata": {},
   "outputs": [
    {
     "data": {
      "text/plain": [
       "(33329627, 12)"
      ]
     },
     "execution_count": 36,
     "metadata": {},
     "output_type": "execute_result"
    }
   ],
   "source": [
    "df.shape"
   ]
  },
  {
   "cell_type": "code",
   "execution_count": 38,
   "metadata": {},
   "outputs": [
    {
     "name": "stdout",
     "output_type": "stream",
     "text": [
      "<class 'pandas.core.frame.DataFrame'>\n",
      "RangeIndex: 33329627 entries, 0 to 33329626\n",
      "Data columns (total 12 columns):\n",
      " #   Column  Dtype \n",
      "---  ------  ----- \n",
      " 0   COCO    object\n",
      " 1   COMAX   object\n",
      " 2   DDCO    object\n",
      " 3   DFCO    object\n",
      " 4   DACOEF  object\n",
      " 5   DFCORE  object\n",
      " 6   COPRO   object\n",
      " 7   CTCOOV  object\n",
      " 8   CTCOCL  object\n",
      " 9   DDVALE  object\n",
      " 10  DFVALE  object\n",
      " 11  CESITC  int64 \n",
      "dtypes: int64(1), object(11)\n",
      "memory usage: 3.0+ GB\n"
     ]
    }
   ],
   "source": [
    "df.info()"
   ]
  },
  {
   "cell_type": "code",
   "execution_count": 39,
   "metadata": {},
   "outputs": [
    {
     "data": {
      "text/html": [
       "<div>\n",
       "<style scoped>\n",
       "    .dataframe tbody tr th:only-of-type {\n",
       "        vertical-align: middle;\n",
       "    }\n",
       "\n",
       "    .dataframe tbody tr th {\n",
       "        vertical-align: top;\n",
       "    }\n",
       "\n",
       "    .dataframe thead th {\n",
       "        text-align: right;\n",
       "    }\n",
       "</style>\n",
       "<table border=\"1\" class=\"dataframe\">\n",
       "  <thead>\n",
       "    <tr style=\"text-align: right;\">\n",
       "      <th></th>\n",
       "      <th>COCO</th>\n",
       "      <th>COMAX</th>\n",
       "      <th>DDCO</th>\n",
       "      <th>DFCO</th>\n",
       "      <th>DACOEF</th>\n",
       "      <th>DFCORE</th>\n",
       "      <th>COPRO</th>\n",
       "      <th>CTCOOV</th>\n",
       "      <th>CTCOCL</th>\n",
       "      <th>DDVALE</th>\n",
       "      <th>DFVALE</th>\n",
       "      <th>CESITC</th>\n",
       "    </tr>\n",
       "  </thead>\n",
       "  <tbody>\n",
       "    <tr>\n",
       "      <th>0</th>\n",
       "      <td>5856256c8621c</td>\n",
       "      <td>a4375be9c2</td>\n",
       "      <td>2018-02-15</td>\n",
       "      <td>9999-12-31</td>\n",
       "      <td>2018-02-15</td>\n",
       "      <td>9999-12-31</td>\n",
       "      <td>00049</td>\n",
       "      <td>00</td>\n",
       "      <td></td>\n",
       "      <td>2018-02-15</td>\n",
       "      <td>9999-01-01</td>\n",
       "      <td>1</td>\n",
       "    </tr>\n",
       "    <tr>\n",
       "      <th>1</th>\n",
       "      <td>43e166b8ec1bf</td>\n",
       "      <td>ac68753a67</td>\n",
       "      <td>2016-01-22</td>\n",
       "      <td>9999-12-31</td>\n",
       "      <td>2016-01-22</td>\n",
       "      <td>9999-12-31</td>\n",
       "      <td>00049</td>\n",
       "      <td>00</td>\n",
       "      <td></td>\n",
       "      <td>2016-01-22</td>\n",
       "      <td>9999-01-01</td>\n",
       "      <td>1</td>\n",
       "    </tr>\n",
       "    <tr>\n",
       "      <th>2</th>\n",
       "      <td>a33abb28b2dd1</td>\n",
       "      <td>e78af2a187</td>\n",
       "      <td>2015-08-19</td>\n",
       "      <td>9999-12-31</td>\n",
       "      <td>2015-08-19</td>\n",
       "      <td>9999-12-31</td>\n",
       "      <td>00049</td>\n",
       "      <td>00</td>\n",
       "      <td></td>\n",
       "      <td>2015-08-19</td>\n",
       "      <td>9999-01-01</td>\n",
       "      <td>1</td>\n",
       "    </tr>\n",
       "    <tr>\n",
       "      <th>3</th>\n",
       "      <td>5923b9ac46620</td>\n",
       "      <td>730c4c47c5</td>\n",
       "      <td>2017-12-15</td>\n",
       "      <td>9999-12-31</td>\n",
       "      <td>2017-12-15</td>\n",
       "      <td>9999-12-31</td>\n",
       "      <td>00049</td>\n",
       "      <td>00</td>\n",
       "      <td></td>\n",
       "      <td>2017-12-15</td>\n",
       "      <td>9999-01-01</td>\n",
       "      <td>1</td>\n",
       "    </tr>\n",
       "    <tr>\n",
       "      <th>4</th>\n",
       "      <td>b943bf9d03817</td>\n",
       "      <td>e31986ce26</td>\n",
       "      <td>2012-09-12</td>\n",
       "      <td>9999-12-31</td>\n",
       "      <td>2012-09-12</td>\n",
       "      <td>9999-12-31</td>\n",
       "      <td>00049</td>\n",
       "      <td>00</td>\n",
       "      <td></td>\n",
       "      <td>2012-09-12</td>\n",
       "      <td>9999-01-01</td>\n",
       "      <td>1</td>\n",
       "    </tr>\n",
       "  </tbody>\n",
       "</table>\n",
       "</div>"
      ],
      "text/plain": [
       "            COCO       COMAX        DDCO        DFCO      DACOEF      DFCORE  \\\n",
       "0  5856256c8621c  a4375be9c2  2018-02-15  9999-12-31  2018-02-15  9999-12-31   \n",
       "1  43e166b8ec1bf  ac68753a67  2016-01-22  9999-12-31  2016-01-22  9999-12-31   \n",
       "2  a33abb28b2dd1  e78af2a187  2015-08-19  9999-12-31  2015-08-19  9999-12-31   \n",
       "3  5923b9ac46620  730c4c47c5  2017-12-15  9999-12-31  2017-12-15  9999-12-31   \n",
       "4  b943bf9d03817  e31986ce26  2012-09-12  9999-12-31  2012-09-12  9999-12-31   \n",
       "\n",
       "   COPRO CTCOOV CTCOCL      DDVALE      DFVALE  CESITC  \n",
       "0  00049     00         2018-02-15  9999-01-01       1  \n",
       "1  00049     00         2016-01-22  9999-01-01       1  \n",
       "2  00049     00         2015-08-19  9999-01-01       1  \n",
       "3  00049     00         2017-12-15  9999-01-01       1  \n",
       "4  00049     00         2012-09-12  9999-01-01       1  "
      ]
     },
     "execution_count": 39,
     "metadata": {},
     "output_type": "execute_result"
    }
   ],
   "source": [
    "df.head()"
   ]
  },
  {
   "cell_type": "code",
   "execution_count": 40,
   "metadata": {},
   "outputs": [],
   "source": [
    "# theses are the only columns that matters\n",
    "df = df[['COCO', 'COMAX', 'COPRO' ]]"
   ]
  },
  {
   "cell_type": "code",
   "execution_count": 41,
   "metadata": {},
   "outputs": [
    {
     "data": {
      "text/html": [
       "<div>\n",
       "<style scoped>\n",
       "    .dataframe tbody tr th:only-of-type {\n",
       "        vertical-align: middle;\n",
       "    }\n",
       "\n",
       "    .dataframe tbody tr th {\n",
       "        vertical-align: top;\n",
       "    }\n",
       "\n",
       "    .dataframe thead th {\n",
       "        text-align: right;\n",
       "    }\n",
       "</style>\n",
       "<table border=\"1\" class=\"dataframe\">\n",
       "  <thead>\n",
       "    <tr style=\"text-align: right;\">\n",
       "      <th></th>\n",
       "      <th>COCO</th>\n",
       "      <th>COMAX</th>\n",
       "      <th>COPRO</th>\n",
       "    </tr>\n",
       "  </thead>\n",
       "  <tbody>\n",
       "    <tr>\n",
       "      <th>0</th>\n",
       "      <td>5856256c8621c</td>\n",
       "      <td>a4375be9c2</td>\n",
       "      <td>00049</td>\n",
       "    </tr>\n",
       "    <tr>\n",
       "      <th>1</th>\n",
       "      <td>43e166b8ec1bf</td>\n",
       "      <td>ac68753a67</td>\n",
       "      <td>00049</td>\n",
       "    </tr>\n",
       "    <tr>\n",
       "      <th>2</th>\n",
       "      <td>a33abb28b2dd1</td>\n",
       "      <td>e78af2a187</td>\n",
       "      <td>00049</td>\n",
       "    </tr>\n",
       "    <tr>\n",
       "      <th>3</th>\n",
       "      <td>5923b9ac46620</td>\n",
       "      <td>730c4c47c5</td>\n",
       "      <td>00049</td>\n",
       "    </tr>\n",
       "    <tr>\n",
       "      <th>4</th>\n",
       "      <td>b943bf9d03817</td>\n",
       "      <td>e31986ce26</td>\n",
       "      <td>00049</td>\n",
       "    </tr>\n",
       "  </tbody>\n",
       "</table>\n",
       "</div>"
      ],
      "text/plain": [
       "            COCO       COMAX  COPRO\n",
       "0  5856256c8621c  a4375be9c2  00049\n",
       "1  43e166b8ec1bf  ac68753a67  00049\n",
       "2  a33abb28b2dd1  e78af2a187  00049\n",
       "3  5923b9ac46620  730c4c47c5  00049\n",
       "4  b943bf9d03817  e31986ce26  00049"
      ]
     },
     "execution_count": 41,
     "metadata": {},
     "output_type": "execute_result"
    }
   ],
   "source": [
    "df.head()"
   ]
  },
  {
   "cell_type": "code",
   "execution_count": 42,
   "metadata": {},
   "outputs": [],
   "source": [
    "# to determine the products that we will use\n",
    "# I picked all the products that passed the 100000\n",
    "# not buying sum but frequency\n",
    "temp = df['COPRO'].value_counts()"
   ]
  },
  {
   "cell_type": "code",
   "execution_count": null,
   "metadata": {},
   "outputs": [],
   "source": [
    "# get the best selling products\n",
    "temp.head(n=37)"
   ]
  },
  {
   "cell_type": "code",
   "execution_count": 44,
   "metadata": {},
   "outputs": [],
   "source": [
    "# after inspecting we'll take only the first 37 product\n",
    "temp = temp.index[0:37]"
   ]
  },
  {
   "cell_type": "code",
   "execution_count": 45,
   "metadata": {},
   "outputs": [],
   "source": [
    "# take only the data that coreesponds to the selected products\n",
    "df = df.loc[df['COPRO'].isin(temp)]"
   ]
  },
  {
   "cell_type": "code",
   "execution_count": 46,
   "metadata": {},
   "outputs": [
    {
     "data": {
      "text/html": [
       "<div>\n",
       "<style scoped>\n",
       "    .dataframe tbody tr th:only-of-type {\n",
       "        vertical-align: middle;\n",
       "    }\n",
       "\n",
       "    .dataframe tbody tr th {\n",
       "        vertical-align: top;\n",
       "    }\n",
       "\n",
       "    .dataframe thead th {\n",
       "        text-align: right;\n",
       "    }\n",
       "</style>\n",
       "<table border=\"1\" class=\"dataframe\">\n",
       "  <thead>\n",
       "    <tr style=\"text-align: right;\">\n",
       "      <th></th>\n",
       "      <th>COCO</th>\n",
       "      <th>COMAX</th>\n",
       "      <th>COPRO</th>\n",
       "    </tr>\n",
       "  </thead>\n",
       "  <tbody>\n",
       "    <tr>\n",
       "      <th>80029</th>\n",
       "      <td>5244b429daf31</td>\n",
       "      <td>6de50a0fab</td>\n",
       "      <td>00807</td>\n",
       "    </tr>\n",
       "    <tr>\n",
       "      <th>80030</th>\n",
       "      <td>5244b429daf31</td>\n",
       "      <td>6de50a0fab</td>\n",
       "      <td>00807</td>\n",
       "    </tr>\n",
       "    <tr>\n",
       "      <th>80031</th>\n",
       "      <td>5244b429daf31</td>\n",
       "      <td>6de50a0fab</td>\n",
       "      <td>00807</td>\n",
       "    </tr>\n",
       "    <tr>\n",
       "      <th>80032</th>\n",
       "      <td>5244b429daf31</td>\n",
       "      <td>6de50a0fab</td>\n",
       "      <td>00807</td>\n",
       "    </tr>\n",
       "    <tr>\n",
       "      <th>80033</th>\n",
       "      <td>5244b429daf31</td>\n",
       "      <td>6de50a0fab</td>\n",
       "      <td>00807</td>\n",
       "    </tr>\n",
       "  </tbody>\n",
       "</table>\n",
       "</div>"
      ],
      "text/plain": [
       "                COCO       COMAX  COPRO\n",
       "80029  5244b429daf31  6de50a0fab  00807\n",
       "80030  5244b429daf31  6de50a0fab  00807\n",
       "80031  5244b429daf31  6de50a0fab  00807\n",
       "80032  5244b429daf31  6de50a0fab  00807\n",
       "80033  5244b429daf31  6de50a0fab  00807"
      ]
     },
     "execution_count": 46,
     "metadata": {},
     "output_type": "execute_result"
    }
   ],
   "source": [
    "df.head()"
   ]
  },
  {
   "cell_type": "code",
   "execution_count": 47,
   "metadata": {},
   "outputs": [
    {
     "data": {
      "text/plain": [
       "(28685139, 3)"
      ]
     },
     "execution_count": 47,
     "metadata": {},
     "output_type": "execute_result"
    }
   ],
   "source": [
    "df.shape"
   ]
  },
  {
   "cell_type": "code",
   "execution_count": 50,
   "metadata": {},
   "outputs": [],
   "source": [
    "# store the data into a file call contracts.csv\n",
    "df.to_csv('../../cleaned-data/cleaned/contracts.csv', sep='\\t', index=False)"
   ]
  }
 ],
 "metadata": {
  "kernelspec": {
   "display_name": "Python 3",
   "language": "python",
   "name": "python3"
  },
  "language_info": {
   "codemirror_mode": {
    "name": "ipython",
    "version": 3
   },
   "file_extension": ".py",
   "mimetype": "text/x-python",
   "name": "python",
   "nbconvert_exporter": "python",
   "pygments_lexer": "ipython3",
   "version": "3.8.5"
  }
 },
 "nbformat": 4,
 "nbformat_minor": 2
}
