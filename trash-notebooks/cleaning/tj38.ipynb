{
 "cells": [
  {
   "cell_type": "code",
   "execution_count": 1,
   "id": "numerous-humanity",
   "metadata": {},
   "outputs": [],
   "source": [
    "import numpy as np\n",
    "import pandas"
   ]
  },
  {
   "cell_type": "code",
   "execution_count": 2,
   "id": "raising-framing",
   "metadata": {},
   "outputs": [],
   "source": [
    "df = pandas.read_csv(\"../../data/tj38.csv\", encoding=\"ISO-8859-1\", sep=\";\")"
   ]
  },
  {
   "cell_type": "markdown",
   "id": "relevant-terry",
   "metadata": {},
   "source": [
    "## Inspect the data"
   ]
  },
  {
   "cell_type": "code",
   "execution_count": 3,
   "id": "accepted-intersection",
   "metadata": {},
   "outputs": [
    {
     "name": "stdout",
     "output_type": "stream",
     "text": [
      "<class 'pandas.core.frame.DataFrame'>\n",
      "RangeIndex: 2159265 entries, 0 to 2159264\n",
      "Data columns (total 7 columns):\n",
      " #   Column  Dtype \n",
      "---  ------  ----- \n",
      " 0   COMAX   object\n",
      " 1   AGE     int64 \n",
      " 2   COSEXE  object\n",
      " 3   CTSCPI  object\n",
      " 4   CESITC  int64 \n",
      " 5   DDVALE  object\n",
      " 6   DFVALE  object\n",
      "dtypes: int64(2), object(5)\n",
      "memory usage: 115.3+ MB\n"
     ]
    }
   ],
   "source": [
    "df.info()"
   ]
  },
  {
   "cell_type": "code",
   "execution_count": 4,
   "id": "killing-system",
   "metadata": {},
   "outputs": [
    {
     "data": {
      "text/html": [
       "<div>\n",
       "<style scoped>\n",
       "    .dataframe tbody tr th:only-of-type {\n",
       "        vertical-align: middle;\n",
       "    }\n",
       "\n",
       "    .dataframe tbody tr th {\n",
       "        vertical-align: top;\n",
       "    }\n",
       "\n",
       "    .dataframe thead th {\n",
       "        text-align: right;\n",
       "    }\n",
       "</style>\n",
       "<table border=\"1\" class=\"dataframe\">\n",
       "  <thead>\n",
       "    <tr style=\"text-align: right;\">\n",
       "      <th></th>\n",
       "      <th>COMAX</th>\n",
       "      <th>AGE</th>\n",
       "      <th>COSEXE</th>\n",
       "      <th>CTSCPI</th>\n",
       "      <th>CESITC</th>\n",
       "      <th>DDVALE</th>\n",
       "      <th>DFVALE</th>\n",
       "    </tr>\n",
       "  </thead>\n",
       "  <tbody>\n",
       "    <tr>\n",
       "      <th>0</th>\n",
       "      <td>6e3a2b9fa1</td>\n",
       "      <td>55</td>\n",
       "      <td>F</td>\n",
       "      <td>4600</td>\n",
       "      <td>1</td>\n",
       "      <td>2013-02-12</td>\n",
       "      <td>9999-01-01</td>\n",
       "    </tr>\n",
       "    <tr>\n",
       "      <th>1</th>\n",
       "      <td>1b44a67f61</td>\n",
       "      <td>41</td>\n",
       "      <td>M</td>\n",
       "      <td>4700</td>\n",
       "      <td>1</td>\n",
       "      <td>2019-05-29</td>\n",
       "      <td>9999-01-01</td>\n",
       "    </tr>\n",
       "    <tr>\n",
       "      <th>2</th>\n",
       "      <td>1b44a67f61</td>\n",
       "      <td>41</td>\n",
       "      <td>M</td>\n",
       "      <td>4700</td>\n",
       "      <td>0</td>\n",
       "      <td>2019-02-07</td>\n",
       "      <td>2019-03-21</td>\n",
       "    </tr>\n",
       "    <tr>\n",
       "      <th>3</th>\n",
       "      <td>1b44a67f61</td>\n",
       "      <td>41</td>\n",
       "      <td>M</td>\n",
       "      <td>4700</td>\n",
       "      <td>0</td>\n",
       "      <td>2019-02-04</td>\n",
       "      <td>2019-02-05</td>\n",
       "    </tr>\n",
       "    <tr>\n",
       "      <th>4</th>\n",
       "      <td>1b44a67f61</td>\n",
       "      <td>41</td>\n",
       "      <td>M</td>\n",
       "      <td>4700</td>\n",
       "      <td>0</td>\n",
       "      <td>2019-03-21</td>\n",
       "      <td>2019-05-29</td>\n",
       "    </tr>\n",
       "  </tbody>\n",
       "</table>\n",
       "</div>"
      ],
      "text/plain": [
       "        COMAX  AGE COSEXE CTSCPI  CESITC      DDVALE      DFVALE\n",
       "0  6e3a2b9fa1   55      F   4600       1  2013-02-12  9999-01-01\n",
       "1  1b44a67f61   41      M   4700       1  2019-05-29  9999-01-01\n",
       "2  1b44a67f61   41      M   4700       0  2019-02-07  2019-03-21\n",
       "3  1b44a67f61   41      M   4700       0  2019-02-04  2019-02-05\n",
       "4  1b44a67f61   41      M   4700       0  2019-03-21  2019-05-29"
      ]
     },
     "execution_count": 4,
     "metadata": {},
     "output_type": "execute_result"
    }
   ],
   "source": [
    "df.head()"
   ]
  },
  {
   "cell_type": "markdown",
   "id": "applied-career",
   "metadata": {},
   "source": [
    "## Corp the data"
   ]
  },
  {
   "cell_type": "code",
   "execution_count": 5,
   "id": "enclosed-chart",
   "metadata": {},
   "outputs": [],
   "source": [
    "# delete duplicated matricules\n",
    "df = df.drop_duplicates(subset=\"COMAX\")"
   ]
  },
  {
   "cell_type": "code",
   "execution_count": 6,
   "id": "bright-rally",
   "metadata": {},
   "outputs": [
    {
     "data": {
      "text/plain": [
       "857419"
      ]
     },
     "execution_count": 6,
     "metadata": {},
     "output_type": "execute_result"
    }
   ],
   "source": [
    "df[\"COMAX\"].count()"
   ]
  },
  {
   "cell_type": "code",
   "execution_count": 7,
   "id": "running-schedule",
   "metadata": {},
   "outputs": [],
   "source": [
    "# in some cases there was an input mistake\n",
    "# so instead of typing the age they type the\n",
    "# birth year, so we correct that\n",
    "df = df.replace(2019, 2021-2019)"
   ]
  },
  {
   "cell_type": "code",
   "execution_count": 8,
   "id": "streaming-nightlife",
   "metadata": {},
   "outputs": [
    {
     "data": {
      "text/plain": [
       "array([101, 111, 103, 107, 121, 106, 105, 104, 108, 114, 110, 115, 102,\n",
       "       112, 109, 118, 113, 122, 138, 119, 124, 116, 127, 117, 120, 125,\n",
       "       123, 136, 137, 129, 131, 126])"
      ]
     },
     "execution_count": 8,
     "metadata": {},
     "output_type": "execute_result"
    }
   ],
   "source": [
    "df[df.AGE > 100].AGE.unique()"
   ]
  },
  {
   "cell_type": "code",
   "execution_count": 9,
   "id": "twelve-reverse",
   "metadata": {},
   "outputs": [],
   "source": [
    "# take only the age less or equal to 110 for demographoc statistc reasons\n",
    "df = df[df['AGE'] <= 110]"
   ]
  },
  {
   "cell_type": "code",
   "execution_count": 10,
   "id": "expected-prize",
   "metadata": {},
   "outputs": [
    {
     "data": {
      "text/plain": [
       "array([101, 103, 107, 106, 105, 104, 108, 110, 102, 109])"
      ]
     },
     "execution_count": 10,
     "metadata": {},
     "output_type": "execute_result"
    }
   ],
   "source": [
    "df[df.AGE > 100].AGE.unique()"
   ]
  },
  {
   "cell_type": "code",
   "execution_count": 11,
   "id": "amended-paradise",
   "metadata": {},
   "outputs": [],
   "source": [
    "# get the list of miss typed data\n",
    "lol = list()\n",
    "for i in df['CTSCPI'].unique():\n",
    "    if not i.isdigit():\n",
    "        lol.append(i)\n",
    "\n",
    "# replce the missed data, and miss created one with nan values\n",
    "df['CTSCPI'].replace(lol, np.nan, inplace=True)"
   ]
  },
  {
   "cell_type": "code",
   "execution_count": 12,
   "id": "illegal-despite",
   "metadata": {},
   "outputs": [],
   "source": [
    "# add thie zero, since in the corresponding table of topologies\n",
    "# it is an unkown category\n",
    "df['CTSCPI'].replace(0., np.nan, inplace=True)\n",
    "\n",
    "# delete the rows with nan values\n",
    "df.dropna(subset=['CTSCPI'], inplace=True)"
   ]
  },
  {
   "cell_type": "code",
   "execution_count": 13,
   "id": "exotic-constraint",
   "metadata": {
    "code_folding": []
   },
   "outputs": [
    {
     "data": {
      "text/plain": [
       "array([4600, 4700, 8600, 8400, 3500, 7600, 6200, 8500, 6300, 4300, 6700,\n",
       "       5400, 2300, 3700, 5500, 4200, 4500, 6400, 3100, 3300, 4800, 5200,\n",
       "       7300, 5600, 3400, 2200, 2100, 5300, 6900, 1100, 3800, 7200, 7400,\n",
       "       6800, 8100, 7800, 7700, 7100, 6500, 7500, 4400, 1200, 8200, 3600,\n",
       "          0, 6600, 1300, 6100, 5100, 8300, 4100, 1000, 3200])"
      ]
     },
     "execution_count": 13,
     "metadata": {},
     "output_type": "execute_result"
    }
   ],
   "source": [
    "df[\"CTSCPI\"] = df[\"CTSCPI\"].astype(int)\n",
    "df.CTSCPI.unique()"
   ]
  },
  {
   "cell_type": "markdown",
   "id": "level-immunology",
   "metadata": {},
   "source": [
    "## Save only the data that will serve us"
   ]
  },
  {
   "cell_type": "code",
   "execution_count": 14,
   "id": "equivalent-backup",
   "metadata": {},
   "outputs": [],
   "source": [
    "# we replace the sex with numbers, 0 for M and 1 for F\n",
    "df['COSEXE'].replace('M', 0, inplace=True)\n",
    "df['COSEXE'].replace('F', 1, inplace=True)"
   ]
  },
  {
   "cell_type": "code",
   "execution_count": 15,
   "id": "fiscal-valve",
   "metadata": {},
   "outputs": [
    {
     "data": {
      "text/html": [
       "<div>\n",
       "<style scoped>\n",
       "    .dataframe tbody tr th:only-of-type {\n",
       "        vertical-align: middle;\n",
       "    }\n",
       "\n",
       "    .dataframe tbody tr th {\n",
       "        vertical-align: top;\n",
       "    }\n",
       "\n",
       "    .dataframe thead th {\n",
       "        text-align: right;\n",
       "    }\n",
       "</style>\n",
       "<table border=\"1\" class=\"dataframe\">\n",
       "  <thead>\n",
       "    <tr style=\"text-align: right;\">\n",
       "      <th></th>\n",
       "      <th>COMAX</th>\n",
       "      <th>AGE</th>\n",
       "      <th>COSEXE</th>\n",
       "      <th>CTSCPI</th>\n",
       "      <th>CESITC</th>\n",
       "      <th>DDVALE</th>\n",
       "      <th>DFVALE</th>\n",
       "    </tr>\n",
       "  </thead>\n",
       "  <tbody>\n",
       "    <tr>\n",
       "      <th>0</th>\n",
       "      <td>6e3a2b9fa1</td>\n",
       "      <td>55</td>\n",
       "      <td>1</td>\n",
       "      <td>4600</td>\n",
       "      <td>1</td>\n",
       "      <td>2013-02-12</td>\n",
       "      <td>9999-01-01</td>\n",
       "    </tr>\n",
       "    <tr>\n",
       "      <th>1</th>\n",
       "      <td>1b44a67f61</td>\n",
       "      <td>41</td>\n",
       "      <td>0</td>\n",
       "      <td>4700</td>\n",
       "      <td>1</td>\n",
       "      <td>2019-05-29</td>\n",
       "      <td>9999-01-01</td>\n",
       "    </tr>\n",
       "    <tr>\n",
       "      <th>6</th>\n",
       "      <td>7e33583438</td>\n",
       "      <td>74</td>\n",
       "      <td>1</td>\n",
       "      <td>8600</td>\n",
       "      <td>0</td>\n",
       "      <td>2011-12-22</td>\n",
       "      <td>2017-10-16</td>\n",
       "    </tr>\n",
       "    <tr>\n",
       "      <th>9</th>\n",
       "      <td>b65dd1ba1d</td>\n",
       "      <td>41</td>\n",
       "      <td>0</td>\n",
       "      <td>8400</td>\n",
       "      <td>0</td>\n",
       "      <td>2011-12-22</td>\n",
       "      <td>2017-09-13</td>\n",
       "    </tr>\n",
       "    <tr>\n",
       "      <th>10</th>\n",
       "      <td>bdf1f63a98</td>\n",
       "      <td>32</td>\n",
       "      <td>1</td>\n",
       "      <td>3500</td>\n",
       "      <td>1</td>\n",
       "      <td>2017-12-14</td>\n",
       "      <td>9999-01-01</td>\n",
       "    </tr>\n",
       "  </tbody>\n",
       "</table>\n",
       "</div>"
      ],
      "text/plain": [
       "         COMAX  AGE  COSEXE  CTSCPI  CESITC      DDVALE      DFVALE\n",
       "0   6e3a2b9fa1   55       1    4600       1  2013-02-12  9999-01-01\n",
       "1   1b44a67f61   41       0    4700       1  2019-05-29  9999-01-01\n",
       "6   7e33583438   74       1    8600       0  2011-12-22  2017-10-16\n",
       "9   b65dd1ba1d   41       0    8400       0  2011-12-22  2017-09-13\n",
       "10  bdf1f63a98   32       1    3500       1  2017-12-14  9999-01-01"
      ]
     },
     "execution_count": 15,
     "metadata": {},
     "output_type": "execute_result"
    }
   ],
   "source": [
    "df.head()"
   ]
  },
  {
   "cell_type": "code",
   "execution_count": 16,
   "id": "phantom-cream",
   "metadata": {},
   "outputs": [],
   "source": [
    "df[[\"COMAX\", \"AGE\", \"COSEXE\", \"CTSCPI\"]].to_csv(\"../../cleaned-data/cleaned/physical-clients.csv\", index=False, sep=\"\\t\")"
   ]
  },
  {
   "cell_type": "code",
   "execution_count": null,
   "id": "heard-plant",
   "metadata": {},
   "outputs": [],
   "source": []
  }
 ],
 "metadata": {
  "kernelspec": {
   "display_name": "Python 3",
   "language": "python",
   "name": "python3"
  },
  "language_info": {
   "codemirror_mode": {
    "name": "ipython",
    "version": 3
   },
   "file_extension": ".py",
   "mimetype": "text/x-python",
   "name": "python",
   "nbconvert_exporter": "python",
   "pygments_lexer": "ipython3",
   "version": "3.6.8"
  }
 },
 "nbformat": 4,
 "nbformat_minor": 5
}
