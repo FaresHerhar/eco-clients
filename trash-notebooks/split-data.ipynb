{
 "cells": [
  {
   "cell_type": "code",
   "execution_count": 4,
   "id": "advised-force",
   "metadata": {},
   "outputs": [],
   "source": [
    "import pandas as pd\n",
    "from random import sample"
   ]
  },
  {
   "cell_type": "markdown",
   "id": "sonic-reporter",
   "metadata": {},
   "source": [
    "## Clients Physiques"
   ]
  },
  {
   "cell_type": "code",
   "execution_count": 47,
   "id": "invalid-wellington",
   "metadata": {},
   "outputs": [],
   "source": [
    "df = pd.read_csv('../cleaned-data/pc-clusters.csv', encoding='iso-8859-1', sep=\"\\t\")"
   ]
  },
  {
   "cell_type": "code",
   "execution_count": 48,
   "id": "confused-greenhouse",
   "metadata": {},
   "outputs": [],
   "source": [
    "# get the indexe list\n",
    "lol = [i for i in range(df.index[-1] + 1)]"
   ]
  },
  {
   "cell_type": "code",
   "execution_count": 49,
   "id": "running-scheme",
   "metadata": {},
   "outputs": [],
   "source": [
    "# get the trainig rows\n",
    "tr = sample(lol, int(len(lol) * 0.8))"
   ]
  },
  {
   "cell_type": "code",
   "execution_count": 53,
   "id": "crude-excerpt",
   "metadata": {},
   "outputs": [],
   "source": [
    "# get the testing row\n",
    "test = set(lol).difference(set(tr))\n",
    "test = list(test)"
   ]
  },
  {
   "cell_type": "code",
   "execution_count": 51,
   "id": "alike-learning",
   "metadata": {},
   "outputs": [],
   "source": [
    "# save the trainig data\n",
    "df.iloc[tr].to_csv('../class-data/pc-training.csv', sep='\\t', index=False)"
   ]
  },
  {
   "cell_type": "code",
   "execution_count": 54,
   "id": "complimentary-preserve",
   "metadata": {},
   "outputs": [],
   "source": [
    "# save the trainig data\n",
    "df.iloc[test].to_csv('../class-data/pc-testing.csv', sep='\\t', index=False)"
   ]
  },
  {
   "cell_type": "code",
   "execution_count": 55,
   "id": "based-intermediate",
   "metadata": {},
   "outputs": [],
   "source": [
    "del df"
   ]
  },
  {
   "cell_type": "markdown",
   "id": "balanced-reception",
   "metadata": {},
   "source": [
    "## Clients moraux"
   ]
  },
  {
   "cell_type": "code",
   "execution_count": 56,
   "id": "severe-syntax",
   "metadata": {},
   "outputs": [],
   "source": [
    "df = pd.read_csv('../cleaned-data/mc-clusters.csv', encoding='iso-8859-1', sep=\"\\t\")"
   ]
  },
  {
   "cell_type": "code",
   "execution_count": 57,
   "id": "promotional-kernel",
   "metadata": {},
   "outputs": [],
   "source": [
    "# get the indexe list\n",
    "lol = [i for i in range(df.index[-1] + 1)]"
   ]
  },
  {
   "cell_type": "code",
   "execution_count": 58,
   "id": "digital-helicopter",
   "metadata": {},
   "outputs": [],
   "source": [
    "# get the trainig rows\n",
    "tr = sample(lol, int(len(lol) * 0.8))"
   ]
  },
  {
   "cell_type": "code",
   "execution_count": 59,
   "id": "bulgarian-nelson",
   "metadata": {},
   "outputs": [],
   "source": [
    "# get the testing row\n",
    "test = set(lol).difference(set(tr))\n",
    "test = list(test)"
   ]
  },
  {
   "cell_type": "code",
   "execution_count": 60,
   "id": "desirable-virus",
   "metadata": {},
   "outputs": [],
   "source": [
    "# save the trainig data\n",
    "df.iloc[tr].to_csv('../class-data/mc-training.csv', sep='\\t', index=False)"
   ]
  },
  {
   "cell_type": "code",
   "execution_count": 61,
   "id": "acting-ecology",
   "metadata": {},
   "outputs": [],
   "source": [
    "# save the trainig data\n",
    "df.iloc[test].to_csv('../class-data/mc-testing.csv', sep='\\t', index=False)"
   ]
  },
  {
   "cell_type": "code",
   "execution_count": 62,
   "id": "comparable-windows",
   "metadata": {},
   "outputs": [],
   "source": [
    "del df"
   ]
  },
  {
   "cell_type": "code",
   "execution_count": null,
   "id": "diverse-secretariat",
   "metadata": {},
   "outputs": [],
   "source": []
  }
 ],
 "metadata": {
  "kernelspec": {
   "display_name": "Python 3",
   "language": "python",
   "name": "python3"
  },
  "language_info": {
   "codemirror_mode": {
    "name": "ipython",
    "version": 3
   },
   "file_extension": ".py",
   "mimetype": "text/x-python",
   "name": "python",
   "nbconvert_exporter": "python",
   "pygments_lexer": "ipython3",
   "version": "3.6.8"
  }
 },
 "nbformat": 4,
 "nbformat_minor": 5
}
