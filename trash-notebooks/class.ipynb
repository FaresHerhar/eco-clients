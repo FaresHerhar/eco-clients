{
 "cells": [
  {
   "cell_type": "code",
   "execution_count": 33,
   "id": "authentic-herald",
   "metadata": {},
   "outputs": [],
   "source": [
    "from sklearn import preprocessing, neighbors\n",
    "from sklearn.metrics import classification_report\n",
    "import pandas as pd\n",
    "import pickle\n",
    "import time"
   ]
  },
  {
   "cell_type": "markdown",
   "id": "pretty-thought",
   "metadata": {},
   "source": [
    "## Clients physiques"
   ]
  },
  {
   "cell_type": "code",
   "execution_count": 2,
   "id": "secondary-charge",
   "metadata": {},
   "outputs": [],
   "source": [
    "data = pd.read_csv('../class-data/pc-training.csv', encoding='iso-8859-1', sep=\"\\t\")\n",
    "test = pd.read_csv('../class-data/pc-testing.csv', encoding='iso-8859-1', sep=\"\\t\")"
   ]
  },
  {
   "cell_type": "code",
   "execution_count": 4,
   "id": "cooperative-entrance",
   "metadata": {},
   "outputs": [],
   "source": [
    "classifier = neighbors.KNeighborsClassifier(n_neighbors=5)"
   ]
  },
  {
   "cell_type": "code",
   "execution_count": 14,
   "id": "multiple-damage",
   "metadata": {},
   "outputs": [],
   "source": [
    "# get columns\n",
    "cols = ['AGE', 'COSEXE', 'CTSCPI'] + ['PCA-{}'.format(i) for i in range(1, 38)]"
   ]
  },
  {
   "cell_type": "code",
   "execution_count": 15,
   "id": "seventh-madness",
   "metadata": {},
   "outputs": [
    {
     "data": {
      "text/plain": [
       "KNeighborsClassifier()"
      ]
     },
     "execution_count": 15,
     "metadata": {},
     "output_type": "execute_result"
    }
   ],
   "source": [
    "# start training\n",
    "classifier.fit(data[cols], data['Cluster'])"
   ]
  },
  {
   "cell_type": "code",
   "execution_count": 37,
   "id": "graphic-light",
   "metadata": {},
   "outputs": [
    {
     "name": "stdout",
     "output_type": "stream",
     "text": [
      "2657.6058094501495\n"
     ]
    }
   ],
   "source": [
    "# predictions, testing\n",
    "start = time.time()\n",
    "prediction = classifier.predict(test[cols])\n",
    "print(time.time() - start)"
   ]
  },
  {
   "cell_type": "code",
   "execution_count": 38,
   "id": "cordless-handy",
   "metadata": {},
   "outputs": [
    {
     "name": "stdout",
     "output_type": "stream",
     "text": [
      "              precision    recall  f1-score   support\n",
      "\n",
      "           0       1.00      1.00      1.00     72119\n",
      "           1       1.00      1.00      1.00     53400\n",
      "\n",
      "    accuracy                           1.00    125519\n",
      "   macro avg       1.00      1.00      1.00    125519\n",
      "weighted avg       1.00      1.00      1.00    125519\n",
      "\n"
     ]
    }
   ],
   "source": [
    "print(classification_report(test['Cluster'], prediction))"
   ]
  },
  {
   "cell_type": "code",
   "execution_count": null,
   "id": "modified-torture",
   "metadata": {},
   "outputs": [],
   "source": []
  }
 ],
 "metadata": {
  "kernelspec": {
   "display_name": "Python 3",
   "language": "python",
   "name": "python3"
  },
  "language_info": {
   "codemirror_mode": {
    "name": "ipython",
    "version": 3
   },
   "file_extension": ".py",
   "mimetype": "text/x-python",
   "name": "python",
   "nbconvert_exporter": "python",
   "pygments_lexer": "ipython3",
   "version": "3.6.8"
  }
 },
 "nbformat": 4,
 "nbformat_minor": 5
}
